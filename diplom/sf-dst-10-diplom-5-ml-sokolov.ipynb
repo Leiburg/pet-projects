{
 "cells": [
  {
   "cell_type": "markdown",
   "metadata": {
    "papermill": {
     "duration": 0.029042,
     "end_time": "2021-04-30T07:06:40.049920",
     "exception": false,
     "start_time": "2021-04-30T07:06:40.020878",
     "status": "completed"
    },
    "tags": []
   },
   "source": [
    "### Дипломная работа Александра Соколова\n",
    "\n",
    "#### Анализ моделей градиентного бустинга LightGBM и CatBoost\n",
    "Кернел 5 из 5 в разделе ML (отредактирован 21.04.2021)\n",
    "---\n",
    "\n",
    "# 1. Импорт библиотек, инициализация глобальных констант\n",
    "## 1.1. Импорт библиотек"
   ]
  },
  {
   "cell_type": "code",
   "execution_count": 1,
   "metadata": {
    "execution": {
     "iopub.execute_input": "2021-04-30T07:06:40.115748Z",
     "iopub.status.busy": "2021-04-30T07:06:40.114712Z",
     "iopub.status.idle": "2021-04-30T07:06:41.374248Z",
     "shell.execute_reply": "2021-04-30T07:06:41.372865Z"
    },
    "papermill": {
     "duration": 1.296828,
     "end_time": "2021-04-30T07:06:41.374500",
     "exception": false,
     "start_time": "2021-04-30T07:06:40.077672",
     "status": "completed"
    },
    "tags": []
   },
   "outputs": [
    {
     "data": {
      "text/html": [
       "<style type='text/css'>\n",
       ".datatable table.frame { margin-bottom: 0; }\n",
       ".datatable table.frame thead { border-bottom: none; }\n",
       ".datatable table.frame tr.coltypes td {  color: #FFFFFF;  line-height: 6px;  padding: 0 0.5em;}\n",
       ".datatable .bool    { background: #DDDD99; }\n",
       ".datatable .object  { background: #565656; }\n",
       ".datatable .int     { background: #5D9E5D; }\n",
       ".datatable .float   { background: #4040CC; }\n",
       ".datatable .str     { background: #CC4040; }\n",
       ".datatable .row_index {  background: var(--jp-border-color3);  border-right: 1px solid var(--jp-border-color0);  color: var(--jp-ui-font-color3);  font-size: 9px;}\n",
       ".datatable .frame tr.coltypes .row_index {  background: var(--jp-border-color0);}\n",
       ".datatable th:nth-child(2) { padding-left: 12px; }\n",
       ".datatable .hellipsis {  color: var(--jp-cell-editor-border-color);}\n",
       ".datatable .vellipsis {  background: var(--jp-layout-color0);  color: var(--jp-cell-editor-border-color);}\n",
       ".datatable .na {  color: var(--jp-cell-editor-border-color);  font-size: 80%;}\n",
       ".datatable .footer { font-size: 9px; }\n",
       ".datatable .frame_dimensions {  background: var(--jp-border-color3);  border-top: 1px solid var(--jp-border-color0);  color: var(--jp-ui-font-color3);  display: inline-block;  opacity: 0.6;  padding: 1px 10px 1px 5px;}\n",
       "</style>\n"
      ],
      "text/plain": [
       "<IPython.core.display.HTML object>"
      ]
     },
     "metadata": {},
     "output_type": "display_data"
    }
   ],
   "source": [
    "%load_ext autoreload\n",
    "%autoreload 2\n",
    "\n",
    "import pandas as pd\n",
    "import numpy as np\n",
    "import tqdm\n",
    "\n",
    "from sklearn.model_selection import train_test_split, KFold\n",
    "\n",
    "import lightgbm as lgb\n",
    "\n",
    "import pickle\n",
    "\n",
    "np.warnings.filterwarnings('ignore')"
   ]
  },
  {
   "cell_type": "code",
   "execution_count": 2,
   "metadata": {
    "execution": {
     "iopub.execute_input": "2021-04-30T07:06:41.437751Z",
     "iopub.status.busy": "2021-04-30T07:06:41.437005Z",
     "iopub.status.idle": "2021-04-30T07:06:41.562569Z",
     "shell.execute_reply": "2021-04-30T07:06:41.563074Z"
    },
    "papermill": {
     "duration": 0.158356,
     "end_time": "2021-04-30T07:06:41.563294",
     "exception": false,
     "start_time": "2021-04-30T07:06:41.404938",
     "status": "completed"
    },
    "tags": []
   },
   "outputs": [],
   "source": [
    "import utils_21042021 as utils"
   ]
  },
  {
   "cell_type": "markdown",
   "metadata": {
    "papermill": {
     "duration": 0.027557,
     "end_time": "2021-04-30T07:06:41.620830",
     "exception": false,
     "start_time": "2021-04-30T07:06:41.593273",
     "status": "completed"
    },
    "tags": []
   },
   "source": [
    "## 1.2. Глобальные константы"
   ]
  },
  {
   "cell_type": "code",
   "execution_count": 3,
   "metadata": {
    "execution": {
     "iopub.execute_input": "2021-04-30T07:06:41.680858Z",
     "iopub.status.busy": "2021-04-30T07:06:41.680210Z",
     "iopub.status.idle": "2021-04-30T07:06:41.709453Z",
     "shell.execute_reply": "2021-04-30T07:06:41.710061Z"
    },
    "papermill": {
     "duration": 0.061634,
     "end_time": "2021-04-30T07:06:41.710270",
     "exception": false,
     "start_time": "2021-04-30T07:06:41.648636",
     "status": "completed"
    },
    "tags": []
   },
   "outputs": [],
   "source": [
    "# CURRENT_DIR = './'  # имя текущей директории для локальной машины \n",
    "CURRENT_DIR = '../'  # имя текущей директории для каггл\n",
    "\n",
    "PATH_TO_MODELS = CURRENT_DIR + 'input/models-booster-alfabattle2-sandbox/'\n",
    "\n",
    "PATH_TO_WORKDIR = CURRENT_DIR + 'working/'"
   ]
  },
  {
   "cell_type": "code",
   "execution_count": 4,
   "metadata": {
    "execution": {
     "iopub.execute_input": "2021-04-30T07:06:41.770439Z",
     "iopub.status.busy": "2021-04-30T07:06:41.769780Z",
     "iopub.status.idle": "2021-04-30T07:06:44.595763Z",
     "shell.execute_reply": "2021-04-30T07:06:44.596302Z"
    },
    "papermill": {
     "duration": 2.85811,
     "end_time": "2021-04-30T07:06:44.596576",
     "exception": false,
     "start_time": "2021-04-30T07:06:41.738466",
     "status": "completed"
    },
    "tags": []
   },
   "outputs": [],
   "source": [
    "!pip freeze > requirements.txt"
   ]
  },
  {
   "cell_type": "markdown",
   "metadata": {
    "papermill": {
     "duration": 0.028081,
     "end_time": "2021-04-30T07:06:44.653319",
     "exception": false,
     "start_time": "2021-04-30T07:06:44.625238",
     "status": "completed"
    },
    "tags": []
   },
   "source": [
    "# 2. Вспомогательные функции"
   ]
  },
  {
   "cell_type": "code",
   "execution_count": 5,
   "metadata": {
    "execution": {
     "iopub.execute_input": "2021-04-30T07:06:44.715774Z",
     "iopub.status.busy": "2021-04-30T07:06:44.715048Z",
     "iopub.status.idle": "2021-04-30T07:06:44.749415Z",
     "shell.execute_reply": "2021-04-30T07:06:44.749924Z"
    },
    "papermill": {
     "duration": 0.067466,
     "end_time": "2021-04-30T07:06:44.750137",
     "exception": false,
     "start_time": "2021-04-30T07:06:44.682671",
     "status": "completed"
    },
    "tags": []
   },
   "outputs": [],
   "source": [
    "def func_border(a, border):\n",
    "    \"\"\"\n",
    "    функция применяется для создания бинарного вектора из вектора прогнозов по заданной границе\n",
    "    :border - граница вероятности выше которой относим к дефолтным (1) ниже 0\n",
    "    \"\"\"\n",
    "    if a > border:\n",
    "        return 1\n",
    "    else:\n",
    "        return 0\n",
    "vfunc = np.vectorize(func_border)"
   ]
  },
  {
   "cell_type": "markdown",
   "metadata": {
    "papermill": {
     "duration": 0.028221,
     "end_time": "2021-04-30T07:06:44.807022",
     "exception": false,
     "start_time": "2021-04-30T07:06:44.778801",
     "status": "completed"
    },
    "tags": []
   },
   "source": [
    "# 3. Импорт данных и моделей\n",
    "---\n",
    "## 3.1 Импорт агрегированных данных после препроцессинга\n",
    "(препроцессинг проводился в [первом кернеле](https://www.kaggle.com/sokolovaleks/sf-dst-10-diplom-1-ml-sokolov))"
   ]
  },
  {
   "cell_type": "code",
   "execution_count": 6,
   "metadata": {
    "execution": {
     "iopub.execute_input": "2021-04-30T07:06:44.869055Z",
     "iopub.status.busy": "2021-04-30T07:06:44.868340Z",
     "iopub.status.idle": "2021-04-30T07:07:21.691488Z",
     "shell.execute_reply": "2021-04-30T07:07:21.692097Z"
    },
    "papermill": {
     "duration": 36.855707,
     "end_time": "2021-04-30T07:07:21.692379",
     "exception": false,
     "start_time": "2021-04-30T07:06:44.836672",
     "status": "completed"
    },
    "tags": []
   },
   "outputs": [
    {
     "name": "stdout",
     "output_type": "stream",
     "text": [
      "CPU times: user 24.5 s, sys: 2.25 s, total: 26.7 s\n",
      "Wall time: 36.8 s\n"
     ]
    }
   ],
   "source": [
    "%%time\n",
    "merged_train_data = pd.read_csv('../input/alfabattle2-sandbox/preproc_data_for_boosting/preproc_data_for_boosting/merged_data.csv')\n",
    "merged_test_data = pd.read_csv('../input/alfabattle2-sandbox/preproc_data_for_boosting/preproc_data_for_boosting/merged_test_data.csv')"
   ]
  },
  {
   "cell_type": "markdown",
   "metadata": {
    "papermill": {
     "duration": 0.028799,
     "end_time": "2021-04-30T07:07:21.750781",
     "exception": false,
     "start_time": "2021-04-30T07:07:21.721982",
     "status": "completed"
    },
    "tags": []
   },
   "source": [
    "## 3.2 Импорт предобученных моделей бустинга (LightGBM и CatBoost) \n",
    "(препроцессинг проводился в [втором (LightGBM)](https://www.kaggle.com/sokolovaleks/sf-dst-10-diplom-2-ml-sokolov) и [третьем (CatBoost)](https://www.kaggle.com/sokolovaleks/sf-dst-10-diplom-3-ml-sokolov) кернелах)"
   ]
  },
  {
   "cell_type": "code",
   "execution_count": 7,
   "metadata": {
    "execution": {
     "iopub.execute_input": "2021-04-30T07:07:21.813447Z",
     "iopub.status.busy": "2021-04-30T07:07:21.812717Z",
     "iopub.status.idle": "2021-04-30T07:07:24.033650Z",
     "shell.execute_reply": "2021-04-30T07:07:24.032827Z"
    },
    "papermill": {
     "duration": 2.254339,
     "end_time": "2021-04-30T07:07:24.033808",
     "exception": false,
     "start_time": "2021-04-30T07:07:21.779469",
     "status": "completed"
    },
    "tags": []
   },
   "outputs": [
    {
     "name": "stdout",
     "output_type": "stream",
     "text": [
      "CPU times: user 3.32 s, sys: 102 ms, total: 3.42 s\n",
      "Wall time: 2.18 s\n"
     ]
    }
   ],
   "source": [
    "%%time\n",
    "models_LGBM = []\n",
    "feats_models = []\n",
    "subs_models = []\n",
    "for i_model in range(1,5,1):\n",
    "    temp_list_models = []\n",
    "    for i_count_model in range(1,6,1):\n",
    "        path_to_model = f'model{i_model}/model{i_model}_{i_count_model}.txt'\n",
    "        model = lgb.Booster(model_file=PATH_TO_MODELS + path_to_model)\n",
    "        temp_list_models.append(model)\n",
    "        \n",
    "    models_LGBM.append(temp_list_models)\n",
    "    path_to_feats = f'model{i_model}/feats_model{i_model}.pickle'\n",
    "    with open(PATH_TO_MODELS + path_to_feats, 'rb') as f:\n",
    "        feats = pickle.load(f)\n",
    "    feats_models.append(feats)\n",
    "    path_to_sub = f'model{i_model}/sub_model{i_model}.csv'\n",
    "    sub = pd.read_csv(PATH_TO_MODELS + path_to_sub)\n",
    "    subs_models.append(sub)"
   ]
  },
  {
   "cell_type": "markdown",
   "metadata": {
    "papermill": {
     "duration": 0.029044,
     "end_time": "2021-04-30T07:07:24.093238",
     "exception": false,
     "start_time": "2021-04-30T07:07:24.064194",
     "status": "completed"
    },
    "tags": []
   },
   "source": [
    "## 3.3 Проверка импорта моделей"
   ]
  },
  {
   "cell_type": "code",
   "execution_count": 8,
   "metadata": {
    "execution": {
     "iopub.execute_input": "2021-04-30T07:07:24.157540Z",
     "iopub.status.busy": "2021-04-30T07:07:24.156815Z",
     "iopub.status.idle": "2021-04-30T07:10:00.285832Z",
     "shell.execute_reply": "2021-04-30T07:10:00.282952Z"
    },
    "papermill": {
     "duration": 156.162979,
     "end_time": "2021-04-30T07:10:00.286001",
     "exception": false,
     "start_time": "2021-04-30T07:07:24.123022",
     "status": "completed"
    },
    "tags": []
   },
   "outputs": [
    {
     "data": {
      "application/vnd.jupyter.widget-view+json": {
       "model_id": "de91bee9e4284d2680baf70b3b147da6",
       "version_major": 2,
       "version_minor": 0
      },
      "text/plain": [
       "Прогноз модели номер := 1 по фолдам::   0%|          | 0/5 [00:00<?, ?it/s]"
      ]
     },
     "metadata": {},
     "output_type": "display_data"
    },
    {
     "name": "stdout",
     "output_type": "stream",
     "text": [
      "Кол-во переменных для модели:= 127\n",
      "Максимум, минимум и среднее от ошибки прогноза:= 0.0000, 0.0000 ,0.0000\n"
     ]
    },
    {
     "data": {
      "application/vnd.jupyter.widget-view+json": {
       "model_id": "945fed5e5ce243f285d56536daa183ce",
       "version_major": 2,
       "version_minor": 0
      },
      "text/plain": [
       "Прогноз модели номер := 2 по фолдам::   0%|          | 0/5 [00:00<?, ?it/s]"
      ]
     },
     "metadata": {},
     "output_type": "display_data"
    },
    {
     "name": "stdout",
     "output_type": "stream",
     "text": [
      "Кол-во переменных для модели:= 64\n",
      "Максимум, минимум и среднее от ошибки прогноза:= 0.0000, 0.0000 ,0.0000\n"
     ]
    },
    {
     "data": {
      "application/vnd.jupyter.widget-view+json": {
       "model_id": "a7b4e2714ee4486e97babf302cce3760",
       "version_major": 2,
       "version_minor": 0
      },
      "text/plain": [
       "Прогноз модели номер := 3 по фолдам::   0%|          | 0/5 [00:00<?, ?it/s]"
      ]
     },
     "metadata": {},
     "output_type": "display_data"
    },
    {
     "name": "stdout",
     "output_type": "stream",
     "text": [
      "Кол-во переменных для модели:= 59\n",
      "Максимум, минимум и среднее от ошибки прогноза:= 0.0000, 0.0000 ,0.0000\n"
     ]
    },
    {
     "data": {
      "application/vnd.jupyter.widget-view+json": {
       "model_id": "87a6e37bfec44a6b9e42e8bad40fae63",
       "version_major": 2,
       "version_minor": 0
      },
      "text/plain": [
       "Прогноз модели номер := 4 по фолдам::   0%|          | 0/5 [00:00<?, ?it/s]"
      ]
     },
     "metadata": {},
     "output_type": "display_data"
    },
    {
     "name": "stdout",
     "output_type": "stream",
     "text": [
      "Кол-во переменных для модели:= 52\n",
      "Максимум, минимум и среднее от ошибки прогноза:= 0.0000, 0.0000 ,0.0000\n",
      "CPU times: user 9min 41s, sys: 4.16 s, total: 9min 45s\n",
      "Wall time: 2min 36s\n"
     ]
    }
   ],
   "source": [
    "%%time\n",
    "for i_models, models in enumerate(models_LGBM):\n",
    "    score = np.zeros(len(merged_test_data))\n",
    "    desc_str=f'Прогноз модели номер := {i_models+1} по фолдам:'\n",
    "    for model in tqdm.tqdm_notebook(models,desc=desc_str):\n",
    "        score += model.predict(merged_test_data[feats_models[i_models]]) / len(models)\n",
    "    print(f'Кол-во переменных для модели:= {len(feats_models[i_models])}')\n",
    "    submission = pd.DataFrame({\n",
    "        'app_id' : merged_test_data.app_id.values,\n",
    "        'score': score\n",
    "    }) \n",
    "    submission['score_true']= subs_models[i_models].score\n",
    "    submission['diff']= submission['score'] - submission['score_true']\n",
    "    max_ = submission['diff'].max()\n",
    "    min_ = submission['diff'].min()\n",
    "    mean_ = submission['diff'].mean()\n",
    "    print(f'Максимум, минимум и среднее от ошибки прогноза:= {max_:.4f}, {min_:.4f} ,{mean_:.4f}')"
   ]
  },
  {
   "cell_type": "markdown",
   "metadata": {
    "papermill": {
     "duration": 0.036444,
     "end_time": "2021-04-30T07:10:00.355168",
     "exception": false,
     "start_time": "2021-04-30T07:10:00.318724",
     "status": "completed"
    },
    "tags": []
   },
   "source": [
    "# 4. Анализ первой модели (1)\n",
    "---\n",
    "## 4.1 Расчет прогноза дефолта "
   ]
  },
  {
   "cell_type": "code",
   "execution_count": 9,
   "metadata": {
    "execution": {
     "iopub.execute_input": "2021-04-30T07:10:00.450829Z",
     "iopub.status.busy": "2021-04-30T07:10:00.449710Z",
     "iopub.status.idle": "2021-04-30T07:10:00.488877Z",
     "shell.execute_reply": "2021-04-30T07:10:00.489467Z"
    },
    "papermill": {
     "duration": 0.087524,
     "end_time": "2021-04-30T07:10:00.489684",
     "exception": false,
     "start_time": "2021-04-30T07:10:00.402160",
     "status": "completed"
    },
    "tags": []
   },
   "outputs": [],
   "source": [
    "targets = merged_train_data.flag"
   ]
  },
  {
   "cell_type": "code",
   "execution_count": 10,
   "metadata": {
    "execution": {
     "iopub.execute_input": "2021-04-30T07:10:00.559255Z",
     "iopub.status.busy": "2021-04-30T07:10:00.558278Z",
     "iopub.status.idle": "2021-04-30T07:11:18.646723Z",
     "shell.execute_reply": "2021-04-30T07:11:18.647395Z"
    },
    "papermill": {
     "duration": 78.125207,
     "end_time": "2021-04-30T07:11:18.647603",
     "exception": false,
     "start_time": "2021-04-30T07:10:00.522396",
     "status": "completed"
    },
    "tags": []
   },
   "outputs": [
    {
     "data": {
      "application/vnd.jupyter.widget-view+json": {
       "model_id": "a8f0d3d88ccc4de29e2c7652165dc32f",
       "version_major": 2,
       "version_minor": 0
      },
      "text/plain": [
       "Прогноз по модели обученной на 5 фолдах::   0%|          | 0/5 [00:00<?, ?it/s]"
      ]
     },
     "metadata": {},
     "output_type": "display_data"
    },
    {
     "name": "stdout",
     "output_type": "stream",
     "text": [
      "CPU times: user 4min 38s, sys: 4.6 s, total: 4min 42s\n",
      "Wall time: 1min 18s\n"
     ]
    }
   ],
   "source": [
    "%%time\n",
    "features = feats_models[0]\n",
    "lgb_models = models_LGBM[0]\n",
    "\n",
    "targets_pred_broba = np.zeros(len(merged_train_data))\n",
    "\n",
    "for model in tqdm.tqdm_notebook(lgb_models, desc='Прогноз по модели обученной на 5 фолдах:'):\n",
    "    targets_pred_broba += model.predict(merged_train_data[features])/ len(lgb_models)"
   ]
  },
  {
   "cell_type": "markdown",
   "metadata": {
    "papermill": {
     "duration": 0.033247,
     "end_time": "2021-04-30T07:11:18.714979",
     "exception": false,
     "start_time": "2021-04-30T07:11:18.681732",
     "status": "completed"
    },
    "tags": []
   },
   "source": [
    "## 4.3 Расчет бинарного вектора прогноза (targets_pred) из вероятностного прогноза (pred_proba)"
   ]
  },
  {
   "cell_type": "code",
   "execution_count": 11,
   "metadata": {
    "execution": {
     "iopub.execute_input": "2021-04-30T07:11:18.787078Z",
     "iopub.status.busy": "2021-04-30T07:11:18.786416Z",
     "iopub.status.idle": "2021-04-30T07:11:18.820042Z",
     "shell.execute_reply": "2021-04-30T07:11:18.820707Z"
    },
    "papermill": {
     "duration": 0.072424,
     "end_time": "2021-04-30T07:11:18.820912",
     "exception": false,
     "start_time": "2021-04-30T07:11:18.748488",
     "status": "completed"
    },
    "tags": []
   },
   "outputs": [],
   "source": [
    "sum_defolt_train = targets.sum()\n",
    "sum_all_train = len(targets)"
   ]
  },
  {
   "cell_type": "code",
   "execution_count": 12,
   "metadata": {
    "execution": {
     "iopub.execute_input": "2021-04-30T07:11:18.892076Z",
     "iopub.status.busy": "2021-04-30T07:11:18.891427Z",
     "iopub.status.idle": "2021-04-30T07:11:20.569080Z",
     "shell.execute_reply": "2021-04-30T07:11:20.569681Z"
    },
    "papermill": {
     "duration": 1.714966,
     "end_time": "2021-04-30T07:11:20.569864",
     "exception": false,
     "start_time": "2021-04-30T07:11:18.854898",
     "status": "completed"
    },
    "tags": []
   },
   "outputs": [],
   "source": [
    "sort_pred = sorted(targets_pred_broba)\n",
    "border = sort_pred[sum_all_train-sum_defolt_train]\n",
    "targets_pred = vfunc(targets_pred_broba, border)"
   ]
  },
  {
   "cell_type": "code",
   "execution_count": 13,
   "metadata": {
    "execution": {
     "iopub.execute_input": "2021-04-30T07:11:20.640815Z",
     "iopub.status.busy": "2021-04-30T07:11:20.640145Z",
     "iopub.status.idle": "2021-04-30T07:11:20.674053Z",
     "shell.execute_reply": "2021-04-30T07:11:20.674592Z"
    },
    "papermill": {
     "duration": 0.071211,
     "end_time": "2021-04-30T07:11:20.674790",
     "exception": false,
     "start_time": "2021-04-30T07:11:20.603579",
     "status": "completed"
    },
    "tags": []
   },
   "outputs": [],
   "source": [
    "# в первый раз инициируем глобальную переменную с предыдущим скором нулевыми значениями\n",
    "utils.last_pred = np.zeros((4,len(targets)))"
   ]
  },
  {
   "cell_type": "markdown",
   "metadata": {
    "papermill": {
     "duration": 0.033645,
     "end_time": "2021-04-30T07:11:20.742523",
     "exception": false,
     "start_time": "2021-04-30T07:11:20.708878",
     "status": "completed"
    },
    "tags": []
   },
   "source": [
    "## 4.4 Метрики, матрицы ошибок и кривые"
   ]
  },
  {
   "cell_type": "code",
   "execution_count": 14,
   "metadata": {
    "execution": {
     "iopub.execute_input": "2021-04-30T07:11:20.814893Z",
     "iopub.status.busy": "2021-04-30T07:11:20.814237Z",
     "iopub.status.idle": "2021-04-30T07:11:27.767389Z",
     "shell.execute_reply": "2021-04-30T07:11:27.767875Z"
    },
    "papermill": {
     "duration": 6.991033,
     "end_time": "2021-04-30T07:11:27.768067",
     "exception": false,
     "start_time": "2021-04-30T07:11:20.777034",
     "status": "completed"
    },
    "tags": []
   },
   "outputs": [
    {
     "data": {
      "text/html": [
       "<div>\n",
       "<style scoped>\n",
       "    .dataframe tbody tr th:only-of-type {\n",
       "        vertical-align: middle;\n",
       "    }\n",
       "\n",
       "    .dataframe tbody tr th {\n",
       "        vertical-align: top;\n",
       "    }\n",
       "\n",
       "    .dataframe thead th {\n",
       "        text-align: right;\n",
       "    }\n",
       "</style>\n",
       "<table border=\"1\" class=\"dataframe\">\n",
       "  <thead>\n",
       "    <tr style=\"text-align: right;\">\n",
       "      <th></th>\n",
       "      <th>Значение</th>\n",
       "      <th>Дельта с предыдущим</th>\n",
       "      <th>Описание</th>\n",
       "    </tr>\n",
       "  </thead>\n",
       "  <tbody>\n",
       "    <tr>\n",
       "      <th>Кол-во признаков</th>\n",
       "      <td>127.000000</td>\n",
       "      <td>0.0</td>\n",
       "      <td></td>\n",
       "    </tr>\n",
       "    <tr>\n",
       "      <th>accuracy</th>\n",
       "      <td>0.956028</td>\n",
       "      <td>0.0</td>\n",
       "      <td>(TP+TN)/(P+N)</td>\n",
       "    </tr>\n",
       "    <tr>\n",
       "      <th>balanced accuracy</th>\n",
       "      <td>0.590024</td>\n",
       "      <td>0.0</td>\n",
       "      <td>сбалансированная accuracy</td>\n",
       "    </tr>\n",
       "    <tr>\n",
       "      <th>precision</th>\n",
       "      <td>0.202664</td>\n",
       "      <td>0.0</td>\n",
       "      <td>точность = TP/(TP+FP)</td>\n",
       "    </tr>\n",
       "    <tr>\n",
       "      <th>recall</th>\n",
       "      <td>0.202656</td>\n",
       "      <td>0.0</td>\n",
       "      <td>полнота = TP/(TP+FN)</td>\n",
       "    </tr>\n",
       "    <tr>\n",
       "      <th>Ошибка II рода</th>\n",
       "      <td>0.797344</td>\n",
       "      <td>0.0</td>\n",
       "      <td>1 - полнота</td>\n",
       "    </tr>\n",
       "    <tr>\n",
       "      <th>f1_score</th>\n",
       "      <td>0.202660</td>\n",
       "      <td>0.0</td>\n",
       "      <td>среднее гармоническое точности и полноты</td>\n",
       "    </tr>\n",
       "    <tr>\n",
       "      <th>roc_auc</th>\n",
       "      <td>0.796315</td>\n",
       "      <td>0.0</td>\n",
       "      <td>площадь под ROC-кривой</td>\n",
       "    </tr>\n",
       "    <tr>\n",
       "      <th>roc_prc</th>\n",
       "      <td>0.137881</td>\n",
       "      <td>0.0</td>\n",
       "      <td>площадь под PC-кривой</td>\n",
       "    </tr>\n",
       "  </tbody>\n",
       "</table>\n",
       "</div>"
      ],
      "text/plain": [
       "                     Значение  Дельта с предыдущим  \\\n",
       "Кол-во признаков   127.000000                  0.0   \n",
       "accuracy             0.956028                  0.0   \n",
       "balanced accuracy    0.590024                  0.0   \n",
       "precision            0.202664                  0.0   \n",
       "recall               0.202656                  0.0   \n",
       "Ошибка II рода       0.797344                  0.0   \n",
       "f1_score             0.202660                  0.0   \n",
       "roc_auc              0.796315                  0.0   \n",
       "roc_prc              0.137881                  0.0   \n",
       "\n",
       "                                                   Описание  \n",
       "Кол-во признаков                                             \n",
       "accuracy                                      (TP+TN)/(P+N)  \n",
       "balanced accuracy                 сбалансированная accuracy  \n",
       "precision                             точность = TP/(TP+FP)  \n",
       "recall                                 полнота = TP/(TP+FN)  \n",
       "Ошибка II рода                                  1 - полнота  \n",
       "f1_score           среднее гармоническое точности и полноты  \n",
       "roc_auc                              площадь под ROC-кривой  \n",
       "roc_prc                               площадь под PC-кривой  "
      ]
     },
     "metadata": {},
     "output_type": "display_data"
    }
   ],
   "source": [
    "utils.test_last_pred(targets, targets_pred, targets_pred_broba,len(features))\n",
    "df_metrics = utils.all_metrics(targets, targets_pred, targets_pred_broba,len(features))"
   ]
  },
  {
   "cell_type": "code",
   "execution_count": 15,
   "metadata": {
    "execution": {
     "iopub.execute_input": "2021-04-30T07:11:27.844506Z",
     "iopub.status.busy": "2021-04-30T07:11:27.843510Z",
     "iopub.status.idle": "2021-04-30T07:11:27.875006Z",
     "shell.execute_reply": "2021-04-30T07:11:27.875537Z"
    },
    "papermill": {
     "duration": 0.07071,
     "end_time": "2021-04-30T07:11:27.875731",
     "exception": false,
     "start_time": "2021-04-30T07:11:27.805021",
     "status": "completed"
    },
    "tags": []
   },
   "outputs": [],
   "source": [
    "df_metrics = df_metrics.rename(columns={'Значение':'model1'})\n",
    "df_metrics.drop(['Дельта с предыдущим', 'Описание'], axis=1, inplace=True)"
   ]
  },
  {
   "cell_type": "code",
   "execution_count": 16,
   "metadata": {
    "execution": {
     "iopub.execute_input": "2021-04-30T07:11:27.949675Z",
     "iopub.status.busy": "2021-04-30T07:11:27.948686Z",
     "iopub.status.idle": "2021-04-30T07:11:31.165666Z",
     "shell.execute_reply": "2021-04-30T07:11:31.165045Z"
    },
    "papermill": {
     "duration": 3.25509,
     "end_time": "2021-04-30T07:11:31.165813",
     "exception": false,
     "start_time": "2021-04-30T07:11:27.910723",
     "status": "completed"
    },
    "tags": []
   },
   "outputs": [
    {
     "data": {
      "image/png": "[encoded data removed]",
      "text/plain": [
       "<Figure size 1280x640 with 4 Axes>"
      ]
     },
     "metadata": {
      "needs_background": "light"
     },
     "output_type": "display_data"
    }
   ],
   "source": [
    "utils.plot_confusion_matrix_double(targets, targets_pred, 1.2, ['Дефолтные', 'Не дефолтные'])"
   ]
  },
  {
   "cell_type": "code",
   "execution_count": 17,
   "metadata": {
    "execution": {
     "iopub.execute_input": "2021-04-30T07:11:31.244881Z",
     "iopub.status.busy": "2021-04-30T07:11:31.244194Z",
     "iopub.status.idle": "2021-04-30T07:11:32.627441Z",
     "shell.execute_reply": "2021-04-30T07:11:32.627937Z"
    },
    "papermill": {
     "duration": 1.424782,
     "end_time": "2021-04-30T07:11:32.628108",
     "exception": false,
     "start_time": "2021-04-30T07:11:31.203326",
     "status": "completed"
    },
    "tags": []
   },
   "outputs": [
    {
     "data": {
      "text/plain": [
       "<module 'matplotlib.pyplot' from '/opt/conda/lib/python3.7/site-packages/matplotlib/pyplot.py'>"
      ]
     },
     "execution_count": 17,
     "metadata": {},
     "output_type": "execute_result"
    },
    {
     "data": {
      "image/png": "[encoded data removed]",
      "text/plain": [
       "<Figure size 1280x640 with 2 Axes>"
      ]
     },
     "metadata": {},
     "output_type": "display_data"
    }
   ],
   "source": [
    "utils.ROC_and_PR_curves(targets, targets_pred_broba, 1.2)"
   ]
  },
  {
   "cell_type": "markdown",
   "metadata": {
    "papermill": {
     "duration": 0.039603,
     "end_time": "2021-04-30T07:11:32.707893",
     "exception": false,
     "start_time": "2021-04-30T07:11:32.668290",
     "status": "completed"
    },
    "tags": []
   },
   "source": [
    "# 5. Анализ второй модели (2)\n",
    "---\n",
    "## 5.1 Расчет прогноза дефолта "
   ]
  },
  {
   "cell_type": "code",
   "execution_count": 18,
   "metadata": {
    "execution": {
     "iopub.execute_input": "2021-04-30T07:11:32.791265Z",
     "iopub.status.busy": "2021-04-30T07:11:32.790638Z",
     "iopub.status.idle": "2021-04-30T07:12:48.446470Z",
     "shell.execute_reply": "2021-04-30T07:12:48.447250Z"
    },
    "papermill": {
     "duration": 75.699456,
     "end_time": "2021-04-30T07:12:48.447450",
     "exception": false,
     "start_time": "2021-04-30T07:11:32.747994",
     "status": "completed"
    },
    "tags": []
   },
   "outputs": [
    {
     "data": {
      "application/vnd.jupyter.widget-view+json": {
       "model_id": "7592c6062fed4c4e8ecd3534c007ad13",
       "version_major": 2,
       "version_minor": 0
      },
      "text/plain": [
       "Прогноз по модели обученной на 5 фолдах::   0%|          | 0/5 [00:00<?, ?it/s]"
      ]
     },
     "metadata": {},
     "output_type": "display_data"
    },
    {
     "name": "stdout",
     "output_type": "stream",
     "text": [
      "CPU times: user 4min 43s, sys: 1.84 s, total: 4min 45s\n",
      "Wall time: 1min 15s\n"
     ]
    }
   ],
   "source": [
    "%%time\n",
    "features = feats_models[1]\n",
    "lgb_models = models_LGBM[1]\n",
    "\n",
    "targets_pred_broba = np.zeros(len(merged_train_data))\n",
    "\n",
    "for model in tqdm.tqdm_notebook(lgb_models, desc='Прогноз по модели обученной на 5 фолдах:'):\n",
    "    targets_pred_broba += model.predict(merged_train_data[features])/ len(lgb_models)"
   ]
  },
  {
   "cell_type": "markdown",
   "metadata": {
    "papermill": {
     "duration": 0.041968,
     "end_time": "2021-04-30T07:12:48.532902",
     "exception": false,
     "start_time": "2021-04-30T07:12:48.490934",
     "status": "completed"
    },
    "tags": []
   },
   "source": [
    "## 5.2 Расчет бинарного вектора прогноза (targets_pred) из вероятностного прогноза (pred_proba)"
   ]
  },
  {
   "cell_type": "code",
   "execution_count": 19,
   "metadata": {
    "execution": {
     "iopub.execute_input": "2021-04-30T07:12:48.620681Z",
     "iopub.status.busy": "2021-04-30T07:12:48.619635Z",
     "iopub.status.idle": "2021-04-30T07:12:50.555388Z",
     "shell.execute_reply": "2021-04-30T07:12:50.555891Z"
    },
    "papermill": {
     "duration": 1.982034,
     "end_time": "2021-04-30T07:12:50.556102",
     "exception": false,
     "start_time": "2021-04-30T07:12:48.574068",
     "status": "completed"
    },
    "tags": []
   },
   "outputs": [],
   "source": [
    "sort_pred = sorted(targets_pred_broba)\n",
    "border = sort_pred[sum_all_train-sum_defolt_train]\n",
    "targets_pred = vfunc(targets_pred_broba, border)"
   ]
  },
  {
   "cell_type": "markdown",
   "metadata": {
    "papermill": {
     "duration": 0.04101,
     "end_time": "2021-04-30T07:12:50.638391",
     "exception": false,
     "start_time": "2021-04-30T07:12:50.597381",
     "status": "completed"
    },
    "tags": []
   },
   "source": [
    "## 5.3 Метрики, матрицы ошибок и кривые"
   ]
  },
  {
   "cell_type": "code",
   "execution_count": 20,
   "metadata": {
    "execution": {
     "iopub.execute_input": "2021-04-30T07:12:50.723925Z",
     "iopub.status.busy": "2021-04-30T07:12:50.722932Z",
     "iopub.status.idle": "2021-04-30T07:12:57.692181Z",
     "shell.execute_reply": "2021-04-30T07:12:57.692720Z"
    },
    "papermill": {
     "duration": 7.013743,
     "end_time": "2021-04-30T07:12:57.692920",
     "exception": false,
     "start_time": "2021-04-30T07:12:50.679177",
     "status": "completed"
    },
    "tags": []
   },
   "outputs": [
    {
     "data": {
      "text/html": [
       "<div>\n",
       "<style scoped>\n",
       "    .dataframe tbody tr th:only-of-type {\n",
       "        vertical-align: middle;\n",
       "    }\n",
       "\n",
       "    .dataframe tbody tr th {\n",
       "        vertical-align: top;\n",
       "    }\n",
       "\n",
       "    .dataframe thead th {\n",
       "        text-align: right;\n",
       "    }\n",
       "</style>\n",
       "<table border=\"1\" class=\"dataframe\">\n",
       "  <thead>\n",
       "    <tr style=\"text-align: right;\">\n",
       "      <th></th>\n",
       "      <th>Значение</th>\n",
       "      <th>Дельта с предыдущим</th>\n",
       "      <th>Описание</th>\n",
       "    </tr>\n",
       "  </thead>\n",
       "  <tbody>\n",
       "    <tr>\n",
       "      <th>Кол-во признаков</th>\n",
       "      <td>64.000000</td>\n",
       "      <td>63.000000</td>\n",
       "      <td></td>\n",
       "    </tr>\n",
       "    <tr>\n",
       "      <th>accuracy</th>\n",
       "      <td>0.955874</td>\n",
       "      <td>0.000154</td>\n",
       "      <td>(TP+TN)/(P+N)</td>\n",
       "    </tr>\n",
       "    <tr>\n",
       "      <th>balanced accuracy</th>\n",
       "      <td>0.588592</td>\n",
       "      <td>0.001432</td>\n",
       "      <td>сбалансированная accuracy</td>\n",
       "    </tr>\n",
       "    <tr>\n",
       "      <th>precision</th>\n",
       "      <td>0.199880</td>\n",
       "      <td>0.002784</td>\n",
       "      <td>точность = TP/(TP+FP)</td>\n",
       "    </tr>\n",
       "    <tr>\n",
       "      <th>recall</th>\n",
       "      <td>0.199872</td>\n",
       "      <td>0.002784</td>\n",
       "      <td>полнота = TP/(TP+FN)</td>\n",
       "    </tr>\n",
       "    <tr>\n",
       "      <th>Ошибка II рода</th>\n",
       "      <td>0.800128</td>\n",
       "      <td>-0.002784</td>\n",
       "      <td>1 - полнота</td>\n",
       "    </tr>\n",
       "    <tr>\n",
       "      <th>f1_score</th>\n",
       "      <td>0.199876</td>\n",
       "      <td>0.002784</td>\n",
       "      <td>среднее гармоническое точности и полноты</td>\n",
       "    </tr>\n",
       "    <tr>\n",
       "      <th>roc_auc</th>\n",
       "      <td>0.792072</td>\n",
       "      <td>0.004244</td>\n",
       "      <td>площадь под ROC-кривой</td>\n",
       "    </tr>\n",
       "    <tr>\n",
       "      <th>roc_prc</th>\n",
       "      <td>0.135264</td>\n",
       "      <td>0.002618</td>\n",
       "      <td>площадь под PC-кривой</td>\n",
       "    </tr>\n",
       "  </tbody>\n",
       "</table>\n",
       "</div>"
      ],
      "text/plain": [
       "                    Значение  Дельта с предыдущим  \\\n",
       "Кол-во признаков   64.000000            63.000000   \n",
       "accuracy            0.955874             0.000154   \n",
       "balanced accuracy   0.588592             0.001432   \n",
       "precision           0.199880             0.002784   \n",
       "recall              0.199872             0.002784   \n",
       "Ошибка II рода      0.800128            -0.002784   \n",
       "f1_score            0.199876             0.002784   \n",
       "roc_auc             0.792072             0.004244   \n",
       "roc_prc             0.135264             0.002618   \n",
       "\n",
       "                                                   Описание  \n",
       "Кол-во признаков                                             \n",
       "accuracy                                      (TP+TN)/(P+N)  \n",
       "balanced accuracy                 сбалансированная accuracy  \n",
       "precision                             точность = TP/(TP+FP)  \n",
       "recall                                 полнота = TP/(TP+FN)  \n",
       "Ошибка II рода                                  1 - полнота  \n",
       "f1_score           среднее гармоническое точности и полноты  \n",
       "roc_auc                              площадь под ROC-кривой  \n",
       "roc_prc                               площадь под PC-кривой  "
      ]
     },
     "metadata": {},
     "output_type": "display_data"
    }
   ],
   "source": [
    "temp_df = utils.all_metrics(targets, targets_pred, targets_pred_broba,len(features))\n",
    "df_metrics['model2'] = temp_df['Значение']"
   ]
  },
  {
   "cell_type": "code",
   "execution_count": 21,
   "metadata": {
    "execution": {
     "iopub.execute_input": "2021-04-30T07:12:57.786271Z",
     "iopub.status.busy": "2021-04-30T07:12:57.785566Z",
     "iopub.status.idle": "2021-04-30T07:13:01.064058Z",
     "shell.execute_reply": "2021-04-30T07:13:01.064671Z"
    },
    "papermill": {
     "duration": 3.328339,
     "end_time": "2021-04-30T07:13:01.064851",
     "exception": false,
     "start_time": "2021-04-30T07:12:57.736512",
     "status": "completed"
    },
    "tags": []
   },
   "outputs": [
    {
     "data": {
      "image/png": "[encoded data removed]",
      "text/plain": [
       "<Figure size 1280x640 with 4 Axes>"
      ]
     },
     "metadata": {},
     "output_type": "display_data"
    }
   ],
   "source": [
    "utils.plot_confusion_matrix_double(targets, targets_pred, 1.2, ['Дефолтные', 'Не дефолтные'])"
   ]
  },
  {
   "cell_type": "code",
   "execution_count": 22,
   "metadata": {
    "execution": {
     "iopub.execute_input": "2021-04-30T07:13:01.159374Z",
     "iopub.status.busy": "2021-04-30T07:13:01.158360Z",
     "iopub.status.idle": "2021-04-30T07:13:02.672567Z",
     "shell.execute_reply": "2021-04-30T07:13:02.673093Z"
    },
    "papermill": {
     "duration": 1.563199,
     "end_time": "2021-04-30T07:13:02.673291",
     "exception": false,
     "start_time": "2021-04-30T07:13:01.110092",
     "status": "completed"
    },
    "tags": []
   },
   "outputs": [
    {
     "data": {
      "text/plain": [
       "<module 'matplotlib.pyplot' from '/opt/conda/lib/python3.7/site-packages/matplotlib/pyplot.py'>"
      ]
     },
     "execution_count": 22,
     "metadata": {},
     "output_type": "execute_result"
    },
    {
     "data": {
      "image/png": "[encoded data removed]",
      "text/plain": [
       "<Figure size 1280x640 with 2 Axes>"
      ]
     },
     "metadata": {},
     "output_type": "display_data"
    }
   ],
   "source": [
    "utils.ROC_and_PR_curves(targets, targets_pred_broba, 1.2)"
   ]
  },
  {
   "cell_type": "markdown",
   "metadata": {
    "papermill": {
     "duration": 0.048212,
     "end_time": "2021-04-30T07:13:02.768895",
     "exception": false,
     "start_time": "2021-04-30T07:13:02.720683",
     "status": "completed"
    },
    "tags": []
   },
   "source": [
    "# 6. Анализ третьей модели (3)\n",
    "---\n",
    "## 6.1 Расчет прогноза дефолта "
   ]
  },
  {
   "cell_type": "code",
   "execution_count": 23,
   "metadata": {
    "execution": {
     "iopub.execute_input": "2021-04-30T07:13:02.867989Z",
     "iopub.status.busy": "2021-04-30T07:13:02.867320Z",
     "iopub.status.idle": "2021-04-30T07:14:18.689823Z",
     "shell.execute_reply": "2021-04-30T07:14:18.690514Z"
    },
    "papermill": {
     "duration": 75.873705,
     "end_time": "2021-04-30T07:14:18.690741",
     "exception": false,
     "start_time": "2021-04-30T07:13:02.817036",
     "status": "completed"
    },
    "tags": []
   },
   "outputs": [
    {
     "data": {
      "application/vnd.jupyter.widget-view+json": {
       "model_id": "a643a795c39c4c25b9fef3b8cd1a5a23",
       "version_major": 2,
       "version_minor": 0
      },
      "text/plain": [
       "Прогноз по модели обученной на 5 фолдах::   0%|          | 0/5 [00:00<?, ?it/s]"
      ]
     },
     "metadata": {},
     "output_type": "display_data"
    },
    {
     "name": "stdout",
     "output_type": "stream",
     "text": [
      "CPU times: user 4min 45s, sys: 1.81 s, total: 4min 47s\n",
      "Wall time: 1min 15s\n"
     ]
    }
   ],
   "source": [
    "%%time\n",
    "features = feats_models[2]\n",
    "lgb_models = models_LGBM[2]\n",
    "\n",
    "targets_pred_broba = np.zeros(len(merged_train_data))\n",
    "\n",
    "for model in tqdm.tqdm_notebook(lgb_models, desc='Прогноз по модели обученной на 5 фолдах:'):\n",
    "    targets_pred_broba += model.predict(merged_train_data[features])/ len(lgb_models)"
   ]
  },
  {
   "cell_type": "markdown",
   "metadata": {
    "papermill": {
     "duration": 0.048669,
     "end_time": "2021-04-30T07:14:18.788650",
     "exception": false,
     "start_time": "2021-04-30T07:14:18.739981",
     "status": "completed"
    },
    "tags": []
   },
   "source": [
    "## 6.2 Расчет бинарного вектора прогноза (targets_pred) из вероятностного прогноза (pred_proba)"
   ]
  },
  {
   "cell_type": "code",
   "execution_count": 24,
   "metadata": {
    "execution": {
     "iopub.execute_input": "2021-04-30T07:14:18.891245Z",
     "iopub.status.busy": "2021-04-30T07:14:18.890469Z",
     "iopub.status.idle": "2021-04-30T07:14:20.763173Z",
     "shell.execute_reply": "2021-04-30T07:14:20.762572Z"
    },
    "papermill": {
     "duration": 1.925629,
     "end_time": "2021-04-30T07:14:20.763335",
     "exception": false,
     "start_time": "2021-04-30T07:14:18.837706",
     "status": "completed"
    },
    "tags": []
   },
   "outputs": [],
   "source": [
    "sort_pred = sorted(targets_pred_broba)\n",
    "border = sort_pred[sum_all_train-sum_defolt_train]\n",
    "targets_pred = vfunc(targets_pred_broba, border)"
   ]
  },
  {
   "cell_type": "markdown",
   "metadata": {
    "papermill": {
     "duration": 0.048796,
     "end_time": "2021-04-30T07:14:20.860736",
     "exception": false,
     "start_time": "2021-04-30T07:14:20.811940",
     "status": "completed"
    },
    "tags": []
   },
   "source": [
    "## 6.3 Метрики, матрицы ошибок и кривые"
   ]
  },
  {
   "cell_type": "code",
   "execution_count": 25,
   "metadata": {
    "execution": {
     "iopub.execute_input": "2021-04-30T07:14:20.963426Z",
     "iopub.status.busy": "2021-04-30T07:14:20.962704Z",
     "iopub.status.idle": "2021-04-30T07:14:27.901970Z",
     "shell.execute_reply": "2021-04-30T07:14:27.902590Z"
    },
    "papermill": {
     "duration": 6.993523,
     "end_time": "2021-04-30T07:14:27.902783",
     "exception": false,
     "start_time": "2021-04-30T07:14:20.909260",
     "status": "completed"
    },
    "tags": []
   },
   "outputs": [
    {
     "data": {
      "text/html": [
       "<div>\n",
       "<style scoped>\n",
       "    .dataframe tbody tr th:only-of-type {\n",
       "        vertical-align: middle;\n",
       "    }\n",
       "\n",
       "    .dataframe tbody tr th {\n",
       "        vertical-align: top;\n",
       "    }\n",
       "\n",
       "    .dataframe thead th {\n",
       "        text-align: right;\n",
       "    }\n",
       "</style>\n",
       "<table border=\"1\" class=\"dataframe\">\n",
       "  <thead>\n",
       "    <tr style=\"text-align: right;\">\n",
       "      <th></th>\n",
       "      <th>Значение</th>\n",
       "      <th>Дельта с предыдущим</th>\n",
       "      <th>Описание</th>\n",
       "    </tr>\n",
       "  </thead>\n",
       "  <tbody>\n",
       "    <tr>\n",
       "      <th>Кол-во признаков</th>\n",
       "      <td>59.000000</td>\n",
       "      <td>5.000000</td>\n",
       "      <td></td>\n",
       "    </tr>\n",
       "    <tr>\n",
       "      <th>accuracy</th>\n",
       "      <td>0.955689</td>\n",
       "      <td>0.000185</td>\n",
       "      <td>(TP+TN)/(P+N)</td>\n",
       "    </tr>\n",
       "    <tr>\n",
       "      <th>balanced accuracy</th>\n",
       "      <td>0.586870</td>\n",
       "      <td>0.001722</td>\n",
       "      <td>сбалансированная accuracy</td>\n",
       "    </tr>\n",
       "    <tr>\n",
       "      <th>precision</th>\n",
       "      <td>0.196531</td>\n",
       "      <td>0.003349</td>\n",
       "      <td>точность = TP/(TP+FP)</td>\n",
       "    </tr>\n",
       "    <tr>\n",
       "      <th>recall</th>\n",
       "      <td>0.196523</td>\n",
       "      <td>0.003349</td>\n",
       "      <td>полнота = TP/(TP+FN)</td>\n",
       "    </tr>\n",
       "    <tr>\n",
       "      <th>Ошибка II рода</th>\n",
       "      <td>0.803477</td>\n",
       "      <td>-0.003349</td>\n",
       "      <td>1 - полнота</td>\n",
       "    </tr>\n",
       "    <tr>\n",
       "      <th>f1_score</th>\n",
       "      <td>0.196527</td>\n",
       "      <td>0.003349</td>\n",
       "      <td>среднее гармоническое точности и полноты</td>\n",
       "    </tr>\n",
       "    <tr>\n",
       "      <th>roc_auc</th>\n",
       "      <td>0.792188</td>\n",
       "      <td>-0.000116</td>\n",
       "      <td>площадь под ROC-кривой</td>\n",
       "    </tr>\n",
       "    <tr>\n",
       "      <th>roc_prc</th>\n",
       "      <td>0.132663</td>\n",
       "      <td>0.002601</td>\n",
       "      <td>площадь под PC-кривой</td>\n",
       "    </tr>\n",
       "  </tbody>\n",
       "</table>\n",
       "</div>"
      ],
      "text/plain": [
       "                    Значение  Дельта с предыдущим  \\\n",
       "Кол-во признаков   59.000000             5.000000   \n",
       "accuracy            0.955689             0.000185   \n",
       "balanced accuracy   0.586870             0.001722   \n",
       "precision           0.196531             0.003349   \n",
       "recall              0.196523             0.003349   \n",
       "Ошибка II рода      0.803477            -0.003349   \n",
       "f1_score            0.196527             0.003349   \n",
       "roc_auc             0.792188            -0.000116   \n",
       "roc_prc             0.132663             0.002601   \n",
       "\n",
       "                                                   Описание  \n",
       "Кол-во признаков                                             \n",
       "accuracy                                      (TP+TN)/(P+N)  \n",
       "balanced accuracy                 сбалансированная accuracy  \n",
       "precision                             точность = TP/(TP+FP)  \n",
       "recall                                 полнота = TP/(TP+FN)  \n",
       "Ошибка II рода                                  1 - полнота  \n",
       "f1_score           среднее гармоническое точности и полноты  \n",
       "roc_auc                              площадь под ROC-кривой  \n",
       "roc_prc                               площадь под PC-кривой  "
      ]
     },
     "metadata": {},
     "output_type": "display_data"
    }
   ],
   "source": [
    "temp_df = utils.all_metrics(targets, targets_pred, targets_pred_broba,len(features))\n",
    "df_metrics['model3'] = temp_df['Значение']"
   ]
  },
  {
   "cell_type": "code",
   "execution_count": 26,
   "metadata": {
    "execution": {
     "iopub.execute_input": "2021-04-30T07:14:28.006546Z",
     "iopub.status.busy": "2021-04-30T07:14:28.005769Z",
     "iopub.status.idle": "2021-04-30T07:14:31.250358Z",
     "shell.execute_reply": "2021-04-30T07:14:31.251249Z"
    },
    "papermill": {
     "duration": 3.298183,
     "end_time": "2021-04-30T07:14:31.251449",
     "exception": false,
     "start_time": "2021-04-30T07:14:27.953266",
     "status": "completed"
    },
    "tags": []
   },
   "outputs": [
    {
     "data": {
      "image/png": "[encoded data removed]",
      "text/plain": [
       "<Figure size 1280x640 with 4 Axes>"
      ]
     },
     "metadata": {},
     "output_type": "display_data"
    }
   ],
   "source": [
    "utils.plot_confusion_matrix_double(targets, targets_pred, 1.2, ['Дефолтные', 'Не дефолтные'])"
   ]
  },
  {
   "cell_type": "code",
   "execution_count": 27,
   "metadata": {
    "execution": {
     "iopub.execute_input": "2021-04-30T07:14:31.362655Z",
     "iopub.status.busy": "2021-04-30T07:14:31.361890Z",
     "iopub.status.idle": "2021-04-30T07:14:32.835799Z",
     "shell.execute_reply": "2021-04-30T07:14:32.835062Z"
    },
    "papermill": {
     "duration": 1.531453,
     "end_time": "2021-04-30T07:14:32.835965",
     "exception": false,
     "start_time": "2021-04-30T07:14:31.304512",
     "status": "completed"
    },
    "tags": []
   },
   "outputs": [
    {
     "data": {
      "text/plain": [
       "<module 'matplotlib.pyplot' from '/opt/conda/lib/python3.7/site-packages/matplotlib/pyplot.py'>"
      ]
     },
     "execution_count": 27,
     "metadata": {},
     "output_type": "execute_result"
    },
    {
     "data": {
      "image/png": "[encoded data removed]",
      "text/plain": [
       "<Figure size 1280x640 with 2 Axes>"
      ]
     },
     "metadata": {},
     "output_type": "display_data"
    }
   ],
   "source": [
    "utils.ROC_and_PR_curves(targets, targets_pred_broba, 1.2)"
   ]
  },
  {
   "cell_type": "markdown",
   "metadata": {
    "papermill": {
     "duration": 0.058927,
     "end_time": "2021-04-30T07:14:32.952425",
     "exception": false,
     "start_time": "2021-04-30T07:14:32.893498",
     "status": "completed"
    },
    "tags": []
   },
   "source": [
    "# 7. Анализ четвертой модели (4)\n",
    "---\n",
    "## 7.1 Расчет прогноза дефолта "
   ]
  },
  {
   "cell_type": "code",
   "execution_count": 28,
   "metadata": {
    "execution": {
     "iopub.execute_input": "2021-04-30T07:14:33.073738Z",
     "iopub.status.busy": "2021-04-30T07:14:33.073006Z",
     "iopub.status.idle": "2021-04-30T07:15:50.251329Z",
     "shell.execute_reply": "2021-04-30T07:15:50.252004Z"
    },
    "papermill": {
     "duration": 77.239655,
     "end_time": "2021-04-30T07:15:50.252238",
     "exception": false,
     "start_time": "2021-04-30T07:14:33.012583",
     "status": "completed"
    },
    "tags": []
   },
   "outputs": [
    {
     "data": {
      "application/vnd.jupyter.widget-view+json": {
       "model_id": "bf3fafde276a420a8a5e12571c21cb28",
       "version_major": 2,
       "version_minor": 0
      },
      "text/plain": [
       "Прогноз по модели обученной на 5 фолдах::   0%|          | 0/5 [00:00<?, ?it/s]"
      ]
     },
     "metadata": {},
     "output_type": "display_data"
    },
    {
     "name": "stdout",
     "output_type": "stream",
     "text": [
      "CPU times: user 4min 49s, sys: 1.64 s, total: 4min 51s\n",
      "Wall time: 1min 17s\n"
     ]
    }
   ],
   "source": [
    "%%time\n",
    "features = feats_models[3]\n",
    "lgb_models = models_LGBM[3]\n",
    "\n",
    "targets_pred_broba = np.zeros(len(merged_train_data))\n",
    "\n",
    "for model in tqdm.tqdm_notebook(lgb_models, desc='Прогноз по модели обученной на 5 фолдах:'):\n",
    "    targets_pred_broba += model.predict(merged_train_data[features])/ len(lgb_models)"
   ]
  },
  {
   "cell_type": "markdown",
   "metadata": {
    "papermill": {
     "duration": 0.060039,
     "end_time": "2021-04-30T07:15:50.369691",
     "exception": false,
     "start_time": "2021-04-30T07:15:50.309652",
     "status": "completed"
    },
    "tags": []
   },
   "source": [
    "## 7.2 Расчет бинарного вектора прогноза (targets_pred) из вероятностного прогноза (pred_proba)"
   ]
  },
  {
   "cell_type": "code",
   "execution_count": 29,
   "metadata": {
    "execution": {
     "iopub.execute_input": "2021-04-30T07:15:50.486004Z",
     "iopub.status.busy": "2021-04-30T07:15:50.485269Z",
     "iopub.status.idle": "2021-04-30T07:15:52.335575Z",
     "shell.execute_reply": "2021-04-30T07:15:52.336248Z"
    },
    "papermill": {
     "duration": 1.909932,
     "end_time": "2021-04-30T07:15:52.336443",
     "exception": false,
     "start_time": "2021-04-30T07:15:50.426511",
     "status": "completed"
    },
    "tags": []
   },
   "outputs": [],
   "source": [
    "sort_pred = sorted(targets_pred_broba)\n",
    "border = sort_pred[sum_all_train-sum_defolt_train]\n",
    "targets_pred = vfunc(targets_pred_broba, border)"
   ]
  },
  {
   "cell_type": "markdown",
   "metadata": {
    "papermill": {
     "duration": 0.067125,
     "end_time": "2021-04-30T07:15:52.480006",
     "exception": false,
     "start_time": "2021-04-30T07:15:52.412881",
     "status": "completed"
    },
    "tags": []
   },
   "source": [
    "## 7.3 Метрики, матрицы ошибок и кривые"
   ]
  },
  {
   "cell_type": "code",
   "execution_count": 30,
   "metadata": {
    "execution": {
     "iopub.execute_input": "2021-04-30T07:15:52.594920Z",
     "iopub.status.busy": "2021-04-30T07:15:52.594098Z",
     "iopub.status.idle": "2021-04-30T07:15:59.498066Z",
     "shell.execute_reply": "2021-04-30T07:15:59.498654Z"
    },
    "papermill": {
     "duration": 6.96301,
     "end_time": "2021-04-30T07:15:59.498839",
     "exception": false,
     "start_time": "2021-04-30T07:15:52.535829",
     "status": "completed"
    },
    "tags": []
   },
   "outputs": [
    {
     "data": {
      "text/html": [
       "<div>\n",
       "<style scoped>\n",
       "    .dataframe tbody tr th:only-of-type {\n",
       "        vertical-align: middle;\n",
       "    }\n",
       "\n",
       "    .dataframe tbody tr th {\n",
       "        vertical-align: top;\n",
       "    }\n",
       "\n",
       "    .dataframe thead th {\n",
       "        text-align: right;\n",
       "    }\n",
       "</style>\n",
       "<table border=\"1\" class=\"dataframe\">\n",
       "  <thead>\n",
       "    <tr style=\"text-align: right;\">\n",
       "      <th></th>\n",
       "      <th>Значение</th>\n",
       "      <th>Дельта с предыдущим</th>\n",
       "      <th>Описание</th>\n",
       "    </tr>\n",
       "  </thead>\n",
       "  <tbody>\n",
       "    <tr>\n",
       "      <th>Кол-во признаков</th>\n",
       "      <td>52.000000</td>\n",
       "      <td>7.000000</td>\n",
       "      <td></td>\n",
       "    </tr>\n",
       "    <tr>\n",
       "      <th>accuracy</th>\n",
       "      <td>0.955646</td>\n",
       "      <td>0.000044</td>\n",
       "      <td>(TP+TN)/(P+N)</td>\n",
       "    </tr>\n",
       "    <tr>\n",
       "      <th>balanced accuracy</th>\n",
       "      <td>0.586464</td>\n",
       "      <td>0.000406</td>\n",
       "      <td>сбалансированная accuracy</td>\n",
       "    </tr>\n",
       "    <tr>\n",
       "      <th>precision</th>\n",
       "      <td>0.195741</td>\n",
       "      <td>0.000790</td>\n",
       "      <td>точность = TP/(TP+FP)</td>\n",
       "    </tr>\n",
       "    <tr>\n",
       "      <th>recall</th>\n",
       "      <td>0.195733</td>\n",
       "      <td>0.000790</td>\n",
       "      <td>полнота = TP/(TP+FN)</td>\n",
       "    </tr>\n",
       "    <tr>\n",
       "      <th>Ошибка II рода</th>\n",
       "      <td>0.804267</td>\n",
       "      <td>-0.000790</td>\n",
       "      <td>1 - полнота</td>\n",
       "    </tr>\n",
       "    <tr>\n",
       "      <th>f1_score</th>\n",
       "      <td>0.195737</td>\n",
       "      <td>0.000790</td>\n",
       "      <td>среднее гармоническое точности и полноты</td>\n",
       "    </tr>\n",
       "    <tr>\n",
       "      <th>roc_auc</th>\n",
       "      <td>0.787506</td>\n",
       "      <td>0.004682</td>\n",
       "      <td>площадь под ROC-кривой</td>\n",
       "    </tr>\n",
       "    <tr>\n",
       "      <th>roc_prc</th>\n",
       "      <td>0.132365</td>\n",
       "      <td>0.000298</td>\n",
       "      <td>площадь под PC-кривой</td>\n",
       "    </tr>\n",
       "  </tbody>\n",
       "</table>\n",
       "</div>"
      ],
      "text/plain": [
       "                    Значение  Дельта с предыдущим  \\\n",
       "Кол-во признаков   52.000000             7.000000   \n",
       "accuracy            0.955646             0.000044   \n",
       "balanced accuracy   0.586464             0.000406   \n",
       "precision           0.195741             0.000790   \n",
       "recall              0.195733             0.000790   \n",
       "Ошибка II рода      0.804267            -0.000790   \n",
       "f1_score            0.195737             0.000790   \n",
       "roc_auc             0.787506             0.004682   \n",
       "roc_prc             0.132365             0.000298   \n",
       "\n",
       "                                                   Описание  \n",
       "Кол-во признаков                                             \n",
       "accuracy                                      (TP+TN)/(P+N)  \n",
       "balanced accuracy                 сбалансированная accuracy  \n",
       "precision                             точность = TP/(TP+FP)  \n",
       "recall                                 полнота = TP/(TP+FN)  \n",
       "Ошибка II рода                                  1 - полнота  \n",
       "f1_score           среднее гармоническое точности и полноты  \n",
       "roc_auc                              площадь под ROC-кривой  \n",
       "roc_prc                               площадь под PC-кривой  "
      ]
     },
     "metadata": {},
     "output_type": "display_data"
    }
   ],
   "source": [
    "temp_df = utils.all_metrics(targets, targets_pred, targets_pred_broba,len(features))\n",
    "df_metrics['model4'] = temp_df['Значение']"
   ]
  },
  {
   "cell_type": "code",
   "execution_count": 31,
   "metadata": {
    "execution": {
     "iopub.execute_input": "2021-04-30T07:15:59.616518Z",
     "iopub.status.busy": "2021-04-30T07:15:59.615851Z",
     "iopub.status.idle": "2021-04-30T07:16:03.016275Z",
     "shell.execute_reply": "2021-04-30T07:16:03.016794Z"
    },
    "papermill": {
     "duration": 3.461195,
     "end_time": "2021-04-30T07:16:03.016972",
     "exception": false,
     "start_time": "2021-04-30T07:15:59.555777",
     "status": "completed"
    },
    "tags": []
   },
   "outputs": [
    {
     "data": {
      "image/png": "[encoded data removed]",
      "text/plain": [
       "<Figure size 1280x640 with 4 Axes>"
      ]
     },
     "metadata": {},
     "output_type": "display_data"
    }
   ],
   "source": [
    "utils.plot_confusion_matrix_double(targets, targets_pred, 1.2, ['Дефолтные', 'Не дефолтные'])"
   ]
  },
  {
   "cell_type": "code",
   "execution_count": 32,
   "metadata": {
    "execution": {
     "iopub.execute_input": "2021-04-30T07:16:03.143687Z",
     "iopub.status.busy": "2021-04-30T07:16:03.142925Z",
     "iopub.status.idle": "2021-04-30T07:16:04.574168Z",
     "shell.execute_reply": "2021-04-30T07:16:04.574785Z"
    },
    "papermill": {
     "duration": 1.496463,
     "end_time": "2021-04-30T07:16:04.575015",
     "exception": false,
     "start_time": "2021-04-30T07:16:03.078552",
     "status": "completed"
    },
    "tags": []
   },
   "outputs": [
    {
     "data": {
      "text/plain": [
       "<module 'matplotlib.pyplot' from '/opt/conda/lib/python3.7/site-packages/matplotlib/pyplot.py'>"
      ]
     },
     "execution_count": 32,
     "metadata": {},
     "output_type": "execute_result"
    },
    {
     "data": {
      "image/png": "[encoded data removed]",
      "text/plain": [
       "<Figure size 1280x640 with 2 Axes>"
      ]
     },
     "metadata": {},
     "output_type": "display_data"
    }
   ],
   "source": [
    "utils.ROC_and_PR_curves(targets, targets_pred_broba, 1.2)"
   ]
  },
  {
   "cell_type": "markdown",
   "metadata": {
    "papermill": {
     "duration": 0.064582,
     "end_time": "2021-04-30T07:16:04.703742",
     "exception": false,
     "start_time": "2021-04-30T07:16:04.639160",
     "status": "completed"
    },
    "tags": []
   },
   "source": [
    "# 8. Сводная таблица по метрикам моделей"
   ]
  },
  {
   "cell_type": "code",
   "execution_count": 33,
   "metadata": {
    "execution": {
     "iopub.execute_input": "2021-04-30T07:16:04.840006Z",
     "iopub.status.busy": "2021-04-30T07:16:04.839253Z",
     "iopub.status.idle": "2021-04-30T07:16:04.880238Z",
     "shell.execute_reply": "2021-04-30T07:16:04.879579Z"
    },
    "papermill": {
     "duration": 0.111045,
     "end_time": "2021-04-30T07:16:04.880390",
     "exception": false,
     "start_time": "2021-04-30T07:16:04.769345",
     "status": "completed"
    },
    "tags": []
   },
   "outputs": [
    {
     "data": {
      "text/html": [
       "<div>\n",
       "<style scoped>\n",
       "    .dataframe tbody tr th:only-of-type {\n",
       "        vertical-align: middle;\n",
       "    }\n",
       "\n",
       "    .dataframe tbody tr th {\n",
       "        vertical-align: top;\n",
       "    }\n",
       "\n",
       "    .dataframe thead th {\n",
       "        text-align: right;\n",
       "    }\n",
       "</style>\n",
       "<table border=\"1\" class=\"dataframe\">\n",
       "  <thead>\n",
       "    <tr style=\"text-align: right;\">\n",
       "      <th></th>\n",
       "      <th>model1</th>\n",
       "      <th>model2</th>\n",
       "      <th>model3</th>\n",
       "      <th>model4</th>\n",
       "    </tr>\n",
       "  </thead>\n",
       "  <tbody>\n",
       "    <tr>\n",
       "      <th>Кол-во признаков</th>\n",
       "      <td>127.000000</td>\n",
       "      <td>64.000000</td>\n",
       "      <td>59.000000</td>\n",
       "      <td>52.000000</td>\n",
       "    </tr>\n",
       "    <tr>\n",
       "      <th>accuracy</th>\n",
       "      <td>0.956028</td>\n",
       "      <td>0.955874</td>\n",
       "      <td>0.955689</td>\n",
       "      <td>0.955646</td>\n",
       "    </tr>\n",
       "    <tr>\n",
       "      <th>balanced accuracy</th>\n",
       "      <td>0.590024</td>\n",
       "      <td>0.588592</td>\n",
       "      <td>0.586870</td>\n",
       "      <td>0.586464</td>\n",
       "    </tr>\n",
       "    <tr>\n",
       "      <th>precision</th>\n",
       "      <td>0.202664</td>\n",
       "      <td>0.199880</td>\n",
       "      <td>0.196531</td>\n",
       "      <td>0.195741</td>\n",
       "    </tr>\n",
       "    <tr>\n",
       "      <th>recall</th>\n",
       "      <td>0.202656</td>\n",
       "      <td>0.199872</td>\n",
       "      <td>0.196523</td>\n",
       "      <td>0.195733</td>\n",
       "    </tr>\n",
       "    <tr>\n",
       "      <th>Ошибка II рода</th>\n",
       "      <td>0.797344</td>\n",
       "      <td>0.800128</td>\n",
       "      <td>0.803477</td>\n",
       "      <td>0.804267</td>\n",
       "    </tr>\n",
       "    <tr>\n",
       "      <th>f1_score</th>\n",
       "      <td>0.202660</td>\n",
       "      <td>0.199876</td>\n",
       "      <td>0.196527</td>\n",
       "      <td>0.195737</td>\n",
       "    </tr>\n",
       "    <tr>\n",
       "      <th>roc_auc</th>\n",
       "      <td>0.796315</td>\n",
       "      <td>0.792072</td>\n",
       "      <td>0.792188</td>\n",
       "      <td>0.787506</td>\n",
       "    </tr>\n",
       "    <tr>\n",
       "      <th>roc_prc</th>\n",
       "      <td>0.137881</td>\n",
       "      <td>0.135264</td>\n",
       "      <td>0.132663</td>\n",
       "      <td>0.132365</td>\n",
       "    </tr>\n",
       "  </tbody>\n",
       "</table>\n",
       "</div>"
      ],
      "text/plain": [
       "                       model1     model2     model3     model4\n",
       "Кол-во признаков   127.000000  64.000000  59.000000  52.000000\n",
       "accuracy             0.956028   0.955874   0.955689   0.955646\n",
       "balanced accuracy    0.590024   0.588592   0.586870   0.586464\n",
       "precision            0.202664   0.199880   0.196531   0.195741\n",
       "recall               0.202656   0.199872   0.196523   0.195733\n",
       "Ошибка II рода       0.797344   0.800128   0.803477   0.804267\n",
       "f1_score             0.202660   0.199876   0.196527   0.195737\n",
       "roc_auc              0.796315   0.792072   0.792188   0.787506\n",
       "roc_prc              0.137881   0.135264   0.132663   0.132365"
      ]
     },
     "execution_count": 33,
     "metadata": {},
     "output_type": "execute_result"
    }
   ],
   "source": [
    "df_metrics"
   ]
  },
  {
   "cell_type": "code",
   "execution_count": 34,
   "metadata": {
    "execution": {
     "iopub.execute_input": "2021-04-30T07:16:05.022163Z",
     "iopub.status.busy": "2021-04-30T07:16:05.020721Z",
     "iopub.status.idle": "2021-04-30T07:16:05.058911Z",
     "shell.execute_reply": "2021-04-30T07:16:05.059509Z"
    },
    "papermill": {
     "duration": 0.113968,
     "end_time": "2021-04-30T07:16:05.059704",
     "exception": false,
     "start_time": "2021-04-30T07:16:04.945736",
     "status": "completed"
    },
    "tags": []
   },
   "outputs": [],
   "source": [
    "df_metrics.to_csv('metrics_models.csv', index=False)"
   ]
  }
 ],
 "metadata": {
  "kernelspec": {
   "display_name": "Python 3",
   "language": "python",
   "name": "python3"
  },
  "language_info": {
   "codemirror_mode": {
    "name": "ipython",
    "version": 3
   },
   "file_extension": ".py",
   "mimetype": "text/x-python",
   "name": "python",
   "nbconvert_exporter": "python",
   "pygments_lexer": "ipython3",
   "version": "3.7.9"
  },
  "papermill": {
   "default_parameters": {},
   "duration": 572.330061,
   "end_time": "2021-04-30T07:16:06.039050",
   "environment_variables": {},
   "exception": null,
   "input_path": "__notebook__.ipynb",
   "output_path": "__notebook__.ipynb",
   "parameters": {},
   "start_time": "2021-04-30T07:06:33.708989",
   "version": "2.2.2"
  },
  "widgets": {
   "application/vnd.jupyter.widget-state+json": {
    "state": {
     "00ca927e13734fee818161716a2af205": {
      "model_module": "@jupyter-widgets/base",
      "model_module_version": "1.2.0",
      "model_name": "LayoutModel",
      "state": {
       "_model_module": "@jupyter-widgets/base",
       "_model_module_version": "1.2.0",
       "_model_name": "LayoutModel",
       "_view_count": null,
       "_view_module": "@jupyter-widgets/base",
       "_view_module_version": "1.2.0",
       "_view_name": "LayoutView",
       "align_content": null,
       "align_items": null,
       "align_self": null,
       "border": null,
       "bottom": null,
       "display": null,
       "flex": null,
       "flex_flow": null,
       "grid_area": null,
       "grid_auto_columns": null,
       "grid_auto_flow": null,
       "grid_auto_rows": null,
       "grid_column": null,
       "grid_gap": null,
       "grid_row": null,
       "grid_template_areas": null,
       "grid_template_columns": null,
       "grid_template_rows": null,
       "height": null,
       "justify_content": null,
       "justify_items": null,
       "left": null,
       "margin": null,
       "max_height": null,
       "max_width": null,
       "min_height": null,
       "min_width": null,
       "object_fit": null,
       "object_position": null,
       "order": null,
       "overflow": null,
       "overflow_x": null,
       "overflow_y": null,
       "padding": null,
       "right": null,
       "top": null,
       "visibility": null,
       "width": null
      }
     },
     "01a55cf28a184a1483a83b2f7a2ee99e": {
      "model_module": "@jupyter-widgets/base",
      "model_module_version": "1.2.0",
      "model_name": "LayoutModel",
      "state": {
       "_model_module": "@jupyter-widgets/base",
       "_model_module_version": "1.2.0",
       "_model_name": "LayoutModel",
       "_view_count": null,
       "_view_module": "@jupyter-widgets/base",
       "_view_module_version": "1.2.0",
       "_view_name": "LayoutView",
       "align_content": null,
       "align_items": null,
       "align_self": null,
       "border": null,
       "bottom": null,
       "display": null,
       "flex": null,
       "flex_flow": null,
       "grid_area": null,
       "grid_auto_columns": null,
       "grid_auto_flow": null,
       "grid_auto_rows": null,
       "grid_column": null,
       "grid_gap": null,
       "grid_row": null,
       "grid_template_areas": null,
       "grid_template_columns": null,
       "grid_template_rows": null,
       "height": null,
       "justify_content": null,
       "justify_items": null,
       "left": null,
       "margin": null,
       "max_height": null,
       "max_width": null,
       "min_height": null,
       "min_width": null,
       "object_fit": null,
       "object_position": null,
       "order": null,
       "overflow": null,
       "overflow_x": null,
       "overflow_y": null,
       "padding": null,
       "right": null,
       "top": null,
       "visibility": null,
       "width": null
      }
     },
     "05269660c174459f886c0c3b633d0594": {
      "model_module": "@jupyter-widgets/controls",
      "model_module_version": "1.5.0",
      "model_name": "DescriptionStyleModel",
      "state": {
       "_model_module": "@jupyter-widgets/controls",
       "_model_module_version": "1.5.0",
       "_model_name": "DescriptionStyleModel",
       "_view_count": null,
       "_view_module": "@jupyter-widgets/base",
       "_view_module_version": "1.2.0",
       "_view_name": "StyleView",
       "description_width": ""
      }
     },
     "09e3a169899a4108a6824f30c7d064ab": {
      "model_module": "@jupyter-widgets/controls",
      "model_module_version": "1.5.0",
      "model_name": "HTMLModel",
      "state": {
       "_dom_classes": [],
       "_model_module": "@jupyter-widgets/controls",
       "_model_module_version": "1.5.0",
       "_model_name": "HTMLModel",
       "_view_count": null,
       "_view_module": "@jupyter-widgets/controls",
       "_view_module_version": "1.5.0",
       "_view_name": "HTMLView",
       "description": "",
       "description_tooltip": null,
       "layout": "IPY_MODEL_5f88d5c50166402b95e405c24b947a3a",
       "placeholder": "​",
       "style": "IPY_MODEL_f6eb0f02404a45a7afee4d6dc4f1c966",
       "value": "Прогноз по модели обученной на 5 фолдах:: 100%"
      }
     },
     "0f943985868f422988476762a5a0c506": {
      "model_module": "@jupyter-widgets/base",
      "model_module_version": "1.2.0",
      "model_name": "LayoutModel",
      "state": {
       "_model_module": "@jupyter-widgets/base",
       "_model_module_version": "1.2.0",
       "_model_name": "LayoutModel",
       "_view_count": null,
       "_view_module": "@jupyter-widgets/base",
       "_view_module_version": "1.2.0",
       "_view_name": "LayoutView",
       "align_content": null,
       "align_items": null,
       "align_self": null,
       "border": null,
       "bottom": null,
       "display": null,
       "flex": null,
       "flex_flow": null,
       "grid_area": null,
       "grid_auto_columns": null,
       "grid_auto_flow": null,
       "grid_auto_rows": null,
       "grid_column": null,
       "grid_gap": null,
       "grid_row": null,
       "grid_template_areas": null,
       "grid_template_columns": null,
       "grid_template_rows": null,
       "height": null,
       "justify_content": null,
       "justify_items": null,
       "left": null,
       "margin": null,
       "max_height": null,
       "max_width": null,
       "min_height": null,
       "min_width": null,
       "object_fit": null,
       "object_position": null,
       "order": null,
       "overflow": null,
       "overflow_x": null,
       "overflow_y": null,
       "padding": null,
       "right": null,
       "top": null,
       "visibility": null,
       "width": null
      }
     },
     "12888d16294f4f97925a777a1a3ba838": {
      "model_module": "@jupyter-widgets/base",
      "model_module_version": "1.2.0",
      "model_name": "LayoutModel",
      "state": {
       "_model_module": "@jupyter-widgets/base",
       "_model_module_version": "1.2.0",
       "_model_name": "LayoutModel",
       "_view_count": null,
       "_view_module": "@jupyter-widgets/base",
       "_view_module_version": "1.2.0",
       "_view_name": "LayoutView",
       "align_content": null,
       "align_items": null,
       "align_self": null,
       "border": null,
       "bottom": null,
       "display": null,
       "flex": null,
       "flex_flow": null,
       "grid_area": null,
       "grid_auto_columns": null,
       "grid_auto_flow": null,
       "grid_auto_rows": null,
       "grid_column": null,
       "grid_gap": null,
       "grid_row": null,
       "grid_template_areas": null,
       "grid_template_columns": null,
       "grid_template_rows": null,
       "height": null,
       "justify_content": null,
       "justify_items": null,
       "left": null,
       "margin": null,
       "max_height": null,
       "max_width": null,
       "min_height": null,
       "min_width": null,
       "object_fit": null,
       "object_position": null,
       "order": null,
       "overflow": null,
       "overflow_x": null,
       "overflow_y": null,
       "padding": null,
       "right": null,
       "top": null,
       "visibility": null,
       "width": null
      }
     },
     "12c816127b5444d9998fc55b8eedffb0": {
      "model_module": "@jupyter-widgets/controls",
      "model_module_version": "1.5.0",
      "model_name": "FloatProgressModel",
      "state": {
       "_dom_classes": [],
       "_model_module": "@jupyter-widgets/controls",
       "_model_module_version": "1.5.0",
       "_model_name": "FloatProgressModel",
       "_view_count": null,
       "_view_module": "@jupyter-widgets/controls",
       "_view_module_version": "1.5.0",
       "_view_name": "ProgressView",
       "bar_style": "success",
       "description": "",
       "description_tooltip": null,
       "layout": "IPY_MODEL_151a6c4be91f4029af9b5a1d666e21f1",
       "max": 5.0,
       "min": 0.0,
       "orientation": "horizontal",
       "style": "IPY_MODEL_6972e800c9c8485c871b63901eb6db21",
       "value": 5.0
      }
     },
     "151a6c4be91f4029af9b5a1d666e21f1": {
      "model_module": "@jupyter-widgets/base",
      "model_module_version": "1.2.0",
      "model_name": "LayoutModel",
      "state": {
       "_model_module": "@jupyter-widgets/base",
       "_model_module_version": "1.2.0",
       "_model_name": "LayoutModel",
       "_view_count": null,
       "_view_module": "@jupyter-widgets/base",
       "_view_module_version": "1.2.0",
       "_view_name": "LayoutView",
       "align_content": null,
       "align_items": null,
       "align_self": null,
       "border": null,
       "bottom": null,
       "display": null,
       "flex": null,
       "flex_flow": null,
       "grid_area": null,
       "grid_auto_columns": null,
       "grid_auto_flow": null,
       "grid_auto_rows": null,
       "grid_column": null,
       "grid_gap": null,
       "grid_row": null,
       "grid_template_areas": null,
       "grid_template_columns": null,
       "grid_template_rows": null,
       "height": null,
       "justify_content": null,
       "justify_items": null,
       "left": null,
       "margin": null,
       "max_height": null,
       "max_width": null,
       "min_height": null,
       "min_width": null,
       "object_fit": null,
       "object_position": null,
       "order": null,
       "overflow": null,
       "overflow_x": null,
       "overflow_y": null,
       "padding": null,
       "right": null,
       "top": null,
       "visibility": null,
       "width": null
      }
     },
     "16ea09cf8cc942408b99b107073fe618": {
      "model_module": "@jupyter-widgets/base",
      "model_module_version": "1.2.0",
      "model_name": "LayoutModel",
      "state": {
       "_model_module": "@jupyter-widgets/base",
       "_model_module_version": "1.2.0",
       "_model_name": "LayoutModel",
       "_view_count": null,
       "_view_module": "@jupyter-widgets/base",
       "_view_module_version": "1.2.0",
       "_view_name": "LayoutView",
       "align_content": null,
       "align_items": null,
       "align_self": null,
       "border": null,
       "bottom": null,
       "display": null,
       "flex": null,
       "flex_flow": null,
       "grid_area": null,
       "grid_auto_columns": null,
       "grid_auto_flow": null,
       "grid_auto_rows": null,
       "grid_column": null,
       "grid_gap": null,
       "grid_row": null,
       "grid_template_areas": null,
       "grid_template_columns": null,
       "grid_template_rows": null,
       "height": null,
       "justify_content": null,
       "justify_items": null,
       "left": null,
       "margin": null,
       "max_height": null,
       "max_width": null,
       "min_height": null,
       "min_width": null,
       "object_fit": null,
       "object_position": null,
       "order": null,
       "overflow": null,
       "overflow_x": null,
       "overflow_y": null,
       "padding": null,
       "right": null,
       "top": null,
       "visibility": null,
       "width": null
      }
     },
     "170fd07d03d64cbc863798cb6a61836e": {
      "model_module": "@jupyter-widgets/controls",
      "model_module_version": "1.5.0",
      "model_name": "FloatProgressModel",
      "state": {
       "_dom_classes": [],
       "_model_module": "@jupyter-widgets/controls",
       "_model_module_version": "1.5.0",
       "_model_name": "FloatProgressModel",
       "_view_count": null,
       "_view_module": "@jupyter-widgets/controls",
       "_view_module_version": "1.5.0",
       "_view_name": "ProgressView",
       "bar_style": "success",
       "description": "",
       "description_tooltip": null,
       "layout": "IPY_MODEL_00ca927e13734fee818161716a2af205",
       "max": 5.0,
       "min": 0.0,
       "orientation": "horizontal",
       "style": "IPY_MODEL_37e1df171dab4bd599b5a8e95ab4baaa",
       "value": 5.0
      }
     },
     "17f2caef338845ad80ed17b72e97c503": {
      "model_module": "@jupyter-widgets/controls",
      "model_module_version": "1.5.0",
      "model_name": "FloatProgressModel",
      "state": {
       "_dom_classes": [],
       "_model_module": "@jupyter-widgets/controls",
       "_model_module_version": "1.5.0",
       "_model_name": "FloatProgressModel",
       "_view_count": null,
       "_view_module": "@jupyter-widgets/controls",
       "_view_module_version": "1.5.0",
       "_view_name": "ProgressView",
       "bar_style": "success",
       "description": "",
       "description_tooltip": null,
       "layout": "IPY_MODEL_73262c01ae0f468b906ec7f967f6f41c",
       "max": 5.0,
       "min": 0.0,
       "orientation": "horizontal",
       "style": "IPY_MODEL_7c20262201b245e887ccce80911bebd2",
       "value": 5.0
      }
     },
     "18ee166bac4d42cdb7409110fa84a76d": {
      "model_module": "@jupyter-widgets/controls",
      "model_module_version": "1.5.0",
      "model_name": "DescriptionStyleModel",
      "state": {
       "_model_module": "@jupyter-widgets/controls",
       "_model_module_version": "1.5.0",
       "_model_name": "DescriptionStyleModel",
       "_view_count": null,
       "_view_module": "@jupyter-widgets/base",
       "_view_module_version": "1.2.0",
       "_view_name": "StyleView",
       "description_width": ""
      }
     },
     "1acce991dccd412888ae7ad6ee044b7d": {
      "model_module": "@jupyter-widgets/base",
      "model_module_version": "1.2.0",
      "model_name": "LayoutModel",
      "state": {
       "_model_module": "@jupyter-widgets/base",
       "_model_module_version": "1.2.0",
       "_model_name": "LayoutModel",
       "_view_count": null,
       "_view_module": "@jupyter-widgets/base",
       "_view_module_version": "1.2.0",
       "_view_name": "LayoutView",
       "align_content": null,
       "align_items": null,
       "align_self": null,
       "border": null,
       "bottom": null,
       "display": null,
       "flex": null,
       "flex_flow": null,
       "grid_area": null,
       "grid_auto_columns": null,
       "grid_auto_flow": null,
       "grid_auto_rows": null,
       "grid_column": null,
       "grid_gap": null,
       "grid_row": null,
       "grid_template_areas": null,
       "grid_template_columns": null,
       "grid_template_rows": null,
       "height": null,
       "justify_content": null,
       "justify_items": null,
       "left": null,
       "margin": null,
       "max_height": null,
       "max_width": null,
       "min_height": null,
       "min_width": null,
       "object_fit": null,
       "object_position": null,
       "order": null,
       "overflow": null,
       "overflow_x": null,
       "overflow_y": null,
       "padding": null,
       "right": null,
       "top": null,
       "visibility": null,
       "width": null
      }
     },
     "1fed13172eef4af29ff257086b5ba1f7": {
      "model_module": "@jupyter-widgets/controls",
      "model_module_version": "1.5.0",
      "model_name": "DescriptionStyleModel",
      "state": {
       "_model_module": "@jupyter-widgets/controls",
       "_model_module_version": "1.5.0",
       "_model_name": "DescriptionStyleModel",
       "_view_count": null,
       "_view_module": "@jupyter-widgets/base",
       "_view_module_version": "1.2.0",
       "_view_name": "StyleView",
       "description_width": ""
      }
     },
     "2b8a1e2ab09b401f9584f91d81048478": {
      "model_module": "@jupyter-widgets/controls",
      "model_module_version": "1.5.0",
      "model_name": "ProgressStyleModel",
      "state": {
       "_model_module": "@jupyter-widgets/controls",
       "_model_module_version": "1.5.0",
       "_model_name": "ProgressStyleModel",
       "_view_count": null,
       "_view_module": "@jupyter-widgets/base",
       "_view_module_version": "1.2.0",
       "_view_name": "StyleView",
       "bar_color": null,
       "description_width": ""
      }
     },
     "30b691e857c4476cb366c5c90f509526": {
      "model_module": "@jupyter-widgets/base",
      "model_module_version": "1.2.0",
      "model_name": "LayoutModel",
      "state": {
       "_model_module": "@jupyter-widgets/base",
       "_model_module_version": "1.2.0",
       "_model_name": "LayoutModel",
       "_view_count": null,
       "_view_module": "@jupyter-widgets/base",
       "_view_module_version": "1.2.0",
       "_view_name": "LayoutView",
       "align_content": null,
       "align_items": null,
       "align_self": null,
       "border": null,
       "bottom": null,
       "display": null,
       "flex": null,
       "flex_flow": null,
       "grid_area": null,
       "grid_auto_columns": null,
       "grid_auto_flow": null,
       "grid_auto_rows": null,
       "grid_column": null,
       "grid_gap": null,
       "grid_row": null,
       "grid_template_areas": null,
       "grid_template_columns": null,
       "grid_template_rows": null,
       "height": null,
       "justify_content": null,
       "justify_items": null,
       "left": null,
       "margin": null,
       "max_height": null,
       "max_width": null,
       "min_height": null,
       "min_width": null,
       "object_fit": null,
       "object_position": null,
       "order": null,
       "overflow": null,
       "overflow_x": null,
       "overflow_y": null,
       "padding": null,
       "right": null,
       "top": null,
       "visibility": null,
       "width": null
      }
     },
     "32020fc9574e422094dc9cc85d29cc19": {
      "model_module": "@jupyter-widgets/controls",
      "model_module_version": "1.5.0",
      "model_name": "HTMLModel",
      "state": {
       "_dom_classes": [],
       "_model_module": "@jupyter-widgets/controls",
       "_model_module_version": "1.5.0",
       "_model_name": "HTMLModel",
       "_view_count": null,
       "_view_module": "@jupyter-widgets/controls",
       "_view_module_version": "1.5.0",
       "_view_name": "HTMLView",
       "description": "",
       "description_tooltip": null,
       "layout": "IPY_MODEL_e5ebf3b38ddd4c3db8a4e9e28257c809",
       "placeholder": "​",
       "style": "IPY_MODEL_7a886afb5ce247449cbef99230d629f3",
       "value": "Прогноз модели номер := 1 по фолдам:: 100%"
      }
     },
     "3574fc9b0217433c8d579c4c450fb2a5": {
      "model_module": "@jupyter-widgets/controls",
      "model_module_version": "1.5.0",
      "model_name": "ProgressStyleModel",
      "state": {
       "_model_module": "@jupyter-widgets/controls",
       "_model_module_version": "1.5.0",
       "_model_name": "ProgressStyleModel",
       "_view_count": null,
       "_view_module": "@jupyter-widgets/base",
       "_view_module_version": "1.2.0",
       "_view_name": "StyleView",
       "bar_color": null,
       "description_width": ""
      }
     },
     "3662bc2bbc4a46b8992a0673a7ff6907": {
      "model_module": "@jupyter-widgets/base",
      "model_module_version": "1.2.0",
      "model_name": "LayoutModel",
      "state": {
       "_model_module": "@jupyter-widgets/base",
       "_model_module_version": "1.2.0",
       "_model_name": "LayoutModel",
       "_view_count": null,
       "_view_module": "@jupyter-widgets/base",
       "_view_module_version": "1.2.0",
       "_view_name": "LayoutView",
       "align_content": null,
       "align_items": null,
       "align_self": null,
       "border": null,
       "bottom": null,
       "display": null,
       "flex": null,
       "flex_flow": null,
       "grid_area": null,
       "grid_auto_columns": null,
       "grid_auto_flow": null,
       "grid_auto_rows": null,
       "grid_column": null,
       "grid_gap": null,
       "grid_row": null,
       "grid_template_areas": null,
       "grid_template_columns": null,
       "grid_template_rows": null,
       "height": null,
       "justify_content": null,
       "justify_items": null,
       "left": null,
       "margin": null,
       "max_height": null,
       "max_width": null,
       "min_height": null,
       "min_width": null,
       "object_fit": null,
       "object_position": null,
       "order": null,
       "overflow": null,
       "overflow_x": null,
       "overflow_y": null,
       "padding": null,
       "right": null,
       "top": null,
       "visibility": null,
       "width": null
      }
     },
     "37e1df171dab4bd599b5a8e95ab4baaa": {
      "model_module": "@jupyter-widgets/controls",
      "model_module_version": "1.5.0",
      "model_name": "ProgressStyleModel",
      "state": {
       "_model_module": "@jupyter-widgets/controls",
       "_model_module_version": "1.5.0",
       "_model_name": "ProgressStyleModel",
       "_view_count": null,
       "_view_module": "@jupyter-widgets/base",
       "_view_module_version": "1.2.0",
       "_view_name": "StyleView",
       "bar_color": null,
       "description_width": ""
      }
     },
     "3984ebd89ea4469e8c5f1f0c7c070025": {
      "model_module": "@jupyter-widgets/controls",
      "model_module_version": "1.5.0",
      "model_name": "HTMLModel",
      "state": {
       "_dom_classes": [],
       "_model_module": "@jupyter-widgets/controls",
       "_model_module_version": "1.5.0",
       "_model_name": "HTMLModel",
       "_view_count": null,
       "_view_module": "@jupyter-widgets/controls",
       "_view_module_version": "1.5.0",
       "_view_name": "HTMLView",
       "description": "",
       "description_tooltip": null,
       "layout": "IPY_MODEL_85811483b4854216baa6416975a0c831",
       "placeholder": "​",
       "style": "IPY_MODEL_b133926c290a4a8cbe57db511c744cae",
       "value": "Прогноз модели номер := 4 по фолдам:: 100%"
      }
     },
     "3b2e94db02944ce5965fff202ce83beb": {
      "model_module": "@jupyter-widgets/base",
      "model_module_version": "1.2.0",
      "model_name": "LayoutModel",
      "state": {
       "_model_module": "@jupyter-widgets/base",
       "_model_module_version": "1.2.0",
       "_model_name": "LayoutModel",
       "_view_count": null,
       "_view_module": "@jupyter-widgets/base",
       "_view_module_version": "1.2.0",
       "_view_name": "LayoutView",
       "align_content": null,
       "align_items": null,
       "align_self": null,
       "border": null,
       "bottom": null,
       "display": null,
       "flex": null,
       "flex_flow": null,
       "grid_area": null,
       "grid_auto_columns": null,
       "grid_auto_flow": null,
       "grid_auto_rows": null,
       "grid_column": null,
       "grid_gap": null,
       "grid_row": null,
       "grid_template_areas": null,
       "grid_template_columns": null,
       "grid_template_rows": null,
       "height": null,
       "justify_content": null,
       "justify_items": null,
       "left": null,
       "margin": null,
       "max_height": null,
       "max_width": null,
       "min_height": null,
       "min_width": null,
       "object_fit": null,
       "object_position": null,
       "order": null,
       "overflow": null,
       "overflow_x": null,
       "overflow_y": null,
       "padding": null,
       "right": null,
       "top": null,
       "visibility": null,
       "width": null
      }
     },
     "3c1539f28e2d433c90399d9dddad6b8f": {
      "model_module": "@jupyter-widgets/controls",
      "model_module_version": "1.5.0",
      "model_name": "ProgressStyleModel",
      "state": {
       "_model_module": "@jupyter-widgets/controls",
       "_model_module_version": "1.5.0",
       "_model_name": "ProgressStyleModel",
       "_view_count": null,
       "_view_module": "@jupyter-widgets/base",
       "_view_module_version": "1.2.0",
       "_view_name": "StyleView",
       "bar_color": null,
       "description_width": ""
      }
     },
     "3d96701123a74031a59aed6254a19025": {
      "model_module": "@jupyter-widgets/controls",
      "model_module_version": "1.5.0",
      "model_name": "ProgressStyleModel",
      "state": {
       "_model_module": "@jupyter-widgets/controls",
       "_model_module_version": "1.5.0",
       "_model_name": "ProgressStyleModel",
       "_view_count": null,
       "_view_module": "@jupyter-widgets/base",
       "_view_module_version": "1.2.0",
       "_view_name": "StyleView",
       "bar_color": null,
       "description_width": ""
      }
     },
     "3e6040fa0dc2466aa5c79200a1253900": {
      "model_module": "@jupyter-widgets/controls",
      "model_module_version": "1.5.0",
      "model_name": "HTMLModel",
      "state": {
       "_dom_classes": [],
       "_model_module": "@jupyter-widgets/controls",
       "_model_module_version": "1.5.0",
       "_model_name": "HTMLModel",
       "_view_count": null,
       "_view_module": "@jupyter-widgets/controls",
       "_view_module_version": "1.5.0",
       "_view_name": "HTMLView",
       "description": "",
       "description_tooltip": null,
       "layout": "IPY_MODEL_eb0b523f140647f68fb117883d0d2d5b",
       "placeholder": "​",
       "style": "IPY_MODEL_96fc54fa7c3e4b55bb8328c080e00c93",
       "value": " 5/5 [01:15&lt;00:00, 15.17s/it]"
      }
     },
     "3fbf0c59bc2f404baccd2acbae1633e3": {
      "model_module": "@jupyter-widgets/controls",
      "model_module_version": "1.5.0",
      "model_name": "DescriptionStyleModel",
      "state": {
       "_model_module": "@jupyter-widgets/controls",
       "_model_module_version": "1.5.0",
       "_model_name": "DescriptionStyleModel",
       "_view_count": null,
       "_view_module": "@jupyter-widgets/base",
       "_view_module_version": "1.2.0",
       "_view_name": "StyleView",
       "description_width": ""
      }
     },
     "49917d2f7a454f36a61e5efef6d179a1": {
      "model_module": "@jupyter-widgets/base",
      "model_module_version": "1.2.0",
      "model_name": "LayoutModel",
      "state": {
       "_model_module": "@jupyter-widgets/base",
       "_model_module_version": "1.2.0",
       "_model_name": "LayoutModel",
       "_view_count": null,
       "_view_module": "@jupyter-widgets/base",
       "_view_module_version": "1.2.0",
       "_view_name": "LayoutView",
       "align_content": null,
       "align_items": null,
       "align_self": null,
       "border": null,
       "bottom": null,
       "display": null,
       "flex": null,
       "flex_flow": null,
       "grid_area": null,
       "grid_auto_columns": null,
       "grid_auto_flow": null,
       "grid_auto_rows": null,
       "grid_column": null,
       "grid_gap": null,
       "grid_row": null,
       "grid_template_areas": null,
       "grid_template_columns": null,
       "grid_template_rows": null,
       "height": null,
       "justify_content": null,
       "justify_items": null,
       "left": null,
       "margin": null,
       "max_height": null,
       "max_width": null,
       "min_height": null,
       "min_width": null,
       "object_fit": null,
       "object_position": null,
       "order": null,
       "overflow": null,
       "overflow_x": null,
       "overflow_y": null,
       "padding": null,
       "right": null,
       "top": null,
       "visibility": null,
       "width": null
      }
     },
     "49fc3a2af3f449e98fac4acc2fdc1597": {
      "model_module": "@jupyter-widgets/base",
      "model_module_version": "1.2.0",
      "model_name": "LayoutModel",
      "state": {
       "_model_module": "@jupyter-widgets/base",
       "_model_module_version": "1.2.0",
       "_model_name": "LayoutModel",
       "_view_count": null,
       "_view_module": "@jupyter-widgets/base",
       "_view_module_version": "1.2.0",
       "_view_name": "LayoutView",
       "align_content": null,
       "align_items": null,
       "align_self": null,
       "border": null,
       "bottom": null,
       "display": null,
       "flex": null,
       "flex_flow": null,
       "grid_area": null,
       "grid_auto_columns": null,
       "grid_auto_flow": null,
       "grid_auto_rows": null,
       "grid_column": null,
       "grid_gap": null,
       "grid_row": null,
       "grid_template_areas": null,
       "grid_template_columns": null,
       "grid_template_rows": null,
       "height": null,
       "justify_content": null,
       "justify_items": null,
       "left": null,
       "margin": null,
       "max_height": null,
       "max_width": null,
       "min_height": null,
       "min_width": null,
       "object_fit": null,
       "object_position": null,
       "order": null,
       "overflow": null,
       "overflow_x": null,
       "overflow_y": null,
       "padding": null,
       "right": null,
       "top": null,
       "visibility": null,
       "width": null
      }
     },
     "4ab79d5ca1ea4d46b4f5db7bb1b5b0d2": {
      "model_module": "@jupyter-widgets/controls",
      "model_module_version": "1.5.0",
      "model_name": "FloatProgressModel",
      "state": {
       "_dom_classes": [],
       "_model_module": "@jupyter-widgets/controls",
       "_model_module_version": "1.5.0",
       "_model_name": "FloatProgressModel",
       "_view_count": null,
       "_view_module": "@jupyter-widgets/controls",
       "_view_module_version": "1.5.0",
       "_view_name": "ProgressView",
       "bar_style": "success",
       "description": "",
       "description_tooltip": null,
       "layout": "IPY_MODEL_dd03224c45fd47cd8eb2efc424dc9f8f",
       "max": 5.0,
       "min": 0.0,
       "orientation": "horizontal",
       "style": "IPY_MODEL_3d96701123a74031a59aed6254a19025",
       "value": 5.0
      }
     },
     "4fcf60c70806481999f21f2740407785": {
      "model_module": "@jupyter-widgets/controls",
      "model_module_version": "1.5.0",
      "model_name": "HTMLModel",
      "state": {
       "_dom_classes": [],
       "_model_module": "@jupyter-widgets/controls",
       "_model_module_version": "1.5.0",
       "_model_name": "HTMLModel",
       "_view_count": null,
       "_view_module": "@jupyter-widgets/controls",
       "_view_module_version": "1.5.0",
       "_view_name": "HTMLView",
       "description": "",
       "description_tooltip": null,
       "layout": "IPY_MODEL_d806c1af18b74bccb9343dbabf279d79",
       "placeholder": "​",
       "style": "IPY_MODEL_df33a42afde942b48af46d84a9ba43d6",
       "value": " 5/5 [00:40&lt;00:00,  7.99s/it]"
      }
     },
     "52c68e44abf64566ac58f055d16beb78": {
      "model_module": "@jupyter-widgets/controls",
      "model_module_version": "1.5.0",
      "model_name": "HTMLModel",
      "state": {
       "_dom_classes": [],
       "_model_module": "@jupyter-widgets/controls",
       "_model_module_version": "1.5.0",
       "_model_name": "HTMLModel",
       "_view_count": null,
       "_view_module": "@jupyter-widgets/controls",
       "_view_module_version": "1.5.0",
       "_view_name": "HTMLView",
       "description": "",
       "description_tooltip": null,
       "layout": "IPY_MODEL_49917d2f7a454f36a61e5efef6d179a1",
       "placeholder": "​",
       "style": "IPY_MODEL_89813d6694ac45728cab38b3fb47a2f0",
       "value": " 5/5 [00:38&lt;00:00,  7.73s/it]"
      }
     },
     "53debd92a9a74e258ec246e1491b985e": {
      "model_module": "@jupyter-widgets/base",
      "model_module_version": "1.2.0",
      "model_name": "LayoutModel",
      "state": {
       "_model_module": "@jupyter-widgets/base",
       "_model_module_version": "1.2.0",
       "_model_name": "LayoutModel",
       "_view_count": null,
       "_view_module": "@jupyter-widgets/base",
       "_view_module_version": "1.2.0",
       "_view_name": "LayoutView",
       "align_content": null,
       "align_items": null,
       "align_self": null,
       "border": null,
       "bottom": null,
       "display": null,
       "flex": null,
       "flex_flow": null,
       "grid_area": null,
       "grid_auto_columns": null,
       "grid_auto_flow": null,
       "grid_auto_rows": null,
       "grid_column": null,
       "grid_gap": null,
       "grid_row": null,
       "grid_template_areas": null,
       "grid_template_columns": null,
       "grid_template_rows": null,
       "height": null,
       "justify_content": null,
       "justify_items": null,
       "left": null,
       "margin": null,
       "max_height": null,
       "max_width": null,
       "min_height": null,
       "min_width": null,
       "object_fit": null,
       "object_position": null,
       "order": null,
       "overflow": null,
       "overflow_x": null,
       "overflow_y": null,
       "padding": null,
       "right": null,
       "top": null,
       "visibility": null,
       "width": null
      }
     },
     "5714c2cf59cd4b409a2ee78484ea2fda": {
      "model_module": "@jupyter-widgets/base",
      "model_module_version": "1.2.0",
      "model_name": "LayoutModel",
      "state": {
       "_model_module": "@jupyter-widgets/base",
       "_model_module_version": "1.2.0",
       "_model_name": "LayoutModel",
       "_view_count": null,
       "_view_module": "@jupyter-widgets/base",
       "_view_module_version": "1.2.0",
       "_view_name": "LayoutView",
       "align_content": null,
       "align_items": null,
       "align_self": null,
       "border": null,
       "bottom": null,
       "display": null,
       "flex": null,
       "flex_flow": null,
       "grid_area": null,
       "grid_auto_columns": null,
       "grid_auto_flow": null,
       "grid_auto_rows": null,
       "grid_column": null,
       "grid_gap": null,
       "grid_row": null,
       "grid_template_areas": null,
       "grid_template_columns": null,
       "grid_template_rows": null,
       "height": null,
       "justify_content": null,
       "justify_items": null,
       "left": null,
       "margin": null,
       "max_height": null,
       "max_width": null,
       "min_height": null,
       "min_width": null,
       "object_fit": null,
       "object_position": null,
       "order": null,
       "overflow": null,
       "overflow_x": null,
       "overflow_y": null,
       "padding": null,
       "right": null,
       "top": null,
       "visibility": null,
       "width": null
      }
     },
     "5b4293cfbd4242f2bb3ba3d0ca2f7e81": {
      "model_module": "@jupyter-widgets/controls",
      "model_module_version": "1.5.0",
      "model_name": "HTMLModel",
      "state": {
       "_dom_classes": [],
       "_model_module": "@jupyter-widgets/controls",
       "_model_module_version": "1.5.0",
       "_model_name": "HTMLModel",
       "_view_count": null,
       "_view_module": "@jupyter-widgets/controls",
       "_view_module_version": "1.5.0",
       "_view_name": "HTMLView",
       "description": "",
       "description_tooltip": null,
       "layout": "IPY_MODEL_53debd92a9a74e258ec246e1491b985e",
       "placeholder": "​",
       "style": "IPY_MODEL_18ee166bac4d42cdb7409110fa84a76d",
       "value": " 5/5 [00:38&lt;00:00,  7.74s/it]"
      }
     },
     "5bbde3071f014cd48d0d9fbc453a27cc": {
      "model_module": "@jupyter-widgets/base",
      "model_module_version": "1.2.0",
      "model_name": "LayoutModel",
      "state": {
       "_model_module": "@jupyter-widgets/base",
       "_model_module_version": "1.2.0",
       "_model_name": "LayoutModel",
       "_view_count": null,
       "_view_module": "@jupyter-widgets/base",
       "_view_module_version": "1.2.0",
       "_view_name": "LayoutView",
       "align_content": null,
       "align_items": null,
       "align_self": null,
       "border": null,
       "bottom": null,
       "display": null,
       "flex": null,
       "flex_flow": null,
       "grid_area": null,
       "grid_auto_columns": null,
       "grid_auto_flow": null,
       "grid_auto_rows": null,
       "grid_column": null,
       "grid_gap": null,
       "grid_row": null,
       "grid_template_areas": null,
       "grid_template_columns": null,
       "grid_template_rows": null,
       "height": null,
       "justify_content": null,
       "justify_items": null,
       "left": null,
       "margin": null,
       "max_height": null,
       "max_width": null,
       "min_height": null,
       "min_width": null,
       "object_fit": null,
       "object_position": null,
       "order": null,
       "overflow": null,
       "overflow_x": null,
       "overflow_y": null,
       "padding": null,
       "right": null,
       "top": null,
       "visibility": null,
       "width": null
      }
     },
     "5f5606d0b17c4d60a4987c3c123aab90": {
      "model_module": "@jupyter-widgets/base",
      "model_module_version": "1.2.0",
      "model_name": "LayoutModel",
      "state": {
       "_model_module": "@jupyter-widgets/base",
       "_model_module_version": "1.2.0",
       "_model_name": "LayoutModel",
       "_view_count": null,
       "_view_module": "@jupyter-widgets/base",
       "_view_module_version": "1.2.0",
       "_view_name": "LayoutView",
       "align_content": null,
       "align_items": null,
       "align_self": null,
       "border": null,
       "bottom": null,
       "display": null,
       "flex": null,
       "flex_flow": null,
       "grid_area": null,
       "grid_auto_columns": null,
       "grid_auto_flow": null,
       "grid_auto_rows": null,
       "grid_column": null,
       "grid_gap": null,
       "grid_row": null,
       "grid_template_areas": null,
       "grid_template_columns": null,
       "grid_template_rows": null,
       "height": null,
       "justify_content": null,
       "justify_items": null,
       "left": null,
       "margin": null,
       "max_height": null,
       "max_width": null,
       "min_height": null,
       "min_width": null,
       "object_fit": null,
       "object_position": null,
       "order": null,
       "overflow": null,
       "overflow_x": null,
       "overflow_y": null,
       "padding": null,
       "right": null,
       "top": null,
       "visibility": null,
       "width": null
      }
     },
     "5f88d5c50166402b95e405c24b947a3a": {
      "model_module": "@jupyter-widgets/base",
      "model_module_version": "1.2.0",
      "model_name": "LayoutModel",
      "state": {
       "_model_module": "@jupyter-widgets/base",
       "_model_module_version": "1.2.0",
       "_model_name": "LayoutModel",
       "_view_count": null,
       "_view_module": "@jupyter-widgets/base",
       "_view_module_version": "1.2.0",
       "_view_name": "LayoutView",
       "align_content": null,
       "align_items": null,
       "align_self": null,
       "border": null,
       "bottom": null,
       "display": null,
       "flex": null,
       "flex_flow": null,
       "grid_area": null,
       "grid_auto_columns": null,
       "grid_auto_flow": null,
       "grid_auto_rows": null,
       "grid_column": null,
       "grid_gap": null,
       "grid_row": null,
       "grid_template_areas": null,
       "grid_template_columns": null,
       "grid_template_rows": null,
       "height": null,
       "justify_content": null,
       "justify_items": null,
       "left": null,
       "margin": null,
       "max_height": null,
       "max_width": null,
       "min_height": null,
       "min_width": null,
       "object_fit": null,
       "object_position": null,
       "order": null,
       "overflow": null,
       "overflow_x": null,
       "overflow_y": null,
       "padding": null,
       "right": null,
       "top": null,
       "visibility": null,
       "width": null
      }
     },
     "6424d4723df04cc180bb0b80dbbe7f4f": {
      "model_module": "@jupyter-widgets/controls",
      "model_module_version": "1.5.0",
      "model_name": "DescriptionStyleModel",
      "state": {
       "_model_module": "@jupyter-widgets/controls",
       "_model_module_version": "1.5.0",
       "_model_name": "DescriptionStyleModel",
       "_view_count": null,
       "_view_module": "@jupyter-widgets/base",
       "_view_module_version": "1.2.0",
       "_view_name": "StyleView",
       "description_width": ""
      }
     },
     "64264ba1c465497b9c0628ca1cac3d10": {
      "model_module": "@jupyter-widgets/base",
      "model_module_version": "1.2.0",
      "model_name": "LayoutModel",
      "state": {
       "_model_module": "@jupyter-widgets/base",
       "_model_module_version": "1.2.0",
       "_model_name": "LayoutModel",
       "_view_count": null,
       "_view_module": "@jupyter-widgets/base",
       "_view_module_version": "1.2.0",
       "_view_name": "LayoutView",
       "align_content": null,
       "align_items": null,
       "align_self": null,
       "border": null,
       "bottom": null,
       "display": null,
       "flex": null,
       "flex_flow": null,
       "grid_area": null,
       "grid_auto_columns": null,
       "grid_auto_flow": null,
       "grid_auto_rows": null,
       "grid_column": null,
       "grid_gap": null,
       "grid_row": null,
       "grid_template_areas": null,
       "grid_template_columns": null,
       "grid_template_rows": null,
       "height": null,
       "justify_content": null,
       "justify_items": null,
       "left": null,
       "margin": null,
       "max_height": null,
       "max_width": null,
       "min_height": null,
       "min_width": null,
       "object_fit": null,
       "object_position": null,
       "order": null,
       "overflow": null,
       "overflow_x": null,
       "overflow_y": null,
       "padding": null,
       "right": null,
       "top": null,
       "visibility": null,
       "width": null
      }
     },
     "66fc0d17a60b4a73adc2c584af5582f5": {
      "model_module": "@jupyter-widgets/controls",
      "model_module_version": "1.5.0",
      "model_name": "HTMLModel",
      "state": {
       "_dom_classes": [],
       "_model_module": "@jupyter-widgets/controls",
       "_model_module_version": "1.5.0",
       "_model_name": "HTMLModel",
       "_view_count": null,
       "_view_module": "@jupyter-widgets/controls",
       "_view_module_version": "1.5.0",
       "_view_name": "HTMLView",
       "description": "",
       "description_tooltip": null,
       "layout": "IPY_MODEL_cc5213b9dcb34876bc2956d6758475a2",
       "placeholder": "​",
       "style": "IPY_MODEL_1fed13172eef4af29ff257086b5ba1f7",
       "value": " 5/5 [01:18&lt;00:00, 15.58s/it]"
      }
     },
     "67696bd367c04b2fa6a7b99d5a7b8bd3": {
      "model_module": "@jupyter-widgets/controls",
      "model_module_version": "1.5.0",
      "model_name": "DescriptionStyleModel",
      "state": {
       "_model_module": "@jupyter-widgets/controls",
       "_model_module_version": "1.5.0",
       "_model_name": "DescriptionStyleModel",
       "_view_count": null,
       "_view_module": "@jupyter-widgets/base",
       "_view_module_version": "1.2.0",
       "_view_name": "StyleView",
       "description_width": ""
      }
     },
     "67c949ef5ea94b8da339a876901be2f4": {
      "model_module": "@jupyter-widgets/controls",
      "model_module_version": "1.5.0",
      "model_name": "FloatProgressModel",
      "state": {
       "_dom_classes": [],
       "_model_module": "@jupyter-widgets/controls",
       "_model_module_version": "1.5.0",
       "_model_name": "FloatProgressModel",
       "_view_count": null,
       "_view_module": "@jupyter-widgets/controls",
       "_view_module_version": "1.5.0",
       "_view_name": "ProgressView",
       "bar_style": "success",
       "description": "",
       "description_tooltip": null,
       "layout": "IPY_MODEL_5714c2cf59cd4b409a2ee78484ea2fda",
       "max": 5.0,
       "min": 0.0,
       "orientation": "horizontal",
       "style": "IPY_MODEL_3c1539f28e2d433c90399d9dddad6b8f",
       "value": 5.0
      }
     },
     "6972e800c9c8485c871b63901eb6db21": {
      "model_module": "@jupyter-widgets/controls",
      "model_module_version": "1.5.0",
      "model_name": "ProgressStyleModel",
      "state": {
       "_model_module": "@jupyter-widgets/controls",
       "_model_module_version": "1.5.0",
       "_model_name": "ProgressStyleModel",
       "_view_count": null,
       "_view_module": "@jupyter-widgets/base",
       "_view_module_version": "1.2.0",
       "_view_name": "StyleView",
       "bar_color": null,
       "description_width": ""
      }
     },
     "73262c01ae0f468b906ec7f967f6f41c": {
      "model_module": "@jupyter-widgets/base",
      "model_module_version": "1.2.0",
      "model_name": "LayoutModel",
      "state": {
       "_model_module": "@jupyter-widgets/base",
       "_model_module_version": "1.2.0",
       "_model_name": "LayoutModel",
       "_view_count": null,
       "_view_module": "@jupyter-widgets/base",
       "_view_module_version": "1.2.0",
       "_view_name": "LayoutView",
       "align_content": null,
       "align_items": null,
       "align_self": null,
       "border": null,
       "bottom": null,
       "display": null,
       "flex": null,
       "flex_flow": null,
       "grid_area": null,
       "grid_auto_columns": null,
       "grid_auto_flow": null,
       "grid_auto_rows": null,
       "grid_column": null,
       "grid_gap": null,
       "grid_row": null,
       "grid_template_areas": null,
       "grid_template_columns": null,
       "grid_template_rows": null,
       "height": null,
       "justify_content": null,
       "justify_items": null,
       "left": null,
       "margin": null,
       "max_height": null,
       "max_width": null,
       "min_height": null,
       "min_width": null,
       "object_fit": null,
       "object_position": null,
       "order": null,
       "overflow": null,
       "overflow_x": null,
       "overflow_y": null,
       "padding": null,
       "right": null,
       "top": null,
       "visibility": null,
       "width": null
      }
     },
     "7592c6062fed4c4e8ecd3534c007ad13": {
      "model_module": "@jupyter-widgets/controls",
      "model_module_version": "1.5.0",
      "model_name": "HBoxModel",
      "state": {
       "_dom_classes": [],
       "_model_module": "@jupyter-widgets/controls",
       "_model_module_version": "1.5.0",
       "_model_name": "HBoxModel",
       "_view_count": null,
       "_view_module": "@jupyter-widgets/controls",
       "_view_module_version": "1.5.0",
       "_view_name": "HBoxView",
       "box_style": "",
       "children": [
        "IPY_MODEL_919f011734c4495fb5b927d1aa0b09d6",
        "IPY_MODEL_12c816127b5444d9998fc55b8eedffb0",
        "IPY_MODEL_3e6040fa0dc2466aa5c79200a1253900"
       ],
       "layout": "IPY_MODEL_01a55cf28a184a1483a83b2f7a2ee99e"
      }
     },
     "7a886afb5ce247449cbef99230d629f3": {
      "model_module": "@jupyter-widgets/controls",
      "model_module_version": "1.5.0",
      "model_name": "DescriptionStyleModel",
      "state": {
       "_model_module": "@jupyter-widgets/controls",
       "_model_module_version": "1.5.0",
       "_model_name": "DescriptionStyleModel",
       "_view_count": null,
       "_view_module": "@jupyter-widgets/base",
       "_view_module_version": "1.2.0",
       "_view_name": "StyleView",
       "description_width": ""
      }
     },
     "7c20262201b245e887ccce80911bebd2": {
      "model_module": "@jupyter-widgets/controls",
      "model_module_version": "1.5.0",
      "model_name": "ProgressStyleModel",
      "state": {
       "_model_module": "@jupyter-widgets/controls",
       "_model_module_version": "1.5.0",
       "_model_name": "ProgressStyleModel",
       "_view_count": null,
       "_view_module": "@jupyter-widgets/base",
       "_view_module_version": "1.2.0",
       "_view_name": "StyleView",
       "bar_color": null,
       "description_width": ""
      }
     },
     "7c82f3d147cc43f6ae36c8fb4ab81cbe": {
      "model_module": "@jupyter-widgets/controls",
      "model_module_version": "1.5.0",
      "model_name": "HTMLModel",
      "state": {
       "_dom_classes": [],
       "_model_module": "@jupyter-widgets/controls",
       "_model_module_version": "1.5.0",
       "_model_name": "HTMLModel",
       "_view_count": null,
       "_view_module": "@jupyter-widgets/controls",
       "_view_module_version": "1.5.0",
       "_view_name": "HTMLView",
       "description": "",
       "description_tooltip": null,
       "layout": "IPY_MODEL_5f5606d0b17c4d60a4987c3c123aab90",
       "placeholder": "​",
       "style": "IPY_MODEL_fcb3fda2d6864a8b9035c354896933dd",
       "value": "Прогноз модели номер := 3 по фолдам:: 100%"
      }
     },
     "7f9662d993ba4b05a1504158298ce995": {
      "model_module": "@jupyter-widgets/base",
      "model_module_version": "1.2.0",
      "model_name": "LayoutModel",
      "state": {
       "_model_module": "@jupyter-widgets/base",
       "_model_module_version": "1.2.0",
       "_model_name": "LayoutModel",
       "_view_count": null,
       "_view_module": "@jupyter-widgets/base",
       "_view_module_version": "1.2.0",
       "_view_name": "LayoutView",
       "align_content": null,
       "align_items": null,
       "align_self": null,
       "border": null,
       "bottom": null,
       "display": null,
       "flex": null,
       "flex_flow": null,
       "grid_area": null,
       "grid_auto_columns": null,
       "grid_auto_flow": null,
       "grid_auto_rows": null,
       "grid_column": null,
       "grid_gap": null,
       "grid_row": null,
       "grid_template_areas": null,
       "grid_template_columns": null,
       "grid_template_rows": null,
       "height": null,
       "justify_content": null,
       "justify_items": null,
       "left": null,
       "margin": null,
       "max_height": null,
       "max_width": null,
       "min_height": null,
       "min_width": null,
       "object_fit": null,
       "object_position": null,
       "order": null,
       "overflow": null,
       "overflow_x": null,
       "overflow_y": null,
       "padding": null,
       "right": null,
       "top": null,
       "visibility": null,
       "width": null
      }
     },
     "8244984992144e6abf3e8a2a13dd9be8": {
      "model_module": "@jupyter-widgets/controls",
      "model_module_version": "1.5.0",
      "model_name": "HTMLModel",
      "state": {
       "_dom_classes": [],
       "_model_module": "@jupyter-widgets/controls",
       "_model_module_version": "1.5.0",
       "_model_name": "HTMLModel",
       "_view_count": null,
       "_view_module": "@jupyter-widgets/controls",
       "_view_module_version": "1.5.0",
       "_view_name": "HTMLView",
       "description": "",
       "description_tooltip": null,
       "layout": "IPY_MODEL_3662bc2bbc4a46b8992a0673a7ff6907",
       "placeholder": "​",
       "style": "IPY_MODEL_05269660c174459f886c0c3b633d0594",
       "value": " 5/5 [00:38&lt;00:00,  7.71s/it]"
      }
     },
     "85811483b4854216baa6416975a0c831": {
      "model_module": "@jupyter-widgets/base",
      "model_module_version": "1.2.0",
      "model_name": "LayoutModel",
      "state": {
       "_model_module": "@jupyter-widgets/base",
       "_model_module_version": "1.2.0",
       "_model_name": "LayoutModel",
       "_view_count": null,
       "_view_module": "@jupyter-widgets/base",
       "_view_module_version": "1.2.0",
       "_view_name": "LayoutView",
       "align_content": null,
       "align_items": null,
       "align_self": null,
       "border": null,
       "bottom": null,
       "display": null,
       "flex": null,
       "flex_flow": null,
       "grid_area": null,
       "grid_auto_columns": null,
       "grid_auto_flow": null,
       "grid_auto_rows": null,
       "grid_column": null,
       "grid_gap": null,
       "grid_row": null,
       "grid_template_areas": null,
       "grid_template_columns": null,
       "grid_template_rows": null,
       "height": null,
       "justify_content": null,
       "justify_items": null,
       "left": null,
       "margin": null,
       "max_height": null,
       "max_width": null,
       "min_height": null,
       "min_width": null,
       "object_fit": null,
       "object_position": null,
       "order": null,
       "overflow": null,
       "overflow_x": null,
       "overflow_y": null,
       "padding": null,
       "right": null,
       "top": null,
       "visibility": null,
       "width": null
      }
     },
     "872e5a1b69424015a06b93192262e967": {
      "model_module": "@jupyter-widgets/controls",
      "model_module_version": "1.5.0",
      "model_name": "HTMLModel",
      "state": {
       "_dom_classes": [],
       "_model_module": "@jupyter-widgets/controls",
       "_model_module_version": "1.5.0",
       "_model_name": "HTMLModel",
       "_view_count": null,
       "_view_module": "@jupyter-widgets/controls",
       "_view_module_version": "1.5.0",
       "_view_name": "HTMLView",
       "description": "",
       "description_tooltip": null,
       "layout": "IPY_MODEL_9398310a23e74584a0af8cbc92151dce",
       "placeholder": "​",
       "style": "IPY_MODEL_b40c342e6e664b4fa7c5de29f5631b78",
       "value": "Прогноз по модели обученной на 5 фолдах:: 100%"
      }
     },
     "87a6e37bfec44a6b9e42e8bad40fae63": {
      "model_module": "@jupyter-widgets/controls",
      "model_module_version": "1.5.0",
      "model_name": "HBoxModel",
      "state": {
       "_dom_classes": [],
       "_model_module": "@jupyter-widgets/controls",
       "_model_module_version": "1.5.0",
       "_model_name": "HBoxModel",
       "_view_count": null,
       "_view_module": "@jupyter-widgets/controls",
       "_view_module_version": "1.5.0",
       "_view_name": "HBoxView",
       "box_style": "",
       "children": [
        "IPY_MODEL_3984ebd89ea4469e8c5f1f0c7c070025",
        "IPY_MODEL_4ab79d5ca1ea4d46b4f5db7bb1b5b0d2",
        "IPY_MODEL_5b4293cfbd4242f2bb3ba3d0ca2f7e81"
       ],
       "layout": "IPY_MODEL_0f943985868f422988476762a5a0c506"
      }
     },
     "880dd2fd1481409bb107e9c71afd272d": {
      "model_module": "@jupyter-widgets/controls",
      "model_module_version": "1.5.0",
      "model_name": "FloatProgressModel",
      "state": {
       "_dom_classes": [],
       "_model_module": "@jupyter-widgets/controls",
       "_model_module_version": "1.5.0",
       "_model_name": "FloatProgressModel",
       "_view_count": null,
       "_view_module": "@jupyter-widgets/controls",
       "_view_module_version": "1.5.0",
       "_view_name": "ProgressView",
       "bar_style": "success",
       "description": "",
       "description_tooltip": null,
       "layout": "IPY_MODEL_5bbde3071f014cd48d0d9fbc453a27cc",
       "max": 5.0,
       "min": 0.0,
       "orientation": "horizontal",
       "style": "IPY_MODEL_9b592e08862548d8958780a520ad8ace",
       "value": 5.0
      }
     },
     "89813d6694ac45728cab38b3fb47a2f0": {
      "model_module": "@jupyter-widgets/controls",
      "model_module_version": "1.5.0",
      "model_name": "DescriptionStyleModel",
      "state": {
       "_model_module": "@jupyter-widgets/controls",
       "_model_module_version": "1.5.0",
       "_model_name": "DescriptionStyleModel",
       "_view_count": null,
       "_view_module": "@jupyter-widgets/base",
       "_view_module_version": "1.2.0",
       "_view_name": "StyleView",
       "description_width": ""
      }
     },
     "919f011734c4495fb5b927d1aa0b09d6": {
      "model_module": "@jupyter-widgets/controls",
      "model_module_version": "1.5.0",
      "model_name": "HTMLModel",
      "state": {
       "_dom_classes": [],
       "_model_module": "@jupyter-widgets/controls",
       "_model_module_version": "1.5.0",
       "_model_name": "HTMLModel",
       "_view_count": null,
       "_view_module": "@jupyter-widgets/controls",
       "_view_module_version": "1.5.0",
       "_view_name": "HTMLView",
       "description": "",
       "description_tooltip": null,
       "layout": "IPY_MODEL_64264ba1c465497b9c0628ca1cac3d10",
       "placeholder": "​",
       "style": "IPY_MODEL_f0c24cef644f45ac82177658df4a3fb5",
       "value": "Прогноз по модели обученной на 5 фолдах:: 100%"
      }
     },
     "9398310a23e74584a0af8cbc92151dce": {
      "model_module": "@jupyter-widgets/base",
      "model_module_version": "1.2.0",
      "model_name": "LayoutModel",
      "state": {
       "_model_module": "@jupyter-widgets/base",
       "_model_module_version": "1.2.0",
       "_model_name": "LayoutModel",
       "_view_count": null,
       "_view_module": "@jupyter-widgets/base",
       "_view_module_version": "1.2.0",
       "_view_name": "LayoutView",
       "align_content": null,
       "align_items": null,
       "align_self": null,
       "border": null,
       "bottom": null,
       "display": null,
       "flex": null,
       "flex_flow": null,
       "grid_area": null,
       "grid_auto_columns": null,
       "grid_auto_flow": null,
       "grid_auto_rows": null,
       "grid_column": null,
       "grid_gap": null,
       "grid_row": null,
       "grid_template_areas": null,
       "grid_template_columns": null,
       "grid_template_rows": null,
       "height": null,
       "justify_content": null,
       "justify_items": null,
       "left": null,
       "margin": null,
       "max_height": null,
       "max_width": null,
       "min_height": null,
       "min_width": null,
       "object_fit": null,
       "object_position": null,
       "order": null,
       "overflow": null,
       "overflow_x": null,
       "overflow_y": null,
       "padding": null,
       "right": null,
       "top": null,
       "visibility": null,
       "width": null
      }
     },
     "945fed5e5ce243f285d56536daa183ce": {
      "model_module": "@jupyter-widgets/controls",
      "model_module_version": "1.5.0",
      "model_name": "HBoxModel",
      "state": {
       "_dom_classes": [],
       "_model_module": "@jupyter-widgets/controls",
       "_model_module_version": "1.5.0",
       "_model_name": "HBoxModel",
       "_view_count": null,
       "_view_module": "@jupyter-widgets/controls",
       "_view_module_version": "1.5.0",
       "_view_name": "HBoxView",
       "box_style": "",
       "children": [
        "IPY_MODEL_b02780f7d7b2420ebea77eb52ab5d455",
        "IPY_MODEL_dc968fd323f040c18b08f4fad5d05650",
        "IPY_MODEL_52c68e44abf64566ac58f055d16beb78"
       ],
       "layout": "IPY_MODEL_ccfe4eabcacd4af8b875108c226ace97"
      }
     },
     "96fc54fa7c3e4b55bb8328c080e00c93": {
      "model_module": "@jupyter-widgets/controls",
      "model_module_version": "1.5.0",
      "model_name": "DescriptionStyleModel",
      "state": {
       "_model_module": "@jupyter-widgets/controls",
       "_model_module_version": "1.5.0",
       "_model_name": "DescriptionStyleModel",
       "_view_count": null,
       "_view_module": "@jupyter-widgets/base",
       "_view_module_version": "1.2.0",
       "_view_name": "StyleView",
       "description_width": ""
      }
     },
     "9b592e08862548d8958780a520ad8ace": {
      "model_module": "@jupyter-widgets/controls",
      "model_module_version": "1.5.0",
      "model_name": "ProgressStyleModel",
      "state": {
       "_model_module": "@jupyter-widgets/controls",
       "_model_module_version": "1.5.0",
       "_model_name": "ProgressStyleModel",
       "_view_count": null,
       "_view_module": "@jupyter-widgets/base",
       "_view_module_version": "1.2.0",
       "_view_name": "StyleView",
       "bar_color": null,
       "description_width": ""
      }
     },
     "a643a795c39c4c25b9fef3b8cd1a5a23": {
      "model_module": "@jupyter-widgets/controls",
      "model_module_version": "1.5.0",
      "model_name": "HBoxModel",
      "state": {
       "_dom_classes": [],
       "_model_module": "@jupyter-widgets/controls",
       "_model_module_version": "1.5.0",
       "_model_name": "HBoxModel",
       "_view_count": null,
       "_view_module": "@jupyter-widgets/controls",
       "_view_module_version": "1.5.0",
       "_view_name": "HBoxView",
       "box_style": "",
       "children": [
        "IPY_MODEL_09e3a169899a4108a6824f30c7d064ab",
        "IPY_MODEL_67c949ef5ea94b8da339a876901be2f4",
        "IPY_MODEL_e81269e7cc85411b9cfaf9ec6e1db969"
       ],
       "layout": "IPY_MODEL_b145b4adeb044126a63e7aadb9b0419e"
      }
     },
     "a7b4e2714ee4486e97babf302cce3760": {
      "model_module": "@jupyter-widgets/controls",
      "model_module_version": "1.5.0",
      "model_name": "HBoxModel",
      "state": {
       "_dom_classes": [],
       "_model_module": "@jupyter-widgets/controls",
       "_model_module_version": "1.5.0",
       "_model_name": "HBoxModel",
       "_view_count": null,
       "_view_module": "@jupyter-widgets/controls",
       "_view_module_version": "1.5.0",
       "_view_name": "HBoxView",
       "box_style": "",
       "children": [
        "IPY_MODEL_7c82f3d147cc43f6ae36c8fb4ab81cbe",
        "IPY_MODEL_170fd07d03d64cbc863798cb6a61836e",
        "IPY_MODEL_8244984992144e6abf3e8a2a13dd9be8"
       ],
       "layout": "IPY_MODEL_1acce991dccd412888ae7ad6ee044b7d"
      }
     },
     "a8f0d3d88ccc4de29e2c7652165dc32f": {
      "model_module": "@jupyter-widgets/controls",
      "model_module_version": "1.5.0",
      "model_name": "HBoxModel",
      "state": {
       "_dom_classes": [],
       "_model_module": "@jupyter-widgets/controls",
       "_model_module_version": "1.5.0",
       "_model_name": "HBoxModel",
       "_view_count": null,
       "_view_module": "@jupyter-widgets/controls",
       "_view_module_version": "1.5.0",
       "_view_name": "HBoxView",
       "box_style": "",
       "children": [
        "IPY_MODEL_c8a4835558fc42b698f3156bcac83604",
        "IPY_MODEL_880dd2fd1481409bb107e9c71afd272d",
        "IPY_MODEL_66fc0d17a60b4a73adc2c584af5582f5"
       ],
       "layout": "IPY_MODEL_f88a10b320c04174bbdea50584b2a5f7"
      }
     },
     "b02780f7d7b2420ebea77eb52ab5d455": {
      "model_module": "@jupyter-widgets/controls",
      "model_module_version": "1.5.0",
      "model_name": "HTMLModel",
      "state": {
       "_dom_classes": [],
       "_model_module": "@jupyter-widgets/controls",
       "_model_module_version": "1.5.0",
       "_model_name": "HTMLModel",
       "_view_count": null,
       "_view_module": "@jupyter-widgets/controls",
       "_view_module_version": "1.5.0",
       "_view_name": "HTMLView",
       "description": "",
       "description_tooltip": null,
       "layout": "IPY_MODEL_12888d16294f4f97925a777a1a3ba838",
       "placeholder": "​",
       "style": "IPY_MODEL_3fbf0c59bc2f404baccd2acbae1633e3",
       "value": "Прогноз модели номер := 2 по фолдам:: 100%"
      }
     },
     "b133926c290a4a8cbe57db511c744cae": {
      "model_module": "@jupyter-widgets/controls",
      "model_module_version": "1.5.0",
      "model_name": "DescriptionStyleModel",
      "state": {
       "_model_module": "@jupyter-widgets/controls",
       "_model_module_version": "1.5.0",
       "_model_name": "DescriptionStyleModel",
       "_view_count": null,
       "_view_module": "@jupyter-widgets/base",
       "_view_module_version": "1.2.0",
       "_view_name": "StyleView",
       "description_width": ""
      }
     },
     "b145b4adeb044126a63e7aadb9b0419e": {
      "model_module": "@jupyter-widgets/base",
      "model_module_version": "1.2.0",
      "model_name": "LayoutModel",
      "state": {
       "_model_module": "@jupyter-widgets/base",
       "_model_module_version": "1.2.0",
       "_model_name": "LayoutModel",
       "_view_count": null,
       "_view_module": "@jupyter-widgets/base",
       "_view_module_version": "1.2.0",
       "_view_name": "LayoutView",
       "align_content": null,
       "align_items": null,
       "align_self": null,
       "border": null,
       "bottom": null,
       "display": null,
       "flex": null,
       "flex_flow": null,
       "grid_area": null,
       "grid_auto_columns": null,
       "grid_auto_flow": null,
       "grid_auto_rows": null,
       "grid_column": null,
       "grid_gap": null,
       "grid_row": null,
       "grid_template_areas": null,
       "grid_template_columns": null,
       "grid_template_rows": null,
       "height": null,
       "justify_content": null,
       "justify_items": null,
       "left": null,
       "margin": null,
       "max_height": null,
       "max_width": null,
       "min_height": null,
       "min_width": null,
       "object_fit": null,
       "object_position": null,
       "order": null,
       "overflow": null,
       "overflow_x": null,
       "overflow_y": null,
       "padding": null,
       "right": null,
       "top": null,
       "visibility": null,
       "width": null
      }
     },
     "b40c342e6e664b4fa7c5de29f5631b78": {
      "model_module": "@jupyter-widgets/controls",
      "model_module_version": "1.5.0",
      "model_name": "DescriptionStyleModel",
      "state": {
       "_model_module": "@jupyter-widgets/controls",
       "_model_module_version": "1.5.0",
       "_model_name": "DescriptionStyleModel",
       "_view_count": null,
       "_view_module": "@jupyter-widgets/base",
       "_view_module_version": "1.2.0",
       "_view_name": "StyleView",
       "description_width": ""
      }
     },
     "bf3fafde276a420a8a5e12571c21cb28": {
      "model_module": "@jupyter-widgets/controls",
      "model_module_version": "1.5.0",
      "model_name": "HBoxModel",
      "state": {
       "_dom_classes": [],
       "_model_module": "@jupyter-widgets/controls",
       "_model_module_version": "1.5.0",
       "_model_name": "HBoxModel",
       "_view_count": null,
       "_view_module": "@jupyter-widgets/controls",
       "_view_module_version": "1.5.0",
       "_view_name": "HBoxView",
       "box_style": "",
       "children": [
        "IPY_MODEL_872e5a1b69424015a06b93192262e967",
        "IPY_MODEL_17f2caef338845ad80ed17b72e97c503",
        "IPY_MODEL_ff41b49ccef547c899b02a5246714632"
       ],
       "layout": "IPY_MODEL_c1485d3e73264462aee72685ce105b47"
      }
     },
     "c1485d3e73264462aee72685ce105b47": {
      "model_module": "@jupyter-widgets/base",
      "model_module_version": "1.2.0",
      "model_name": "LayoutModel",
      "state": {
       "_model_module": "@jupyter-widgets/base",
       "_model_module_version": "1.2.0",
       "_model_name": "LayoutModel",
       "_view_count": null,
       "_view_module": "@jupyter-widgets/base",
       "_view_module_version": "1.2.0",
       "_view_name": "LayoutView",
       "align_content": null,
       "align_items": null,
       "align_self": null,
       "border": null,
       "bottom": null,
       "display": null,
       "flex": null,
       "flex_flow": null,
       "grid_area": null,
       "grid_auto_columns": null,
       "grid_auto_flow": null,
       "grid_auto_rows": null,
       "grid_column": null,
       "grid_gap": null,
       "grid_row": null,
       "grid_template_areas": null,
       "grid_template_columns": null,
       "grid_template_rows": null,
       "height": null,
       "justify_content": null,
       "justify_items": null,
       "left": null,
       "margin": null,
       "max_height": null,
       "max_width": null,
       "min_height": null,
       "min_width": null,
       "object_fit": null,
       "object_position": null,
       "order": null,
       "overflow": null,
       "overflow_x": null,
       "overflow_y": null,
       "padding": null,
       "right": null,
       "top": null,
       "visibility": null,
       "width": null
      }
     },
     "c8a4835558fc42b698f3156bcac83604": {
      "model_module": "@jupyter-widgets/controls",
      "model_module_version": "1.5.0",
      "model_name": "HTMLModel",
      "state": {
       "_dom_classes": [],
       "_model_module": "@jupyter-widgets/controls",
       "_model_module_version": "1.5.0",
       "_model_name": "HTMLModel",
       "_view_count": null,
       "_view_module": "@jupyter-widgets/controls",
       "_view_module_version": "1.5.0",
       "_view_name": "HTMLView",
       "description": "",
       "description_tooltip": null,
       "layout": "IPY_MODEL_7f9662d993ba4b05a1504158298ce995",
       "placeholder": "​",
       "style": "IPY_MODEL_67696bd367c04b2fa6a7b99d5a7b8bd3",
       "value": "Прогноз по модели обученной на 5 фолдах:: 100%"
      }
     },
     "cc5213b9dcb34876bc2956d6758475a2": {
      "model_module": "@jupyter-widgets/base",
      "model_module_version": "1.2.0",
      "model_name": "LayoutModel",
      "state": {
       "_model_module": "@jupyter-widgets/base",
       "_model_module_version": "1.2.0",
       "_model_name": "LayoutModel",
       "_view_count": null,
       "_view_module": "@jupyter-widgets/base",
       "_view_module_version": "1.2.0",
       "_view_name": "LayoutView",
       "align_content": null,
       "align_items": null,
       "align_self": null,
       "border": null,
       "bottom": null,
       "display": null,
       "flex": null,
       "flex_flow": null,
       "grid_area": null,
       "grid_auto_columns": null,
       "grid_auto_flow": null,
       "grid_auto_rows": null,
       "grid_column": null,
       "grid_gap": null,
       "grid_row": null,
       "grid_template_areas": null,
       "grid_template_columns": null,
       "grid_template_rows": null,
       "height": null,
       "justify_content": null,
       "justify_items": null,
       "left": null,
       "margin": null,
       "max_height": null,
       "max_width": null,
       "min_height": null,
       "min_width": null,
       "object_fit": null,
       "object_position": null,
       "order": null,
       "overflow": null,
       "overflow_x": null,
       "overflow_y": null,
       "padding": null,
       "right": null,
       "top": null,
       "visibility": null,
       "width": null
      }
     },
     "ccfe4eabcacd4af8b875108c226ace97": {
      "model_module": "@jupyter-widgets/base",
      "model_module_version": "1.2.0",
      "model_name": "LayoutModel",
      "state": {
       "_model_module": "@jupyter-widgets/base",
       "_model_module_version": "1.2.0",
       "_model_name": "LayoutModel",
       "_view_count": null,
       "_view_module": "@jupyter-widgets/base",
       "_view_module_version": "1.2.0",
       "_view_name": "LayoutView",
       "align_content": null,
       "align_items": null,
       "align_self": null,
       "border": null,
       "bottom": null,
       "display": null,
       "flex": null,
       "flex_flow": null,
       "grid_area": null,
       "grid_auto_columns": null,
       "grid_auto_flow": null,
       "grid_auto_rows": null,
       "grid_column": null,
       "grid_gap": null,
       "grid_row": null,
       "grid_template_areas": null,
       "grid_template_columns": null,
       "grid_template_rows": null,
       "height": null,
       "justify_content": null,
       "justify_items": null,
       "left": null,
       "margin": null,
       "max_height": null,
       "max_width": null,
       "min_height": null,
       "min_width": null,
       "object_fit": null,
       "object_position": null,
       "order": null,
       "overflow": null,
       "overflow_x": null,
       "overflow_y": null,
       "padding": null,
       "right": null,
       "top": null,
       "visibility": null,
       "width": null
      }
     },
     "d11cdb41efd545e587c97efa2f132454": {
      "model_module": "@jupyter-widgets/controls",
      "model_module_version": "1.5.0",
      "model_name": "DescriptionStyleModel",
      "state": {
       "_model_module": "@jupyter-widgets/controls",
       "_model_module_version": "1.5.0",
       "_model_name": "DescriptionStyleModel",
       "_view_count": null,
       "_view_module": "@jupyter-widgets/base",
       "_view_module_version": "1.2.0",
       "_view_name": "StyleView",
       "description_width": ""
      }
     },
     "d31947c7b18f4c048180272db40e3b13": {
      "model_module": "@jupyter-widgets/base",
      "model_module_version": "1.2.0",
      "model_name": "LayoutModel",
      "state": {
       "_model_module": "@jupyter-widgets/base",
       "_model_module_version": "1.2.0",
       "_model_name": "LayoutModel",
       "_view_count": null,
       "_view_module": "@jupyter-widgets/base",
       "_view_module_version": "1.2.0",
       "_view_name": "LayoutView",
       "align_content": null,
       "align_items": null,
       "align_self": null,
       "border": null,
       "bottom": null,
       "display": null,
       "flex": null,
       "flex_flow": null,
       "grid_area": null,
       "grid_auto_columns": null,
       "grid_auto_flow": null,
       "grid_auto_rows": null,
       "grid_column": null,
       "grid_gap": null,
       "grid_row": null,
       "grid_template_areas": null,
       "grid_template_columns": null,
       "grid_template_rows": null,
       "height": null,
       "justify_content": null,
       "justify_items": null,
       "left": null,
       "margin": null,
       "max_height": null,
       "max_width": null,
       "min_height": null,
       "min_width": null,
       "object_fit": null,
       "object_position": null,
       "order": null,
       "overflow": null,
       "overflow_x": null,
       "overflow_y": null,
       "padding": null,
       "right": null,
       "top": null,
       "visibility": null,
       "width": null
      }
     },
     "d806c1af18b74bccb9343dbabf279d79": {
      "model_module": "@jupyter-widgets/base",
      "model_module_version": "1.2.0",
      "model_name": "LayoutModel",
      "state": {
       "_model_module": "@jupyter-widgets/base",
       "_model_module_version": "1.2.0",
       "_model_name": "LayoutModel",
       "_view_count": null,
       "_view_module": "@jupyter-widgets/base",
       "_view_module_version": "1.2.0",
       "_view_name": "LayoutView",
       "align_content": null,
       "align_items": null,
       "align_self": null,
       "border": null,
       "bottom": null,
       "display": null,
       "flex": null,
       "flex_flow": null,
       "grid_area": null,
       "grid_auto_columns": null,
       "grid_auto_flow": null,
       "grid_auto_rows": null,
       "grid_column": null,
       "grid_gap": null,
       "grid_row": null,
       "grid_template_areas": null,
       "grid_template_columns": null,
       "grid_template_rows": null,
       "height": null,
       "justify_content": null,
       "justify_items": null,
       "left": null,
       "margin": null,
       "max_height": null,
       "max_width": null,
       "min_height": null,
       "min_width": null,
       "object_fit": null,
       "object_position": null,
       "order": null,
       "overflow": null,
       "overflow_x": null,
       "overflow_y": null,
       "padding": null,
       "right": null,
       "top": null,
       "visibility": null,
       "width": null
      }
     },
     "dc968fd323f040c18b08f4fad5d05650": {
      "model_module": "@jupyter-widgets/controls",
      "model_module_version": "1.5.0",
      "model_name": "FloatProgressModel",
      "state": {
       "_dom_classes": [],
       "_model_module": "@jupyter-widgets/controls",
       "_model_module_version": "1.5.0",
       "_model_name": "FloatProgressModel",
       "_view_count": null,
       "_view_module": "@jupyter-widgets/controls",
       "_view_module_version": "1.5.0",
       "_view_name": "ProgressView",
       "bar_style": "success",
       "description": "",
       "description_tooltip": null,
       "layout": "IPY_MODEL_3b2e94db02944ce5965fff202ce83beb",
       "max": 5.0,
       "min": 0.0,
       "orientation": "horizontal",
       "style": "IPY_MODEL_3574fc9b0217433c8d579c4c450fb2a5",
       "value": 5.0
      }
     },
     "dd03224c45fd47cd8eb2efc424dc9f8f": {
      "model_module": "@jupyter-widgets/base",
      "model_module_version": "1.2.0",
      "model_name": "LayoutModel",
      "state": {
       "_model_module": "@jupyter-widgets/base",
       "_model_module_version": "1.2.0",
       "_model_name": "LayoutModel",
       "_view_count": null,
       "_view_module": "@jupyter-widgets/base",
       "_view_module_version": "1.2.0",
       "_view_name": "LayoutView",
       "align_content": null,
       "align_items": null,
       "align_self": null,
       "border": null,
       "bottom": null,
       "display": null,
       "flex": null,
       "flex_flow": null,
       "grid_area": null,
       "grid_auto_columns": null,
       "grid_auto_flow": null,
       "grid_auto_rows": null,
       "grid_column": null,
       "grid_gap": null,
       "grid_row": null,
       "grid_template_areas": null,
       "grid_template_columns": null,
       "grid_template_rows": null,
       "height": null,
       "justify_content": null,
       "justify_items": null,
       "left": null,
       "margin": null,
       "max_height": null,
       "max_width": null,
       "min_height": null,
       "min_width": null,
       "object_fit": null,
       "object_position": null,
       "order": null,
       "overflow": null,
       "overflow_x": null,
       "overflow_y": null,
       "padding": null,
       "right": null,
       "top": null,
       "visibility": null,
       "width": null
      }
     },
     "de91bee9e4284d2680baf70b3b147da6": {
      "model_module": "@jupyter-widgets/controls",
      "model_module_version": "1.5.0",
      "model_name": "HBoxModel",
      "state": {
       "_dom_classes": [],
       "_model_module": "@jupyter-widgets/controls",
       "_model_module_version": "1.5.0",
       "_model_name": "HBoxModel",
       "_view_count": null,
       "_view_module": "@jupyter-widgets/controls",
       "_view_module_version": "1.5.0",
       "_view_name": "HBoxView",
       "box_style": "",
       "children": [
        "IPY_MODEL_32020fc9574e422094dc9cc85d29cc19",
        "IPY_MODEL_ff73081d0c7a4ef2b302a9480dc7e3c9",
        "IPY_MODEL_4fcf60c70806481999f21f2740407785"
       ],
       "layout": "IPY_MODEL_16ea09cf8cc942408b99b107073fe618"
      }
     },
     "df33a42afde942b48af46d84a9ba43d6": {
      "model_module": "@jupyter-widgets/controls",
      "model_module_version": "1.5.0",
      "model_name": "DescriptionStyleModel",
      "state": {
       "_model_module": "@jupyter-widgets/controls",
       "_model_module_version": "1.5.0",
       "_model_name": "DescriptionStyleModel",
       "_view_count": null,
       "_view_module": "@jupyter-widgets/base",
       "_view_module_version": "1.2.0",
       "_view_name": "StyleView",
       "description_width": ""
      }
     },
     "e5ebf3b38ddd4c3db8a4e9e28257c809": {
      "model_module": "@jupyter-widgets/base",
      "model_module_version": "1.2.0",
      "model_name": "LayoutModel",
      "state": {
       "_model_module": "@jupyter-widgets/base",
       "_model_module_version": "1.2.0",
       "_model_name": "LayoutModel",
       "_view_count": null,
       "_view_module": "@jupyter-widgets/base",
       "_view_module_version": "1.2.0",
       "_view_name": "LayoutView",
       "align_content": null,
       "align_items": null,
       "align_self": null,
       "border": null,
       "bottom": null,
       "display": null,
       "flex": null,
       "flex_flow": null,
       "grid_area": null,
       "grid_auto_columns": null,
       "grid_auto_flow": null,
       "grid_auto_rows": null,
       "grid_column": null,
       "grid_gap": null,
       "grid_row": null,
       "grid_template_areas": null,
       "grid_template_columns": null,
       "grid_template_rows": null,
       "height": null,
       "justify_content": null,
       "justify_items": null,
       "left": null,
       "margin": null,
       "max_height": null,
       "max_width": null,
       "min_height": null,
       "min_width": null,
       "object_fit": null,
       "object_position": null,
       "order": null,
       "overflow": null,
       "overflow_x": null,
       "overflow_y": null,
       "padding": null,
       "right": null,
       "top": null,
       "visibility": null,
       "width": null
      }
     },
     "e81269e7cc85411b9cfaf9ec6e1db969": {
      "model_module": "@jupyter-widgets/controls",
      "model_module_version": "1.5.0",
      "model_name": "HTMLModel",
      "state": {
       "_dom_classes": [],
       "_model_module": "@jupyter-widgets/controls",
       "_model_module_version": "1.5.0",
       "_model_name": "HTMLModel",
       "_view_count": null,
       "_view_module": "@jupyter-widgets/controls",
       "_view_module_version": "1.5.0",
       "_view_name": "HTMLView",
       "description": "",
       "description_tooltip": null,
       "layout": "IPY_MODEL_30b691e857c4476cb366c5c90f509526",
       "placeholder": "​",
       "style": "IPY_MODEL_d11cdb41efd545e587c97efa2f132454",
       "value": " 5/5 [01:15&lt;00:00, 15.26s/it]"
      }
     },
     "eb0b523f140647f68fb117883d0d2d5b": {
      "model_module": "@jupyter-widgets/base",
      "model_module_version": "1.2.0",
      "model_name": "LayoutModel",
      "state": {
       "_model_module": "@jupyter-widgets/base",
       "_model_module_version": "1.2.0",
       "_model_name": "LayoutModel",
       "_view_count": null,
       "_view_module": "@jupyter-widgets/base",
       "_view_module_version": "1.2.0",
       "_view_name": "LayoutView",
       "align_content": null,
       "align_items": null,
       "align_self": null,
       "border": null,
       "bottom": null,
       "display": null,
       "flex": null,
       "flex_flow": null,
       "grid_area": null,
       "grid_auto_columns": null,
       "grid_auto_flow": null,
       "grid_auto_rows": null,
       "grid_column": null,
       "grid_gap": null,
       "grid_row": null,
       "grid_template_areas": null,
       "grid_template_columns": null,
       "grid_template_rows": null,
       "height": null,
       "justify_content": null,
       "justify_items": null,
       "left": null,
       "margin": null,
       "max_height": null,
       "max_width": null,
       "min_height": null,
       "min_width": null,
       "object_fit": null,
       "object_position": null,
       "order": null,
       "overflow": null,
       "overflow_x": null,
       "overflow_y": null,
       "padding": null,
       "right": null,
       "top": null,
       "visibility": null,
       "width": null
      }
     },
     "f0c24cef644f45ac82177658df4a3fb5": {
      "model_module": "@jupyter-widgets/controls",
      "model_module_version": "1.5.0",
      "model_name": "DescriptionStyleModel",
      "state": {
       "_model_module": "@jupyter-widgets/controls",
       "_model_module_version": "1.5.0",
       "_model_name": "DescriptionStyleModel",
       "_view_count": null,
       "_view_module": "@jupyter-widgets/base",
       "_view_module_version": "1.2.0",
       "_view_name": "StyleView",
       "description_width": ""
      }
     },
     "f6eb0f02404a45a7afee4d6dc4f1c966": {
      "model_module": "@jupyter-widgets/controls",
      "model_module_version": "1.5.0",
      "model_name": "DescriptionStyleModel",
      "state": {
       "_model_module": "@jupyter-widgets/controls",
       "_model_module_version": "1.5.0",
       "_model_name": "DescriptionStyleModel",
       "_view_count": null,
       "_view_module": "@jupyter-widgets/base",
       "_view_module_version": "1.2.0",
       "_view_name": "StyleView",
       "description_width": ""
      }
     },
     "f88a10b320c04174bbdea50584b2a5f7": {
      "model_module": "@jupyter-widgets/base",
      "model_module_version": "1.2.0",
      "model_name": "LayoutModel",
      "state": {
       "_model_module": "@jupyter-widgets/base",
       "_model_module_version": "1.2.0",
       "_model_name": "LayoutModel",
       "_view_count": null,
       "_view_module": "@jupyter-widgets/base",
       "_view_module_version": "1.2.0",
       "_view_name": "LayoutView",
       "align_content": null,
       "align_items": null,
       "align_self": null,
       "border": null,
       "bottom": null,
       "display": null,
       "flex": null,
       "flex_flow": null,
       "grid_area": null,
       "grid_auto_columns": null,
       "grid_auto_flow": null,
       "grid_auto_rows": null,
       "grid_column": null,
       "grid_gap": null,
       "grid_row": null,
       "grid_template_areas": null,
       "grid_template_columns": null,
       "grid_template_rows": null,
       "height": null,
       "justify_content": null,
       "justify_items": null,
       "left": null,
       "margin": null,
       "max_height": null,
       "max_width": null,
       "min_height": null,
       "min_width": null,
       "object_fit": null,
       "object_position": null,
       "order": null,
       "overflow": null,
       "overflow_x": null,
       "overflow_y": null,
       "padding": null,
       "right": null,
       "top": null,
       "visibility": null,
       "width": null
      }
     },
     "fcb3fda2d6864a8b9035c354896933dd": {
      "model_module": "@jupyter-widgets/controls",
      "model_module_version": "1.5.0",
      "model_name": "DescriptionStyleModel",
      "state": {
       "_model_module": "@jupyter-widgets/controls",
       "_model_module_version": "1.5.0",
       "_model_name": "DescriptionStyleModel",
       "_view_count": null,
       "_view_module": "@jupyter-widgets/base",
       "_view_module_version": "1.2.0",
       "_view_name": "StyleView",
       "description_width": ""
      }
     },
     "ff41b49ccef547c899b02a5246714632": {
      "model_module": "@jupyter-widgets/controls",
      "model_module_version": "1.5.0",
      "model_name": "HTMLModel",
      "state": {
       "_dom_classes": [],
       "_model_module": "@jupyter-widgets/controls",
       "_model_module_version": "1.5.0",
       "_model_name": "HTMLModel",
       "_view_count": null,
       "_view_module": "@jupyter-widgets/controls",
       "_view_module_version": "1.5.0",
       "_view_name": "HTMLView",
       "description": "",
       "description_tooltip": null,
       "layout": "IPY_MODEL_d31947c7b18f4c048180272db40e3b13",
       "placeholder": "​",
       "style": "IPY_MODEL_6424d4723df04cc180bb0b80dbbe7f4f",
       "value": " 5/5 [01:17&lt;00:00, 15.33s/it]"
      }
     },
     "ff73081d0c7a4ef2b302a9480dc7e3c9": {
      "model_module": "@jupyter-widgets/controls",
      "model_module_version": "1.5.0",
      "model_name": "FloatProgressModel",
      "state": {
       "_dom_classes": [],
       "_model_module": "@jupyter-widgets/controls",
       "_model_module_version": "1.5.0",
       "_model_name": "FloatProgressModel",
       "_view_count": null,
       "_view_module": "@jupyter-widgets/controls",
       "_view_module_version": "1.5.0",
       "_view_name": "ProgressView",
       "bar_style": "success",
       "description": "",
       "description_tooltip": null,
       "layout": "IPY_MODEL_49fc3a2af3f449e98fac4acc2fdc1597",
       "max": 5.0,
       "min": 0.0,
       "orientation": "horizontal",
       "style": "IPY_MODEL_2b8a1e2ab09b401f9584f91d81048478",
       "value": 5.0
      }
     }
    },
    "version_major": 2,
    "version_minor": 0
   }
  }
 },
 "nbformat": 4,
 "nbformat_minor": 4
}
