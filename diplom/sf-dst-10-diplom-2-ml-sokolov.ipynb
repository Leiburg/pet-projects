{
 "cells": [
  {
   "cell_type": "markdown",
   "id": "rational-transaction",
   "metadata": {
    "papermill": {
     "duration": 0.049326,
     "end_time": "2021-04-25T06:19:53.900134",
     "exception": false,
     "start_time": "2021-04-25T06:19:53.850808",
     "status": "completed"
    },
    "tags": []
   },
   "source": [
    "### Дипломная работа Александра Соколова\n",
    "\n",
    "#### Градиентный бустинг\n",
    "Кернел 2 из 3 в разделе ML (отредактирован 21.04.2021)\n",
    "---\n",
    "\n",
    "# 1. Импорт библиотек, инициализация глобальных констант\n",
    "## 1.1. Импорт библиотек"
   ]
  },
  {
   "cell_type": "code",
   "execution_count": 1,
   "id": "ahead-noise",
   "metadata": {
    "execution": {
     "iopub.execute_input": "2021-04-25T06:19:54.010517Z",
     "iopub.status.busy": "2021-04-25T06:19:54.009776Z",
     "iopub.status.idle": "2021-04-25T06:20:06.160350Z",
     "shell.execute_reply": "2021-04-25T06:20:06.160955Z"
    },
    "papermill": {
     "duration": 12.212584,
     "end_time": "2021-04-25T06:20:06.161259",
     "exception": false,
     "start_time": "2021-04-25T06:19:53.948675",
     "status": "completed"
    },
    "tags": []
   },
   "outputs": [
    {
     "data": {
      "text/html": [
       "<style type='text/css'>\n",
       ".datatable table.frame { margin-bottom: 0; }\n",
       ".datatable table.frame thead { border-bottom: none; }\n",
       ".datatable table.frame tr.coltypes td {  color: #FFFFFF;  line-height: 6px;  padding: 0 0.5em;}\n",
       ".datatable .bool    { background: #DDDD99; }\n",
       ".datatable .object  { background: #565656; }\n",
       ".datatable .int     { background: #5D9E5D; }\n",
       ".datatable .float   { background: #4040CC; }\n",
       ".datatable .str     { background: #CC4040; }\n",
       ".datatable .row_index {  background: var(--jp-border-color3);  border-right: 1px solid var(--jp-border-color0);  color: var(--jp-ui-font-color3);  font-size: 9px;}\n",
       ".datatable .frame tr.coltypes .row_index {  background: var(--jp-border-color0);}\n",
       ".datatable th:nth-child(2) { padding-left: 12px; }\n",
       ".datatable .hellipsis {  color: var(--jp-cell-editor-border-color);}\n",
       ".datatable .vellipsis {  background: var(--jp-layout-color0);  color: var(--jp-cell-editor-border-color);}\n",
       ".datatable .na {  color: var(--jp-cell-editor-border-color);  font-size: 80%;}\n",
       ".datatable .footer { font-size: 9px; }\n",
       ".datatable .frame_dimensions {  background: var(--jp-border-color3);  border-top: 1px solid var(--jp-border-color0);  color: var(--jp-ui-font-color3);  display: inline-block;  opacity: 0.6;  padding: 1px 10px 1px 5px;}\n",
       "</style>\n"
      ],
      "text/plain": [
       "<IPython.core.display.HTML object>"
      ]
     },
     "metadata": {},
     "output_type": "display_data"
    }
   ],
   "source": [
    "import pandas as pd\n",
    "import numpy as np\n",
    "import tqdm\n",
    "import pickle\n",
    "\n",
    "from sklearn.model_selection import train_test_split, StratifiedKFold, KFold\n",
    "from sklearn.metrics import roc_auc_score\n",
    "from sklearn.inspection import permutation_importance\n",
    "\n",
    "import lightgbm as lgb\n",
    "import catboost as cb\n",
    "\n",
    "import matplotlib\n",
    "import matplotlib.pyplot as plt\n",
    "%matplotlib inline\n",
    "import seaborn as sns\n",
    "\n",
    "import shap\n",
    "\n",
    "np.warnings.filterwarnings('ignore')"
   ]
  },
  {
   "cell_type": "markdown",
   "id": "seven-address",
   "metadata": {
    "papermill": {
     "duration": 0.046629,
     "end_time": "2021-04-25T06:20:06.255514",
     "exception": false,
     "start_time": "2021-04-25T06:20:06.208885",
     "status": "completed"
    },
    "tags": []
   },
   "source": [
    "## 1.2. Глобальные константы"
   ]
  },
  {
   "cell_type": "code",
   "execution_count": 2,
   "id": "vulnerable-poetry",
   "metadata": {
    "execution": {
     "iopub.execute_input": "2021-04-25T06:20:06.352441Z",
     "iopub.status.busy": "2021-04-25T06:20:06.351684Z",
     "iopub.status.idle": "2021-04-25T06:20:06.355594Z",
     "shell.execute_reply": "2021-04-25T06:20:06.356128Z"
    },
    "papermill": {
     "duration": 0.054049,
     "end_time": "2021-04-25T06:20:06.356312",
     "exception": false,
     "start_time": "2021-04-25T06:20:06.302263",
     "status": "completed"
    },
    "tags": []
   },
   "outputs": [],
   "source": [
    "# CURRENT_DIR = './'  # имя текущей директории для локальной машины \n",
    "CURRENT_DIR = '../'  # имя текущей директории для каггл\n",
    "\n",
    "PATH_TO_WORKDIR = CURRENT_DIR + 'working/'"
   ]
  },
  {
   "cell_type": "code",
   "execution_count": 3,
   "id": "worth-topic",
   "metadata": {
    "execution": {
     "iopub.execute_input": "2021-04-25T06:20:06.453938Z",
     "iopub.status.busy": "2021-04-25T06:20:06.453156Z",
     "iopub.status.idle": "2021-04-25T06:20:08.799370Z",
     "shell.execute_reply": "2021-04-25T06:20:08.798658Z"
    },
    "papermill": {
     "duration": 2.39538,
     "end_time": "2021-04-25T06:20:08.799550",
     "exception": false,
     "start_time": "2021-04-25T06:20:06.404170",
     "status": "completed"
    },
    "tags": []
   },
   "outputs": [],
   "source": [
    "!pip freeze > requirements.txt"
   ]
  },
  {
   "cell_type": "markdown",
   "id": "apparent-costs",
   "metadata": {
    "papermill": {
     "duration": 0.046564,
     "end_time": "2021-04-25T06:20:08.894659",
     "exception": false,
     "start_time": "2021-04-25T06:20:08.848095",
     "status": "completed"
    },
    "tags": []
   },
   "source": [
    "# 2. Импорт предобработанных данных\n",
    "---\n",
    "предобработка осуществлялась в [первом кернеле](https://www.kaggle.com/sokolovaleks/sf-dst-10-diplom-1-ml-sokolov)"
   ]
  },
  {
   "cell_type": "code",
   "execution_count": 4,
   "id": "confused-preview",
   "metadata": {
    "execution": {
     "iopub.execute_input": "2021-04-25T06:20:08.995322Z",
     "iopub.status.busy": "2021-04-25T06:20:08.994691Z",
     "iopub.status.idle": "2021-04-25T06:20:49.744426Z",
     "shell.execute_reply": "2021-04-25T06:20:49.743828Z"
    },
    "papermill": {
     "duration": 40.803008,
     "end_time": "2021-04-25T06:20:49.744653",
     "exception": false,
     "start_time": "2021-04-25T06:20:08.941645",
     "status": "completed"
    },
    "tags": []
   },
   "outputs": [],
   "source": [
    "merged_train_data = pd.read_csv('../input/alfabattle2-sandbox/preproc_data_for_boosting/preproc_data_for_boosting/merged_data.csv')\n",
    "merged_test_data = pd.read_csv('../input/alfabattle2-sandbox/preproc_data_for_boosting/preproc_data_for_boosting/merged_test_data.csv')"
   ]
  },
  {
   "cell_type": "markdown",
   "id": "mature-legend",
   "metadata": {
    "papermill": {
     "duration": 0.047143,
     "end_time": "2021-04-25T06:20:49.839649",
     "exception": false,
     "start_time": "2021-04-25T06:20:49.792506",
     "status": "completed"
    },
    "tags": []
   },
   "source": [
    "# 3. Разбиваем тренировочную выборку\n",
    "---\n",
    "Важно выделять валидационную выборку, чтобы контролировать обучение и не переобучаться. "
   ]
  },
  {
   "cell_type": "code",
   "execution_count": 5,
   "id": "responsible-manchester",
   "metadata": {
    "execution": {
     "iopub.execute_input": "2021-04-25T06:20:49.943945Z",
     "iopub.status.busy": "2021-04-25T06:20:49.943215Z",
     "iopub.status.idle": "2021-04-25T06:20:49.948530Z",
     "shell.execute_reply": "2021-04-25T06:20:49.947997Z"
    },
    "papermill": {
     "duration": 0.061503,
     "end_time": "2021-04-25T06:20:49.948674",
     "exception": false,
     "start_time": "2021-04-25T06:20:49.887171",
     "status": "completed"
    },
    "tags": []
   },
   "outputs": [],
   "source": [
    "targets = merged_train_data.flag.values\n",
    "\n",
    "cv = KFold(n_splits=5, random_state=100, shuffle=True)"
   ]
  },
  {
   "cell_type": "markdown",
   "id": "lyric-earth",
   "metadata": {
    "papermill": {
     "duration": 0.047574,
     "end_time": "2021-04-25T06:20:50.043697",
     "exception": false,
     "start_time": "2021-04-25T06:20:49.996123",
     "status": "completed"
    },
    "tags": []
   },
   "source": [
    "# 4. LightGBM + CV (1)\n",
    "---\n",
    "## 4.1. Первая модель (model1)"
   ]
  },
  {
   "cell_type": "code",
   "execution_count": 6,
   "id": "czech-above",
   "metadata": {
    "execution": {
     "iopub.execute_input": "2021-04-25T06:20:50.143958Z",
     "iopub.status.busy": "2021-04-25T06:20:50.142855Z",
     "iopub.status.idle": "2021-04-25T06:20:50.145582Z",
     "shell.execute_reply": "2021-04-25T06:20:50.145035Z"
    },
    "papermill": {
     "duration": 0.054362,
     "end_time": "2021-04-25T06:20:50.145724",
     "exception": false,
     "start_time": "2021-04-25T06:20:50.091362",
     "status": "completed"
    },
    "tags": []
   },
   "outputs": [],
   "source": [
    "num_model = 1"
   ]
  },
  {
   "cell_type": "code",
   "execution_count": 7,
   "id": "backed-intent",
   "metadata": {
    "execution": {
     "iopub.execute_input": "2021-04-25T06:20:50.267941Z",
     "iopub.status.busy": "2021-04-25T06:20:50.267168Z",
     "iopub.status.idle": "2021-04-25T06:20:51.000045Z",
     "shell.execute_reply": "2021-04-25T06:20:50.999393Z"
    },
    "papermill": {
     "duration": 0.807068,
     "end_time": "2021-04-25T06:20:51.000191",
     "exception": false,
     "start_time": "2021-04-25T06:20:50.193123",
     "status": "completed"
    },
    "tags": []
   },
   "outputs": [],
   "source": [
    "!mkdir model1"
   ]
  },
  {
   "cell_type": "code",
   "execution_count": 8,
   "id": "thrown-cooling",
   "metadata": {
    "execution": {
     "iopub.execute_input": "2021-04-25T06:20:51.103053Z",
     "iopub.status.busy": "2021-04-25T06:20:51.102369Z",
     "iopub.status.idle": "2021-04-25T06:20:51.105905Z",
     "shell.execute_reply": "2021-04-25T06:20:51.105235Z"
    },
    "papermill": {
     "duration": 0.057204,
     "end_time": "2021-04-25T06:20:51.106079",
     "exception": false,
     "start_time": "2021-04-25T06:20:51.048875",
     "status": "completed"
    },
    "tags": []
   },
   "outputs": [],
   "source": [
    "features = [x for x in merged_train_data.columns if x not in ['app_id', 'flag']]"
   ]
  },
  {
   "cell_type": "code",
   "execution_count": 9,
   "id": "configured-building",
   "metadata": {
    "execution": {
     "iopub.execute_input": "2021-04-25T06:20:51.211436Z",
     "iopub.status.busy": "2021-04-25T06:20:51.210726Z",
     "iopub.status.idle": "2021-04-25T06:33:39.047448Z",
     "shell.execute_reply": "2021-04-25T06:33:39.046690Z"
    },
    "papermill": {
     "duration": 767.893853,
     "end_time": "2021-04-25T06:33:39.047738",
     "exception": false,
     "start_time": "2021-04-25T06:20:51.153885",
     "status": "completed"
    },
    "tags": []
   },
   "outputs": [
    {
     "name": "stdout",
     "output_type": "stream",
     "text": [
      "Началось обучение на фолде номер:= 1.\n",
      "Training until validation scores don't improve for 50 rounds\n",
      "[50]\tvalid_0's auc: 0.733357\n",
      "[100]\tvalid_0's auc: 0.745918\n",
      "[150]\tvalid_0's auc: 0.75136\n",
      "[200]\tvalid_0's auc: 0.755095\n",
      "[250]\tvalid_0's auc: 0.757468\n",
      "[300]\tvalid_0's auc: 0.759392\n",
      "[350]\tvalid_0's auc: 0.760921\n",
      "[400]\tvalid_0's auc: 0.762052\n",
      "[450]\tvalid_0's auc: 0.762843\n",
      "[500]\tvalid_0's auc: 0.763794\n",
      "[550]\tvalid_0's auc: 0.764306\n",
      "[600]\tvalid_0's auc: 0.765034\n",
      "[650]\tvalid_0's auc: 0.765584\n",
      "[700]\tvalid_0's auc: 0.766028\n",
      "[750]\tvalid_0's auc: 0.766414\n",
      "[800]\tvalid_0's auc: 0.766915\n",
      "[850]\tvalid_0's auc: 0.767222\n",
      "[900]\tvalid_0's auc: 0.767656\n",
      "[950]\tvalid_0's auc: 0.767907\n",
      "[1000]\tvalid_0's auc: 0.768113\n",
      "Did not meet early stopping. Best iteration is:\n",
      "[997]\tvalid_0's auc: 0.768116\n",
      "Обучение на фолде номер:= 1 завершилось.\n",
      "Началось обучение на фолде номер:= 2.\n",
      "Training until validation scores don't improve for 50 rounds\n",
      "[50]\tvalid_0's auc: 0.735806\n",
      "[100]\tvalid_0's auc: 0.748626\n",
      "[150]\tvalid_0's auc: 0.754227\n",
      "[200]\tvalid_0's auc: 0.757699\n",
      "[250]\tvalid_0's auc: 0.759753\n",
      "[300]\tvalid_0's auc: 0.761608\n",
      "[350]\tvalid_0's auc: 0.762945\n",
      "[400]\tvalid_0's auc: 0.764101\n",
      "[450]\tvalid_0's auc: 0.764985\n",
      "[500]\tvalid_0's auc: 0.765674\n",
      "[550]\tvalid_0's auc: 0.766495\n",
      "[600]\tvalid_0's auc: 0.767052\n",
      "[650]\tvalid_0's auc: 0.767617\n",
      "[700]\tvalid_0's auc: 0.768184\n",
      "[750]\tvalid_0's auc: 0.768671\n",
      "[800]\tvalid_0's auc: 0.769111\n",
      "[850]\tvalid_0's auc: 0.769419\n",
      "[900]\tvalid_0's auc: 0.769807\n",
      "[950]\tvalid_0's auc: 0.770057\n",
      "[1000]\tvalid_0's auc: 0.770122\n",
      "Did not meet early stopping. Best iteration is:\n",
      "[996]\tvalid_0's auc: 0.770146\n",
      "Обучение на фолде номер:= 2 завершилось.\n",
      "Началось обучение на фолде номер:= 3.\n",
      "Training until validation scores don't improve for 50 rounds\n",
      "[50]\tvalid_0's auc: 0.738214\n",
      "[100]\tvalid_0's auc: 0.751749\n",
      "[150]\tvalid_0's auc: 0.757027\n",
      "[200]\tvalid_0's auc: 0.760915\n",
      "[250]\tvalid_0's auc: 0.763341\n",
      "[300]\tvalid_0's auc: 0.765457\n",
      "[350]\tvalid_0's auc: 0.766939\n",
      "[400]\tvalid_0's auc: 0.768148\n",
      "[450]\tvalid_0's auc: 0.769016\n",
      "[500]\tvalid_0's auc: 0.769998\n",
      "[550]\tvalid_0's auc: 0.770574\n",
      "[600]\tvalid_0's auc: 0.771237\n",
      "[650]\tvalid_0's auc: 0.771681\n",
      "[700]\tvalid_0's auc: 0.772182\n",
      "[750]\tvalid_0's auc: 0.772585\n",
      "[800]\tvalid_0's auc: 0.773001\n",
      "[850]\tvalid_0's auc: 0.773308\n",
      "[900]\tvalid_0's auc: 0.773579\n",
      "[950]\tvalid_0's auc: 0.773901\n",
      "[1000]\tvalid_0's auc: 0.774124\n",
      "Did not meet early stopping. Best iteration is:\n",
      "[1000]\tvalid_0's auc: 0.774124\n",
      "Обучение на фолде номер:= 3 завершилось.\n",
      "Началось обучение на фолде номер:= 4.\n",
      "Training until validation scores don't improve for 50 rounds\n",
      "[50]\tvalid_0's auc: 0.730437\n",
      "[100]\tvalid_0's auc: 0.744672\n",
      "[150]\tvalid_0's auc: 0.750356\n",
      "[200]\tvalid_0's auc: 0.754403\n",
      "[250]\tvalid_0's auc: 0.757048\n",
      "[300]\tvalid_0's auc: 0.758995\n",
      "[350]\tvalid_0's auc: 0.760551\n",
      "[400]\tvalid_0's auc: 0.761989\n",
      "[450]\tvalid_0's auc: 0.763184\n",
      "[500]\tvalid_0's auc: 0.763967\n",
      "[550]\tvalid_0's auc: 0.764658\n",
      "[600]\tvalid_0's auc: 0.765397\n",
      "[650]\tvalid_0's auc: 0.765923\n",
      "[700]\tvalid_0's auc: 0.766535\n",
      "[750]\tvalid_0's auc: 0.766817\n",
      "[800]\tvalid_0's auc: 0.76708\n",
      "[850]\tvalid_0's auc: 0.767474\n",
      "[900]\tvalid_0's auc: 0.767838\n",
      "[950]\tvalid_0's auc: 0.768109\n",
      "[1000]\tvalid_0's auc: 0.768523\n",
      "Did not meet early stopping. Best iteration is:\n",
      "[998]\tvalid_0's auc: 0.768533\n",
      "Обучение на фолде номер:= 4 завершилось.\n",
      "Началось обучение на фолде номер:= 5.\n",
      "Training until validation scores don't improve for 50 rounds\n",
      "[50]\tvalid_0's auc: 0.737019\n",
      "[100]\tvalid_0's auc: 0.750826\n",
      "[150]\tvalid_0's auc: 0.756432\n",
      "[200]\tvalid_0's auc: 0.75983\n",
      "[250]\tvalid_0's auc: 0.762319\n",
      "[300]\tvalid_0's auc: 0.764217\n",
      "[350]\tvalid_0's auc: 0.765655\n",
      "[400]\tvalid_0's auc: 0.76703\n",
      "[450]\tvalid_0's auc: 0.768175\n",
      "[500]\tvalid_0's auc: 0.768942\n",
      "[550]\tvalid_0's auc: 0.769522\n",
      "[600]\tvalid_0's auc: 0.770134\n",
      "[650]\tvalid_0's auc: 0.770705\n",
      "[700]\tvalid_0's auc: 0.771135\n",
      "[750]\tvalid_0's auc: 0.771625\n",
      "[800]\tvalid_0's auc: 0.771871\n",
      "[850]\tvalid_0's auc: 0.772225\n",
      "[900]\tvalid_0's auc: 0.772469\n",
      "[950]\tvalid_0's auc: 0.772781\n",
      "[1000]\tvalid_0's auc: 0.773164\n",
      "Did not meet early stopping. Best iteration is:\n",
      "[1000]\tvalid_0's auc: 0.773164\n",
      "Обучение на фолде номер:= 5 завершилось.\n",
      "CPU times: user 36min 47s, sys: 35.4 s, total: 37min 22s\n",
      "Wall time: 12min 47s\n"
     ]
    }
   ],
   "source": [
    "%%time\n",
    "\n",
    "oof = np.zeros(len(merged_train_data))\n",
    "train_preds = np.zeros(len(merged_train_data))\n",
    "\n",
    "models = []\n",
    "\n",
    "tree_params = {\n",
    "    'objective': 'binary',\n",
    "    'metric': 'auc',\n",
    "    'learning_rate': 0.05,\n",
    "    'max_depth': 3,\n",
    "    'reg_lambda': 1,\n",
    "    'num_leaves': 64,\n",
    "    'n_jobs': 5,\n",
    "    'n_estimators': 1000\n",
    "}\n",
    "\n",
    "for fold_, (train_idx, val_idx) in enumerate(cv.split(merged_train_data, targets), 1):\n",
    "    print(f'Началось обучение на фолде номер:= {fold_}.')\n",
    "    lgb_model = lgb.LGBMClassifier(**tree_params)\n",
    "    train, val = merged_train_data.iloc[train_idx], merged_train_data.iloc[val_idx]\n",
    "    \n",
    "    lgb_model.fit(train[features], train.flag.values, eval_set=[(val[features], val.flag.values)],\n",
    "              early_stopping_rounds=50, verbose=50)\n",
    "\n",
    "    oof[val_idx] = lgb_model.predict_proba(val[features])[:, 1]\n",
    "    train_preds[train_idx] += lgb_model.predict_proba(train[features])[:, 1] / (cv.n_splits-1)\n",
    "    models.append(lgb_model)\n",
    "    \n",
    "    file_name_model = f'model{num_model}/model{num_model}_{fold_}.txt'\n",
    "    lgb_model.booster_.save_model(PATH_TO_WORKDIR+file_name_model)\n",
    "    print(f'Обучение на фолде номер:= {fold_} завершилось.')"
   ]
  },
  {
   "cell_type": "code",
   "execution_count": 10,
   "id": "bridal-education",
   "metadata": {
    "execution": {
     "iopub.execute_input": "2021-04-25T06:33:39.220949Z",
     "iopub.status.busy": "2021-04-25T06:33:39.219947Z",
     "iopub.status.idle": "2021-04-25T06:33:39.222756Z",
     "shell.execute_reply": "2021-04-25T06:33:39.223204Z"
    },
    "papermill": {
     "duration": 0.092854,
     "end_time": "2021-04-25T06:33:39.223393",
     "exception": false,
     "start_time": "2021-04-25T06:33:39.130539",
     "status": "completed"
    },
    "tags": []
   },
   "outputs": [],
   "source": [
    "file_name_pickle = PATH_TO_WORKDIR + f'model{num_model}/feats_model{num_model}.pickle'\n",
    "with open(file_name_pickle, 'wb') as f:\n",
    "    pickle.dump(features, f)"
   ]
  },
  {
   "cell_type": "code",
   "execution_count": 11,
   "id": "confused-treaty",
   "metadata": {
    "execution": {
     "iopub.execute_input": "2021-04-25T06:33:39.419536Z",
     "iopub.status.busy": "2021-04-25T06:33:39.418222Z",
     "iopub.status.idle": "2021-04-25T06:33:39.861718Z",
     "shell.execute_reply": "2021-04-25T06:33:39.862188Z"
    },
    "papermill": {
     "duration": 0.539968,
     "end_time": "2021-04-25T06:33:39.862391",
     "exception": false,
     "start_time": "2021-04-25T06:33:39.322423",
     "status": "completed"
    },
    "tags": []
   },
   "outputs": [
    {
     "data": {
      "text/plain": [
       "('Train roc-auc model1', 0.8010877635459154)"
      ]
     },
     "execution_count": 11,
     "metadata": {},
     "output_type": "execute_result"
    }
   ],
   "source": [
    "f'Train roc-auc model{num_model}', roc_auc_score(targets, train_preds)"
   ]
  },
  {
   "cell_type": "code",
   "execution_count": 12,
   "id": "sharp-application",
   "metadata": {
    "execution": {
     "iopub.execute_input": "2021-04-25T06:33:40.031776Z",
     "iopub.status.busy": "2021-04-25T06:33:40.030705Z",
     "iopub.status.idle": "2021-04-25T06:33:40.455944Z",
     "shell.execute_reply": "2021-04-25T06:33:40.456425Z"
    },
    "papermill": {
     "duration": 0.513115,
     "end_time": "2021-04-25T06:33:40.456644",
     "exception": false,
     "start_time": "2021-04-25T06:33:39.943529",
     "status": "completed"
    },
    "tags": []
   },
   "outputs": [
    {
     "data": {
      "text/plain": [
       "('CV roc-auc model1', 0.7708109640761436)"
      ]
     },
     "execution_count": 12,
     "metadata": {},
     "output_type": "execute_result"
    }
   ],
   "source": [
    "f'CV roc-auc model{num_model}', roc_auc_score(targets, oof)"
   ]
  },
  {
   "cell_type": "markdown",
   "id": "statistical-cutting",
   "metadata": {
    "papermill": {
     "duration": 0.084604,
     "end_time": "2021-04-25T06:33:40.624856",
     "exception": false,
     "start_time": "2021-04-25T06:33:40.540252",
     "status": "completed"
    },
    "tags": []
   },
   "source": [
    "## 4.2. Submission (model1) "
   ]
  },
  {
   "cell_type": "code",
   "execution_count": 13,
   "id": "southern-marijuana",
   "metadata": {
    "execution": {
     "iopub.execute_input": "2021-04-25T06:33:40.797469Z",
     "iopub.status.busy": "2021-04-25T06:33:40.796367Z",
     "iopub.status.idle": "2021-04-25T06:34:34.327067Z",
     "shell.execute_reply": "2021-04-25T06:34:34.327635Z"
    },
    "papermill": {
     "duration": 53.620447,
     "end_time": "2021-04-25T06:34:34.327885",
     "exception": false,
     "start_time": "2021-04-25T06:33:40.707438",
     "status": "completed"
    },
    "tags": []
   },
   "outputs": [
    {
     "data": {
      "application/vnd.jupyter.widget-view+json": {
       "model_id": "45ccf64b9b9045fd996fa517831492c7",
       "version_major": 2,
       "version_minor": 0
      },
      "text/plain": [
       "  0%|          | 0/5 [00:00<?, ?it/s]"
      ]
     },
     "metadata": {},
     "output_type": "display_data"
    }
   ],
   "source": [
    "score = np.zeros(len(merged_test_data))\n",
    "\n",
    "for model in tqdm.tqdm_notebook(models):\n",
    "    score += model.predict_proba(merged_test_data[features])[:, 1] / len(models)\n",
    "    \n",
    "submission = pd.DataFrame({\n",
    "    'app_id' : merged_test_data.app_id.values,\n",
    "    'score': score\n",
    "}) \n",
    "\n",
    "submission.to_csv(f'sub_model{num_model}.csv', index=None)  # ~ 0.737 roc-auc на public test"
   ]
  },
  {
   "cell_type": "markdown",
   "id": "flush-morocco",
   "metadata": {
    "papermill": {
     "duration": 0.0859,
     "end_time": "2021-04-25T06:34:34.510159",
     "exception": false,
     "start_time": "2021-04-25T06:34:34.424259",
     "status": "completed"
    },
    "tags": []
   },
   "source": [
    "# 5. Feature Importance\n",
    "---\n",
    "Оценка важности признаков - важный шаг в построении моделей. LightGBM имеет внутренние способы оценки важности признаков - на основе того, как часто делается сплит в вершине по признаку (split) и на основе того, какой суммарный прирост в информации дает разбиение по признаку (gain). Используем первый способ оценки важности признаков. Затем отберем топ признаков по важности и построим на них новые модели."
   ]
  },
  {
   "cell_type": "code",
   "execution_count": 14,
   "id": "handled-crawford",
   "metadata": {
    "execution": {
     "iopub.execute_input": "2021-04-25T06:34:34.691938Z",
     "iopub.status.busy": "2021-04-25T06:34:34.690909Z",
     "iopub.status.idle": "2021-04-25T06:34:34.697390Z",
     "shell.execute_reply": "2021-04-25T06:34:34.696823Z"
    },
    "papermill": {
     "duration": 0.101056,
     "end_time": "2021-04-25T06:34:34.697591",
     "exception": false,
     "start_time": "2021-04-25T06:34:34.596535",
     "status": "completed"
    },
    "tags": []
   },
   "outputs": [],
   "source": [
    "importances = np.zeros(len(features))\n",
    "for model in models:\n",
    "    importances += model.feature_importances_ / len(models)"
   ]
  },
  {
   "cell_type": "code",
   "execution_count": 15,
   "id": "tight-mapping",
   "metadata": {
    "execution": {
     "iopub.execute_input": "2021-04-25T06:34:34.882085Z",
     "iopub.status.busy": "2021-04-25T06:34:34.881237Z",
     "iopub.status.idle": "2021-04-25T06:34:34.888190Z",
     "shell.execute_reply": "2021-04-25T06:34:34.887504Z"
    },
    "papermill": {
     "duration": 0.104087,
     "end_time": "2021-04-25T06:34:34.888369",
     "exception": false,
     "start_time": "2021-04-25T06:34:34.784282",
     "status": "completed"
    },
    "tags": []
   },
   "outputs": [],
   "source": [
    "def plot_feature_importance(feature_names, feature_scores, top_feats=20, title='Importance', x_label='Importance', \n",
    "                            y_label='Features'):\n",
    "    tuples = [(name, round(score, 3)) for name, score in zip(feature_names, feature_scores)]\n",
    "    tuples = sorted(tuples, key=lambda x: x[1])[-top_feats:]\n",
    "    \n",
    "    labels, values = zip(*tuples)\n",
    "    _, ax = plt.subplots(1, 1, figsize=(10, 8))\n",
    "    ylocs = np.arange(len(values))\n",
    "    \n",
    "    ax.barh(ylocs, values, align='center', height=0.4)\n",
    "    for x, y in zip(values, ylocs):\n",
    "        ax.text(x + 1, y, x, va='center')\n",
    "        \n",
    "    ax.set_yticks(ylocs)\n",
    "    ax.set_yticklabels(labels)\n",
    "    xlim = (0, max(values) * 1.1)\n",
    "    ax.set_xlim(xlim)\n",
    "    ylim = (-1, len(values))\n",
    "    ax.set_ylim(ylim)\n",
    "    \n",
    "    ax.set_title(title)\n",
    "    ax.set_xlabel(x_label)\n",
    "    ax.set_ylabel(y_label)\n",
    "    ax.grid(True)"
   ]
  },
  {
   "cell_type": "code",
   "execution_count": 16,
   "id": "differential-bracket",
   "metadata": {
    "execution": {
     "iopub.execute_input": "2021-04-25T06:34:35.102911Z",
     "iopub.status.busy": "2021-04-25T06:34:35.101797Z",
     "iopub.status.idle": "2021-04-25T06:34:35.495224Z",
     "shell.execute_reply": "2021-04-25T06:34:35.494660Z"
    },
    "papermill": {
     "duration": 0.520096,
     "end_time": "2021-04-25T06:34:35.495376",
     "exception": false,
     "start_time": "2021-04-25T06:34:34.975280",
     "status": "completed"
    },
    "tags": []
   },
   "outputs": [
    {
     "data": {
      "image/png": "[encoded data removed]",
      "text/plain": [
       "<Figure size 720x576 with 1 Axes>"
      ]
     },
     "metadata": {
      "needs_background": "light"
     },
     "output_type": "display_data"
    }
   ],
   "source": [
    "plot_feature_importance(features, importances, top_feats=20, title='LightGBM feature importance', \n",
    "                        x_label='Importance')"
   ]
  },
  {
   "cell_type": "code",
   "execution_count": 17,
   "id": "metric-constitution",
   "metadata": {
    "execution": {
     "iopub.execute_input": "2021-04-25T06:34:35.680280Z",
     "iopub.status.busy": "2021-04-25T06:34:35.679424Z",
     "iopub.status.idle": "2021-04-25T06:34:35.694012Z",
     "shell.execute_reply": "2021-04-25T06:34:35.693158Z"
    },
    "papermill": {
     "duration": 0.110492,
     "end_time": "2021-04-25T06:34:35.694180",
     "exception": false,
     "start_time": "2021-04-25T06:34:35.583688",
     "status": "completed"
    },
    "tags": []
   },
   "outputs": [
    {
     "name": "stdout",
     "output_type": "stream",
     "text": [
      "Кол-во отобранных признаков на этапе Feature importance (median):= 64\n"
     ]
    }
   ],
   "source": [
    "tuples = [(name, round(score, 3)) for name, score in zip(features, importances)]\n",
    "tuples = sorted(tuples, key=lambda x: x[1])\n",
    "\n",
    "top_selected_feats = [x[0] for x in tuples if x[1] >= np.median(importances)]\n",
    "print(f'Кол-во отобранных признаков на этапе Feature importance (median):= {len(top_selected_feats)}')"
   ]
  },
  {
   "cell_type": "markdown",
   "id": "included-variable",
   "metadata": {
    "papermill": {
     "duration": 0.08788,
     "end_time": "2021-04-25T06:34:35.868767",
     "exception": false,
     "start_time": "2021-04-25T06:34:35.780887",
     "status": "completed"
    },
    "tags": []
   },
   "source": [
    "# 6. LightGBM + CV (2)\n",
    "---\n",
    "## 6.1. Вторая модель (model2)\n",
    "(на признаках расчетная важность которых не меньше медианы)"
   ]
  },
  {
   "cell_type": "code",
   "execution_count": 18,
   "id": "enclosed-country",
   "metadata": {
    "execution": {
     "iopub.execute_input": "2021-04-25T06:34:36.053977Z",
     "iopub.status.busy": "2021-04-25T06:34:36.052972Z",
     "iopub.status.idle": "2021-04-25T06:34:36.056287Z",
     "shell.execute_reply": "2021-04-25T06:34:36.055600Z"
    },
    "papermill": {
     "duration": 0.098126,
     "end_time": "2021-04-25T06:34:36.056431",
     "exception": false,
     "start_time": "2021-04-25T06:34:35.958305",
     "status": "completed"
    },
    "tags": []
   },
   "outputs": [],
   "source": [
    "num_model = 2"
   ]
  },
  {
   "cell_type": "code",
   "execution_count": 19,
   "id": "known-frost",
   "metadata": {
    "execution": {
     "iopub.execute_input": "2021-04-25T06:34:36.260018Z",
     "iopub.status.busy": "2021-04-25T06:34:36.259356Z",
     "iopub.status.idle": "2021-04-25T06:34:37.032913Z",
     "shell.execute_reply": "2021-04-25T06:34:37.031463Z"
    },
    "papermill": {
     "duration": 0.887112,
     "end_time": "2021-04-25T06:34:37.033092",
     "exception": false,
     "start_time": "2021-04-25T06:34:36.145980",
     "status": "completed"
    },
    "tags": []
   },
   "outputs": [],
   "source": [
    "!mkdir model2"
   ]
  },
  {
   "cell_type": "code",
   "execution_count": 20,
   "id": "described-pleasure",
   "metadata": {
    "execution": {
     "iopub.execute_input": "2021-04-25T06:34:37.661814Z",
     "iopub.status.busy": "2021-04-25T06:34:37.661115Z",
     "iopub.status.idle": "2021-04-25T06:44:40.861175Z",
     "shell.execute_reply": "2021-04-25T06:44:40.860399Z"
    },
    "papermill": {
     "duration": 603.741733,
     "end_time": "2021-04-25T06:44:40.861357",
     "exception": false,
     "start_time": "2021-04-25T06:34:37.119624",
     "status": "completed"
    },
    "tags": []
   },
   "outputs": [
    {
     "name": "stdout",
     "output_type": "stream",
     "text": [
      "Началось обучение на фолде номер:= 1.\n",
      "Training until validation scores don't improve for 50 rounds\n",
      "[50]\tvalid_0's auc: 0.732074\n",
      "[100]\tvalid_0's auc: 0.743551\n",
      "[150]\tvalid_0's auc: 0.749233\n",
      "[200]\tvalid_0's auc: 0.752616\n",
      "[250]\tvalid_0's auc: 0.754898\n",
      "[300]\tvalid_0's auc: 0.756749\n",
      "[350]\tvalid_0's auc: 0.758199\n",
      "[400]\tvalid_0's auc: 0.758997\n",
      "[450]\tvalid_0's auc: 0.759861\n",
      "[500]\tvalid_0's auc: 0.760592\n",
      "[550]\tvalid_0's auc: 0.761319\n",
      "[600]\tvalid_0's auc: 0.761826\n",
      "[650]\tvalid_0's auc: 0.762646\n",
      "[700]\tvalid_0's auc: 0.76319\n",
      "[750]\tvalid_0's auc: 0.763767\n",
      "[800]\tvalid_0's auc: 0.764103\n",
      "[850]\tvalid_0's auc: 0.764452\n",
      "[900]\tvalid_0's auc: 0.764745\n",
      "[950]\tvalid_0's auc: 0.764983\n",
      "[1000]\tvalid_0's auc: 0.765198\n",
      "Did not meet early stopping. Best iteration is:\n",
      "[1000]\tvalid_0's auc: 0.765198\n",
      "Обучение на фолде номер:= 1 завершилось.\n",
      "Началось обучение на фолде номер:= 2.\n",
      "Training until validation scores don't improve for 50 rounds\n",
      "[50]\tvalid_0's auc: 0.734279\n",
      "[100]\tvalid_0's auc: 0.747565\n",
      "[150]\tvalid_0's auc: 0.752897\n",
      "[200]\tvalid_0's auc: 0.755895\n",
      "[250]\tvalid_0's auc: 0.757968\n",
      "[300]\tvalid_0's auc: 0.759571\n",
      "[350]\tvalid_0's auc: 0.760886\n",
      "[400]\tvalid_0's auc: 0.761834\n",
      "[450]\tvalid_0's auc: 0.76275\n",
      "[500]\tvalid_0's auc: 0.76353\n",
      "[550]\tvalid_0's auc: 0.764278\n",
      "[600]\tvalid_0's auc: 0.764771\n",
      "[650]\tvalid_0's auc: 0.765359\n",
      "[700]\tvalid_0's auc: 0.765899\n",
      "[750]\tvalid_0's auc: 0.766385\n",
      "[800]\tvalid_0's auc: 0.766652\n",
      "[850]\tvalid_0's auc: 0.767133\n",
      "[900]\tvalid_0's auc: 0.767509\n",
      "[950]\tvalid_0's auc: 0.767769\n",
      "[1000]\tvalid_0's auc: 0.768244\n",
      "Did not meet early stopping. Best iteration is:\n",
      "[999]\tvalid_0's auc: 0.768245\n",
      "Обучение на фолде номер:= 2 завершилось.\n",
      "Началось обучение на фолде номер:= 3.\n",
      "Training until validation scores don't improve for 50 rounds\n",
      "[50]\tvalid_0's auc: 0.738592\n",
      "[100]\tvalid_0's auc: 0.751627\n",
      "[150]\tvalid_0's auc: 0.757205\n",
      "[200]\tvalid_0's auc: 0.760553\n",
      "[250]\tvalid_0's auc: 0.762651\n",
      "[300]\tvalid_0's auc: 0.764373\n",
      "[350]\tvalid_0's auc: 0.765704\n",
      "[400]\tvalid_0's auc: 0.766692\n",
      "[450]\tvalid_0's auc: 0.767632\n",
      "[500]\tvalid_0's auc: 0.768447\n",
      "[550]\tvalid_0's auc: 0.769125\n",
      "[600]\tvalid_0's auc: 0.769517\n",
      "[650]\tvalid_0's auc: 0.769962\n",
      "[700]\tvalid_0's auc: 0.770311\n",
      "[750]\tvalid_0's auc: 0.770717\n",
      "[800]\tvalid_0's auc: 0.771057\n",
      "[850]\tvalid_0's auc: 0.771438\n",
      "[900]\tvalid_0's auc: 0.771725\n",
      "[950]\tvalid_0's auc: 0.772076\n",
      "[1000]\tvalid_0's auc: 0.772264\n",
      "Did not meet early stopping. Best iteration is:\n",
      "[990]\tvalid_0's auc: 0.772288\n",
      "Обучение на фолде номер:= 3 завершилось.\n",
      "Началось обучение на фолде номер:= 4.\n",
      "Training until validation scores don't improve for 50 rounds\n",
      "[50]\tvalid_0's auc: 0.729854\n",
      "[100]\tvalid_0's auc: 0.743522\n",
      "[150]\tvalid_0's auc: 0.749751\n",
      "[200]\tvalid_0's auc: 0.753095\n",
      "[250]\tvalid_0's auc: 0.755437\n",
      "[300]\tvalid_0's auc: 0.757178\n",
      "[350]\tvalid_0's auc: 0.758785\n",
      "[400]\tvalid_0's auc: 0.759965\n",
      "[450]\tvalid_0's auc: 0.761182\n",
      "[500]\tvalid_0's auc: 0.761966\n",
      "[550]\tvalid_0's auc: 0.762787\n",
      "[600]\tvalid_0's auc: 0.763612\n",
      "[650]\tvalid_0's auc: 0.764202\n",
      "[700]\tvalid_0's auc: 0.764615\n",
      "[750]\tvalid_0's auc: 0.765189\n",
      "[800]\tvalid_0's auc: 0.765423\n",
      "[850]\tvalid_0's auc: 0.765742\n",
      "[900]\tvalid_0's auc: 0.766109\n",
      "[950]\tvalid_0's auc: 0.766379\n",
      "[1000]\tvalid_0's auc: 0.766615\n",
      "Did not meet early stopping. Best iteration is:\n",
      "[996]\tvalid_0's auc: 0.766632\n",
      "Обучение на фолде номер:= 4 завершилось.\n",
      "Началось обучение на фолде номер:= 5.\n",
      "Training until validation scores don't improve for 50 rounds\n",
      "[50]\tvalid_0's auc: 0.7373\n",
      "[100]\tvalid_0's auc: 0.750421\n",
      "[150]\tvalid_0's auc: 0.7557\n",
      "[200]\tvalid_0's auc: 0.758507\n",
      "[250]\tvalid_0's auc: 0.760552\n",
      "[300]\tvalid_0's auc: 0.762311\n",
      "[350]\tvalid_0's auc: 0.763629\n",
      "[400]\tvalid_0's auc: 0.764722\n",
      "[450]\tvalid_0's auc: 0.765623\n",
      "[500]\tvalid_0's auc: 0.766419\n",
      "[550]\tvalid_0's auc: 0.766967\n",
      "[600]\tvalid_0's auc: 0.767525\n",
      "[650]\tvalid_0's auc: 0.768081\n",
      "[700]\tvalid_0's auc: 0.768617\n",
      "[750]\tvalid_0's auc: 0.768939\n",
      "[800]\tvalid_0's auc: 0.769242\n",
      "[850]\tvalid_0's auc: 0.769482\n",
      "[900]\tvalid_0's auc: 0.769675\n",
      "[950]\tvalid_0's auc: 0.769924\n",
      "[1000]\tvalid_0's auc: 0.770096\n",
      "Did not meet early stopping. Best iteration is:\n",
      "[999]\tvalid_0's auc: 0.7701\n",
      "Обучение на фолде номер:= 5 завершилось.\n",
      "CPU times: user 27min 43s, sys: 25.6 s, total: 28min 9s\n",
      "Wall time: 10min 3s\n"
     ]
    }
   ],
   "source": [
    "%%time\n",
    "\n",
    "oof = np.zeros(len(merged_train_data))\n",
    "train_preds = np.zeros(len(merged_train_data))\n",
    "\n",
    "new_models = []\n",
    "\n",
    "tree_params = {\n",
    "    'objective': 'binary',\n",
    "    'metric': 'auc',\n",
    "    'learning_rate': 0.05,\n",
    "    'max_depth': 3,\n",
    "    'reg_lambda': 1,\n",
    "    'num_leaves': 64,\n",
    "    'n_jobs': 5,\n",
    "    'n_estimators': 1000\n",
    "}\n",
    "\n",
    "\n",
    "for fold_, (train_idx, val_idx) in enumerate(cv.split(merged_train_data, targets), 1):\n",
    "    print(f'Началось обучение на фолде номер:= {fold_}.')\n",
    "    lgb_model = lgb.LGBMClassifier(**tree_params)\n",
    "    train, val = merged_train_data.iloc[train_idx], merged_train_data.iloc[val_idx]\n",
    "    \n",
    "    lgb_model.fit(train[top_selected_feats], train.flag.values, eval_set=[(val[top_selected_feats], val.flag.values)],\n",
    "              early_stopping_rounds=50, verbose=50)\n",
    "\n",
    "    oof[val_idx] = lgb_model.predict_proba(val[top_selected_feats])[:, 1]\n",
    "    train_preds[train_idx] += lgb_model.predict_proba(train[top_selected_feats])[:, 1] / (cv.n_splits-1)\n",
    "    new_models.append(lgb_model)\n",
    "    \n",
    "    file_name_model = f'model{num_model}/model{num_model}_{fold_}.txt'\n",
    "    lgb_model.booster_.save_model(PATH_TO_WORKDIR+file_name_model)\n",
    "    print(f'Обучение на фолде номер:= {fold_} завершилось.')"
   ]
  },
  {
   "cell_type": "code",
   "execution_count": 21,
   "id": "verified-spring",
   "metadata": {
    "execution": {
     "iopub.execute_input": "2021-04-25T06:44:41.106688Z",
     "iopub.status.busy": "2021-04-25T06:44:41.105954Z",
     "iopub.status.idle": "2021-04-25T06:44:41.108707Z",
     "shell.execute_reply": "2021-04-25T06:44:41.109165Z"
    },
    "papermill": {
     "duration": 0.128287,
     "end_time": "2021-04-25T06:44:41.109342",
     "exception": false,
     "start_time": "2021-04-25T06:44:40.981055",
     "status": "completed"
    },
    "tags": []
   },
   "outputs": [],
   "source": [
    "file_name_pickle = PATH_TO_WORKDIR + f'model{num_model}/feats_model{num_model}.pickle'\n",
    "with open(file_name_pickle, 'wb') as f:\n",
    "    pickle.dump(top_selected_feats, f)"
   ]
  },
  {
   "cell_type": "code",
   "execution_count": 22,
   "id": "decreased-reviewer",
   "metadata": {
    "execution": {
     "iopub.execute_input": "2021-04-25T06:44:41.352830Z",
     "iopub.status.busy": "2021-04-25T06:44:41.352135Z",
     "iopub.status.idle": "2021-04-25T06:44:41.805994Z",
     "shell.execute_reply": "2021-04-25T06:44:41.806533Z"
    },
    "papermill": {
     "duration": 0.577389,
     "end_time": "2021-04-25T06:44:41.806714",
     "exception": false,
     "start_time": "2021-04-25T06:44:41.229325",
     "status": "completed"
    },
    "tags": []
   },
   "outputs": [
    {
     "data": {
      "text/plain": [
       "('Train roc-auc model2', 0.7966375744839358)"
      ]
     },
     "execution_count": 22,
     "metadata": {},
     "output_type": "execute_result"
    }
   ],
   "source": [
    "f'Train roc-auc model{num_model}', roc_auc_score(targets, train_preds)"
   ]
  },
  {
   "cell_type": "code",
   "execution_count": 23,
   "id": "cognitive-power",
   "metadata": {
    "execution": {
     "iopub.execute_input": "2021-04-25T06:44:42.051462Z",
     "iopub.status.busy": "2021-04-25T06:44:42.050732Z",
     "iopub.status.idle": "2021-04-25T06:44:42.478904Z",
     "shell.execute_reply": "2021-04-25T06:44:42.479421Z"
    },
    "papermill": {
     "duration": 0.552902,
     "end_time": "2021-04-25T06:44:42.479615",
     "exception": false,
     "start_time": "2021-04-25T06:44:41.926713",
     "status": "completed"
    },
    "tags": []
   },
   "outputs": [
    {
     "data": {
      "text/plain": [
       "('CV roc-auc model2', 0.7684856517031308)"
      ]
     },
     "execution_count": 23,
     "metadata": {},
     "output_type": "execute_result"
    }
   ],
   "source": [
    "f'CV roc-auc model{num_model}', roc_auc_score(targets, oof)"
   ]
  },
  {
   "cell_type": "code",
   "execution_count": 24,
   "id": "legislative-property",
   "metadata": {
    "execution": {
     "iopub.execute_input": "2021-04-25T06:44:42.726162Z",
     "iopub.status.busy": "2021-04-25T06:44:42.725333Z",
     "iopub.status.idle": "2021-04-25T06:45:31.839766Z",
     "shell.execute_reply": "2021-04-25T06:45:31.839124Z"
    },
    "papermill": {
     "duration": 49.240509,
     "end_time": "2021-04-25T06:45:31.839939",
     "exception": false,
     "start_time": "2021-04-25T06:44:42.599430",
     "status": "completed"
    },
    "tags": []
   },
   "outputs": [
    {
     "data": {
      "application/vnd.jupyter.widget-view+json": {
       "model_id": "2046c66bec83475b87e374c1a7d57cd7",
       "version_major": 2,
       "version_minor": 0
      },
      "text/plain": [
       "  0%|          | 0/5 [00:00<?, ?it/s]"
      ]
     },
     "metadata": {},
     "output_type": "display_data"
    }
   ],
   "source": [
    "score = np.zeros(len(merged_test_data))\n",
    "\n",
    "for model in tqdm.tqdm_notebook(new_models):\n",
    "    score += model.predict_proba(merged_test_data[top_selected_feats])[:, 1] / len(models)\n",
    "    \n",
    "submission = pd.DataFrame({\n",
    "    'app_id' : merged_test_data.app_id.values,\n",
    "    'score': score\n",
    "}) \n",
    "\n",
    "submission.to_csv(f'sub_model{num_model}.csv', index=None)  # ~ 0.7346 на public test"
   ]
  },
  {
   "cell_type": "markdown",
   "id": "italic-announcement",
   "metadata": {
    "papermill": {
     "duration": 0.12194,
     "end_time": "2021-04-25T06:45:32.083207",
     "exception": false,
     "start_time": "2021-04-25T06:45:31.961267",
     "status": "completed"
    },
    "tags": []
   },
   "source": [
    "# 7. Permutation importance\n",
    "---\n",
    "Это способ оценки важности признаков, который можно применить к любой обученной модели на табличных данных. Данный тип важности определеяется для каждого признака, как изменение в скоре (в нашем случае - roc_auc) при случайном перемешиваниии столбца с значениями этого признака несколько раз."
   ]
  },
  {
   "cell_type": "code",
   "execution_count": 25,
   "id": "portuguese-hundred",
   "metadata": {
    "execution": {
     "iopub.execute_input": "2021-04-25T06:45:32.335268Z",
     "iopub.status.busy": "2021-04-25T06:45:32.334124Z",
     "iopub.status.idle": "2021-04-25T09:07:38.130376Z",
     "shell.execute_reply": "2021-04-25T09:07:38.130900Z"
    },
    "papermill": {
     "duration": 8525.928005,
     "end_time": "2021-04-25T09:07:38.131087",
     "exception": false,
     "start_time": "2021-04-25T06:45:32.203082",
     "status": "completed"
    },
    "tags": []
   },
   "outputs": [
    {
     "name": "stdout",
     "output_type": "stream",
     "text": [
      "Началась обработка фолда:= 1\n",
      "Обработка фолда:= 1 закончена.\n",
      "Началась обработка фолда:= 2\n",
      "Обработка фолда:= 2 закончена.\n",
      "Началась обработка фолда:= 3\n",
      "Обработка фолда:= 3 закончена.\n",
      "Началась обработка фолда:= 4\n",
      "Обработка фолда:= 4 закончена.\n",
      "Началась обработка фолда:= 5\n",
      "Обработка фолда:= 5 закончена.\n",
      "CPU times: user 2min 31s, sys: 3.14 s, total: 2min 34s\n",
      "Wall time: 2h 22min 5s\n"
     ]
    }
   ],
   "source": [
    "%%time\n",
    "permut_importance = np.zeros(len(features))\n",
    "\n",
    "for fold_, (_, val_idx) in enumerate(cv.split(merged_train_data, targets), 1):\n",
    "    print(f'Началась обработка фолда:= {fold_}')\n",
    "    val = merged_train_data.iloc[val_idx]\n",
    "    importances_report = permutation_importance(models[fold_-1], val[features], val.flag.values, n_repeats=3, \n",
    "                                     n_jobs=3, scoring='roc_auc')\n",
    "    permut_importance += importances_report.importances_mean / cv.n_splits\n",
    "    print(f'Обработка фолда:= {fold_} закончена.')"
   ]
  },
  {
   "cell_type": "code",
   "execution_count": 26,
   "id": "adaptive-translator",
   "metadata": {
    "execution": {
     "iopub.execute_input": "2021-04-25T09:07:38.407598Z",
     "iopub.status.busy": "2021-04-25T09:07:38.406908Z",
     "iopub.status.idle": "2021-04-25T09:07:38.738135Z",
     "shell.execute_reply": "2021-04-25T09:07:38.738802Z"
    },
    "papermill": {
     "duration": 0.482538,
     "end_time": "2021-04-25T09:07:38.739003",
     "exception": false,
     "start_time": "2021-04-25T09:07:38.256465",
     "status": "completed"
    },
    "tags": []
   },
   "outputs": [
    {
     "data": {
      "image/png": "[encoded data removed]",
      "text/plain": [
       "<Figure size 720x576 with 1 Axes>"
      ]
     },
     "metadata": {
      "needs_background": "light"
     },
     "output_type": "display_data"
    }
   ],
   "source": [
    "plot_feature_importance(features, permut_importance*10000, top_feats=20, title='Permutation importance', \n",
    "                        x_label='Importance')"
   ]
  },
  {
   "cell_type": "markdown",
   "id": "military-modeling",
   "metadata": {
    "papermill": {
     "duration": 0.127621,
     "end_time": "2021-04-25T09:07:38.993082",
     "exception": false,
     "start_time": "2021-04-25T09:07:38.865461",
     "status": "completed"
    },
    "tags": []
   },
   "source": [
    "Используя техники оценки важности признаков можно интерпретировать модель, пытаться генерировать новые признаки или упрощать модель, удаляя самые неинформативные. Попробуем оставить топ информативных признаков (с точки зрения) `permutation importance`. Удаление из модели признаков, как правило, уменьшает ее склонность к переобучению. А самое главное - может существенно ускорить процесс обучения и последующий процесс использования ее в продуктовых целях, что для меня достаточно важно потому что есть цель развернуть деплой модели на heroku, а его мощности скромные. "
   ]
  },
  {
   "cell_type": "code",
   "execution_count": 27,
   "id": "complete-block",
   "metadata": {
    "execution": {
     "iopub.execute_input": "2021-04-25T09:07:39.256021Z",
     "iopub.status.busy": "2021-04-25T09:07:39.254912Z",
     "iopub.status.idle": "2021-04-25T09:07:39.265648Z",
     "shell.execute_reply": "2021-04-25T09:07:39.265035Z"
    },
    "papermill": {
     "duration": 0.146847,
     "end_time": "2021-04-25T09:07:39.265815",
     "exception": false,
     "start_time": "2021-04-25T09:07:39.118968",
     "status": "completed"
    },
    "tags": []
   },
   "outputs": [
    {
     "name": "stdout",
     "output_type": "stream",
     "text": [
      "Кол-во отобранных признаков после метода Permutation importance:= 59\n"
     ]
    }
   ],
   "source": [
    "tuples = [(name, round(score, 3)) for name, score in zip(features, permut_importance)]\n",
    "tuples = sorted(tuples, key=lambda x: x[1])\n",
    "\n",
    "top_selected_feats = [x[0] for x in tuples if x[1] > 0]\n",
    "print(f'Кол-во отобранных признаков после метода Permutation importance:= {len(top_selected_feats)}')"
   ]
  },
  {
   "cell_type": "markdown",
   "id": "given-brooklyn",
   "metadata": {
    "papermill": {
     "duration": 0.125244,
     "end_time": "2021-04-25T09:07:39.539922",
     "exception": false,
     "start_time": "2021-04-25T09:07:39.414678",
     "status": "completed"
    },
    "tags": []
   },
   "source": [
    "# 8. LightGBM + CV (3)\n",
    "---\n",
    "## 8.1. Третья модель (model3)\n",
    "(на признаках после отбора с помощью методов Features importance(median) и Permutation importance)"
   ]
  },
  {
   "cell_type": "code",
   "execution_count": 28,
   "id": "distant-drink",
   "metadata": {
    "execution": {
     "iopub.execute_input": "2021-04-25T09:07:39.799734Z",
     "iopub.status.busy": "2021-04-25T09:07:39.798894Z",
     "iopub.status.idle": "2021-04-25T09:07:39.801125Z",
     "shell.execute_reply": "2021-04-25T09:07:39.801639Z"
    },
    "papermill": {
     "duration": 0.134616,
     "end_time": "2021-04-25T09:07:39.801828",
     "exception": false,
     "start_time": "2021-04-25T09:07:39.667212",
     "status": "completed"
    },
    "tags": []
   },
   "outputs": [],
   "source": [
    "num_model = 3"
   ]
  },
  {
   "cell_type": "code",
   "execution_count": 29,
   "id": "humanitarian-topic",
   "metadata": {
    "execution": {
     "iopub.execute_input": "2021-04-25T09:07:40.059447Z",
     "iopub.status.busy": "2021-04-25T09:07:40.058766Z",
     "iopub.status.idle": "2021-04-25T09:07:40.815117Z",
     "shell.execute_reply": "2021-04-25T09:07:40.815610Z"
    },
    "papermill": {
     "duration": 0.886981,
     "end_time": "2021-04-25T09:07:40.815804",
     "exception": false,
     "start_time": "2021-04-25T09:07:39.928823",
     "status": "completed"
    },
    "tags": []
   },
   "outputs": [],
   "source": [
    "!mkdir model3"
   ]
  },
  {
   "cell_type": "code",
   "execution_count": 30,
   "id": "negative-christian",
   "metadata": {
    "execution": {
     "iopub.execute_input": "2021-04-25T09:07:41.070002Z",
     "iopub.status.busy": "2021-04-25T09:07:41.069275Z",
     "iopub.status.idle": "2021-04-25T09:16:55.115786Z",
     "shell.execute_reply": "2021-04-25T09:16:55.116304Z"
    },
    "papermill": {
     "duration": 554.176123,
     "end_time": "2021-04-25T09:16:55.116522",
     "exception": false,
     "start_time": "2021-04-25T09:07:40.940399",
     "status": "completed"
    },
    "tags": []
   },
   "outputs": [
    {
     "name": "stdout",
     "output_type": "stream",
     "text": [
      "Training with fold 1 started.\n",
      "Training until validation scores don't improve for 50 rounds\n",
      "[50]\tvalid_0's auc: 0.732309\n",
      "[100]\tvalid_0's auc: 0.744569\n",
      "[150]\tvalid_0's auc: 0.750253\n",
      "[200]\tvalid_0's auc: 0.754019\n",
      "[250]\tvalid_0's auc: 0.756444\n",
      "[300]\tvalid_0's auc: 0.75841\n",
      "[350]\tvalid_0's auc: 0.759746\n",
      "[400]\tvalid_0's auc: 0.761028\n",
      "[450]\tvalid_0's auc: 0.761938\n",
      "[500]\tvalid_0's auc: 0.762736\n",
      "[550]\tvalid_0's auc: 0.763511\n",
      "[600]\tvalid_0's auc: 0.764089\n",
      "[650]\tvalid_0's auc: 0.764543\n",
      "[700]\tvalid_0's auc: 0.764937\n",
      "[750]\tvalid_0's auc: 0.765457\n",
      "[800]\tvalid_0's auc: 0.765846\n",
      "[850]\tvalid_0's auc: 0.766139\n",
      "[900]\tvalid_0's auc: 0.766406\n",
      "[950]\tvalid_0's auc: 0.766699\n",
      "[1000]\tvalid_0's auc: 0.766831\n",
      "Did not meet early stopping. Best iteration is:\n",
      "[998]\tvalid_0's auc: 0.766842\n",
      "Training with fold 1 completed.\n",
      "Training with fold 2 started.\n",
      "Training until validation scores don't improve for 50 rounds\n",
      "[50]\tvalid_0's auc: 0.735958\n",
      "[100]\tvalid_0's auc: 0.748533\n",
      "[150]\tvalid_0's auc: 0.754005\n",
      "[200]\tvalid_0's auc: 0.75728\n",
      "[250]\tvalid_0's auc: 0.759357\n",
      "[300]\tvalid_0's auc: 0.761021\n",
      "[350]\tvalid_0's auc: 0.762187\n",
      "[400]\tvalid_0's auc: 0.763443\n",
      "[450]\tvalid_0's auc: 0.76429\n",
      "[500]\tvalid_0's auc: 0.765038\n",
      "[550]\tvalid_0's auc: 0.765641\n",
      "[600]\tvalid_0's auc: 0.766233\n",
      "[650]\tvalid_0's auc: 0.766838\n",
      "[700]\tvalid_0's auc: 0.767343\n",
      "[750]\tvalid_0's auc: 0.767888\n",
      "[800]\tvalid_0's auc: 0.768143\n",
      "[850]\tvalid_0's auc: 0.768372\n",
      "[900]\tvalid_0's auc: 0.768719\n",
      "[950]\tvalid_0's auc: 0.768913\n",
      "[1000]\tvalid_0's auc: 0.769182\n",
      "Did not meet early stopping. Best iteration is:\n",
      "[999]\tvalid_0's auc: 0.769185\n",
      "Training with fold 2 completed.\n",
      "Training with fold 3 started.\n",
      "Training until validation scores don't improve for 50 rounds\n",
      "[50]\tvalid_0's auc: 0.739421\n",
      "[100]\tvalid_0's auc: 0.752027\n",
      "[150]\tvalid_0's auc: 0.757769\n",
      "[200]\tvalid_0's auc: 0.761281\n",
      "[250]\tvalid_0's auc: 0.763715\n",
      "[300]\tvalid_0's auc: 0.765498\n",
      "[350]\tvalid_0's auc: 0.766696\n",
      "[400]\tvalid_0's auc: 0.767899\n",
      "[450]\tvalid_0's auc: 0.768696\n",
      "[500]\tvalid_0's auc: 0.769375\n",
      "[550]\tvalid_0's auc: 0.769931\n",
      "[600]\tvalid_0's auc: 0.770584\n",
      "[650]\tvalid_0's auc: 0.771054\n",
      "[700]\tvalid_0's auc: 0.771408\n",
      "[750]\tvalid_0's auc: 0.771801\n",
      "[800]\tvalid_0's auc: 0.772032\n",
      "[850]\tvalid_0's auc: 0.772316\n",
      "[900]\tvalid_0's auc: 0.772469\n",
      "[950]\tvalid_0's auc: 0.77253\n",
      "[1000]\tvalid_0's auc: 0.772737\n",
      "Did not meet early stopping. Best iteration is:\n",
      "[999]\tvalid_0's auc: 0.772739\n",
      "Training with fold 3 completed.\n",
      "Training with fold 4 started.\n",
      "Training until validation scores don't improve for 50 rounds\n",
      "[50]\tvalid_0's auc: 0.730761\n",
      "[100]\tvalid_0's auc: 0.744308\n",
      "[150]\tvalid_0's auc: 0.750261\n",
      "[200]\tvalid_0's auc: 0.753843\n",
      "[250]\tvalid_0's auc: 0.756374\n",
      "[300]\tvalid_0's auc: 0.758345\n",
      "[350]\tvalid_0's auc: 0.760015\n",
      "[400]\tvalid_0's auc: 0.761334\n",
      "[450]\tvalid_0's auc: 0.762511\n",
      "[500]\tvalid_0's auc: 0.76339\n",
      "[550]\tvalid_0's auc: 0.764053\n",
      "[600]\tvalid_0's auc: 0.764602\n",
      "[650]\tvalid_0's auc: 0.765174\n",
      "[700]\tvalid_0's auc: 0.765681\n",
      "[750]\tvalid_0's auc: 0.766108\n",
      "[800]\tvalid_0's auc: 0.766536\n",
      "[850]\tvalid_0's auc: 0.766766\n",
      "[900]\tvalid_0's auc: 0.76717\n",
      "[950]\tvalid_0's auc: 0.767529\n",
      "[1000]\tvalid_0's auc: 0.767748\n",
      "Did not meet early stopping. Best iteration is:\n",
      "[998]\tvalid_0's auc: 0.767766\n",
      "Training with fold 4 completed.\n",
      "Training with fold 5 started.\n",
      "Training until validation scores don't improve for 50 rounds\n",
      "[50]\tvalid_0's auc: 0.737741\n",
      "[100]\tvalid_0's auc: 0.750797\n",
      "[150]\tvalid_0's auc: 0.756286\n",
      "[200]\tvalid_0's auc: 0.759856\n",
      "[250]\tvalid_0's auc: 0.762214\n",
      "[300]\tvalid_0's auc: 0.763943\n",
      "[350]\tvalid_0's auc: 0.765449\n",
      "[400]\tvalid_0's auc: 0.766659\n",
      "[450]\tvalid_0's auc: 0.767503\n",
      "[500]\tvalid_0's auc: 0.768262\n",
      "[550]\tvalid_0's auc: 0.768811\n",
      "[600]\tvalid_0's auc: 0.769196\n",
      "[650]\tvalid_0's auc: 0.769618\n",
      "[700]\tvalid_0's auc: 0.769953\n",
      "[750]\tvalid_0's auc: 0.770371\n",
      "[800]\tvalid_0's auc: 0.77069\n",
      "[850]\tvalid_0's auc: 0.770871\n",
      "[900]\tvalid_0's auc: 0.771211\n",
      "[950]\tvalid_0's auc: 0.77141\n",
      "[1000]\tvalid_0's auc: 0.771612\n",
      "Did not meet early stopping. Best iteration is:\n",
      "[980]\tvalid_0's auc: 0.77163\n",
      "Training with fold 5 completed.\n",
      "CPU times: user 25min 8s, sys: 23.7 s, total: 25min 31s\n",
      "Wall time: 9min 13s\n"
     ]
    }
   ],
   "source": [
    "%%time\n",
    "\n",
    "oof = np.zeros(len(merged_train_data))\n",
    "train_preds = np.zeros(len(merged_train_data))\n",
    "\n",
    "new_models = []\n",
    "\n",
    "tree_params = {\n",
    "    'objective': 'binary',\n",
    "    'metric': 'auc',\n",
    "    'learning_rate': 0.05,\n",
    "    'max_depth': 3,\n",
    "    'reg_lambda': 1,\n",
    "    'num_leaves': 64,\n",
    "    'n_jobs': 5,\n",
    "    'n_estimators': 1000\n",
    "}\n",
    "\n",
    "\n",
    "for fold_, (train_idx, val_idx) in enumerate(cv.split(merged_train_data, targets), 1):\n",
    "    print(f'Training with fold {fold_} started.')\n",
    "    lgb_model = lgb.LGBMClassifier(**tree_params)\n",
    "    train, val = merged_train_data.iloc[train_idx], merged_train_data.iloc[val_idx]\n",
    "    \n",
    "    lgb_model.fit(train[top_selected_feats], train.flag.values, eval_set=[(val[top_selected_feats], val.flag.values)],\n",
    "              early_stopping_rounds=50, verbose=50)\n",
    "\n",
    "    \n",
    "    oof[val_idx] = lgb_model.predict_proba(val[top_selected_feats])[:, 1]\n",
    "    train_preds[train_idx] += lgb_model.predict_proba(train[top_selected_feats])[:, 1] / (cv.n_splits-1)\n",
    "    new_models.append(lgb_model)\n",
    "    \n",
    "    file_name_model = f'model{num_model}/model{num_model}_{fold_}.txt'\n",
    "    lgb_model.booster_.save_model(PATH_TO_WORKDIR+file_name_model)\n",
    "    print(f'Training with fold {fold_} completed.')"
   ]
  },
  {
   "cell_type": "code",
   "execution_count": 31,
   "id": "spanish-neighbor",
   "metadata": {
    "execution": {
     "iopub.execute_input": "2021-04-25T09:16:55.437562Z",
     "iopub.status.busy": "2021-04-25T09:16:55.436919Z",
     "iopub.status.idle": "2021-04-25T09:16:55.440919Z",
     "shell.execute_reply": "2021-04-25T09:16:55.441591Z"
    },
    "papermill": {
     "duration": 0.167037,
     "end_time": "2021-04-25T09:16:55.441766",
     "exception": false,
     "start_time": "2021-04-25T09:16:55.274729",
     "status": "completed"
    },
    "tags": []
   },
   "outputs": [],
   "source": [
    "file_name_pickle = PATH_TO_WORKDIR + f'model{num_model}/feats_model{num_model}.pickle'\n",
    "with open(file_name_pickle, 'wb') as f:\n",
    "    pickle.dump(top_selected_feats, f)"
   ]
  },
  {
   "cell_type": "code",
   "execution_count": 32,
   "id": "center-stewart",
   "metadata": {
    "execution": {
     "iopub.execute_input": "2021-04-25T09:16:55.763120Z",
     "iopub.status.busy": "2021-04-25T09:16:55.762496Z",
     "iopub.status.idle": "2021-04-25T09:16:56.157268Z",
     "shell.execute_reply": "2021-04-25T09:16:56.157831Z"
    },
    "papermill": {
     "duration": 0.55797,
     "end_time": "2021-04-25T09:16:56.158008",
     "exception": false,
     "start_time": "2021-04-25T09:16:55.600038",
     "status": "completed"
    },
    "tags": []
   },
   "outputs": [
    {
     "data": {
      "text/plain": [
       "('Train roc-auc model3', 0.7965938860875296)"
      ]
     },
     "execution_count": 32,
     "metadata": {},
     "output_type": "execute_result"
    }
   ],
   "source": [
    "f'Train roc-auc model{num_model}', roc_auc_score(targets, train_preds)"
   ]
  },
  {
   "cell_type": "code",
   "execution_count": 33,
   "id": "prompt-jewel",
   "metadata": {
    "execution": {
     "iopub.execute_input": "2021-04-25T09:16:56.477455Z",
     "iopub.status.busy": "2021-04-25T09:16:56.476808Z",
     "iopub.status.idle": "2021-04-25T09:16:56.886584Z",
     "shell.execute_reply": "2021-04-25T09:16:56.885986Z"
    },
    "papermill": {
     "duration": 0.57116,
     "end_time": "2021-04-25T09:16:56.886753",
     "exception": false,
     "start_time": "2021-04-25T09:16:56.315593",
     "status": "completed"
    },
    "tags": []
   },
   "outputs": [
    {
     "data": {
      "text/plain": [
       "('CV roc-auc model3', 0.7696292621024237)"
      ]
     },
     "execution_count": 33,
     "metadata": {},
     "output_type": "execute_result"
    }
   ],
   "source": [
    "f'CV roc-auc model{num_model}', roc_auc_score(targets, oof)"
   ]
  },
  {
   "cell_type": "code",
   "execution_count": 34,
   "id": "activated-teaching",
   "metadata": {
    "execution": {
     "iopub.execute_input": "2021-04-25T09:16:57.215293Z",
     "iopub.status.busy": "2021-04-25T09:16:57.214630Z",
     "iopub.status.idle": "2021-04-25T09:17:47.628974Z",
     "shell.execute_reply": "2021-04-25T09:17:47.628350Z"
    },
    "papermill": {
     "duration": 50.581121,
     "end_time": "2021-04-25T09:17:47.629150",
     "exception": false,
     "start_time": "2021-04-25T09:16:57.048029",
     "status": "completed"
    },
    "tags": []
   },
   "outputs": [
    {
     "data": {
      "application/vnd.jupyter.widget-view+json": {
       "model_id": "04a4261d5aea46ee9a9380d90c079f11",
       "version_major": 2,
       "version_minor": 0
      },
      "text/plain": [
       "  0%|          | 0/5 [00:00<?, ?it/s]"
      ]
     },
     "metadata": {},
     "output_type": "display_data"
    }
   ],
   "source": [
    "score = np.zeros(len(merged_test_data))\n",
    "\n",
    "for model in tqdm.tqdm_notebook(new_models):\n",
    "    score += model.predict_proba(merged_test_data[top_selected_feats])[:, 1] / len(models)\n",
    "    \n",
    "submission = pd.DataFrame({\n",
    "    'app_id' : merged_test_data.app_id.values,\n",
    "    'score': score\n",
    "}) \n",
    "\n",
    "submission.to_csv(f'sub_model{num_model}.csv', index=None)  # ~ 0.736 roc-auc на public test"
   ]
  },
  {
   "cell_type": "markdown",
   "id": "annoying-court",
   "metadata": {
    "papermill": {
     "duration": 0.162656,
     "end_time": "2021-04-25T09:17:47.954659",
     "exception": false,
     "start_time": "2021-04-25T09:17:47.792003",
     "status": "completed"
    },
    "tags": []
   },
   "source": [
    "# 9. Интерпретация предсказаний модели (shap)\n",
    "---\n",
    "В задаче кредитного скорринга важна интепретируемость модели, для этого можно использовать  библиотеку shap. Мы используем так называемый summary plot, позволяющий получить общую картину о влиянии того или иного признака на предсказание модели визуализуруя всю выборку сразу. Я не смог разобраться как использовать методы shap для модели обученной на 5-ти фолдах. Ниже я заново обучаю модель после сплита 90:10 без деления на фолды, чтобы выделить основные закономерности влияния фич на таргет и попытаться визуализировать их разделяющую способность."
   ]
  },
  {
   "cell_type": "code",
   "execution_count": 35,
   "id": "parliamentary-amateur",
   "metadata": {
    "execution": {
     "iopub.execute_input": "2021-04-25T09:17:48.283307Z",
     "iopub.status.busy": "2021-04-25T09:17:48.282653Z",
     "iopub.status.idle": "2021-04-25T09:20:00.721829Z",
     "shell.execute_reply": "2021-04-25T09:20:00.721262Z"
    },
    "papermill": {
     "duration": 132.607649,
     "end_time": "2021-04-25T09:20:00.721982",
     "exception": false,
     "start_time": "2021-04-25T09:17:48.114333",
     "status": "completed"
    },
    "tags": []
   },
   "outputs": [
    {
     "name": "stdout",
     "output_type": "stream",
     "text": [
      "Training until validation scores don't improve for 50 rounds\n",
      "Did not meet early stopping. Best iteration is:\n",
      "[1000]\tvalid_0's auc: 0.765385\n",
      "CPU times: user 6min 18s, sys: 5.2 s, total: 6min 24s\n",
      "Wall time: 2min 12s\n"
     ]
    },
    {
     "data": {
      "text/plain": [
       "LGBMClassifier(learning_rate=0.05, max_depth=3, metric='auc', n_estimators=1000,\n",
       "               n_jobs=5, num_leaves=64, objective='binary', reg_lambda=1,\n",
       "               seed=100)"
      ]
     },
     "execution_count": 35,
     "metadata": {},
     "output_type": "execute_result"
    }
   ],
   "source": [
    "%%time\n",
    "train, val = train_test_split(merged_train_data, random_state=100, test_size=0.1)\n",
    "\n",
    "tree_params = {\n",
    "    'objective': 'binary',\n",
    "    'metric': 'auc',\n",
    "    'learning_rate': 0.05,\n",
    "    'max_depth': 3,\n",
    "    'reg_lambda': 1,\n",
    "    'num_leaves': 64,\n",
    "    'seed': 100,\n",
    "    'n_jobs': 5,\n",
    "    'n_estimators': 1000\n",
    "}\n",
    "\n",
    "lgb_model = lgb.LGBMClassifier(**tree_params)\n",
    "lgb_model.fit(train[features], train.flag.values, eval_set=[(val[features], val.flag.values)],\n",
    "              early_stopping_rounds=50, verbose=-1)"
   ]
  },
  {
   "cell_type": "code",
   "execution_count": 36,
   "id": "closed-continent",
   "metadata": {
    "execution": {
     "iopub.execute_input": "2021-04-25T09:20:01.052198Z",
     "iopub.status.busy": "2021-04-25T09:20:01.051560Z",
     "iopub.status.idle": "2021-04-25T09:20:01.435927Z",
     "shell.execute_reply": "2021-04-25T09:20:01.435326Z"
    },
    "papermill": {
     "duration": 0.552037,
     "end_time": "2021-04-25T09:20:01.436075",
     "exception": false,
     "start_time": "2021-04-25T09:20:00.884038",
     "status": "completed"
    },
    "tags": []
   },
   "outputs": [],
   "source": [
    "explainer = shap.TreeExplainer(lgb_model)"
   ]
  },
  {
   "cell_type": "code",
   "execution_count": 37,
   "id": "simplified-guyana",
   "metadata": {
    "execution": {
     "iopub.execute_input": "2021-04-25T09:20:01.793895Z",
     "iopub.status.busy": "2021-04-25T09:20:01.780768Z",
     "iopub.status.idle": "2021-04-25T09:20:35.867895Z",
     "shell.execute_reply": "2021-04-25T09:20:35.868551Z"
    },
    "papermill": {
     "duration": 34.269609,
     "end_time": "2021-04-25T09:20:35.868756",
     "exception": false,
     "start_time": "2021-04-25T09:20:01.599147",
     "status": "completed"
    },
    "tags": []
   },
   "outputs": [],
   "source": [
    "shap_values = explainer.shap_values(val[features])"
   ]
  },
  {
   "cell_type": "code",
   "execution_count": 38,
   "id": "difficult-affairs",
   "metadata": {
    "execution": {
     "iopub.execute_input": "2021-04-25T09:20:36.199446Z",
     "iopub.status.busy": "2021-04-25T09:20:36.198438Z",
     "iopub.status.idle": "2021-04-25T09:20:55.499863Z",
     "shell.execute_reply": "2021-04-25T09:20:55.499315Z"
    },
    "papermill": {
     "duration": 19.468291,
     "end_time": "2021-04-25T09:20:55.500054",
     "exception": false,
     "start_time": "2021-04-25T09:20:36.031763",
     "status": "completed"
    },
    "tags": []
   },
   "outputs": [
    {
     "data": {
      "image/png": "[encoded data removed]",
      "text/plain": [
       "<Figure size 576x684 with 2 Axes>"
      ]
     },
     "metadata": {
      "needs_background": "light"
     },
     "output_type": "display_data"
    }
   ],
   "source": [
    "shap.summary_plot(shap_values[1], val[features])"
   ]
  },
  {
   "cell_type": "markdown",
   "id": "split-completion",
   "metadata": {
    "papermill": {
     "duration": 0.168796,
     "end_time": "2021-04-25T09:20:55.840491",
     "exception": false,
     "start_time": "2021-04-25T09:20:55.671695",
     "status": "completed"
    },
    "tags": []
   },
   "source": [
    "График выше показывает влияние и разделяющую способность признаков:\n",
    "- каждая точка графика это клиент\n",
    "- цвет - значение прогноза дефолта, чем краснее - тем прогноз дефолта выше, и наоборот\n",
    "- горизонтальное положение точки показывает, приводит ли значение конкретной фичи этого клиента к росту предсказания дефолта, или наоборот.\n",
    "\n",
    "***Например можно увидеть следующие тренды:***\n",
    "\n",
    "1. уменьшение признака 'hour_diff_median' приводит к росту значения целевой переменной (то есть можно предположить, что клиенту приходится делать транзакции слишком часто - а это свидетельство того, что клиент вероятнее выйдет в дефолт, чем клиент который чувствует себя более уверенно в финансовом плане и может позволить делать крупные оплаты сразу не разбивая их на части)\n",
    "2. увеличение признака 'hour_diff_max' приводит к росту значения целевой переменной (то есть можно предположить, что клиент долго не пользовался картой это могло произойти в следствии овердрафта и необходимости перекредитования в другом банке)\n",
    "3. уменьшение признака 'count_mcc_category_9' приводит к росту значения целевой переменной (к сожалению категории торговых точек как данные о клиентах были обезличены, остается только предположить, что вероятно это категория 'Кафе,бары и рестораны' и клиенты испытывающие сложности в финансах перестают их посещать или делают это существенно реже.)\n",
    "4. увеличение признака 'count_operation_type_5' приводит к росту значения целевой переменной (из-за обезличивания типа операций и дополнительного анализа видно что у большинства клиентов таких операций нет, вероятно речь об операции внесение минимального платежа, вместо гашения очередного платежа. И собственно если это так что увеличение кол-ва таких операций приводит к дефолту потому что нагрузка в этом случае только возрастает)\n",
    "5. среднее и максимальное значение признака 'product' приводит к росту значения целевой переменной (предположу что 0 - кредит безналичными на карту, 1 - это кредит наличными, 2 - кредит на крупные покупки, 3 - кредит на покупку авто, 4 - ипотека. Сделать такое предположение можно и-за того что 80% всех кредитов по кол-ву приходится на продукты 0,1. А самый редкий это продукт 4. Среднее значение дефолтов 2-2,5% процента по продуктам 0,1,3. По продукту 2 - 7%. А по продукту 4 - 3%. Вероятно кредиты на крупные покупки проверяются менее чем ипотека и они не имеют обеспечения как авто для погашения кредита.)\n",
    "6. уменьшение признака 'days_before_max' приводит к росту значения целевой переменной (низкое значение максимума кол-ва дней перед взятием кредита означает короткая история транзакций в банке. Можно предположить, что клиент открыл карту и через короткое время получил кредит. Это либо мошеническая схема, но этот вариант мы не рассматривает ибо он скорее всего не массовый. А вероятно это случай перекредитования в другом банке, когда банк по соновной карте перестал предоставлять или увеличивать кредитную линию. Что является свидетельством неплатежеспособности клиента.)"
   ]
  },
  {
   "cell_type": "markdown",
   "id": "velvet-structure",
   "metadata": {
    "papermill": {
     "duration": 0.169469,
     "end_time": "2021-04-25T09:20:56.181082",
     "exception": false,
     "start_time": "2021-04-25T09:20:56.011613",
     "status": "completed"
    },
    "tags": []
   },
   "source": [
    "# 10. Target Permutation\n",
    "---\n",
    "Отбор признаков методом target permutation основан на сравнении важности признака, которая быал получена при обучении на обычной выборке, с распределением важности этого признака для моделей, которые обучены на выборках с перемешанной целевой переменной."
   ]
  },
  {
   "cell_type": "code",
   "execution_count": 39,
   "id": "quick-diary",
   "metadata": {
    "execution": {
     "iopub.execute_input": "2021-04-25T09:20:56.528273Z",
     "iopub.status.busy": "2021-04-25T09:20:56.527593Z",
     "iopub.status.idle": "2021-04-25T09:20:56.531174Z",
     "shell.execute_reply": "2021-04-25T09:20:56.530664Z"
    },
    "papermill": {
     "duration": 0.180069,
     "end_time": "2021-04-25T09:20:56.531316",
     "exception": false,
     "start_time": "2021-04-25T09:20:56.351247",
     "status": "completed"
    },
    "tags": []
   },
   "outputs": [],
   "source": [
    "def get_feature_importances(frame, shuffle=False, seed=100, importance_type='gain'):\n",
    "    # запишем целевую target в переменную\n",
    "    y = frame.flag.values.copy()\n",
    "    if shuffle:\n",
    "        # перемешаем целевую переменную\n",
    "        y = frame.flag.copy().sample(frac=1.0).values\n",
    "    \n",
    "    # обучим случайный лес из LightGBM ( реализация гораздо быстрее, чем в sklearn )\n",
    "    # сделаем это для того, чтобы не выделять отдельную выборку под валидацию для градиентного бустинга\n",
    "    tree_params = {\n",
    "    'objective': 'binary',\n",
    "    'boosting_type': 'rf',\n",
    "    'metric': 'auc',\n",
    "    'subsample_freq': np.random.choice([5, 10, 15, 20]),\n",
    "    'subsample': np.random.choice([0.6, 0.8, 0.9]),\n",
    "    'max_depth': np.random.choice([7, 8, 10]),\n",
    "    'num_leaves': 64,\n",
    "    'seed': seed,\n",
    "    'n_jobs': 5,\n",
    "    'n_estimators': 100,\n",
    "    'importance_type': importance_type\n",
    "    }\n",
    "    \n",
    "    lgb_model = lgb.LGBMClassifier(**tree_params)\n",
    "    lgb_model.fit(frame[features], y)\n",
    "    \n",
    "    importance = pd.DataFrame({\n",
    "        'feature': features,\n",
    "        f'importance_{importance_type}': lgb_model.feature_importances_,\n",
    "        'score': roc_auc_score(y, lgb_model.predict_proba(frame[features])[:, 1])\n",
    "    })\n",
    "    \n",
    "    return importance"
   ]
  },
  {
   "cell_type": "markdown",
   "id": "irish-bidder",
   "metadata": {
    "papermill": {
     "duration": 0.165636,
     "end_time": "2021-04-25T09:20:56.862951",
     "exception": false,
     "start_time": "2021-04-25T09:20:56.697315",
     "status": "completed"
    },
    "tags": []
   },
   "source": [
    "Посчитаем важность признаков (на основе количества сплитов по признаку в алгоритме random forest) при обучении на исходной выборке"
   ]
  },
  {
   "cell_type": "code",
   "execution_count": 40,
   "id": "electoral-desire",
   "metadata": {
    "execution": {
     "iopub.execute_input": "2021-04-25T09:20:57.198926Z",
     "iopub.status.busy": "2021-04-25T09:20:57.197942Z",
     "iopub.status.idle": "2021-04-25T09:21:37.980562Z",
     "shell.execute_reply": "2021-04-25T09:21:37.981081Z"
    },
    "papermill": {
     "duration": 40.953957,
     "end_time": "2021-04-25T09:21:37.981269",
     "exception": false,
     "start_time": "2021-04-25T09:20:57.027312",
     "status": "completed"
    },
    "tags": []
   },
   "outputs": [
    {
     "data": {
      "text/html": [
       "<div>\n",
       "<style scoped>\n",
       "    .dataframe tbody tr th:only-of-type {\n",
       "        vertical-align: middle;\n",
       "    }\n",
       "\n",
       "    .dataframe tbody tr th {\n",
       "        vertical-align: top;\n",
       "    }\n",
       "\n",
       "    .dataframe thead th {\n",
       "        text-align: right;\n",
       "    }\n",
       "</style>\n",
       "<table border=\"1\" class=\"dataframe\">\n",
       "  <thead>\n",
       "    <tr style=\"text-align: right;\">\n",
       "      <th></th>\n",
       "      <th>feature</th>\n",
       "      <th>importance_split</th>\n",
       "      <th>score</th>\n",
       "    </tr>\n",
       "  </thead>\n",
       "  <tbody>\n",
       "    <tr>\n",
       "      <th>0</th>\n",
       "      <td>count_mcc_category_1</td>\n",
       "      <td>15</td>\n",
       "      <td>0.71922</td>\n",
       "    </tr>\n",
       "    <tr>\n",
       "      <th>1</th>\n",
       "      <td>count_mcc_category_2</td>\n",
       "      <td>45</td>\n",
       "      <td>0.71922</td>\n",
       "    </tr>\n",
       "    <tr>\n",
       "      <th>2</th>\n",
       "      <td>count_mcc_category_3</td>\n",
       "      <td>15</td>\n",
       "      <td>0.71922</td>\n",
       "    </tr>\n",
       "    <tr>\n",
       "      <th>3</th>\n",
       "      <td>count_mcc_category_4</td>\n",
       "      <td>75</td>\n",
       "      <td>0.71922</td>\n",
       "    </tr>\n",
       "    <tr>\n",
       "      <th>4</th>\n",
       "      <td>count_mcc_category_5</td>\n",
       "      <td>15</td>\n",
       "      <td>0.71922</td>\n",
       "    </tr>\n",
       "  </tbody>\n",
       "</table>\n",
       "</div>"
      ],
      "text/plain": [
       "                feature  importance_split    score\n",
       "0  count_mcc_category_1                15  0.71922\n",
       "1  count_mcc_category_2                45  0.71922\n",
       "2  count_mcc_category_3                15  0.71922\n",
       "3  count_mcc_category_4                75  0.71922\n",
       "4  count_mcc_category_5                15  0.71922"
      ]
     },
     "execution_count": 40,
     "metadata": {},
     "output_type": "execute_result"
    }
   ],
   "source": [
    "real_importance = get_feature_importances(train, shuffle=False, seed=100, importance_type='split')\n",
    "real_importance.head()"
   ]
  },
  {
   "cell_type": "markdown",
   "id": "tracked-butler",
   "metadata": {
    "papermill": {
     "duration": 0.1645,
     "end_time": "2021-04-25T09:21:38.312201",
     "exception": false,
     "start_time": "2021-04-25T09:21:38.147701",
     "status": "completed"
    },
    "tags": []
   },
   "source": [
    "Посчитаем важность признаков для выборок, у которых целевая переменная перемешана. То есть фактически, обучаем алгоритм на шуме."
   ]
  },
  {
   "cell_type": "code",
   "execution_count": 41,
   "id": "worse-specific",
   "metadata": {
    "execution": {
     "iopub.execute_input": "2021-04-25T09:21:38.655787Z",
     "iopub.status.busy": "2021-04-25T09:21:38.654825Z",
     "iopub.status.idle": "2021-04-25T09:21:38.657844Z",
     "shell.execute_reply": "2021-04-25T09:21:38.657171Z"
    },
    "papermill": {
     "duration": 0.179306,
     "end_time": "2021-04-25T09:21:38.657988",
     "exception": false,
     "start_time": "2021-04-25T09:21:38.478682",
     "status": "completed"
    },
    "tags": []
   },
   "outputs": [],
   "source": [
    "def calculate_null_importance(frame, num_runs=80, importance_type='gain'):\n",
    "    null_importance = pd.DataFrame()\n",
    "    for i in tqdm.tqdm_notebook(range(num_runs)):\n",
    "        # посчитаем текущую важность признаков при перемешивании целевой переменной\n",
    "        importance = get_feature_importances(frame, shuffle=True, seed=None, importance_type=importance_type)\n",
    "        importance['run'] = i + 1 \n",
    "        null_importance = pd.concat([null_importance, importance], axis=0)\n",
    "    return null_importance"
   ]
  },
  {
   "cell_type": "code",
   "execution_count": 42,
   "id": "concrete-andrews",
   "metadata": {
    "execution": {
     "iopub.execute_input": "2021-04-25T09:21:39.027053Z",
     "iopub.status.busy": "2021-04-25T09:21:39.003205Z",
     "iopub.status.idle": "2021-04-25T09:36:57.673986Z",
     "shell.execute_reply": "2021-04-25T09:36:57.670913Z"
    },
    "papermill": {
     "duration": 918.850998,
     "end_time": "2021-04-25T09:36:57.674183",
     "exception": false,
     "start_time": "2021-04-25T09:21:38.823185",
     "status": "completed"
    },
    "tags": []
   },
   "outputs": [
    {
     "data": {
      "application/vnd.jupyter.widget-view+json": {
       "model_id": "7f168e19011c43db8512aafd26896c62",
       "version_major": 2,
       "version_minor": 0
      },
      "text/plain": [
       "  0%|          | 0/30 [00:00<?, ?it/s]"
      ]
     },
     "metadata": {},
     "output_type": "display_data"
    },
    {
     "name": "stdout",
     "output_type": "stream",
     "text": [
      "CPU times: user 40min 44s, sys: 1min 19s, total: 42min 4s\n",
      "Wall time: 15min 18s\n"
     ]
    }
   ],
   "source": [
    "%%time\n",
    "null_importance = calculate_null_importance(train, num_runs=30, importance_type='split')"
   ]
  },
  {
   "cell_type": "markdown",
   "id": "fantastic-cleanup",
   "metadata": {
    "papermill": {
     "duration": 0.171347,
     "end_time": "2021-04-25T09:36:58.017354",
     "exception": false,
     "start_time": "2021-04-25T09:36:57.846007",
     "status": "completed"
    },
    "tags": []
   },
   "source": [
    "Теперь имеем возможность для каждого признака построить гистограмму важности этого признака при обучении на выборке с перемешанным таргетом и на выборке с реальной целевой переменной. В идеале, гистограмма должна быть как можно дальше от реального значения важности признака"
   ]
  },
  {
   "cell_type": "code",
   "execution_count": 43,
   "id": "worse-hearing",
   "metadata": {
    "execution": {
     "iopub.execute_input": "2021-04-25T09:36:58.365469Z",
     "iopub.status.busy": "2021-04-25T09:36:58.364437Z",
     "iopub.status.idle": "2021-04-25T09:36:58.367761Z",
     "shell.execute_reply": "2021-04-25T09:36:58.367117Z"
    },
    "papermill": {
     "duration": 0.181107,
     "end_time": "2021-04-25T09:36:58.367904",
     "exception": false,
     "start_time": "2021-04-25T09:36:58.186797",
     "status": "completed"
    },
    "tags": []
   },
   "outputs": [],
   "source": [
    "def plot_distribution(real_importance, null_importance, feature_name, importance_name='gain'):\n",
    "    fig, ax = plt.subplots(figsize=(8, 6))\n",
    "    a = ax.hist(null_importance.loc[null_importance['feature'] == feature_name, f'importance_{importance_name}'].values, \n",
    "                label='Null importances')\n",
    "    \n",
    "    ax.vlines(x=real_importance.loc[real_importance['feature'] == feature_name, f'importance_{importance_name}'].mean(), \n",
    "               ymin=0, ymax=np.max(a[0]), color='r',linewidth=10, label='Real Target')\n",
    "    ax.legend()\n",
    "    ax.set_title(f'Split Importance of {feature_name}', fontweight='bold')\n",
    "    plt.xlabel(f'Null Importance ({importance_name}) Distribution for {feature_name}')"
   ]
  },
  {
   "cell_type": "code",
   "execution_count": 44,
   "id": "royal-provider",
   "metadata": {
    "execution": {
     "iopub.execute_input": "2021-04-25T09:36:58.726061Z",
     "iopub.status.busy": "2021-04-25T09:36:58.724914Z",
     "iopub.status.idle": "2021-04-25T09:36:58.932924Z",
     "shell.execute_reply": "2021-04-25T09:36:58.933416Z"
    },
    "papermill": {
     "duration": 0.399128,
     "end_time": "2021-04-25T09:36:58.933636",
     "exception": false,
     "start_time": "2021-04-25T09:36:58.534508",
     "status": "completed"
    },
    "tags": []
   },
   "outputs": [
    {
     "data": {
      "image/png": "[encoded data removed]",
      "text/plain": [
       "<Figure size 576x432 with 1 Axes>"
      ]
     },
     "metadata": {
      "needs_background": "light"
     },
     "output_type": "display_data"
    }
   ],
   "source": [
    "plot_distribution(real_importance, null_importance, feature_name='product', importance_name='split')"
   ]
  },
  {
   "cell_type": "code",
   "execution_count": 45,
   "id": "demographic-payday",
   "metadata": {
    "execution": {
     "iopub.execute_input": "2021-04-25T09:36:59.297860Z",
     "iopub.status.busy": "2021-04-25T09:36:59.296722Z",
     "iopub.status.idle": "2021-04-25T09:36:59.509533Z",
     "shell.execute_reply": "2021-04-25T09:36:59.510071Z"
    },
    "papermill": {
     "duration": 0.405805,
     "end_time": "2021-04-25T09:36:59.510266",
     "exception": false,
     "start_time": "2021-04-25T09:36:59.104461",
     "status": "completed"
    },
    "tags": []
   },
   "outputs": [
    {
     "data": {
      "image/png": "[encoded data removed]",
      "text/plain": [
       "<Figure size 576x432 with 1 Axes>"
      ]
     },
     "metadata": {
      "needs_background": "light"
     },
     "output_type": "display_data"
    }
   ],
   "source": [
    "plot_distribution(real_importance, null_importance, feature_name='hour_diff_median', importance_name='split')"
   ]
  },
  {
   "cell_type": "code",
   "execution_count": 46,
   "id": "digital-kitty",
   "metadata": {
    "execution": {
     "iopub.execute_input": "2021-04-25T09:36:59.853689Z",
     "iopub.status.busy": "2021-04-25T09:36:59.852875Z",
     "iopub.status.idle": "2021-04-25T09:37:00.067503Z",
     "shell.execute_reply": "2021-04-25T09:37:00.068020Z"
    },
    "papermill": {
     "duration": 0.388215,
     "end_time": "2021-04-25T09:37:00.068197",
     "exception": false,
     "start_time": "2021-04-25T09:36:59.679982",
     "status": "completed"
    },
    "tags": []
   },
   "outputs": [
    {
     "data": {
      "image/png": "[encoded data removed]",
      "text/plain": [
       "<Figure size 576x432 with 1 Axes>"
      ]
     },
     "metadata": {
      "needs_background": "light"
     },
     "output_type": "display_data"
    }
   ],
   "source": [
    "plot_distribution(real_importance, null_importance, feature_name='amnt_sum', importance_name='split')"
   ]
  },
  {
   "cell_type": "markdown",
   "id": "nervous-binary",
   "metadata": {
    "papermill": {
     "duration": 0.169483,
     "end_time": "2021-04-25T09:37:00.407822",
     "exception": false,
     "start_time": "2021-04-25T09:37:00.238339",
     "status": "completed"
    },
    "tags": []
   },
   "source": [
    "Попробуем поставить каждому признаку новый скор, важность, с учетом той информации, которую имеем. Один из вариантов - поделить реальноа значение важности признака на среднее значение для перемешанных важностей этого признака. "
   ]
  },
  {
   "cell_type": "code",
   "execution_count": 47,
   "id": "honest-angola",
   "metadata": {
    "execution": {
     "iopub.execute_input": "2021-04-25T09:37:00.753067Z",
     "iopub.status.busy": "2021-04-25T09:37:00.752331Z",
     "iopub.status.idle": "2021-04-25T09:37:00.931771Z",
     "shell.execute_reply": "2021-04-25T09:37:00.932306Z"
    },
    "papermill": {
     "duration": 0.353459,
     "end_time": "2021-04-25T09:37:00.932546",
     "exception": false,
     "start_time": "2021-04-25T09:37:00.579087",
     "status": "completed"
    },
    "tags": []
   },
   "outputs": [],
   "source": [
    "scores = []\n",
    "importance_name = 'split'\n",
    "\n",
    "for feature in features:\n",
    "    hist_null_importance = null_importance.loc[null_importance['feature'] == feature, f'importance_{importance_name}'].values\n",
    "    actual_importance = real_importance.loc[real_importance['feature'] == feature, f'importance_{importance_name}'].mean()\n",
    "    score = (1e-10 + actual_importance) / (1 + np.mean(hist_null_importance))        \n",
    "    scores.append(round(score, 3))"
   ]
  },
  {
   "cell_type": "code",
   "execution_count": 48,
   "id": "cleared-booking",
   "metadata": {
    "execution": {
     "iopub.execute_input": "2021-04-25T09:37:01.279059Z",
     "iopub.status.busy": "2021-04-25T09:37:01.278340Z",
     "iopub.status.idle": "2021-04-25T09:37:01.628209Z",
     "shell.execute_reply": "2021-04-25T09:37:01.628820Z"
    },
    "papermill": {
     "duration": 0.523975,
     "end_time": "2021-04-25T09:37:01.629011",
     "exception": false,
     "start_time": "2021-04-25T09:37:01.105036",
     "status": "completed"
    },
    "tags": []
   },
   "outputs": [
    {
     "data": {
      "image/png": "[encoded data removed]",
      "text/plain": [
       "<Figure size 720x576 with 1 Axes>"
      ]
     },
     "metadata": {
      "needs_background": "light"
     },
     "output_type": "display_data"
    }
   ],
   "source": [
    "plot_feature_importance(features, scores, top_feats=20, title='target permutation importance', \n",
    "                        x_label='Importance')"
   ]
  },
  {
   "cell_type": "code",
   "execution_count": 49,
   "id": "given-vaccine",
   "metadata": {
    "execution": {
     "iopub.execute_input": "2021-04-25T09:37:01.985091Z",
     "iopub.status.busy": "2021-04-25T09:37:01.984191Z",
     "iopub.status.idle": "2021-04-25T09:37:01.994023Z",
     "shell.execute_reply": "2021-04-25T09:37:01.993463Z"
    },
    "papermill": {
     "duration": 0.188479,
     "end_time": "2021-04-25T09:37:01.994178",
     "exception": false,
     "start_time": "2021-04-25T09:37:01.805699",
     "status": "completed"
    },
    "tags": []
   },
   "outputs": [
    {
     "name": "stdout",
     "output_type": "stream",
     "text": [
      "Кол-во отобранных признаков после всех методов отбора:= 52\n"
     ]
    }
   ],
   "source": [
    "tuples = [(name, round(score, 3)) for name, score in zip(features, scores)]\n",
    "tuples = sorted(tuples, key=lambda x: x[1])\n",
    "\n",
    "top_selected_feats = [x[0] for x in tuples if x[1] > 0]\n",
    "print(f'Кол-во отобранных признаков после всех методов отбора:= {len(top_selected_feats)}')"
   ]
  },
  {
   "cell_type": "markdown",
   "id": "frank-conducting",
   "metadata": {
    "papermill": {
     "duration": 0.176816,
     "end_time": "2021-04-25T09:37:02.345348",
     "exception": false,
     "start_time": "2021-04-25T09:37:02.168532",
     "status": "completed"
    },
    "tags": []
   },
   "source": [
    "# 11. LightGBM + CV (4)\n",
    "---\n",
    "## 11.1. Четвертая модель (model4)\n",
    "(на признаках после отбора с помощью всех методов Features importance(median), Permutation importance и Target importance)"
   ]
  },
  {
   "cell_type": "code",
   "execution_count": 50,
   "id": "official-gathering",
   "metadata": {
    "execution": {
     "iopub.execute_input": "2021-04-25T09:37:02.698909Z",
     "iopub.status.busy": "2021-04-25T09:37:02.697844Z",
     "iopub.status.idle": "2021-04-25T09:37:02.702122Z",
     "shell.execute_reply": "2021-04-25T09:37:02.701403Z"
    },
    "papermill": {
     "duration": 0.184408,
     "end_time": "2021-04-25T09:37:02.702277",
     "exception": false,
     "start_time": "2021-04-25T09:37:02.517869",
     "status": "completed"
    },
    "tags": []
   },
   "outputs": [],
   "source": [
    "num_model = 4"
   ]
  },
  {
   "cell_type": "code",
   "execution_count": 51,
   "id": "regulation-server",
   "metadata": {
    "execution": {
     "iopub.execute_input": "2021-04-25T09:37:03.075285Z",
     "iopub.status.busy": "2021-04-25T09:37:03.074574Z",
     "iopub.status.idle": "2021-04-25T09:37:03.809878Z",
     "shell.execute_reply": "2021-04-25T09:37:03.809246Z"
    },
    "papermill": {
     "duration": 0.9322,
     "end_time": "2021-04-25T09:37:03.810034",
     "exception": false,
     "start_time": "2021-04-25T09:37:02.877834",
     "status": "completed"
    },
    "tags": []
   },
   "outputs": [],
   "source": [
    "!mkdir model4"
   ]
  },
  {
   "cell_type": "code",
   "execution_count": 52,
   "id": "failing-teddy",
   "metadata": {
    "execution": {
     "iopub.execute_input": "2021-04-25T09:37:04.176292Z",
     "iopub.status.busy": "2021-04-25T09:37:04.175534Z",
     "iopub.status.idle": "2021-04-25T09:46:08.412335Z",
     "shell.execute_reply": "2021-04-25T09:46:08.412854Z"
    },
    "papermill": {
     "duration": 544.426648,
     "end_time": "2021-04-25T09:46:08.413040",
     "exception": false,
     "start_time": "2021-04-25T09:37:03.986392",
     "status": "completed"
    },
    "tags": []
   },
   "outputs": [
    {
     "name": "stdout",
     "output_type": "stream",
     "text": [
      "Training with fold 1 started.\n",
      "Training until validation scores don't improve for 50 rounds\n",
      "[50]\tvalid_0's auc: 0.732007\n",
      "[100]\tvalid_0's auc: 0.743403\n",
      "[150]\tvalid_0's auc: 0.748255\n",
      "[200]\tvalid_0's auc: 0.751106\n",
      "[250]\tvalid_0's auc: 0.753179\n",
      "[300]\tvalid_0's auc: 0.754779\n",
      "[350]\tvalid_0's auc: 0.755701\n",
      "[400]\tvalid_0's auc: 0.756664\n",
      "[450]\tvalid_0's auc: 0.757523\n",
      "[500]\tvalid_0's auc: 0.758219\n",
      "[550]\tvalid_0's auc: 0.75876\n",
      "[600]\tvalid_0's auc: 0.759017\n",
      "[650]\tvalid_0's auc: 0.759537\n",
      "[700]\tvalid_0's auc: 0.759872\n",
      "[750]\tvalid_0's auc: 0.760291\n",
      "[800]\tvalid_0's auc: 0.760651\n",
      "[850]\tvalid_0's auc: 0.760947\n",
      "[900]\tvalid_0's auc: 0.761206\n",
      "[950]\tvalid_0's auc: 0.76141\n",
      "[1000]\tvalid_0's auc: 0.761639\n",
      "Did not meet early stopping. Best iteration is:\n",
      "[996]\tvalid_0's auc: 0.761659\n",
      "Training with fold 1 completed.\n",
      "Training with fold 2 started.\n",
      "Training until validation scores don't improve for 50 rounds\n",
      "[50]\tvalid_0's auc: 0.733988\n",
      "[100]\tvalid_0's auc: 0.747403\n",
      "[150]\tvalid_0's auc: 0.752494\n",
      "[200]\tvalid_0's auc: 0.755445\n",
      "[250]\tvalid_0's auc: 0.757181\n",
      "[300]\tvalid_0's auc: 0.758559\n",
      "[350]\tvalid_0's auc: 0.759722\n",
      "[400]\tvalid_0's auc: 0.7607\n",
      "[450]\tvalid_0's auc: 0.761575\n",
      "[500]\tvalid_0's auc: 0.762409\n",
      "[550]\tvalid_0's auc: 0.762959\n",
      "[600]\tvalid_0's auc: 0.763272\n",
      "[650]\tvalid_0's auc: 0.763808\n",
      "[700]\tvalid_0's auc: 0.76417\n",
      "[750]\tvalid_0's auc: 0.764476\n",
      "[800]\tvalid_0's auc: 0.764826\n",
      "[850]\tvalid_0's auc: 0.765154\n",
      "[900]\tvalid_0's auc: 0.765456\n",
      "[950]\tvalid_0's auc: 0.765753\n",
      "[1000]\tvalid_0's auc: 0.766044\n",
      "Did not meet early stopping. Best iteration is:\n",
      "[997]\tvalid_0's auc: 0.766061\n",
      "Training with fold 2 completed.\n",
      "Training with fold 3 started.\n",
      "Training until validation scores don't improve for 50 rounds\n",
      "[50]\tvalid_0's auc: 0.738692\n",
      "[100]\tvalid_0's auc: 0.750728\n",
      "[150]\tvalid_0's auc: 0.755854\n",
      "[200]\tvalid_0's auc: 0.758987\n",
      "[250]\tvalid_0's auc: 0.760856\n",
      "[300]\tvalid_0's auc: 0.762321\n",
      "[350]\tvalid_0's auc: 0.763293\n",
      "[400]\tvalid_0's auc: 0.763981\n",
      "[450]\tvalid_0's auc: 0.764919\n",
      "[500]\tvalid_0's auc: 0.76537\n",
      "[550]\tvalid_0's auc: 0.76589\n",
      "[600]\tvalid_0's auc: 0.766398\n",
      "[650]\tvalid_0's auc: 0.766793\n",
      "[700]\tvalid_0's auc: 0.767087\n",
      "[750]\tvalid_0's auc: 0.76744\n",
      "[800]\tvalid_0's auc: 0.767699\n",
      "[850]\tvalid_0's auc: 0.767961\n",
      "[900]\tvalid_0's auc: 0.768214\n",
      "[950]\tvalid_0's auc: 0.768522\n",
      "[1000]\tvalid_0's auc: 0.768774\n",
      "Did not meet early stopping. Best iteration is:\n",
      "[1000]\tvalid_0's auc: 0.768774\n",
      "Training with fold 3 completed.\n",
      "Training with fold 4 started.\n",
      "Training until validation scores don't improve for 50 rounds\n",
      "[50]\tvalid_0's auc: 0.730462\n",
      "[100]\tvalid_0's auc: 0.743328\n",
      "[150]\tvalid_0's auc: 0.7489\n",
      "[200]\tvalid_0's auc: 0.751676\n",
      "[250]\tvalid_0's auc: 0.75385\n",
      "[300]\tvalid_0's auc: 0.755508\n",
      "[350]\tvalid_0's auc: 0.756654\n",
      "[400]\tvalid_0's auc: 0.757746\n",
      "[450]\tvalid_0's auc: 0.758776\n",
      "[500]\tvalid_0's auc: 0.759565\n",
      "[550]\tvalid_0's auc: 0.760182\n",
      "[600]\tvalid_0's auc: 0.760801\n",
      "[650]\tvalid_0's auc: 0.761252\n",
      "[700]\tvalid_0's auc: 0.761683\n",
      "[750]\tvalid_0's auc: 0.761912\n",
      "[800]\tvalid_0's auc: 0.762174\n",
      "[850]\tvalid_0's auc: 0.762472\n",
      "[900]\tvalid_0's auc: 0.762762\n",
      "[950]\tvalid_0's auc: 0.762972\n",
      "[1000]\tvalid_0's auc: 0.763161\n",
      "Did not meet early stopping. Best iteration is:\n",
      "[1000]\tvalid_0's auc: 0.763161\n",
      "Training with fold 4 completed.\n",
      "Training with fold 5 started.\n",
      "Training until validation scores don't improve for 50 rounds\n",
      "[50]\tvalid_0's auc: 0.737569\n",
      "[100]\tvalid_0's auc: 0.749079\n",
      "[150]\tvalid_0's auc: 0.753903\n",
      "[200]\tvalid_0's auc: 0.756532\n",
      "[250]\tvalid_0's auc: 0.758356\n",
      "[300]\tvalid_0's auc: 0.759843\n",
      "[350]\tvalid_0's auc: 0.76099\n",
      "[400]\tvalid_0's auc: 0.761865\n",
      "[450]\tvalid_0's auc: 0.762679\n",
      "[500]\tvalid_0's auc: 0.76331\n",
      "[550]\tvalid_0's auc: 0.76382\n",
      "[600]\tvalid_0's auc: 0.764177\n",
      "[650]\tvalid_0's auc: 0.764545\n",
      "[700]\tvalid_0's auc: 0.764735\n",
      "[750]\tvalid_0's auc: 0.764871\n",
      "[800]\tvalid_0's auc: 0.76521\n",
      "[850]\tvalid_0's auc: 0.765356\n",
      "[900]\tvalid_0's auc: 0.765486\n",
      "[950]\tvalid_0's auc: 0.765702\n",
      "[1000]\tvalid_0's auc: 0.765864\n",
      "Did not meet early stopping. Best iteration is:\n",
      "[1000]\tvalid_0's auc: 0.765864\n",
      "Training with fold 5 completed.\n",
      "CPU times: user 24min 59s, sys: 20.6 s, total: 25min 20s\n",
      "Wall time: 9min 4s\n"
     ]
    }
   ],
   "source": [
    "%%time\n",
    "\n",
    "oof = np.zeros(len(merged_train_data))\n",
    "train_preds = np.zeros(len(merged_train_data))\n",
    "\n",
    "new_models = []\n",
    "\n",
    "tree_params = {\n",
    "    'objective': 'binary',\n",
    "    'metric': 'auc',\n",
    "    'learning_rate': 0.05,\n",
    "    'max_depth': 3,\n",
    "    'reg_lambda': 1,\n",
    "    'num_leaves': 64,\n",
    "    'n_jobs': 5,\n",
    "    'n_estimators': 1000\n",
    "}\n",
    "\n",
    "\n",
    "for fold_, (train_idx, val_idx) in enumerate(cv.split(merged_train_data, targets), 1):\n",
    "    print(f'Training with fold {fold_} started.')\n",
    "    lgb_model = lgb.LGBMClassifier(**tree_params)\n",
    "    train, val = merged_train_data.iloc[train_idx], merged_train_data.iloc[val_idx]\n",
    "    \n",
    "    lgb_model.fit(train[top_selected_feats], train.flag.values, eval_set=[(val[top_selected_feats], val.flag.values)],\n",
    "              early_stopping_rounds=50, verbose=50)\n",
    "\n",
    "    \n",
    "    oof[val_idx] = lgb_model.predict_proba(val[top_selected_feats])[:, 1]\n",
    "    train_preds[train_idx] += lgb_model.predict_proba(train[top_selected_feats])[:, 1] / (cv.n_splits-1)\n",
    "    new_models.append(lgb_model)\n",
    "    \n",
    "    file_name_model = f'model{num_model}/model{num_model}_{fold_}.txt'\n",
    "    lgb_model.booster_.save_model(PATH_TO_WORKDIR+file_name_model)\n",
    "    print(f'Training with fold {fold_} completed.')"
   ]
  },
  {
   "cell_type": "code",
   "execution_count": 53,
   "id": "hispanic-brother",
   "metadata": {
    "execution": {
     "iopub.execute_input": "2021-04-25T09:46:08.826763Z",
     "iopub.status.busy": "2021-04-25T09:46:08.826083Z",
     "iopub.status.idle": "2021-04-25T09:46:08.830390Z",
     "shell.execute_reply": "2021-04-25T09:46:08.830955Z"
    },
    "papermill": {
     "duration": 0.213191,
     "end_time": "2021-04-25T09:46:08.831128",
     "exception": false,
     "start_time": "2021-04-25T09:46:08.617937",
     "status": "completed"
    },
    "tags": []
   },
   "outputs": [],
   "source": [
    "file_name_pickle = PATH_TO_WORKDIR + f'model{num_model}/feats_model{num_model}.pickle'\n",
    "with open(file_name_pickle, 'wb') as f:\n",
    "    pickle.dump(top_selected_feats, f)"
   ]
  },
  {
   "cell_type": "code",
   "execution_count": 54,
   "id": "spiritual-indicator",
   "metadata": {
    "execution": {
     "iopub.execute_input": "2021-04-25T09:46:09.258125Z",
     "iopub.status.busy": "2021-04-25T09:46:09.257449Z",
     "iopub.status.idle": "2021-04-25T09:46:09.672368Z",
     "shell.execute_reply": "2021-04-25T09:46:09.671638Z"
    },
    "papermill": {
     "duration": 0.633565,
     "end_time": "2021-04-25T09:46:09.672550",
     "exception": false,
     "start_time": "2021-04-25T09:46:09.038985",
     "status": "completed"
    },
    "tags": []
   },
   "outputs": [
    {
     "data": {
      "text/plain": [
       "('Train roc-auc model4', 0.7918817570812984)"
      ]
     },
     "execution_count": 54,
     "metadata": {},
     "output_type": "execute_result"
    }
   ],
   "source": [
    "f'Train roc-auc model{num_model}', roc_auc_score(targets, train_preds)"
   ]
  },
  {
   "cell_type": "code",
   "execution_count": 55,
   "id": "listed-assistant",
   "metadata": {
    "execution": {
     "iopub.execute_input": "2021-04-25T09:46:10.097914Z",
     "iopub.status.busy": "2021-04-25T09:46:10.096912Z",
     "iopub.status.idle": "2021-04-25T09:46:10.488858Z",
     "shell.execute_reply": "2021-04-25T09:46:10.488049Z"
    },
    "papermill": {
     "duration": 0.608511,
     "end_time": "2021-04-25T09:46:10.489013",
     "exception": false,
     "start_time": "2021-04-25T09:46:09.880502",
     "status": "completed"
    },
    "tags": []
   },
   "outputs": [
    {
     "data": {
      "text/plain": [
       "('CV roc-auc model4', 0.7650961673259608)"
      ]
     },
     "execution_count": 55,
     "metadata": {},
     "output_type": "execute_result"
    }
   ],
   "source": [
    "f'CV roc-auc model{num_model}', roc_auc_score(targets, oof)"
   ]
  },
  {
   "cell_type": "code",
   "execution_count": 56,
   "id": "illegal-invalid",
   "metadata": {
    "execution": {
     "iopub.execute_input": "2021-04-25T09:46:10.910011Z",
     "iopub.status.busy": "2021-04-25T09:46:10.908985Z",
     "iopub.status.idle": "2021-04-25T09:46:59.179355Z",
     "shell.execute_reply": "2021-04-25T09:46:59.178752Z"
    },
    "papermill": {
     "duration": 48.483755,
     "end_time": "2021-04-25T09:46:59.179537",
     "exception": false,
     "start_time": "2021-04-25T09:46:10.695782",
     "status": "completed"
    },
    "tags": []
   },
   "outputs": [
    {
     "data": {
      "application/vnd.jupyter.widget-view+json": {
       "model_id": "d1287d86928a49ee95951641a919baf5",
       "version_major": 2,
       "version_minor": 0
      },
      "text/plain": [
       "  0%|          | 0/5 [00:00<?, ?it/s]"
      ]
     },
     "metadata": {},
     "output_type": "display_data"
    }
   ],
   "source": [
    "score = np.zeros(len(merged_test_data))\n",
    "\n",
    "for model in tqdm.tqdm_notebook(new_models):\n",
    "    score += model.predict_proba(merged_test_data[top_selected_feats])[:, 1] / len(models)\n",
    "    \n",
    "submission = pd.DataFrame({\n",
    "    'app_id' : merged_test_data.app_id.values,\n",
    "    'score': score\n",
    "})\n",
    "submission.to_csv(f'sub_model{num_model}.csv', index=None)  # ~ 0.733 на public test"
   ]
  },
  {
   "cell_type": "markdown",
   "id": "sized-dodge",
   "metadata": {
    "papermill": {
     "duration": 0.335622,
     "end_time": "2021-04-25T09:46:59.825541",
     "exception": false,
     "start_time": "2021-04-25T09:46:59.489919",
     "status": "completed"
    },
    "tags": []
   },
   "source": [
    "Расчет модели Catboost реализован в следующем кернеле, чтобы не использовать квоту так как запускается на GPU\n",
    "\n",
    "**Результаты всех экспериментов моделей (метрика AUC ROC):**  \n",
    "                    Model                            | число призн. |    Train     |     CV      |   Public Test      \n",
    "---  \n",
    "                     lgb+cv(5)                     |        127           |    0.801    |    0.77     |    0.737       \n",
    "       lgb+cv(5)+split_importance      |          64            |    0.795    |    0.767    |    0.735  \n",
    "lgb+cv(5)+permutation_importance |         57            |    0.796    |    0.768    |    0.736   \n",
    "    lgb+cv(5)+target_permutation     |          60            |    0.796    |    0.766    |    0.733 \n"
   ]
  }
 ],
 "metadata": {
  "kernelspec": {
   "display_name": "Python 3",
   "language": "python",
   "name": "python3"
  },
  "language_info": {
   "codemirror_mode": {
    "name": "ipython",
    "version": 3
   },
   "file_extension": ".py",
   "mimetype": "text/x-python",
   "name": "python",
   "nbconvert_exporter": "python",
   "pygments_lexer": "ipython3",
   "version": "3.7.10"
  },
  "papermill": {
   "default_parameters": {},
   "duration": 12438.256658,
   "end_time": "2021-04-25T09:47:03.082459",
   "environment_variables": {},
   "exception": null,
   "input_path": "__notebook__.ipynb",
   "output_path": "__notebook__.ipynb",
   "parameters": {},
   "start_time": "2021-04-25T06:19:44.825801",
   "version": "2.3.3"
  },
  "widgets": {
   "application/vnd.jupyter.widget-state+json": {
    "state": {
     "03c61d2f79e24cd0a748a2967385e641": {
      "model_module": "@jupyter-widgets/controls",
      "model_module_version": "1.5.0",
      "model_name": "FloatProgressModel",
      "state": {
       "_dom_classes": [],
       "_model_module": "@jupyter-widgets/controls",
       "_model_module_version": "1.5.0",
       "_model_name": "FloatProgressModel",
       "_view_count": null,
       "_view_module": "@jupyter-widgets/controls",
       "_view_module_version": "1.5.0",
       "_view_name": "ProgressView",
       "bar_style": "success",
       "description": "",
       "description_tooltip": null,
       "layout": "IPY_MODEL_4d90f212697b49b29a593739375763cd",
       "max": 5.0,
       "min": 0.0,
       "orientation": "horizontal",
       "style": "IPY_MODEL_0aac1527fab24ccbbda7f6083be19355",
       "value": 5.0
      }
     },
     "04a4261d5aea46ee9a9380d90c079f11": {
      "model_module": "@jupyter-widgets/controls",
      "model_module_version": "1.5.0",
      "model_name": "HBoxModel",
      "state": {
       "_dom_classes": [],
       "_model_module": "@jupyter-widgets/controls",
       "_model_module_version": "1.5.0",
       "_model_name": "HBoxModel",
       "_view_count": null,
       "_view_module": "@jupyter-widgets/controls",
       "_view_module_version": "1.5.0",
       "_view_name": "HBoxView",
       "box_style": "",
       "children": [
        "IPY_MODEL_4331115c4bdd42468f9489d1fc3be968",
        "IPY_MODEL_03c61d2f79e24cd0a748a2967385e641",
        "IPY_MODEL_33080a058a884fcfbb423932ab278426"
       ],
       "layout": "IPY_MODEL_663ac896ab9d4e93b5fe0c44dfb0fdf2"
      }
     },
     "04fd8ffc5d98442eb759b1d9755c2977": {
      "model_module": "@jupyter-widgets/base",
      "model_module_version": "1.2.0",
      "model_name": "LayoutModel",
      "state": {
       "_model_module": "@jupyter-widgets/base",
       "_model_module_version": "1.2.0",
       "_model_name": "LayoutModel",
       "_view_count": null,
       "_view_module": "@jupyter-widgets/base",
       "_view_module_version": "1.2.0",
       "_view_name": "LayoutView",
       "align_content": null,
       "align_items": null,
       "align_self": null,
       "border": null,
       "bottom": null,
       "display": null,
       "flex": null,
       "flex_flow": null,
       "grid_area": null,
       "grid_auto_columns": null,
       "grid_auto_flow": null,
       "grid_auto_rows": null,
       "grid_column": null,
       "grid_gap": null,
       "grid_row": null,
       "grid_template_areas": null,
       "grid_template_columns": null,
       "grid_template_rows": null,
       "height": null,
       "justify_content": null,
       "justify_items": null,
       "left": null,
       "margin": null,
       "max_height": null,
       "max_width": null,
       "min_height": null,
       "min_width": null,
       "object_fit": null,
       "object_position": null,
       "order": null,
       "overflow": null,
       "overflow_x": null,
       "overflow_y": null,
       "padding": null,
       "right": null,
       "top": null,
       "visibility": null,
       "width": null
      }
     },
     "092ca3d3042e4c07856d648054165cf7": {
      "model_module": "@jupyter-widgets/base",
      "model_module_version": "1.2.0",
      "model_name": "LayoutModel",
      "state": {
       "_model_module": "@jupyter-widgets/base",
       "_model_module_version": "1.2.0",
       "_model_name": "LayoutModel",
       "_view_count": null,
       "_view_module": "@jupyter-widgets/base",
       "_view_module_version": "1.2.0",
       "_view_name": "LayoutView",
       "align_content": null,
       "align_items": null,
       "align_self": null,
       "border": null,
       "bottom": null,
       "display": null,
       "flex": null,
       "flex_flow": null,
       "grid_area": null,
       "grid_auto_columns": null,
       "grid_auto_flow": null,
       "grid_auto_rows": null,
       "grid_column": null,
       "grid_gap": null,
       "grid_row": null,
       "grid_template_areas": null,
       "grid_template_columns": null,
       "grid_template_rows": null,
       "height": null,
       "justify_content": null,
       "justify_items": null,
       "left": null,
       "margin": null,
       "max_height": null,
       "max_width": null,
       "min_height": null,
       "min_width": null,
       "object_fit": null,
       "object_position": null,
       "order": null,
       "overflow": null,
       "overflow_x": null,
       "overflow_y": null,
       "padding": null,
       "right": null,
       "top": null,
       "visibility": null,
       "width": null
      }
     },
     "09e290bc0d474dc5ba84916836f431bf": {
      "model_module": "@jupyter-widgets/base",
      "model_module_version": "1.2.0",
      "model_name": "LayoutModel",
      "state": {
       "_model_module": "@jupyter-widgets/base",
       "_model_module_version": "1.2.0",
       "_model_name": "LayoutModel",
       "_view_count": null,
       "_view_module": "@jupyter-widgets/base",
       "_view_module_version": "1.2.0",
       "_view_name": "LayoutView",
       "align_content": null,
       "align_items": null,
       "align_self": null,
       "border": null,
       "bottom": null,
       "display": null,
       "flex": null,
       "flex_flow": null,
       "grid_area": null,
       "grid_auto_columns": null,
       "grid_auto_flow": null,
       "grid_auto_rows": null,
       "grid_column": null,
       "grid_gap": null,
       "grid_row": null,
       "grid_template_areas": null,
       "grid_template_columns": null,
       "grid_template_rows": null,
       "height": null,
       "justify_content": null,
       "justify_items": null,
       "left": null,
       "margin": null,
       "max_height": null,
       "max_width": null,
       "min_height": null,
       "min_width": null,
       "object_fit": null,
       "object_position": null,
       "order": null,
       "overflow": null,
       "overflow_x": null,
       "overflow_y": null,
       "padding": null,
       "right": null,
       "top": null,
       "visibility": null,
       "width": null
      }
     },
     "0aac1527fab24ccbbda7f6083be19355": {
      "model_module": "@jupyter-widgets/controls",
      "model_module_version": "1.5.0",
      "model_name": "ProgressStyleModel",
      "state": {
       "_model_module": "@jupyter-widgets/controls",
       "_model_module_version": "1.5.0",
       "_model_name": "ProgressStyleModel",
       "_view_count": null,
       "_view_module": "@jupyter-widgets/base",
       "_view_module_version": "1.2.0",
       "_view_name": "StyleView",
       "bar_color": null,
       "description_width": ""
      }
     },
     "0d5490830edf4aadbe454d667f0aae8d": {
      "model_module": "@jupyter-widgets/controls",
      "model_module_version": "1.5.0",
      "model_name": "DescriptionStyleModel",
      "state": {
       "_model_module": "@jupyter-widgets/controls",
       "_model_module_version": "1.5.0",
       "_model_name": "DescriptionStyleModel",
       "_view_count": null,
       "_view_module": "@jupyter-widgets/base",
       "_view_module_version": "1.2.0",
       "_view_name": "StyleView",
       "description_width": ""
      }
     },
     "1c4bd3d3bf5d4a0098b72a77f235ae27": {
      "model_module": "@jupyter-widgets/controls",
      "model_module_version": "1.5.0",
      "model_name": "HTMLModel",
      "state": {
       "_dom_classes": [],
       "_model_module": "@jupyter-widgets/controls",
       "_model_module_version": "1.5.0",
       "_model_name": "HTMLModel",
       "_view_count": null,
       "_view_module": "@jupyter-widgets/controls",
       "_view_module_version": "1.5.0",
       "_view_name": "HTMLView",
       "description": "",
       "description_tooltip": null,
       "layout": "IPY_MODEL_d70d5d0cfbe84494842f92e7467331b1",
       "placeholder": "​",
       "style": "IPY_MODEL_0d5490830edf4aadbe454d667f0aae8d",
       "value": "100%"
      }
     },
     "2046c66bec83475b87e374c1a7d57cd7": {
      "model_module": "@jupyter-widgets/controls",
      "model_module_version": "1.5.0",
      "model_name": "HBoxModel",
      "state": {
       "_dom_classes": [],
       "_model_module": "@jupyter-widgets/controls",
       "_model_module_version": "1.5.0",
       "_model_name": "HBoxModel",
       "_view_count": null,
       "_view_module": "@jupyter-widgets/controls",
       "_view_module_version": "1.5.0",
       "_view_name": "HBoxView",
       "box_style": "",
       "children": [
        "IPY_MODEL_d1b1716edf8446ec91f96a1c39604120",
        "IPY_MODEL_765426248c7f4852af196a92038adba7",
        "IPY_MODEL_e22bb73847244b03a35d77477fbd42ab"
       ],
       "layout": "IPY_MODEL_a0bef6f398b643019cd154ea436726c3"
      }
     },
     "24d8c884e7ab4d41a6f80130493f05df": {
      "model_module": "@jupyter-widgets/controls",
      "model_module_version": "1.5.0",
      "model_name": "HTMLModel",
      "state": {
       "_dom_classes": [],
       "_model_module": "@jupyter-widgets/controls",
       "_model_module_version": "1.5.0",
       "_model_name": "HTMLModel",
       "_view_count": null,
       "_view_module": "@jupyter-widgets/controls",
       "_view_module_version": "1.5.0",
       "_view_name": "HTMLView",
       "description": "",
       "description_tooltip": null,
       "layout": "IPY_MODEL_7e2b87fd3a1a411988585a1758eb1a2f",
       "placeholder": "​",
       "style": "IPY_MODEL_3c98ab92eaa148a9b8b5d0184e8fbf1a",
       "value": " 5/5 [00:51&lt;00:00, 10.42s/it]"
      }
     },
     "28492d752f7248e6bf93958bbcbc7859": {
      "model_module": "@jupyter-widgets/controls",
      "model_module_version": "1.5.0",
      "model_name": "ProgressStyleModel",
      "state": {
       "_model_module": "@jupyter-widgets/controls",
       "_model_module_version": "1.5.0",
       "_model_name": "ProgressStyleModel",
       "_view_count": null,
       "_view_module": "@jupyter-widgets/base",
       "_view_module_version": "1.2.0",
       "_view_name": "StyleView",
       "bar_color": null,
       "description_width": ""
      }
     },
     "28fb614678c14c8facaf1245171312ad": {
      "model_module": "@jupyter-widgets/base",
      "model_module_version": "1.2.0",
      "model_name": "LayoutModel",
      "state": {
       "_model_module": "@jupyter-widgets/base",
       "_model_module_version": "1.2.0",
       "_model_name": "LayoutModel",
       "_view_count": null,
       "_view_module": "@jupyter-widgets/base",
       "_view_module_version": "1.2.0",
       "_view_name": "LayoutView",
       "align_content": null,
       "align_items": null,
       "align_self": null,
       "border": null,
       "bottom": null,
       "display": null,
       "flex": null,
       "flex_flow": null,
       "grid_area": null,
       "grid_auto_columns": null,
       "grid_auto_flow": null,
       "grid_auto_rows": null,
       "grid_column": null,
       "grid_gap": null,
       "grid_row": null,
       "grid_template_areas": null,
       "grid_template_columns": null,
       "grid_template_rows": null,
       "height": null,
       "justify_content": null,
       "justify_items": null,
       "left": null,
       "margin": null,
       "max_height": null,
       "max_width": null,
       "min_height": null,
       "min_width": null,
       "object_fit": null,
       "object_position": null,
       "order": null,
       "overflow": null,
       "overflow_x": null,
       "overflow_y": null,
       "padding": null,
       "right": null,
       "top": null,
       "visibility": null,
       "width": null
      }
     },
     "325cb05a8ffb482d9dd0d3e3f3a9902a": {
      "model_module": "@jupyter-widgets/controls",
      "model_module_version": "1.5.0",
      "model_name": "DescriptionStyleModel",
      "state": {
       "_model_module": "@jupyter-widgets/controls",
       "_model_module_version": "1.5.0",
       "_model_name": "DescriptionStyleModel",
       "_view_count": null,
       "_view_module": "@jupyter-widgets/base",
       "_view_module_version": "1.2.0",
       "_view_name": "StyleView",
       "description_width": ""
      }
     },
     "33080a058a884fcfbb423932ab278426": {
      "model_module": "@jupyter-widgets/controls",
      "model_module_version": "1.5.0",
      "model_name": "HTMLModel",
      "state": {
       "_dom_classes": [],
       "_model_module": "@jupyter-widgets/controls",
       "_model_module_version": "1.5.0",
       "_model_name": "HTMLModel",
       "_view_count": null,
       "_view_module": "@jupyter-widgets/controls",
       "_view_module_version": "1.5.0",
       "_view_name": "HTMLView",
       "description": "",
       "description_tooltip": null,
       "layout": "IPY_MODEL_eaa95306feb84d9dafb379433313b277",
       "placeholder": "​",
       "style": "IPY_MODEL_9b752f4bbd51444f90b2b8141b2a96ff",
       "value": " 5/5 [00:48&lt;00:00,  9.59s/it]"
      }
     },
     "3344a70cc8104c3c9c94616e05f30ce8": {
      "model_module": "@jupyter-widgets/controls",
      "model_module_version": "1.5.0",
      "model_name": "HTMLModel",
      "state": {
       "_dom_classes": [],
       "_model_module": "@jupyter-widgets/controls",
       "_model_module_version": "1.5.0",
       "_model_name": "HTMLModel",
       "_view_count": null,
       "_view_module": "@jupyter-widgets/controls",
       "_view_module_version": "1.5.0",
       "_view_name": "HTMLView",
       "description": "",
       "description_tooltip": null,
       "layout": "IPY_MODEL_905fdd846ebd4ccfaf2a8f7724bcdee1",
       "placeholder": "​",
       "style": "IPY_MODEL_6cf0a7a17bb24cdc9d393ae56ac2e3e2",
       "value": " 5/5 [00:46&lt;00:00,  9.40s/it]"
      }
     },
     "3c98ab92eaa148a9b8b5d0184e8fbf1a": {
      "model_module": "@jupyter-widgets/controls",
      "model_module_version": "1.5.0",
      "model_name": "DescriptionStyleModel",
      "state": {
       "_model_module": "@jupyter-widgets/controls",
       "_model_module_version": "1.5.0",
       "_model_name": "DescriptionStyleModel",
       "_view_count": null,
       "_view_module": "@jupyter-widgets/base",
       "_view_module_version": "1.2.0",
       "_view_name": "StyleView",
       "description_width": ""
      }
     },
     "4331115c4bdd42468f9489d1fc3be968": {
      "model_module": "@jupyter-widgets/controls",
      "model_module_version": "1.5.0",
      "model_name": "HTMLModel",
      "state": {
       "_dom_classes": [],
       "_model_module": "@jupyter-widgets/controls",
       "_model_module_version": "1.5.0",
       "_model_name": "HTMLModel",
       "_view_count": null,
       "_view_module": "@jupyter-widgets/controls",
       "_view_module_version": "1.5.0",
       "_view_name": "HTMLView",
       "description": "",
       "description_tooltip": null,
       "layout": "IPY_MODEL_7fc68e9c7c4f4707a1ba2d6527d4eb8a",
       "placeholder": "​",
       "style": "IPY_MODEL_4cd091ea7f864edfa7deaddf94027c3b",
       "value": "100%"
      }
     },
     "451ad04eb89a4c97a90b2e51d450b2e0": {
      "model_module": "@jupyter-widgets/controls",
      "model_module_version": "1.5.0",
      "model_name": "FloatProgressModel",
      "state": {
       "_dom_classes": [],
       "_model_module": "@jupyter-widgets/controls",
       "_model_module_version": "1.5.0",
       "_model_name": "FloatProgressModel",
       "_view_count": null,
       "_view_module": "@jupyter-widgets/controls",
       "_view_module_version": "1.5.0",
       "_view_name": "ProgressView",
       "bar_style": "success",
       "description": "",
       "description_tooltip": null,
       "layout": "IPY_MODEL_09e290bc0d474dc5ba84916836f431bf",
       "max": 5.0,
       "min": 0.0,
       "orientation": "horizontal",
       "style": "IPY_MODEL_673c182656f941e6a022af36ed7cf58d",
       "value": 5.0
      }
     },
     "45ccf64b9b9045fd996fa517831492c7": {
      "model_module": "@jupyter-widgets/controls",
      "model_module_version": "1.5.0",
      "model_name": "HBoxModel",
      "state": {
       "_dom_classes": [],
       "_model_module": "@jupyter-widgets/controls",
       "_model_module_version": "1.5.0",
       "_model_name": "HBoxModel",
       "_view_count": null,
       "_view_module": "@jupyter-widgets/controls",
       "_view_module_version": "1.5.0",
       "_view_name": "HBoxView",
       "box_style": "",
       "children": [
        "IPY_MODEL_1c4bd3d3bf5d4a0098b72a77f235ae27",
        "IPY_MODEL_451ad04eb89a4c97a90b2e51d450b2e0",
        "IPY_MODEL_24d8c884e7ab4d41a6f80130493f05df"
       ],
       "layout": "IPY_MODEL_9f1c738a62d34917bd75a760a62c90a4"
      }
     },
     "4cc8001f23664ece9409d587c67e39ad": {
      "model_module": "@jupyter-widgets/controls",
      "model_module_version": "1.5.0",
      "model_name": "HTMLModel",
      "state": {
       "_dom_classes": [],
       "_model_module": "@jupyter-widgets/controls",
       "_model_module_version": "1.5.0",
       "_model_name": "HTMLModel",
       "_view_count": null,
       "_view_module": "@jupyter-widgets/controls",
       "_view_module_version": "1.5.0",
       "_view_name": "HTMLView",
       "description": "",
       "description_tooltip": null,
       "layout": "IPY_MODEL_f7dfd165f1104590aa39e7b1a9ec9a45",
       "placeholder": "​",
       "style": "IPY_MODEL_eba045fd8b464f65a795c755cd9c4cc0",
       "value": "100%"
      }
     },
     "4cd091ea7f864edfa7deaddf94027c3b": {
      "model_module": "@jupyter-widgets/controls",
      "model_module_version": "1.5.0",
      "model_name": "DescriptionStyleModel",
      "state": {
       "_model_module": "@jupyter-widgets/controls",
       "_model_module_version": "1.5.0",
       "_model_name": "DescriptionStyleModel",
       "_view_count": null,
       "_view_module": "@jupyter-widgets/base",
       "_view_module_version": "1.2.0",
       "_view_name": "StyleView",
       "description_width": ""
      }
     },
     "4d5e79c857f34c01a8af1dc9d1885f7a": {
      "model_module": "@jupyter-widgets/base",
      "model_module_version": "1.2.0",
      "model_name": "LayoutModel",
      "state": {
       "_model_module": "@jupyter-widgets/base",
       "_model_module_version": "1.2.0",
       "_model_name": "LayoutModel",
       "_view_count": null,
       "_view_module": "@jupyter-widgets/base",
       "_view_module_version": "1.2.0",
       "_view_name": "LayoutView",
       "align_content": null,
       "align_items": null,
       "align_self": null,
       "border": null,
       "bottom": null,
       "display": null,
       "flex": null,
       "flex_flow": null,
       "grid_area": null,
       "grid_auto_columns": null,
       "grid_auto_flow": null,
       "grid_auto_rows": null,
       "grid_column": null,
       "grid_gap": null,
       "grid_row": null,
       "grid_template_areas": null,
       "grid_template_columns": null,
       "grid_template_rows": null,
       "height": null,
       "justify_content": null,
       "justify_items": null,
       "left": null,
       "margin": null,
       "max_height": null,
       "max_width": null,
       "min_height": null,
       "min_width": null,
       "object_fit": null,
       "object_position": null,
       "order": null,
       "overflow": null,
       "overflow_x": null,
       "overflow_y": null,
       "padding": null,
       "right": null,
       "top": null,
       "visibility": null,
       "width": null
      }
     },
     "4d90f212697b49b29a593739375763cd": {
      "model_module": "@jupyter-widgets/base",
      "model_module_version": "1.2.0",
      "model_name": "LayoutModel",
      "state": {
       "_model_module": "@jupyter-widgets/base",
       "_model_module_version": "1.2.0",
       "_model_name": "LayoutModel",
       "_view_count": null,
       "_view_module": "@jupyter-widgets/base",
       "_view_module_version": "1.2.0",
       "_view_name": "LayoutView",
       "align_content": null,
       "align_items": null,
       "align_self": null,
       "border": null,
       "bottom": null,
       "display": null,
       "flex": null,
       "flex_flow": null,
       "grid_area": null,
       "grid_auto_columns": null,
       "grid_auto_flow": null,
       "grid_auto_rows": null,
       "grid_column": null,
       "grid_gap": null,
       "grid_row": null,
       "grid_template_areas": null,
       "grid_template_columns": null,
       "grid_template_rows": null,
       "height": null,
       "justify_content": null,
       "justify_items": null,
       "left": null,
       "margin": null,
       "max_height": null,
       "max_width": null,
       "min_height": null,
       "min_width": null,
       "object_fit": null,
       "object_position": null,
       "order": null,
       "overflow": null,
       "overflow_x": null,
       "overflow_y": null,
       "padding": null,
       "right": null,
       "top": null,
       "visibility": null,
       "width": null
      }
     },
     "56bb8aabe46d4349baaaf3b741122b7b": {
      "model_module": "@jupyter-widgets/controls",
      "model_module_version": "1.5.0",
      "model_name": "HTMLModel",
      "state": {
       "_dom_classes": [],
       "_model_module": "@jupyter-widgets/controls",
       "_model_module_version": "1.5.0",
       "_model_name": "HTMLModel",
       "_view_count": null,
       "_view_module": "@jupyter-widgets/controls",
       "_view_module_version": "1.5.0",
       "_view_name": "HTMLView",
       "description": "",
       "description_tooltip": null,
       "layout": "IPY_MODEL_89c07ec74d7a40cdb392546bd4333c9a",
       "placeholder": "​",
       "style": "IPY_MODEL_ab86146d05d84aeab31054ce5bf6cde8",
       "value": " 30/30 [15:18&lt;00:00, 30.90s/it]"
      }
     },
     "663ac896ab9d4e93b5fe0c44dfb0fdf2": {
      "model_module": "@jupyter-widgets/base",
      "model_module_version": "1.2.0",
      "model_name": "LayoutModel",
      "state": {
       "_model_module": "@jupyter-widgets/base",
       "_model_module_version": "1.2.0",
       "_model_name": "LayoutModel",
       "_view_count": null,
       "_view_module": "@jupyter-widgets/base",
       "_view_module_version": "1.2.0",
       "_view_name": "LayoutView",
       "align_content": null,
       "align_items": null,
       "align_self": null,
       "border": null,
       "bottom": null,
       "display": null,
       "flex": null,
       "flex_flow": null,
       "grid_area": null,
       "grid_auto_columns": null,
       "grid_auto_flow": null,
       "grid_auto_rows": null,
       "grid_column": null,
       "grid_gap": null,
       "grid_row": null,
       "grid_template_areas": null,
       "grid_template_columns": null,
       "grid_template_rows": null,
       "height": null,
       "justify_content": null,
       "justify_items": null,
       "left": null,
       "margin": null,
       "max_height": null,
       "max_width": null,
       "min_height": null,
       "min_width": null,
       "object_fit": null,
       "object_position": null,
       "order": null,
       "overflow": null,
       "overflow_x": null,
       "overflow_y": null,
       "padding": null,
       "right": null,
       "top": null,
       "visibility": null,
       "width": null
      }
     },
     "673c182656f941e6a022af36ed7cf58d": {
      "model_module": "@jupyter-widgets/controls",
      "model_module_version": "1.5.0",
      "model_name": "ProgressStyleModel",
      "state": {
       "_model_module": "@jupyter-widgets/controls",
       "_model_module_version": "1.5.0",
       "_model_name": "ProgressStyleModel",
       "_view_count": null,
       "_view_module": "@jupyter-widgets/base",
       "_view_module_version": "1.2.0",
       "_view_name": "StyleView",
       "bar_color": null,
       "description_width": ""
      }
     },
     "679b340c16f94d74b241f05a3d962e0c": {
      "model_module": "@jupyter-widgets/base",
      "model_module_version": "1.2.0",
      "model_name": "LayoutModel",
      "state": {
       "_model_module": "@jupyter-widgets/base",
       "_model_module_version": "1.2.0",
       "_model_name": "LayoutModel",
       "_view_count": null,
       "_view_module": "@jupyter-widgets/base",
       "_view_module_version": "1.2.0",
       "_view_name": "LayoutView",
       "align_content": null,
       "align_items": null,
       "align_self": null,
       "border": null,
       "bottom": null,
       "display": null,
       "flex": null,
       "flex_flow": null,
       "grid_area": null,
       "grid_auto_columns": null,
       "grid_auto_flow": null,
       "grid_auto_rows": null,
       "grid_column": null,
       "grid_gap": null,
       "grid_row": null,
       "grid_template_areas": null,
       "grid_template_columns": null,
       "grid_template_rows": null,
       "height": null,
       "justify_content": null,
       "justify_items": null,
       "left": null,
       "margin": null,
       "max_height": null,
       "max_width": null,
       "min_height": null,
       "min_width": null,
       "object_fit": null,
       "object_position": null,
       "order": null,
       "overflow": null,
       "overflow_x": null,
       "overflow_y": null,
       "padding": null,
       "right": null,
       "top": null,
       "visibility": null,
       "width": null
      }
     },
     "6cf0a7a17bb24cdc9d393ae56ac2e3e2": {
      "model_module": "@jupyter-widgets/controls",
      "model_module_version": "1.5.0",
      "model_name": "DescriptionStyleModel",
      "state": {
       "_model_module": "@jupyter-widgets/controls",
       "_model_module_version": "1.5.0",
       "_model_name": "DescriptionStyleModel",
       "_view_count": null,
       "_view_module": "@jupyter-widgets/base",
       "_view_module_version": "1.2.0",
       "_view_name": "StyleView",
       "description_width": ""
      }
     },
     "6d99f32ddfb74efda2c414b2c1e90cdd": {
      "model_module": "@jupyter-widgets/base",
      "model_module_version": "1.2.0",
      "model_name": "LayoutModel",
      "state": {
       "_model_module": "@jupyter-widgets/base",
       "_model_module_version": "1.2.0",
       "_model_name": "LayoutModel",
       "_view_count": null,
       "_view_module": "@jupyter-widgets/base",
       "_view_module_version": "1.2.0",
       "_view_name": "LayoutView",
       "align_content": null,
       "align_items": null,
       "align_self": null,
       "border": null,
       "bottom": null,
       "display": null,
       "flex": null,
       "flex_flow": null,
       "grid_area": null,
       "grid_auto_columns": null,
       "grid_auto_flow": null,
       "grid_auto_rows": null,
       "grid_column": null,
       "grid_gap": null,
       "grid_row": null,
       "grid_template_areas": null,
       "grid_template_columns": null,
       "grid_template_rows": null,
       "height": null,
       "justify_content": null,
       "justify_items": null,
       "left": null,
       "margin": null,
       "max_height": null,
       "max_width": null,
       "min_height": null,
       "min_width": null,
       "object_fit": null,
       "object_position": null,
       "order": null,
       "overflow": null,
       "overflow_x": null,
       "overflow_y": null,
       "padding": null,
       "right": null,
       "top": null,
       "visibility": null,
       "width": null
      }
     },
     "735945c671724964b0998b5dc2a564ed": {
      "model_module": "@jupyter-widgets/base",
      "model_module_version": "1.2.0",
      "model_name": "LayoutModel",
      "state": {
       "_model_module": "@jupyter-widgets/base",
       "_model_module_version": "1.2.0",
       "_model_name": "LayoutModel",
       "_view_count": null,
       "_view_module": "@jupyter-widgets/base",
       "_view_module_version": "1.2.0",
       "_view_name": "LayoutView",
       "align_content": null,
       "align_items": null,
       "align_self": null,
       "border": null,
       "bottom": null,
       "display": null,
       "flex": null,
       "flex_flow": null,
       "grid_area": null,
       "grid_auto_columns": null,
       "grid_auto_flow": null,
       "grid_auto_rows": null,
       "grid_column": null,
       "grid_gap": null,
       "grid_row": null,
       "grid_template_areas": null,
       "grid_template_columns": null,
       "grid_template_rows": null,
       "height": null,
       "justify_content": null,
       "justify_items": null,
       "left": null,
       "margin": null,
       "max_height": null,
       "max_width": null,
       "min_height": null,
       "min_width": null,
       "object_fit": null,
       "object_position": null,
       "order": null,
       "overflow": null,
       "overflow_x": null,
       "overflow_y": null,
       "padding": null,
       "right": null,
       "top": null,
       "visibility": null,
       "width": null
      }
     },
     "74e032f573284203a7711ce09428410a": {
      "model_module": "@jupyter-widgets/controls",
      "model_module_version": "1.5.0",
      "model_name": "ProgressStyleModel",
      "state": {
       "_model_module": "@jupyter-widgets/controls",
       "_model_module_version": "1.5.0",
       "_model_name": "ProgressStyleModel",
       "_view_count": null,
       "_view_module": "@jupyter-widgets/base",
       "_view_module_version": "1.2.0",
       "_view_name": "StyleView",
       "bar_color": null,
       "description_width": ""
      }
     },
     "765426248c7f4852af196a92038adba7": {
      "model_module": "@jupyter-widgets/controls",
      "model_module_version": "1.5.0",
      "model_name": "FloatProgressModel",
      "state": {
       "_dom_classes": [],
       "_model_module": "@jupyter-widgets/controls",
       "_model_module_version": "1.5.0",
       "_model_name": "FloatProgressModel",
       "_view_count": null,
       "_view_module": "@jupyter-widgets/controls",
       "_view_module_version": "1.5.0",
       "_view_name": "ProgressView",
       "bar_style": "success",
       "description": "",
       "description_tooltip": null,
       "layout": "IPY_MODEL_28fb614678c14c8facaf1245171312ad",
       "max": 5.0,
       "min": 0.0,
       "orientation": "horizontal",
       "style": "IPY_MODEL_fc65569b8b1e480c8fa7706cb2d0e4dc",
       "value": 5.0
      }
     },
     "7de85231a4d744abac153f4dc1c4e580": {
      "model_module": "@jupyter-widgets/controls",
      "model_module_version": "1.5.0",
      "model_name": "HTMLModel",
      "state": {
       "_dom_classes": [],
       "_model_module": "@jupyter-widgets/controls",
       "_model_module_version": "1.5.0",
       "_model_name": "HTMLModel",
       "_view_count": null,
       "_view_module": "@jupyter-widgets/controls",
       "_view_module_version": "1.5.0",
       "_view_name": "HTMLView",
       "description": "",
       "description_tooltip": null,
       "layout": "IPY_MODEL_04fd8ffc5d98442eb759b1d9755c2977",
       "placeholder": "​",
       "style": "IPY_MODEL_e6c9e0feb3f84ae1a753a1f71155bd48",
       "value": "100%"
      }
     },
     "7e2b87fd3a1a411988585a1758eb1a2f": {
      "model_module": "@jupyter-widgets/base",
      "model_module_version": "1.2.0",
      "model_name": "LayoutModel",
      "state": {
       "_model_module": "@jupyter-widgets/base",
       "_model_module_version": "1.2.0",
       "_model_name": "LayoutModel",
       "_view_count": null,
       "_view_module": "@jupyter-widgets/base",
       "_view_module_version": "1.2.0",
       "_view_name": "LayoutView",
       "align_content": null,
       "align_items": null,
       "align_self": null,
       "border": null,
       "bottom": null,
       "display": null,
       "flex": null,
       "flex_flow": null,
       "grid_area": null,
       "grid_auto_columns": null,
       "grid_auto_flow": null,
       "grid_auto_rows": null,
       "grid_column": null,
       "grid_gap": null,
       "grid_row": null,
       "grid_template_areas": null,
       "grid_template_columns": null,
       "grid_template_rows": null,
       "height": null,
       "justify_content": null,
       "justify_items": null,
       "left": null,
       "margin": null,
       "max_height": null,
       "max_width": null,
       "min_height": null,
       "min_width": null,
       "object_fit": null,
       "object_position": null,
       "order": null,
       "overflow": null,
       "overflow_x": null,
       "overflow_y": null,
       "padding": null,
       "right": null,
       "top": null,
       "visibility": null,
       "width": null
      }
     },
     "7f168e19011c43db8512aafd26896c62": {
      "model_module": "@jupyter-widgets/controls",
      "model_module_version": "1.5.0",
      "model_name": "HBoxModel",
      "state": {
       "_dom_classes": [],
       "_model_module": "@jupyter-widgets/controls",
       "_model_module_version": "1.5.0",
       "_model_name": "HBoxModel",
       "_view_count": null,
       "_view_module": "@jupyter-widgets/controls",
       "_view_module_version": "1.5.0",
       "_view_name": "HBoxView",
       "box_style": "",
       "children": [
        "IPY_MODEL_4cc8001f23664ece9409d587c67e39ad",
        "IPY_MODEL_f026add18b65452aaa02267247f8d936",
        "IPY_MODEL_56bb8aabe46d4349baaaf3b741122b7b"
       ],
       "layout": "IPY_MODEL_eec33088766c4dc8b030aea58810723b"
      }
     },
     "7fc68e9c7c4f4707a1ba2d6527d4eb8a": {
      "model_module": "@jupyter-widgets/base",
      "model_module_version": "1.2.0",
      "model_name": "LayoutModel",
      "state": {
       "_model_module": "@jupyter-widgets/base",
       "_model_module_version": "1.2.0",
       "_model_name": "LayoutModel",
       "_view_count": null,
       "_view_module": "@jupyter-widgets/base",
       "_view_module_version": "1.2.0",
       "_view_name": "LayoutView",
       "align_content": null,
       "align_items": null,
       "align_self": null,
       "border": null,
       "bottom": null,
       "display": null,
       "flex": null,
       "flex_flow": null,
       "grid_area": null,
       "grid_auto_columns": null,
       "grid_auto_flow": null,
       "grid_auto_rows": null,
       "grid_column": null,
       "grid_gap": null,
       "grid_row": null,
       "grid_template_areas": null,
       "grid_template_columns": null,
       "grid_template_rows": null,
       "height": null,
       "justify_content": null,
       "justify_items": null,
       "left": null,
       "margin": null,
       "max_height": null,
       "max_width": null,
       "min_height": null,
       "min_width": null,
       "object_fit": null,
       "object_position": null,
       "order": null,
       "overflow": null,
       "overflow_x": null,
       "overflow_y": null,
       "padding": null,
       "right": null,
       "top": null,
       "visibility": null,
       "width": null
      }
     },
     "89c07ec74d7a40cdb392546bd4333c9a": {
      "model_module": "@jupyter-widgets/base",
      "model_module_version": "1.2.0",
      "model_name": "LayoutModel",
      "state": {
       "_model_module": "@jupyter-widgets/base",
       "_model_module_version": "1.2.0",
       "_model_name": "LayoutModel",
       "_view_count": null,
       "_view_module": "@jupyter-widgets/base",
       "_view_module_version": "1.2.0",
       "_view_name": "LayoutView",
       "align_content": null,
       "align_items": null,
       "align_self": null,
       "border": null,
       "bottom": null,
       "display": null,
       "flex": null,
       "flex_flow": null,
       "grid_area": null,
       "grid_auto_columns": null,
       "grid_auto_flow": null,
       "grid_auto_rows": null,
       "grid_column": null,
       "grid_gap": null,
       "grid_row": null,
       "grid_template_areas": null,
       "grid_template_columns": null,
       "grid_template_rows": null,
       "height": null,
       "justify_content": null,
       "justify_items": null,
       "left": null,
       "margin": null,
       "max_height": null,
       "max_width": null,
       "min_height": null,
       "min_width": null,
       "object_fit": null,
       "object_position": null,
       "order": null,
       "overflow": null,
       "overflow_x": null,
       "overflow_y": null,
       "padding": null,
       "right": null,
       "top": null,
       "visibility": null,
       "width": null
      }
     },
     "905fdd846ebd4ccfaf2a8f7724bcdee1": {
      "model_module": "@jupyter-widgets/base",
      "model_module_version": "1.2.0",
      "model_name": "LayoutModel",
      "state": {
       "_model_module": "@jupyter-widgets/base",
       "_model_module_version": "1.2.0",
       "_model_name": "LayoutModel",
       "_view_count": null,
       "_view_module": "@jupyter-widgets/base",
       "_view_module_version": "1.2.0",
       "_view_name": "LayoutView",
       "align_content": null,
       "align_items": null,
       "align_self": null,
       "border": null,
       "bottom": null,
       "display": null,
       "flex": null,
       "flex_flow": null,
       "grid_area": null,
       "grid_auto_columns": null,
       "grid_auto_flow": null,
       "grid_auto_rows": null,
       "grid_column": null,
       "grid_gap": null,
       "grid_row": null,
       "grid_template_areas": null,
       "grid_template_columns": null,
       "grid_template_rows": null,
       "height": null,
       "justify_content": null,
       "justify_items": null,
       "left": null,
       "margin": null,
       "max_height": null,
       "max_width": null,
       "min_height": null,
       "min_width": null,
       "object_fit": null,
       "object_position": null,
       "order": null,
       "overflow": null,
       "overflow_x": null,
       "overflow_y": null,
       "padding": null,
       "right": null,
       "top": null,
       "visibility": null,
       "width": null
      }
     },
     "9b752f4bbd51444f90b2b8141b2a96ff": {
      "model_module": "@jupyter-widgets/controls",
      "model_module_version": "1.5.0",
      "model_name": "DescriptionStyleModel",
      "state": {
       "_model_module": "@jupyter-widgets/controls",
       "_model_module_version": "1.5.0",
       "_model_name": "DescriptionStyleModel",
       "_view_count": null,
       "_view_module": "@jupyter-widgets/base",
       "_view_module_version": "1.2.0",
       "_view_name": "StyleView",
       "description_width": ""
      }
     },
     "9f1c738a62d34917bd75a760a62c90a4": {
      "model_module": "@jupyter-widgets/base",
      "model_module_version": "1.2.0",
      "model_name": "LayoutModel",
      "state": {
       "_model_module": "@jupyter-widgets/base",
       "_model_module_version": "1.2.0",
       "_model_name": "LayoutModel",
       "_view_count": null,
       "_view_module": "@jupyter-widgets/base",
       "_view_module_version": "1.2.0",
       "_view_name": "LayoutView",
       "align_content": null,
       "align_items": null,
       "align_self": null,
       "border": null,
       "bottom": null,
       "display": null,
       "flex": null,
       "flex_flow": null,
       "grid_area": null,
       "grid_auto_columns": null,
       "grid_auto_flow": null,
       "grid_auto_rows": null,
       "grid_column": null,
       "grid_gap": null,
       "grid_row": null,
       "grid_template_areas": null,
       "grid_template_columns": null,
       "grid_template_rows": null,
       "height": null,
       "justify_content": null,
       "justify_items": null,
       "left": null,
       "margin": null,
       "max_height": null,
       "max_width": null,
       "min_height": null,
       "min_width": null,
       "object_fit": null,
       "object_position": null,
       "order": null,
       "overflow": null,
       "overflow_x": null,
       "overflow_y": null,
       "padding": null,
       "right": null,
       "top": null,
       "visibility": null,
       "width": null
      }
     },
     "a0bef6f398b643019cd154ea436726c3": {
      "model_module": "@jupyter-widgets/base",
      "model_module_version": "1.2.0",
      "model_name": "LayoutModel",
      "state": {
       "_model_module": "@jupyter-widgets/base",
       "_model_module_version": "1.2.0",
       "_model_name": "LayoutModel",
       "_view_count": null,
       "_view_module": "@jupyter-widgets/base",
       "_view_module_version": "1.2.0",
       "_view_name": "LayoutView",
       "align_content": null,
       "align_items": null,
       "align_self": null,
       "border": null,
       "bottom": null,
       "display": null,
       "flex": null,
       "flex_flow": null,
       "grid_area": null,
       "grid_auto_columns": null,
       "grid_auto_flow": null,
       "grid_auto_rows": null,
       "grid_column": null,
       "grid_gap": null,
       "grid_row": null,
       "grid_template_areas": null,
       "grid_template_columns": null,
       "grid_template_rows": null,
       "height": null,
       "justify_content": null,
       "justify_items": null,
       "left": null,
       "margin": null,
       "max_height": null,
       "max_width": null,
       "min_height": null,
       "min_width": null,
       "object_fit": null,
       "object_position": null,
       "order": null,
       "overflow": null,
       "overflow_x": null,
       "overflow_y": null,
       "padding": null,
       "right": null,
       "top": null,
       "visibility": null,
       "width": null
      }
     },
     "a101a4a609c84ad29de40e443c2b5713": {
      "model_module": "@jupyter-widgets/controls",
      "model_module_version": "1.5.0",
      "model_name": "DescriptionStyleModel",
      "state": {
       "_model_module": "@jupyter-widgets/controls",
       "_model_module_version": "1.5.0",
       "_model_name": "DescriptionStyleModel",
       "_view_count": null,
       "_view_module": "@jupyter-widgets/base",
       "_view_module_version": "1.2.0",
       "_view_name": "StyleView",
       "description_width": ""
      }
     },
     "ab86146d05d84aeab31054ce5bf6cde8": {
      "model_module": "@jupyter-widgets/controls",
      "model_module_version": "1.5.0",
      "model_name": "DescriptionStyleModel",
      "state": {
       "_model_module": "@jupyter-widgets/controls",
       "_model_module_version": "1.5.0",
       "_model_name": "DescriptionStyleModel",
       "_view_count": null,
       "_view_module": "@jupyter-widgets/base",
       "_view_module_version": "1.2.0",
       "_view_name": "StyleView",
       "description_width": ""
      }
     },
     "b3e47b41ce63466796a574d08dd93f73": {
      "model_module": "@jupyter-widgets/controls",
      "model_module_version": "1.5.0",
      "model_name": "FloatProgressModel",
      "state": {
       "_dom_classes": [],
       "_model_module": "@jupyter-widgets/controls",
       "_model_module_version": "1.5.0",
       "_model_name": "FloatProgressModel",
       "_view_count": null,
       "_view_module": "@jupyter-widgets/controls",
       "_view_module_version": "1.5.0",
       "_view_name": "ProgressView",
       "bar_style": "success",
       "description": "",
       "description_tooltip": null,
       "layout": "IPY_MODEL_679b340c16f94d74b241f05a3d962e0c",
       "max": 5.0,
       "min": 0.0,
       "orientation": "horizontal",
       "style": "IPY_MODEL_74e032f573284203a7711ce09428410a",
       "value": 5.0
      }
     },
     "d1287d86928a49ee95951641a919baf5": {
      "model_module": "@jupyter-widgets/controls",
      "model_module_version": "1.5.0",
      "model_name": "HBoxModel",
      "state": {
       "_dom_classes": [],
       "_model_module": "@jupyter-widgets/controls",
       "_model_module_version": "1.5.0",
       "_model_name": "HBoxModel",
       "_view_count": null,
       "_view_module": "@jupyter-widgets/controls",
       "_view_module_version": "1.5.0",
       "_view_name": "HBoxView",
       "box_style": "",
       "children": [
        "IPY_MODEL_7de85231a4d744abac153f4dc1c4e580",
        "IPY_MODEL_b3e47b41ce63466796a574d08dd93f73",
        "IPY_MODEL_3344a70cc8104c3c9c94616e05f30ce8"
       ],
       "layout": "IPY_MODEL_735945c671724964b0998b5dc2a564ed"
      }
     },
     "d1b1716edf8446ec91f96a1c39604120": {
      "model_module": "@jupyter-widgets/controls",
      "model_module_version": "1.5.0",
      "model_name": "HTMLModel",
      "state": {
       "_dom_classes": [],
       "_model_module": "@jupyter-widgets/controls",
       "_model_module_version": "1.5.0",
       "_model_name": "HTMLModel",
       "_view_count": null,
       "_view_module": "@jupyter-widgets/controls",
       "_view_module_version": "1.5.0",
       "_view_name": "HTMLView",
       "description": "",
       "description_tooltip": null,
       "layout": "IPY_MODEL_4d5e79c857f34c01a8af1dc9d1885f7a",
       "placeholder": "​",
       "style": "IPY_MODEL_a101a4a609c84ad29de40e443c2b5713",
       "value": "100%"
      }
     },
     "d70d5d0cfbe84494842f92e7467331b1": {
      "model_module": "@jupyter-widgets/base",
      "model_module_version": "1.2.0",
      "model_name": "LayoutModel",
      "state": {
       "_model_module": "@jupyter-widgets/base",
       "_model_module_version": "1.2.0",
       "_model_name": "LayoutModel",
       "_view_count": null,
       "_view_module": "@jupyter-widgets/base",
       "_view_module_version": "1.2.0",
       "_view_name": "LayoutView",
       "align_content": null,
       "align_items": null,
       "align_self": null,
       "border": null,
       "bottom": null,
       "display": null,
       "flex": null,
       "flex_flow": null,
       "grid_area": null,
       "grid_auto_columns": null,
       "grid_auto_flow": null,
       "grid_auto_rows": null,
       "grid_column": null,
       "grid_gap": null,
       "grid_row": null,
       "grid_template_areas": null,
       "grid_template_columns": null,
       "grid_template_rows": null,
       "height": null,
       "justify_content": null,
       "justify_items": null,
       "left": null,
       "margin": null,
       "max_height": null,
       "max_width": null,
       "min_height": null,
       "min_width": null,
       "object_fit": null,
       "object_position": null,
       "order": null,
       "overflow": null,
       "overflow_x": null,
       "overflow_y": null,
       "padding": null,
       "right": null,
       "top": null,
       "visibility": null,
       "width": null
      }
     },
     "e22bb73847244b03a35d77477fbd42ab": {
      "model_module": "@jupyter-widgets/controls",
      "model_module_version": "1.5.0",
      "model_name": "HTMLModel",
      "state": {
       "_dom_classes": [],
       "_model_module": "@jupyter-widgets/controls",
       "_model_module_version": "1.5.0",
       "_model_name": "HTMLModel",
       "_view_count": null,
       "_view_module": "@jupyter-widgets/controls",
       "_view_module_version": "1.5.0",
       "_view_name": "HTMLView",
       "description": "",
       "description_tooltip": null,
       "layout": "IPY_MODEL_6d99f32ddfb74efda2c414b2c1e90cdd",
       "placeholder": "​",
       "style": "IPY_MODEL_325cb05a8ffb482d9dd0d3e3f3a9902a",
       "value": " 5/5 [00:47&lt;00:00,  9.34s/it]"
      }
     },
     "e6c9e0feb3f84ae1a753a1f71155bd48": {
      "model_module": "@jupyter-widgets/controls",
      "model_module_version": "1.5.0",
      "model_name": "DescriptionStyleModel",
      "state": {
       "_model_module": "@jupyter-widgets/controls",
       "_model_module_version": "1.5.0",
       "_model_name": "DescriptionStyleModel",
       "_view_count": null,
       "_view_module": "@jupyter-widgets/base",
       "_view_module_version": "1.2.0",
       "_view_name": "StyleView",
       "description_width": ""
      }
     },
     "eaa95306feb84d9dafb379433313b277": {
      "model_module": "@jupyter-widgets/base",
      "model_module_version": "1.2.0",
      "model_name": "LayoutModel",
      "state": {
       "_model_module": "@jupyter-widgets/base",
       "_model_module_version": "1.2.0",
       "_model_name": "LayoutModel",
       "_view_count": null,
       "_view_module": "@jupyter-widgets/base",
       "_view_module_version": "1.2.0",
       "_view_name": "LayoutView",
       "align_content": null,
       "align_items": null,
       "align_self": null,
       "border": null,
       "bottom": null,
       "display": null,
       "flex": null,
       "flex_flow": null,
       "grid_area": null,
       "grid_auto_columns": null,
       "grid_auto_flow": null,
       "grid_auto_rows": null,
       "grid_column": null,
       "grid_gap": null,
       "grid_row": null,
       "grid_template_areas": null,
       "grid_template_columns": null,
       "grid_template_rows": null,
       "height": null,
       "justify_content": null,
       "justify_items": null,
       "left": null,
       "margin": null,
       "max_height": null,
       "max_width": null,
       "min_height": null,
       "min_width": null,
       "object_fit": null,
       "object_position": null,
       "order": null,
       "overflow": null,
       "overflow_x": null,
       "overflow_y": null,
       "padding": null,
       "right": null,
       "top": null,
       "visibility": null,
       "width": null
      }
     },
     "eba045fd8b464f65a795c755cd9c4cc0": {
      "model_module": "@jupyter-widgets/controls",
      "model_module_version": "1.5.0",
      "model_name": "DescriptionStyleModel",
      "state": {
       "_model_module": "@jupyter-widgets/controls",
       "_model_module_version": "1.5.0",
       "_model_name": "DescriptionStyleModel",
       "_view_count": null,
       "_view_module": "@jupyter-widgets/base",
       "_view_module_version": "1.2.0",
       "_view_name": "StyleView",
       "description_width": ""
      }
     },
     "eec33088766c4dc8b030aea58810723b": {
      "model_module": "@jupyter-widgets/base",
      "model_module_version": "1.2.0",
      "model_name": "LayoutModel",
      "state": {
       "_model_module": "@jupyter-widgets/base",
       "_model_module_version": "1.2.0",
       "_model_name": "LayoutModel",
       "_view_count": null,
       "_view_module": "@jupyter-widgets/base",
       "_view_module_version": "1.2.0",
       "_view_name": "LayoutView",
       "align_content": null,
       "align_items": null,
       "align_self": null,
       "border": null,
       "bottom": null,
       "display": null,
       "flex": null,
       "flex_flow": null,
       "grid_area": null,
       "grid_auto_columns": null,
       "grid_auto_flow": null,
       "grid_auto_rows": null,
       "grid_column": null,
       "grid_gap": null,
       "grid_row": null,
       "grid_template_areas": null,
       "grid_template_columns": null,
       "grid_template_rows": null,
       "height": null,
       "justify_content": null,
       "justify_items": null,
       "left": null,
       "margin": null,
       "max_height": null,
       "max_width": null,
       "min_height": null,
       "min_width": null,
       "object_fit": null,
       "object_position": null,
       "order": null,
       "overflow": null,
       "overflow_x": null,
       "overflow_y": null,
       "padding": null,
       "right": null,
       "top": null,
       "visibility": null,
       "width": null
      }
     },
     "f026add18b65452aaa02267247f8d936": {
      "model_module": "@jupyter-widgets/controls",
      "model_module_version": "1.5.0",
      "model_name": "FloatProgressModel",
      "state": {
       "_dom_classes": [],
       "_model_module": "@jupyter-widgets/controls",
       "_model_module_version": "1.5.0",
       "_model_name": "FloatProgressModel",
       "_view_count": null,
       "_view_module": "@jupyter-widgets/controls",
       "_view_module_version": "1.5.0",
       "_view_name": "ProgressView",
       "bar_style": "success",
       "description": "",
       "description_tooltip": null,
       "layout": "IPY_MODEL_092ca3d3042e4c07856d648054165cf7",
       "max": 30.0,
       "min": 0.0,
       "orientation": "horizontal",
       "style": "IPY_MODEL_28492d752f7248e6bf93958bbcbc7859",
       "value": 30.0
      }
     },
     "f7dfd165f1104590aa39e7b1a9ec9a45": {
      "model_module": "@jupyter-widgets/base",
      "model_module_version": "1.2.0",
      "model_name": "LayoutModel",
      "state": {
       "_model_module": "@jupyter-widgets/base",
       "_model_module_version": "1.2.0",
       "_model_name": "LayoutModel",
       "_view_count": null,
       "_view_module": "@jupyter-widgets/base",
       "_view_module_version": "1.2.0",
       "_view_name": "LayoutView",
       "align_content": null,
       "align_items": null,
       "align_self": null,
       "border": null,
       "bottom": null,
       "display": null,
       "flex": null,
       "flex_flow": null,
       "grid_area": null,
       "grid_auto_columns": null,
       "grid_auto_flow": null,
       "grid_auto_rows": null,
       "grid_column": null,
       "grid_gap": null,
       "grid_row": null,
       "grid_template_areas": null,
       "grid_template_columns": null,
       "grid_template_rows": null,
       "height": null,
       "justify_content": null,
       "justify_items": null,
       "left": null,
       "margin": null,
       "max_height": null,
       "max_width": null,
       "min_height": null,
       "min_width": null,
       "object_fit": null,
       "object_position": null,
       "order": null,
       "overflow": null,
       "overflow_x": null,
       "overflow_y": null,
       "padding": null,
       "right": null,
       "top": null,
       "visibility": null,
       "width": null
      }
     },
     "fc65569b8b1e480c8fa7706cb2d0e4dc": {
      "model_module": "@jupyter-widgets/controls",
      "model_module_version": "1.5.0",
      "model_name": "ProgressStyleModel",
      "state": {
       "_model_module": "@jupyter-widgets/controls",
       "_model_module_version": "1.5.0",
       "_model_name": "ProgressStyleModel",
       "_view_count": null,
       "_view_module": "@jupyter-widgets/base",
       "_view_module_version": "1.2.0",
       "_view_name": "StyleView",
       "bar_color": null,
       "description_width": ""
      }
     }
    },
    "version_major": 2,
    "version_minor": 0
   }
  }
 },
 "nbformat": 4,
 "nbformat_minor": 5
}
