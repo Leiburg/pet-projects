{
 "cells": [
  {
   "cell_type": "markdown",
   "id": "established-bleeding",
   "metadata": {
    "papermill": {
     "duration": 0.044884,
     "end_time": "2021-04-23T11:56:35.568551",
     "exception": false,
     "start_time": "2021-04-23T11:56:35.523667",
     "status": "completed"
    },
    "tags": []
   },
   "source": [
    "### Дипломная работа Александра Соколова\n",
    "\n",
    "#### Градиентный бустинг\n",
    "Кернел 2 из 3 в разделе ML (отредактирован 21.04.2021)\n",
    "---\n",
    "\n",
    "# 1. Импорт библиотек, инициализация глобальных констант\n",
    "## 1.1. Импорт библиотек"
   ]
  },
  {
   "cell_type": "code",
   "execution_count": 1,
   "id": "cosmetic-suffering",
   "metadata": {
    "execution": {
     "iopub.execute_input": "2021-04-23T11:56:35.671905Z",
     "iopub.status.busy": "2021-04-23T11:56:35.671001Z",
     "iopub.status.idle": "2021-04-23T11:56:47.615042Z",
     "shell.execute_reply": "2021-04-23T11:56:47.614326Z"
    },
    "papermill": {
     "duration": 12.003036,
     "end_time": "2021-04-23T11:56:47.615212",
     "exception": false,
     "start_time": "2021-04-23T11:56:35.612176",
     "status": "completed"
    },
    "tags": []
   },
   "outputs": [
    {
     "data": {
      "text/html": [
       "<style type='text/css'>\n",
       ".datatable table.frame { margin-bottom: 0; }\n",
       ".datatable table.frame thead { border-bottom: none; }\n",
       ".datatable table.frame tr.coltypes td {  color: #FFFFFF;  line-height: 6px;  padding: 0 0.5em;}\n",
       ".datatable .bool    { background: #DDDD99; }\n",
       ".datatable .object  { background: #565656; }\n",
       ".datatable .int     { background: #5D9E5D; }\n",
       ".datatable .float   { background: #4040CC; }\n",
       ".datatable .str     { background: #CC4040; }\n",
       ".datatable .row_index {  background: var(--jp-border-color3);  border-right: 1px solid var(--jp-border-color0);  color: var(--jp-ui-font-color3);  font-size: 9px;}\n",
       ".datatable .frame tr.coltypes .row_index {  background: var(--jp-border-color0);}\n",
       ".datatable th:nth-child(2) { padding-left: 12px; }\n",
       ".datatable .hellipsis {  color: var(--jp-cell-editor-border-color);}\n",
       ".datatable .vellipsis {  background: var(--jp-layout-color0);  color: var(--jp-cell-editor-border-color);}\n",
       ".datatable .na {  color: var(--jp-cell-editor-border-color);  font-size: 80%;}\n",
       ".datatable .footer { font-size: 9px; }\n",
       ".datatable .frame_dimensions {  background: var(--jp-border-color3);  border-top: 1px solid var(--jp-border-color0);  color: var(--jp-ui-font-color3);  display: inline-block;  opacity: 0.6;  padding: 1px 10px 1px 5px;}\n",
       "</style>\n"
      ],
      "text/plain": [
       "<IPython.core.display.HTML object>"
      ]
     },
     "metadata": {},
     "output_type": "display_data"
    }
   ],
   "source": [
    "import pandas as pd\n",
    "import numpy as np\n",
    "import tqdm\n",
    "\n",
    "from sklearn.model_selection import train_test_split, StratifiedKFold, KFold\n",
    "from sklearn.metrics import roc_auc_score\n",
    "from sklearn.inspection import permutation_importance\n",
    "\n",
    "import lightgbm as lgb\n",
    "import catboost as cb\n",
    "\n",
    "import matplotlib\n",
    "import matplotlib.pyplot as plt\n",
    "%matplotlib inline\n",
    "import seaborn as sns\n",
    "\n",
    "import shap\n",
    "\n",
    "np.warnings.filterwarnings('ignore')"
   ]
  },
  {
   "cell_type": "markdown",
   "id": "committed-manchester",
   "metadata": {
    "papermill": {
     "duration": 0.057457,
     "end_time": "2021-04-23T11:56:47.726839",
     "exception": false,
     "start_time": "2021-04-23T11:56:47.669382",
     "status": "completed"
    },
    "tags": []
   },
   "source": [
    "## 1.2. Глобальные константы"
   ]
  },
  {
   "cell_type": "code",
   "execution_count": 2,
   "id": "neutral-producer",
   "metadata": {
    "execution": {
     "iopub.execute_input": "2021-04-23T11:56:47.826310Z",
     "iopub.status.busy": "2021-04-23T11:56:47.825308Z",
     "iopub.status.idle": "2021-04-23T11:56:47.828792Z",
     "shell.execute_reply": "2021-04-23T11:56:47.828113Z"
    },
    "papermill": {
     "duration": 0.052283,
     "end_time": "2021-04-23T11:56:47.828937",
     "exception": false,
     "start_time": "2021-04-23T11:56:47.776654",
     "status": "completed"
    },
    "tags": []
   },
   "outputs": [],
   "source": [
    "# CURRENT_DIR = './'  # имя текущей директории для локальной машины \n",
    "CURRENT_DIR = '../'  # имя текущей директории для каггл\n",
    "\n",
    "PATH_TO_WORKDIR = CURRENT_DIR + 'working/'"
   ]
  },
  {
   "cell_type": "code",
   "execution_count": 3,
   "id": "violent-elements",
   "metadata": {
    "execution": {
     "iopub.execute_input": "2021-04-23T11:56:47.922680Z",
     "iopub.status.busy": "2021-04-23T11:56:47.921963Z",
     "iopub.status.idle": "2021-04-23T11:56:50.214168Z",
     "shell.execute_reply": "2021-04-23T11:56:50.213565Z"
    },
    "papermill": {
     "duration": 2.340447,
     "end_time": "2021-04-23T11:56:50.214308",
     "exception": false,
     "start_time": "2021-04-23T11:56:47.873861",
     "status": "completed"
    },
    "tags": []
   },
   "outputs": [],
   "source": [
    "!pip freeze > requirements.txt"
   ]
  },
  {
   "cell_type": "markdown",
   "id": "aware-aaron",
   "metadata": {
    "papermill": {
     "duration": 0.044199,
     "end_time": "2021-04-23T11:56:50.303378",
     "exception": false,
     "start_time": "2021-04-23T11:56:50.259179",
     "status": "completed"
    },
    "tags": []
   },
   "source": [
    "# 2. Импорт предобработанных данных\n",
    "---\n",
    "предобработка осуществлялась в [первом кернеле](https://www.kaggle.com/sokolovaleks/sf-dst-10-diplom-1-ml-sokolov)"
   ]
  },
  {
   "cell_type": "code",
   "execution_count": 4,
   "id": "central-classroom",
   "metadata": {
    "execution": {
     "iopub.execute_input": "2021-04-23T11:56:50.399054Z",
     "iopub.status.busy": "2021-04-23T11:56:50.398282Z",
     "iopub.status.idle": "2021-04-23T11:57:31.415292Z",
     "shell.execute_reply": "2021-04-23T11:57:31.413855Z"
    },
    "papermill": {
     "duration": 41.067956,
     "end_time": "2021-04-23T11:57:31.415979",
     "exception": false,
     "start_time": "2021-04-23T11:56:50.348023",
     "status": "completed"
    },
    "tags": []
   },
   "outputs": [],
   "source": [
    "merged_train_data = pd.read_csv('../input/alfabattle2-sandbox/preproc_data_for_boosting/preproc_data_for_boosting/merged_data.csv')\n",
    "merged_test_data = pd.read_csv('../input/alfabattle2-sandbox/preproc_data_for_boosting/preproc_data_for_boosting/merged_test_data.csv')"
   ]
  },
  {
   "cell_type": "markdown",
   "id": "sound-negotiation",
   "metadata": {
    "papermill": {
     "duration": 0.061591,
     "end_time": "2021-04-23T11:57:31.530240",
     "exception": false,
     "start_time": "2021-04-23T11:57:31.468649",
     "status": "completed"
    },
    "tags": []
   },
   "source": [
    "# 3. Разбиваем тренировочную выборку\n",
    "---\n",
    "Важно выделять валидационную выборку, чтобы контролировать обучение и не переобучаться. "
   ]
  },
  {
   "cell_type": "code",
   "execution_count": 5,
   "id": "prescribed-vector",
   "metadata": {
    "execution": {
     "iopub.execute_input": "2021-04-23T11:57:31.636535Z",
     "iopub.status.busy": "2021-04-23T11:57:31.635796Z",
     "iopub.status.idle": "2021-04-23T11:57:31.653242Z",
     "shell.execute_reply": "2021-04-23T11:57:31.652270Z"
    },
    "papermill": {
     "duration": 0.072014,
     "end_time": "2021-04-23T11:57:31.653465",
     "exception": false,
     "start_time": "2021-04-23T11:57:31.581451",
     "status": "completed"
    },
    "tags": []
   },
   "outputs": [],
   "source": [
    "targets = merged_train_data.flag.values\n",
    "\n",
    "cv = KFold(n_splits=5, random_state=100, shuffle=True)"
   ]
  },
  {
   "cell_type": "markdown",
   "id": "sporting-filename",
   "metadata": {
    "papermill": {
     "duration": 0.063339,
     "end_time": "2021-04-23T11:57:31.781456",
     "exception": false,
     "start_time": "2021-04-23T11:57:31.718117",
     "status": "completed"
    },
    "tags": []
   },
   "source": [
    "# 4. LightGBM + CV (1)\n",
    "---\n",
    "## 4.1. Первая модель (model1)"
   ]
  },
  {
   "cell_type": "code",
   "execution_count": 6,
   "id": "confused-disability",
   "metadata": {
    "execution": {
     "iopub.execute_input": "2021-04-23T11:57:31.951035Z",
     "iopub.status.busy": "2021-04-23T11:57:31.950001Z",
     "iopub.status.idle": "2021-04-23T11:57:31.953874Z",
     "shell.execute_reply": "2021-04-23T11:57:31.953058Z"
    },
    "papermill": {
     "duration": 0.087965,
     "end_time": "2021-04-23T11:57:31.954020",
     "exception": false,
     "start_time": "2021-04-23T11:57:31.866055",
     "status": "completed"
    },
    "tags": []
   },
   "outputs": [],
   "source": [
    "num_model = 1"
   ]
  },
  {
   "cell_type": "code",
   "execution_count": 7,
   "id": "reported-investor",
   "metadata": {
    "execution": {
     "iopub.execute_input": "2021-04-23T11:57:32.068566Z",
     "iopub.status.busy": "2021-04-23T11:57:32.067655Z",
     "iopub.status.idle": "2021-04-23T11:57:32.932341Z",
     "shell.execute_reply": "2021-04-23T11:57:32.933093Z"
    },
    "papermill": {
     "duration": 0.925352,
     "end_time": "2021-04-23T11:57:32.933325",
     "exception": false,
     "start_time": "2021-04-23T11:57:32.007973",
     "status": "completed"
    },
    "tags": []
   },
   "outputs": [],
   "source": [
    "!mkdir model1"
   ]
  },
  {
   "cell_type": "code",
   "execution_count": 8,
   "id": "applied-vintage",
   "metadata": {
    "execution": {
     "iopub.execute_input": "2021-04-23T11:57:33.046297Z",
     "iopub.status.busy": "2021-04-23T11:57:33.045485Z",
     "iopub.status.idle": "2021-04-23T11:57:33.051679Z",
     "shell.execute_reply": "2021-04-23T11:57:33.052527Z"
    },
    "papermill": {
     "duration": 0.064404,
     "end_time": "2021-04-23T11:57:33.052755",
     "exception": false,
     "start_time": "2021-04-23T11:57:32.988351",
     "status": "completed"
    },
    "tags": []
   },
   "outputs": [],
   "source": [
    "features = [x for x in merged_train_data.columns if x not in ['app_id', 'flag']]"
   ]
  },
  {
   "cell_type": "code",
   "execution_count": 9,
   "id": "generous-asset",
   "metadata": {
    "execution": {
     "iopub.execute_input": "2021-04-23T11:57:33.174849Z",
     "iopub.status.busy": "2021-04-23T11:57:33.168208Z",
     "iopub.status.idle": "2021-04-23T12:09:37.472935Z",
     "shell.execute_reply": "2021-04-23T12:09:37.473540Z"
    },
    "papermill": {
     "duration": 724.363726,
     "end_time": "2021-04-23T12:09:37.473823",
     "exception": false,
     "start_time": "2021-04-23T11:57:33.110097",
     "status": "completed"
    },
    "tags": []
   },
   "outputs": [
    {
     "name": "stdout",
     "output_type": "stream",
     "text": [
      "Началось обучение на фолде номер:= 1.\n",
      "Training until validation scores don't improve for 50 rounds\n",
      "[50]\tvalid_0's auc: 0.733357\n",
      "[100]\tvalid_0's auc: 0.745918\n",
      "[150]\tvalid_0's auc: 0.75136\n",
      "[200]\tvalid_0's auc: 0.755095\n",
      "[250]\tvalid_0's auc: 0.757468\n",
      "[300]\tvalid_0's auc: 0.759392\n",
      "[350]\tvalid_0's auc: 0.760921\n",
      "[400]\tvalid_0's auc: 0.762052\n",
      "[450]\tvalid_0's auc: 0.762843\n",
      "[500]\tvalid_0's auc: 0.763794\n",
      "[550]\tvalid_0's auc: 0.764306\n",
      "[600]\tvalid_0's auc: 0.765034\n",
      "[650]\tvalid_0's auc: 0.765584\n",
      "[700]\tvalid_0's auc: 0.766028\n",
      "[750]\tvalid_0's auc: 0.766414\n",
      "[800]\tvalid_0's auc: 0.766915\n",
      "[850]\tvalid_0's auc: 0.767222\n",
      "[900]\tvalid_0's auc: 0.767656\n",
      "[950]\tvalid_0's auc: 0.767907\n",
      "[1000]\tvalid_0's auc: 0.768113\n",
      "Did not meet early stopping. Best iteration is:\n",
      "[997]\tvalid_0's auc: 0.768116\n",
      "Обучение на фолде номер:= 1 завершилось.\n",
      "Началось обучение на фолде номер:= 2.\n",
      "Training until validation scores don't improve for 50 rounds\n",
      "[50]\tvalid_0's auc: 0.735806\n",
      "[100]\tvalid_0's auc: 0.748626\n",
      "[150]\tvalid_0's auc: 0.754227\n",
      "[200]\tvalid_0's auc: 0.757699\n",
      "[250]\tvalid_0's auc: 0.759753\n",
      "[300]\tvalid_0's auc: 0.761608\n",
      "[350]\tvalid_0's auc: 0.762945\n",
      "[400]\tvalid_0's auc: 0.764101\n",
      "[450]\tvalid_0's auc: 0.764985\n",
      "[500]\tvalid_0's auc: 0.765674\n",
      "[550]\tvalid_0's auc: 0.766495\n",
      "[600]\tvalid_0's auc: 0.767052\n",
      "[650]\tvalid_0's auc: 0.767617\n",
      "[700]\tvalid_0's auc: 0.768184\n",
      "[750]\tvalid_0's auc: 0.768671\n",
      "[800]\tvalid_0's auc: 0.769111\n",
      "[850]\tvalid_0's auc: 0.769419\n",
      "[900]\tvalid_0's auc: 0.769807\n",
      "[950]\tvalid_0's auc: 0.770057\n",
      "[1000]\tvalid_0's auc: 0.770122\n",
      "Did not meet early stopping. Best iteration is:\n",
      "[996]\tvalid_0's auc: 0.770146\n",
      "Обучение на фолде номер:= 2 завершилось.\n",
      "Началось обучение на фолде номер:= 3.\n",
      "Training until validation scores don't improve for 50 rounds\n",
      "[50]\tvalid_0's auc: 0.738214\n",
      "[100]\tvalid_0's auc: 0.751749\n",
      "[150]\tvalid_0's auc: 0.757027\n",
      "[200]\tvalid_0's auc: 0.760915\n",
      "[250]\tvalid_0's auc: 0.763341\n",
      "[300]\tvalid_0's auc: 0.765457\n",
      "[350]\tvalid_0's auc: 0.766939\n",
      "[400]\tvalid_0's auc: 0.768148\n",
      "[450]\tvalid_0's auc: 0.769016\n",
      "[500]\tvalid_0's auc: 0.769998\n",
      "[550]\tvalid_0's auc: 0.770574\n",
      "[600]\tvalid_0's auc: 0.771237\n",
      "[650]\tvalid_0's auc: 0.771681\n",
      "[700]\tvalid_0's auc: 0.772182\n",
      "[750]\tvalid_0's auc: 0.772585\n",
      "[800]\tvalid_0's auc: 0.773001\n",
      "[850]\tvalid_0's auc: 0.773308\n",
      "[900]\tvalid_0's auc: 0.773579\n",
      "[950]\tvalid_0's auc: 0.773901\n",
      "[1000]\tvalid_0's auc: 0.774124\n",
      "Did not meet early stopping. Best iteration is:\n",
      "[1000]\tvalid_0's auc: 0.774124\n",
      "Обучение на фолде номер:= 3 завершилось.\n",
      "Началось обучение на фолде номер:= 4.\n",
      "Training until validation scores don't improve for 50 rounds\n",
      "[50]\tvalid_0's auc: 0.730437\n",
      "[100]\tvalid_0's auc: 0.744672\n",
      "[150]\tvalid_0's auc: 0.750356\n",
      "[200]\tvalid_0's auc: 0.754403\n",
      "[250]\tvalid_0's auc: 0.757048\n",
      "[300]\tvalid_0's auc: 0.758995\n",
      "[350]\tvalid_0's auc: 0.760551\n",
      "[400]\tvalid_0's auc: 0.761989\n",
      "[450]\tvalid_0's auc: 0.763184\n",
      "[500]\tvalid_0's auc: 0.763967\n",
      "[550]\tvalid_0's auc: 0.764658\n",
      "[600]\tvalid_0's auc: 0.765397\n",
      "[650]\tvalid_0's auc: 0.765923\n",
      "[700]\tvalid_0's auc: 0.766535\n",
      "[750]\tvalid_0's auc: 0.766817\n",
      "[800]\tvalid_0's auc: 0.76708\n",
      "[850]\tvalid_0's auc: 0.767474\n",
      "[900]\tvalid_0's auc: 0.767838\n",
      "[950]\tvalid_0's auc: 0.768109\n",
      "[1000]\tvalid_0's auc: 0.768523\n",
      "Did not meet early stopping. Best iteration is:\n",
      "[998]\tvalid_0's auc: 0.768533\n",
      "Обучение на фолде номер:= 4 завершилось.\n",
      "Началось обучение на фолде номер:= 5.\n",
      "Training until validation scores don't improve for 50 rounds\n",
      "[50]\tvalid_0's auc: 0.737019\n",
      "[100]\tvalid_0's auc: 0.750826\n",
      "[150]\tvalid_0's auc: 0.756432\n",
      "[200]\tvalid_0's auc: 0.75983\n",
      "[250]\tvalid_0's auc: 0.762319\n",
      "[300]\tvalid_0's auc: 0.764217\n",
      "[350]\tvalid_0's auc: 0.765655\n",
      "[400]\tvalid_0's auc: 0.76703\n",
      "[450]\tvalid_0's auc: 0.768175\n",
      "[500]\tvalid_0's auc: 0.768942\n",
      "[550]\tvalid_0's auc: 0.769522\n",
      "[600]\tvalid_0's auc: 0.770134\n",
      "[650]\tvalid_0's auc: 0.770705\n",
      "[700]\tvalid_0's auc: 0.771135\n",
      "[750]\tvalid_0's auc: 0.771625\n",
      "[800]\tvalid_0's auc: 0.771871\n",
      "[850]\tvalid_0's auc: 0.772225\n",
      "[900]\tvalid_0's auc: 0.772469\n",
      "[950]\tvalid_0's auc: 0.772781\n",
      "[1000]\tvalid_0's auc: 0.773164\n",
      "Did not meet early stopping. Best iteration is:\n",
      "[1000]\tvalid_0's auc: 0.773164\n",
      "Обучение на фолде номер:= 5 завершилось.\n",
      "CPU times: user 35min 10s, sys: 27.9 s, total: 35min 38s\n",
      "Wall time: 12min 4s\n"
     ]
    }
   ],
   "source": [
    "%%time\n",
    "\n",
    "oof = np.zeros(len(merged_train_data))\n",
    "train_preds = np.zeros(len(merged_train_data))\n",
    "\n",
    "models = []\n",
    "\n",
    "tree_params = {\n",
    "    'objective': 'binary',\n",
    "    'metric': 'auc',\n",
    "    'learning_rate': 0.05,\n",
    "    'max_depth': 3,\n",
    "    'reg_lambda': 1,\n",
    "    'num_leaves': 64,\n",
    "    'n_jobs': 5,\n",
    "    'n_estimators': 1000\n",
    "}\n",
    "\n",
    "for fold_, (train_idx, val_idx) in enumerate(cv.split(merged_train_data, targets), 1):\n",
    "    print(f'Началось обучение на фолде номер:= {fold_}.')\n",
    "    lgb_model = lgb.LGBMClassifier(**tree_params)\n",
    "    train, val = merged_train_data.iloc[train_idx], merged_train_data.iloc[val_idx]\n",
    "    \n",
    "    lgb_model.fit(train[features], train.flag.values, eval_set=[(val[features], val.flag.values)],\n",
    "              early_stopping_rounds=50, verbose=50)\n",
    "\n",
    "    oof[val_idx] = lgb_model.predict_proba(val[features])[:, 1]\n",
    "    train_preds[train_idx] += lgb_model.predict_proba(train[features])[:, 1] / (cv.n_splits-1)\n",
    "    models.append(lgb_model)\n",
    "    \n",
    "    file_name_model = f'model{num_model}/model{num_model}_{fold_}.txt'\n",
    "    lgb_model.booster_.save_model(PATH_TO_WORKDIR+file_name_model)\n",
    "    print(f'Обучение на фолде номер:= {fold_} завершилось.')"
   ]
  },
  {
   "cell_type": "code",
   "execution_count": 10,
   "id": "endless-animation",
   "metadata": {
    "execution": {
     "iopub.execute_input": "2021-04-23T12:09:37.651466Z",
     "iopub.status.busy": "2021-04-23T12:09:37.650750Z",
     "iopub.status.idle": "2021-04-23T12:09:38.116684Z",
     "shell.execute_reply": "2021-04-23T12:09:38.117185Z"
    },
    "papermill": {
     "duration": 0.558695,
     "end_time": "2021-04-23T12:09:38.117380",
     "exception": false,
     "start_time": "2021-04-23T12:09:37.558685",
     "status": "completed"
    },
    "tags": []
   },
   "outputs": [
    {
     "data": {
      "text/plain": [
       "('Train roc-auc model1', 0.8010877635459154)"
      ]
     },
     "execution_count": 10,
     "metadata": {},
     "output_type": "execute_result"
    }
   ],
   "source": [
    "f'Train roc-auc model{num_model}', roc_auc_score(targets, train_preds)"
   ]
  },
  {
   "cell_type": "code",
   "execution_count": 11,
   "id": "selected-madness",
   "metadata": {
    "execution": {
     "iopub.execute_input": "2021-04-23T12:09:38.286354Z",
     "iopub.status.busy": "2021-04-23T12:09:38.285346Z",
     "iopub.status.idle": "2021-04-23T12:09:38.674340Z",
     "shell.execute_reply": "2021-04-23T12:09:38.674842Z"
    },
    "papermill": {
     "duration": 0.474382,
     "end_time": "2021-04-23T12:09:38.675019",
     "exception": false,
     "start_time": "2021-04-23T12:09:38.200637",
     "status": "completed"
    },
    "tags": []
   },
   "outputs": [
    {
     "data": {
      "text/plain": [
       "('CV roc-auc model1', 0.7708109640761436)"
      ]
     },
     "execution_count": 11,
     "metadata": {},
     "output_type": "execute_result"
    }
   ],
   "source": [
    "f'CV roc-auc model{num_model}', roc_auc_score(targets, oof)"
   ]
  },
  {
   "cell_type": "markdown",
   "id": "steady-stadium",
   "metadata": {
    "papermill": {
     "duration": 0.078873,
     "end_time": "2021-04-23T12:09:38.832738",
     "exception": false,
     "start_time": "2021-04-23T12:09:38.753865",
     "status": "completed"
    },
    "tags": []
   },
   "source": [
    "## 4.2. Submission (model1) "
   ]
  },
  {
   "cell_type": "code",
   "execution_count": 12,
   "id": "adolescent-causing",
   "metadata": {
    "execution": {
     "iopub.execute_input": "2021-04-23T12:09:39.000695Z",
     "iopub.status.busy": "2021-04-23T12:09:38.999565Z",
     "iopub.status.idle": "2021-04-23T12:10:30.352832Z",
     "shell.execute_reply": "2021-04-23T12:10:30.352109Z"
    },
    "papermill": {
     "duration": 51.441,
     "end_time": "2021-04-23T12:10:30.352985",
     "exception": false,
     "start_time": "2021-04-23T12:09:38.911985",
     "status": "completed"
    },
    "tags": []
   },
   "outputs": [
    {
     "data": {
      "application/vnd.jupyter.widget-view+json": {
       "model_id": "b152e25406d64328923c7f54609b670e",
       "version_major": 2,
       "version_minor": 0
      },
      "text/plain": [
       "  0%|          | 0/5 [00:00<?, ?it/s]"
      ]
     },
     "metadata": {},
     "output_type": "display_data"
    }
   ],
   "source": [
    "score = np.zeros(len(merged_test_data))\n",
    "\n",
    "for model in tqdm.tqdm_notebook(models):\n",
    "    score += model.predict_proba(merged_test_data[features])[:, 1] / len(models)\n",
    "    \n",
    "submission = pd.DataFrame({\n",
    "    'app_id' : merged_test_data.app_id.values,\n",
    "    'score': score\n",
    "}) \n",
    "\n",
    "submission.to_csv(f'sub_model{num_model}.csv', index=None)  # ~ 0.737 roc-auc на public test"
   ]
  },
  {
   "cell_type": "markdown",
   "id": "straight-sunset",
   "metadata": {
    "papermill": {
     "duration": 0.08055,
     "end_time": "2021-04-23T12:10:30.513448",
     "exception": false,
     "start_time": "2021-04-23T12:10:30.432898",
     "status": "completed"
    },
    "tags": []
   },
   "source": [
    "# 5. Feature Importance\n",
    "---\n",
    "Оценка важности признаков - важный шаг в построении моделей. LightGBM имеет внутренние способы оценки важности признаков - на основе того, как часто делается сплит в вершине по признаку (split) и на основе того, какой суммарный прирост в информации дает разбиение по признаку (gain). Используем первый способ оценки важности признаков. Затем отберем топ признаков по важности и построим на них новые модели."
   ]
  },
  {
   "cell_type": "code",
   "execution_count": 13,
   "id": "final-withdrawal",
   "metadata": {
    "execution": {
     "iopub.execute_input": "2021-04-23T12:10:30.679084Z",
     "iopub.status.busy": "2021-04-23T12:10:30.678251Z",
     "iopub.status.idle": "2021-04-23T12:10:30.683563Z",
     "shell.execute_reply": "2021-04-23T12:10:30.682887Z"
    },
    "papermill": {
     "duration": 0.089904,
     "end_time": "2021-04-23T12:10:30.683712",
     "exception": false,
     "start_time": "2021-04-23T12:10:30.593808",
     "status": "completed"
    },
    "tags": []
   },
   "outputs": [],
   "source": [
    "importances = np.zeros(len(features))\n",
    "for model in models:\n",
    "    importances += model.feature_importances_ / len(models)"
   ]
  },
  {
   "cell_type": "code",
   "execution_count": 14,
   "id": "reverse-clock",
   "metadata": {
    "execution": {
     "iopub.execute_input": "2021-04-23T12:10:30.847115Z",
     "iopub.status.busy": "2021-04-23T12:10:30.846442Z",
     "iopub.status.idle": "2021-04-23T12:10:30.855698Z",
     "shell.execute_reply": "2021-04-23T12:10:30.856184Z"
    },
    "papermill": {
     "duration": 0.093172,
     "end_time": "2021-04-23T12:10:30.856367",
     "exception": false,
     "start_time": "2021-04-23T12:10:30.763195",
     "status": "completed"
    },
    "tags": []
   },
   "outputs": [],
   "source": [
    "def plot_feature_importance(feature_names, feature_scores, top_feats=20, title='Importance', x_label='Importance', \n",
    "                            y_label='Features'):\n",
    "    tuples = [(name, round(score, 3)) for name, score in zip(feature_names, feature_scores)]\n",
    "    tuples = sorted(tuples, key=lambda x: x[1])[-top_feats:]\n",
    "    \n",
    "    labels, values = zip(*tuples)\n",
    "    _, ax = plt.subplots(1, 1, figsize=(10, 8))\n",
    "    ylocs = np.arange(len(values))\n",
    "    \n",
    "    ax.barh(ylocs, values, align='center', height=0.4)\n",
    "    for x, y in zip(values, ylocs):\n",
    "        ax.text(x + 1, y, x, va='center')\n",
    "        \n",
    "    ax.set_yticks(ylocs)\n",
    "    ax.set_yticklabels(labels)\n",
    "    xlim = (0, max(values) * 1.1)\n",
    "    ax.set_xlim(xlim)\n",
    "    ylim = (-1, len(values))\n",
    "    ax.set_ylim(ylim)\n",
    "    \n",
    "    ax.set_title(title)\n",
    "    ax.set_xlabel(x_label)\n",
    "    ax.set_ylabel(y_label)\n",
    "    ax.grid(True)"
   ]
  },
  {
   "cell_type": "code",
   "execution_count": 15,
   "id": "brazilian-favorite",
   "metadata": {
    "execution": {
     "iopub.execute_input": "2021-04-23T12:10:31.021003Z",
     "iopub.status.busy": "2021-04-23T12:10:31.020297Z",
     "iopub.status.idle": "2021-04-23T12:10:31.474030Z",
     "shell.execute_reply": "2021-04-23T12:10:31.474602Z"
    },
    "papermill": {
     "duration": 0.5382,
     "end_time": "2021-04-23T12:10:31.474825",
     "exception": false,
     "start_time": "2021-04-23T12:10:30.936625",
     "status": "completed"
    },
    "tags": []
   },
   "outputs": [
    {
     "data": {
      "image/png": "[encoded data removed]",
      "text/plain": [
       "<Figure size 720x576 with 1 Axes>"
      ]
     },
     "metadata": {
      "needs_background": "light"
     },
     "output_type": "display_data"
    }
   ],
   "source": [
    "plot_feature_importance(features, importances, top_feats=20, title='LightGBM feature importance', \n",
    "                        x_label='Importance')"
   ]
  },
  {
   "cell_type": "code",
   "execution_count": 16,
   "id": "noble-carry",
   "metadata": {
    "execution": {
     "iopub.execute_input": "2021-04-23T12:10:31.660906Z",
     "iopub.status.busy": "2021-04-23T12:10:31.660147Z",
     "iopub.status.idle": "2021-04-23T12:10:31.672068Z",
     "shell.execute_reply": "2021-04-23T12:10:31.671575Z"
    },
    "papermill": {
     "duration": 0.104939,
     "end_time": "2021-04-23T12:10:31.672206",
     "exception": false,
     "start_time": "2021-04-23T12:10:31.567267",
     "status": "completed"
    },
    "tags": []
   },
   "outputs": [
    {
     "name": "stdout",
     "output_type": "stream",
     "text": [
      "Кол-во отобранных признаков на этапе Feature importance (median):= 64\n"
     ]
    }
   ],
   "source": [
    "tuples = [(name, round(score, 3)) for name, score in zip(features, importances)]\n",
    "tuples = sorted(tuples, key=lambda x: x[1])\n",
    "\n",
    "top_selected_feats = [x[0] for x in tuples if x[1] >= np.median(importances)]\n",
    "print(f'Кол-во отобранных признаков на этапе Feature importance (median):= {len(top_selected_feats)}')"
   ]
  },
  {
   "cell_type": "markdown",
   "id": "beneficial-flashing",
   "metadata": {
    "papermill": {
     "duration": 0.082971,
     "end_time": "2021-04-23T12:10:31.838883",
     "exception": false,
     "start_time": "2021-04-23T12:10:31.755912",
     "status": "completed"
    },
    "tags": []
   },
   "source": [
    "# 6. LightGBM + CV (2)\n",
    "---\n",
    "## 6.1. Вторая модель (model2)\n",
    "(на признаках расчетная важность которых не меньше медианы)"
   ]
  },
  {
   "cell_type": "code",
   "execution_count": 17,
   "id": "overhead-kansas",
   "metadata": {
    "execution": {
     "iopub.execute_input": "2021-04-23T12:10:32.009688Z",
     "iopub.status.busy": "2021-04-23T12:10:32.009004Z",
     "iopub.status.idle": "2021-04-23T12:10:32.011108Z",
     "shell.execute_reply": "2021-04-23T12:10:32.011568Z"
    },
    "papermill": {
     "duration": 0.089641,
     "end_time": "2021-04-23T12:10:32.011751",
     "exception": false,
     "start_time": "2021-04-23T12:10:31.922110",
     "status": "completed"
    },
    "tags": []
   },
   "outputs": [],
   "source": [
    "num_model = 2"
   ]
  },
  {
   "cell_type": "code",
   "execution_count": 18,
   "id": "juvenile-sequence",
   "metadata": {
    "execution": {
     "iopub.execute_input": "2021-04-23T12:10:32.182876Z",
     "iopub.status.busy": "2021-04-23T12:10:32.182207Z",
     "iopub.status.idle": "2021-04-23T12:10:32.970958Z",
     "shell.execute_reply": "2021-04-23T12:10:32.971473Z"
    },
    "papermill": {
     "duration": 0.876879,
     "end_time": "2021-04-23T12:10:32.971662",
     "exception": false,
     "start_time": "2021-04-23T12:10:32.094783",
     "status": "completed"
    },
    "tags": []
   },
   "outputs": [],
   "source": [
    "!mkdir model2"
   ]
  },
  {
   "cell_type": "code",
   "execution_count": 19,
   "id": "stretch-mentor",
   "metadata": {
    "execution": {
     "iopub.execute_input": "2021-04-23T12:10:33.607707Z",
     "iopub.status.busy": "2021-04-23T12:10:33.606960Z",
     "iopub.status.idle": "2021-04-23T12:20:09.569010Z",
     "shell.execute_reply": "2021-04-23T12:20:09.569556Z"
    },
    "papermill": {
     "duration": 576.513133,
     "end_time": "2021-04-23T12:20:09.569773",
     "exception": false,
     "start_time": "2021-04-23T12:10:33.056640",
     "status": "completed"
    },
    "tags": []
   },
   "outputs": [
    {
     "name": "stdout",
     "output_type": "stream",
     "text": [
      "Началось обучение на фолде номер:= 1.\n",
      "Training until validation scores don't improve for 50 rounds\n",
      "[50]\tvalid_0's auc: 0.732074\n",
      "[100]\tvalid_0's auc: 0.743551\n",
      "[150]\tvalid_0's auc: 0.749233\n",
      "[200]\tvalid_0's auc: 0.752616\n",
      "[250]\tvalid_0's auc: 0.754898\n",
      "[300]\tvalid_0's auc: 0.756749\n",
      "[350]\tvalid_0's auc: 0.758199\n",
      "[400]\tvalid_0's auc: 0.758997\n",
      "[450]\tvalid_0's auc: 0.759861\n",
      "[500]\tvalid_0's auc: 0.760592\n",
      "[550]\tvalid_0's auc: 0.761319\n",
      "[600]\tvalid_0's auc: 0.761826\n",
      "[650]\tvalid_0's auc: 0.762646\n",
      "[700]\tvalid_0's auc: 0.76319\n",
      "[750]\tvalid_0's auc: 0.763767\n",
      "[800]\tvalid_0's auc: 0.764103\n",
      "[850]\tvalid_0's auc: 0.764452\n",
      "[900]\tvalid_0's auc: 0.764745\n",
      "[950]\tvalid_0's auc: 0.764983\n",
      "[1000]\tvalid_0's auc: 0.765198\n",
      "Did not meet early stopping. Best iteration is:\n",
      "[1000]\tvalid_0's auc: 0.765198\n",
      "Обучение на фолде номер:= 1 завершилось.\n",
      "Началось обучение на фолде номер:= 2.\n",
      "Training until validation scores don't improve for 50 rounds\n",
      "[50]\tvalid_0's auc: 0.734279\n",
      "[100]\tvalid_0's auc: 0.747565\n",
      "[150]\tvalid_0's auc: 0.752897\n",
      "[200]\tvalid_0's auc: 0.755895\n",
      "[250]\tvalid_0's auc: 0.757968\n",
      "[300]\tvalid_0's auc: 0.759571\n",
      "[350]\tvalid_0's auc: 0.760886\n",
      "[400]\tvalid_0's auc: 0.761834\n",
      "[450]\tvalid_0's auc: 0.76275\n",
      "[500]\tvalid_0's auc: 0.76353\n",
      "[550]\tvalid_0's auc: 0.764278\n",
      "[600]\tvalid_0's auc: 0.764771\n",
      "[650]\tvalid_0's auc: 0.765359\n",
      "[700]\tvalid_0's auc: 0.765899\n",
      "[750]\tvalid_0's auc: 0.766385\n",
      "[800]\tvalid_0's auc: 0.766652\n",
      "[850]\tvalid_0's auc: 0.767133\n",
      "[900]\tvalid_0's auc: 0.767509\n",
      "[950]\tvalid_0's auc: 0.767769\n",
      "[1000]\tvalid_0's auc: 0.768244\n",
      "Did not meet early stopping. Best iteration is:\n",
      "[999]\tvalid_0's auc: 0.768245\n",
      "Обучение на фолде номер:= 2 завершилось.\n",
      "Началось обучение на фолде номер:= 3.\n",
      "Training until validation scores don't improve for 50 rounds\n",
      "[50]\tvalid_0's auc: 0.738592\n",
      "[100]\tvalid_0's auc: 0.751627\n",
      "[150]\tvalid_0's auc: 0.757205\n",
      "[200]\tvalid_0's auc: 0.760553\n",
      "[250]\tvalid_0's auc: 0.762651\n",
      "[300]\tvalid_0's auc: 0.764373\n",
      "[350]\tvalid_0's auc: 0.765704\n",
      "[400]\tvalid_0's auc: 0.766692\n",
      "[450]\tvalid_0's auc: 0.767632\n",
      "[500]\tvalid_0's auc: 0.768447\n",
      "[550]\tvalid_0's auc: 0.769125\n",
      "[600]\tvalid_0's auc: 0.769517\n",
      "[650]\tvalid_0's auc: 0.769962\n",
      "[700]\tvalid_0's auc: 0.770311\n",
      "[750]\tvalid_0's auc: 0.770717\n",
      "[800]\tvalid_0's auc: 0.771057\n",
      "[850]\tvalid_0's auc: 0.771438\n",
      "[900]\tvalid_0's auc: 0.771725\n",
      "[950]\tvalid_0's auc: 0.772076\n",
      "[1000]\tvalid_0's auc: 0.772264\n",
      "Did not meet early stopping. Best iteration is:\n",
      "[990]\tvalid_0's auc: 0.772288\n",
      "Обучение на фолде номер:= 3 завершилось.\n",
      "Началось обучение на фолде номер:= 4.\n",
      "Training until validation scores don't improve for 50 rounds\n",
      "[50]\tvalid_0's auc: 0.729854\n",
      "[100]\tvalid_0's auc: 0.743522\n",
      "[150]\tvalid_0's auc: 0.749751\n",
      "[200]\tvalid_0's auc: 0.753095\n",
      "[250]\tvalid_0's auc: 0.755437\n",
      "[300]\tvalid_0's auc: 0.757178\n",
      "[350]\tvalid_0's auc: 0.758785\n",
      "[400]\tvalid_0's auc: 0.759965\n",
      "[450]\tvalid_0's auc: 0.761182\n",
      "[500]\tvalid_0's auc: 0.761966\n",
      "[550]\tvalid_0's auc: 0.762787\n",
      "[600]\tvalid_0's auc: 0.763612\n",
      "[650]\tvalid_0's auc: 0.764202\n",
      "[700]\tvalid_0's auc: 0.764615\n",
      "[750]\tvalid_0's auc: 0.765189\n",
      "[800]\tvalid_0's auc: 0.765423\n",
      "[850]\tvalid_0's auc: 0.765742\n",
      "[900]\tvalid_0's auc: 0.766109\n",
      "[950]\tvalid_0's auc: 0.766379\n",
      "[1000]\tvalid_0's auc: 0.766615\n",
      "Did not meet early stopping. Best iteration is:\n",
      "[996]\tvalid_0's auc: 0.766632\n",
      "Обучение на фолде номер:= 4 завершилось.\n",
      "Началось обучение на фолде номер:= 5.\n",
      "Training until validation scores don't improve for 50 rounds\n",
      "[50]\tvalid_0's auc: 0.7373\n",
      "[100]\tvalid_0's auc: 0.750421\n",
      "[150]\tvalid_0's auc: 0.7557\n",
      "[200]\tvalid_0's auc: 0.758507\n",
      "[250]\tvalid_0's auc: 0.760552\n",
      "[300]\tvalid_0's auc: 0.762311\n",
      "[350]\tvalid_0's auc: 0.763629\n",
      "[400]\tvalid_0's auc: 0.764722\n",
      "[450]\tvalid_0's auc: 0.765623\n",
      "[500]\tvalid_0's auc: 0.766419\n",
      "[550]\tvalid_0's auc: 0.766967\n",
      "[600]\tvalid_0's auc: 0.767525\n",
      "[650]\tvalid_0's auc: 0.768081\n",
      "[700]\tvalid_0's auc: 0.768617\n",
      "[750]\tvalid_0's auc: 0.768939\n",
      "[800]\tvalid_0's auc: 0.769242\n",
      "[850]\tvalid_0's auc: 0.769482\n",
      "[900]\tvalid_0's auc: 0.769675\n",
      "[950]\tvalid_0's auc: 0.769924\n",
      "[1000]\tvalid_0's auc: 0.770096\n",
      "Did not meet early stopping. Best iteration is:\n",
      "[999]\tvalid_0's auc: 0.7701\n",
      "Обучение на фолде номер:= 5 завершилось.\n",
      "CPU times: user 26min 51s, sys: 21.7 s, total: 27min 12s\n",
      "Wall time: 9min 35s\n"
     ]
    }
   ],
   "source": [
    "%%time\n",
    "\n",
    "oof = np.zeros(len(merged_train_data))\n",
    "train_preds = np.zeros(len(merged_train_data))\n",
    "\n",
    "new_models = []\n",
    "\n",
    "tree_params = {\n",
    "    'objective': 'binary',\n",
    "    'metric': 'auc',\n",
    "    'learning_rate': 0.05,\n",
    "    'max_depth': 3,\n",
    "    'reg_lambda': 1,\n",
    "    'num_leaves': 64,\n",
    "    'n_jobs': 5,\n",
    "    'n_estimators': 1000\n",
    "}\n",
    "\n",
    "\n",
    "for fold_, (train_idx, val_idx) in enumerate(cv.split(merged_train_data, targets), 1):\n",
    "    print(f'Началось обучение на фолде номер:= {fold_}.')\n",
    "    lgb_model = lgb.LGBMClassifier(**tree_params)\n",
    "    train, val = merged_train_data.iloc[train_idx], merged_train_data.iloc[val_idx]\n",
    "    \n",
    "    lgb_model.fit(train[top_selected_feats], train.flag.values, eval_set=[(val[top_selected_feats], val.flag.values)],\n",
    "              early_stopping_rounds=50, verbose=50)\n",
    "\n",
    "    oof[val_idx] = lgb_model.predict_proba(val[top_selected_feats])[:, 1]\n",
    "    train_preds[train_idx] += lgb_model.predict_proba(train[top_selected_feats])[:, 1] / (cv.n_splits-1)\n",
    "    new_models.append(lgb_model)\n",
    "    \n",
    "    file_name_model = f'model{num_model}/model{num_model}_{fold_}.txt'\n",
    "    lgb_model.booster_.save_model(PATH_TO_WORKDIR+file_name_model)\n",
    "    print(f'Обучение на фолде номер:= {fold_} завершилось.')"
   ]
  },
  {
   "cell_type": "code",
   "execution_count": 20,
   "id": "parliamentary-retirement",
   "metadata": {
    "execution": {
     "iopub.execute_input": "2021-04-23T12:20:09.811281Z",
     "iopub.status.busy": "2021-04-23T12:20:09.810190Z",
     "iopub.status.idle": "2021-04-23T12:20:10.215359Z",
     "shell.execute_reply": "2021-04-23T12:20:10.215863Z"
    },
    "papermill": {
     "duration": 0.529338,
     "end_time": "2021-04-23T12:20:10.216043",
     "exception": false,
     "start_time": "2021-04-23T12:20:09.686705",
     "status": "completed"
    },
    "tags": []
   },
   "outputs": [
    {
     "data": {
      "text/plain": [
       "('Train roc-auc model2', 0.7966375744839358)"
      ]
     },
     "execution_count": 20,
     "metadata": {},
     "output_type": "execute_result"
    }
   ],
   "source": [
    "f'Train roc-auc model{num_model}', roc_auc_score(targets, train_preds)"
   ]
  },
  {
   "cell_type": "code",
   "execution_count": 21,
   "id": "intelligent-somewhere",
   "metadata": {
    "execution": {
     "iopub.execute_input": "2021-04-23T12:20:10.458661Z",
     "iopub.status.busy": "2021-04-23T12:20:10.457526Z",
     "iopub.status.idle": "2021-04-23T12:20:10.851359Z",
     "shell.execute_reply": "2021-04-23T12:20:10.850843Z"
    },
    "papermill": {
     "duration": 0.516835,
     "end_time": "2021-04-23T12:20:10.851544",
     "exception": false,
     "start_time": "2021-04-23T12:20:10.334709",
     "status": "completed"
    },
    "tags": []
   },
   "outputs": [
    {
     "data": {
      "text/plain": [
       "('CV roc-auc model2', 0.7684856517031308)"
      ]
     },
     "execution_count": 21,
     "metadata": {},
     "output_type": "execute_result"
    }
   ],
   "source": [
    "f'CV roc-auc model{num_model}', roc_auc_score(targets, oof)"
   ]
  },
  {
   "cell_type": "code",
   "execution_count": 22,
   "id": "recovered-london",
   "metadata": {
    "execution": {
     "iopub.execute_input": "2021-04-23T12:20:11.097798Z",
     "iopub.status.busy": "2021-04-23T12:20:11.096725Z",
     "iopub.status.idle": "2021-04-23T12:20:59.947901Z",
     "shell.execute_reply": "2021-04-23T12:20:59.947312Z"
    },
    "papermill": {
     "duration": 48.976927,
     "end_time": "2021-04-23T12:20:59.948056",
     "exception": false,
     "start_time": "2021-04-23T12:20:10.971129",
     "status": "completed"
    },
    "tags": []
   },
   "outputs": [
    {
     "data": {
      "application/vnd.jupyter.widget-view+json": {
       "model_id": "c60fe6a93958408c9b1cd730da59445d",
       "version_major": 2,
       "version_minor": 0
      },
      "text/plain": [
       "  0%|          | 0/5 [00:00<?, ?it/s]"
      ]
     },
     "metadata": {},
     "output_type": "display_data"
    }
   ],
   "source": [
    "score = np.zeros(len(merged_test_data))\n",
    "\n",
    "for model in tqdm.tqdm_notebook(new_models):\n",
    "    score += model.predict_proba(merged_test_data[top_selected_feats])[:, 1] / len(models)\n",
    "    \n",
    "submission = pd.DataFrame({\n",
    "    'app_id' : merged_test_data.app_id.values,\n",
    "    'score': score\n",
    "}) \n",
    "\n",
    "submission.to_csv(f'sub_model{num_model}.csv', index=None)  # ~ 0.7346 на public test"
   ]
  },
  {
   "cell_type": "markdown",
   "id": "revised-matrix",
   "metadata": {
    "papermill": {
     "duration": 0.118036,
     "end_time": "2021-04-23T12:21:00.187199",
     "exception": false,
     "start_time": "2021-04-23T12:21:00.069163",
     "status": "completed"
    },
    "tags": []
   },
   "source": [
    "# 7. Permutation importance\n",
    "---\n",
    "Это способ оценки важности признаков, который можно применить к любой обученной модели на табличных данных. Данный тип важности определеяется для каждого признака, как изменение в скоре (в нашем случае - roc_auc) при случайном перемешиваниии столбца с значениями этого признака несколько раз."
   ]
  },
  {
   "cell_type": "code",
   "execution_count": 23,
   "id": "imported-advocate",
   "metadata": {
    "execution": {
     "iopub.execute_input": "2021-04-23T12:21:00.427491Z",
     "iopub.status.busy": "2021-04-23T12:21:00.426750Z",
     "iopub.status.idle": "2021-04-23T14:43:47.816211Z",
     "shell.execute_reply": "2021-04-23T14:43:47.816764Z"
    },
    "papermill": {
     "duration": 8567.510633,
     "end_time": "2021-04-23T14:43:47.816982",
     "exception": false,
     "start_time": "2021-04-23T12:21:00.306349",
     "status": "completed"
    },
    "tags": []
   },
   "outputs": [
    {
     "name": "stdout",
     "output_type": "stream",
     "text": [
      "Началась обработка фолда:= 1\n",
      "Обработка фолда:= 1 закончена.\n",
      "Началась обработка фолда:= 2\n",
      "Обработка фолда:= 2 закончена.\n",
      "Началась обработка фолда:= 3\n",
      "Обработка фолда:= 3 закончена.\n",
      "Началась обработка фолда:= 4\n",
      "Обработка фолда:= 4 закончена.\n",
      "Началась обработка фолда:= 5\n",
      "Обработка фолда:= 5 закончена.\n",
      "CPU times: user 2min 28s, sys: 3.02 s, total: 2min 31s\n",
      "Wall time: 2h 22min 47s\n"
     ]
    }
   ],
   "source": [
    "%%time\n",
    "permut_importance = np.zeros(len(features))\n",
    "\n",
    "for fold_, (_, val_idx) in enumerate(cv.split(merged_train_data, targets), 1):\n",
    "    print(f'Началась обработка фолда:= {fold_}')\n",
    "    val = merged_train_data.iloc[val_idx]\n",
    "    importances_report = permutation_importance(models[fold_-1], val[features], val.flag.values, n_repeats=3, \n",
    "                                     n_jobs=3, scoring='roc_auc')\n",
    "    permut_importance += importances_report.importances_mean / cv.n_splits\n",
    "    print(f'Обработка фолда:= {fold_} закончена.')"
   ]
  },
  {
   "cell_type": "code",
   "execution_count": 24,
   "id": "aggressive-range",
   "metadata": {
    "execution": {
     "iopub.execute_input": "2021-04-23T14:43:48.115800Z",
     "iopub.status.busy": "2021-04-23T14:43:48.111031Z",
     "iopub.status.idle": "2021-04-23T14:43:48.466234Z",
     "shell.execute_reply": "2021-04-23T14:43:48.466766Z"
    },
    "papermill": {
     "duration": 0.530114,
     "end_time": "2021-04-23T14:43:48.466955",
     "exception": false,
     "start_time": "2021-04-23T14:43:47.936841",
     "status": "completed"
    },
    "tags": []
   },
   "outputs": [
    {
     "data": {
      "image/png": "[encoded data removed]",
      "text/plain": [
       "<Figure size 720x576 with 1 Axes>"
      ]
     },
     "metadata": {
      "needs_background": "light"
     },
     "output_type": "display_data"
    }
   ],
   "source": [
    "plot_feature_importance(features, permut_importance*10000, top_feats=20, title='Permutation importance', \n",
    "                        x_label='Importance')"
   ]
  },
  {
   "cell_type": "markdown",
   "id": "plastic-jefferson",
   "metadata": {
    "papermill": {
     "duration": 0.210248,
     "end_time": "2021-04-23T14:43:48.799782",
     "exception": false,
     "start_time": "2021-04-23T14:43:48.589534",
     "status": "completed"
    },
    "tags": []
   },
   "source": [
    "Используя техники оценки важности признаков можно интерпретировать модель, пытаться генерировать новые признаки или упрощать модель, удаляя самые неинформативные. Попробуем оставить топ информативных признаков (с точки зрения) `permutation importance`. Удаление из модели признаков, как правило, уменьшает ее склонность к переобучению. А самое главное - может существенно ускорить процесс обучения и последующий процесс использования ее в продуктовых целях, что для меня достаточно важно потому что есть цель развернуть деплой модели на heroku, а его мощности скромные. "
   ]
  },
  {
   "cell_type": "code",
   "execution_count": 25,
   "id": "nutritional-savage",
   "metadata": {
    "execution": {
     "iopub.execute_input": "2021-04-23T14:43:49.059805Z",
     "iopub.status.busy": "2021-04-23T14:43:49.058898Z",
     "iopub.status.idle": "2021-04-23T14:43:49.063594Z",
     "shell.execute_reply": "2021-04-23T14:43:49.062907Z"
    },
    "papermill": {
     "duration": 0.138955,
     "end_time": "2021-04-23T14:43:49.063744",
     "exception": false,
     "start_time": "2021-04-23T14:43:48.924789",
     "status": "completed"
    },
    "tags": []
   },
   "outputs": [
    {
     "name": "stdout",
     "output_type": "stream",
     "text": [
      "Кол-во отобранных признаков после метода Permutation importance:= 58\n"
     ]
    }
   ],
   "source": [
    "tuples = [(name, round(score, 3)) for name, score in zip(features, permut_importance)]\n",
    "tuples = sorted(tuples, key=lambda x: x[1])\n",
    "\n",
    "top_selected_feats = [x[0] for x in tuples if x[1] > 0]\n",
    "print(f'Кол-во отобранных признаков после метода Permutation importance:= {len(top_selected_feats)}')"
   ]
  },
  {
   "cell_type": "markdown",
   "id": "economic-reverse",
   "metadata": {
    "papermill": {
     "duration": 0.121812,
     "end_time": "2021-04-23T14:43:49.308960",
     "exception": false,
     "start_time": "2021-04-23T14:43:49.187148",
     "status": "completed"
    },
    "tags": []
   },
   "source": [
    "# 8. LightGBM + CV (3)\n",
    "---\n",
    "## 8.1. Третья модель (model3)\n",
    "(на признаках после отбора с помощью методов Features importance(median) и Permutation importance)"
   ]
  },
  {
   "cell_type": "code",
   "execution_count": 26,
   "id": "everyday-strength",
   "metadata": {
    "execution": {
     "iopub.execute_input": "2021-04-23T14:43:49.560430Z",
     "iopub.status.busy": "2021-04-23T14:43:49.559697Z",
     "iopub.status.idle": "2021-04-23T14:43:49.562655Z",
     "shell.execute_reply": "2021-04-23T14:43:49.561947Z"
    },
    "papermill": {
     "duration": 0.129933,
     "end_time": "2021-04-23T14:43:49.562803",
     "exception": false,
     "start_time": "2021-04-23T14:43:49.432870",
     "status": "completed"
    },
    "tags": []
   },
   "outputs": [],
   "source": [
    "num_model = 3"
   ]
  },
  {
   "cell_type": "code",
   "execution_count": 27,
   "id": "potential-transition",
   "metadata": {
    "execution": {
     "iopub.execute_input": "2021-04-23T14:43:49.841833Z",
     "iopub.status.busy": "2021-04-23T14:43:49.841046Z",
     "iopub.status.idle": "2021-04-23T14:43:50.582906Z",
     "shell.execute_reply": "2021-04-23T14:43:50.582213Z"
    },
    "papermill": {
     "duration": 0.89585,
     "end_time": "2021-04-23T14:43:50.583048",
     "exception": false,
     "start_time": "2021-04-23T14:43:49.687198",
     "status": "completed"
    },
    "tags": []
   },
   "outputs": [],
   "source": [
    "!mkdir model3"
   ]
  },
  {
   "cell_type": "code",
   "execution_count": 28,
   "id": "peaceful-bangkok",
   "metadata": {
    "execution": {
     "iopub.execute_input": "2021-04-23T14:43:50.839849Z",
     "iopub.status.busy": "2021-04-23T14:43:50.839112Z",
     "iopub.status.idle": "2021-04-23T14:52:41.693986Z",
     "shell.execute_reply": "2021-04-23T14:52:41.694502Z"
    },
    "papermill": {
     "duration": 530.987599,
     "end_time": "2021-04-23T14:52:41.694688",
     "exception": false,
     "start_time": "2021-04-23T14:43:50.707089",
     "status": "completed"
    },
    "tags": []
   },
   "outputs": [
    {
     "name": "stdout",
     "output_type": "stream",
     "text": [
      "Training with fold 1 started.\n",
      "Training until validation scores don't improve for 50 rounds\n",
      "[50]\tvalid_0's auc: 0.732309\n",
      "[100]\tvalid_0's auc: 0.744817\n",
      "[150]\tvalid_0's auc: 0.750251\n",
      "[200]\tvalid_0's auc: 0.753702\n",
      "[250]\tvalid_0's auc: 0.756364\n",
      "[300]\tvalid_0's auc: 0.758333\n",
      "[350]\tvalid_0's auc: 0.760006\n",
      "[400]\tvalid_0's auc: 0.761193\n",
      "[450]\tvalid_0's auc: 0.762111\n",
      "[500]\tvalid_0's auc: 0.762889\n",
      "[550]\tvalid_0's auc: 0.76374\n",
      "[600]\tvalid_0's auc: 0.764407\n",
      "[650]\tvalid_0's auc: 0.764846\n",
      "[700]\tvalid_0's auc: 0.765311\n",
      "[750]\tvalid_0's auc: 0.765565\n",
      "[800]\tvalid_0's auc: 0.765956\n",
      "[850]\tvalid_0's auc: 0.766275\n",
      "[900]\tvalid_0's auc: 0.766423\n",
      "[950]\tvalid_0's auc: 0.766653\n",
      "[1000]\tvalid_0's auc: 0.766864\n",
      "Did not meet early stopping. Best iteration is:\n",
      "[997]\tvalid_0's auc: 0.766869\n",
      "Training with fold 1 completed.\n",
      "Training with fold 2 started.\n",
      "Training until validation scores don't improve for 50 rounds\n",
      "[50]\tvalid_0's auc: 0.735967\n",
      "[100]\tvalid_0's auc: 0.748301\n",
      "[150]\tvalid_0's auc: 0.753723\n",
      "[200]\tvalid_0's auc: 0.757205\n",
      "[250]\tvalid_0's auc: 0.759306\n",
      "[300]\tvalid_0's auc: 0.76093\n",
      "[350]\tvalid_0's auc: 0.762103\n",
      "[400]\tvalid_0's auc: 0.763224\n",
      "[450]\tvalid_0's auc: 0.764193\n",
      "[500]\tvalid_0's auc: 0.764962\n",
      "[550]\tvalid_0's auc: 0.7657\n",
      "[600]\tvalid_0's auc: 0.76631\n",
      "[650]\tvalid_0's auc: 0.76688\n",
      "[700]\tvalid_0's auc: 0.76717\n",
      "[750]\tvalid_0's auc: 0.767525\n",
      "[800]\tvalid_0's auc: 0.767917\n",
      "[850]\tvalid_0's auc: 0.768246\n",
      "[900]\tvalid_0's auc: 0.768537\n",
      "[950]\tvalid_0's auc: 0.768692\n",
      "[1000]\tvalid_0's auc: 0.768932\n",
      "Did not meet early stopping. Best iteration is:\n",
      "[997]\tvalid_0's auc: 0.76895\n",
      "Training with fold 2 completed.\n",
      "Training with fold 3 started.\n",
      "Training until validation scores don't improve for 50 rounds\n",
      "[50]\tvalid_0's auc: 0.739421\n",
      "[100]\tvalid_0's auc: 0.751981\n",
      "[150]\tvalid_0's auc: 0.757392\n",
      "[200]\tvalid_0's auc: 0.760954\n",
      "[250]\tvalid_0's auc: 0.763549\n",
      "[300]\tvalid_0's auc: 0.765395\n",
      "[350]\tvalid_0's auc: 0.766736\n",
      "[400]\tvalid_0's auc: 0.76773\n",
      "[450]\tvalid_0's auc: 0.768538\n",
      "[500]\tvalid_0's auc: 0.76926\n",
      "[550]\tvalid_0's auc: 0.769833\n",
      "[600]\tvalid_0's auc: 0.770412\n",
      "[650]\tvalid_0's auc: 0.770887\n",
      "[700]\tvalid_0's auc: 0.771232\n",
      "[750]\tvalid_0's auc: 0.771514\n",
      "[800]\tvalid_0's auc: 0.771889\n",
      "[850]\tvalid_0's auc: 0.772141\n",
      "[900]\tvalid_0's auc: 0.772328\n",
      "[950]\tvalid_0's auc: 0.772606\n",
      "[1000]\tvalid_0's auc: 0.772719\n",
      "Did not meet early stopping. Best iteration is:\n",
      "[999]\tvalid_0's auc: 0.772719\n",
      "Training with fold 3 completed.\n",
      "Training with fold 4 started.\n",
      "Training until validation scores don't improve for 50 rounds\n",
      "[50]\tvalid_0's auc: 0.730608\n",
      "[100]\tvalid_0's auc: 0.743833\n",
      "[150]\tvalid_0's auc: 0.749954\n",
      "[200]\tvalid_0's auc: 0.753947\n",
      "[250]\tvalid_0's auc: 0.756257\n",
      "[300]\tvalid_0's auc: 0.758013\n",
      "[350]\tvalid_0's auc: 0.75971\n",
      "[400]\tvalid_0's auc: 0.761015\n",
      "[450]\tvalid_0's auc: 0.762273\n",
      "[500]\tvalid_0's auc: 0.763225\n",
      "[550]\tvalid_0's auc: 0.76388\n",
      "[600]\tvalid_0's auc: 0.764541\n",
      "[650]\tvalid_0's auc: 0.765037\n",
      "[700]\tvalid_0's auc: 0.765683\n",
      "[750]\tvalid_0's auc: 0.7661\n",
      "[800]\tvalid_0's auc: 0.766333\n",
      "[850]\tvalid_0's auc: 0.766619\n",
      "[900]\tvalid_0's auc: 0.767063\n",
      "[950]\tvalid_0's auc: 0.767405\n",
      "[1000]\tvalid_0's auc: 0.767591\n",
      "Did not meet early stopping. Best iteration is:\n",
      "[1000]\tvalid_0's auc: 0.767591\n",
      "Training with fold 4 completed.\n",
      "Training with fold 5 started.\n",
      "Training until validation scores don't improve for 50 rounds\n",
      "[50]\tvalid_0's auc: 0.737851\n",
      "[100]\tvalid_0's auc: 0.750789\n",
      "[150]\tvalid_0's auc: 0.756572\n",
      "[200]\tvalid_0's auc: 0.759893\n",
      "[250]\tvalid_0's auc: 0.762163\n",
      "[300]\tvalid_0's auc: 0.764147\n",
      "[350]\tvalid_0's auc: 0.765562\n",
      "[400]\tvalid_0's auc: 0.76681\n",
      "[450]\tvalid_0's auc: 0.767587\n",
      "[500]\tvalid_0's auc: 0.768275\n",
      "[550]\tvalid_0's auc: 0.768854\n",
      "[600]\tvalid_0's auc: 0.769241\n",
      "[650]\tvalid_0's auc: 0.7696\n",
      "[700]\tvalid_0's auc: 0.769903\n",
      "[750]\tvalid_0's auc: 0.770171\n",
      "[800]\tvalid_0's auc: 0.77053\n",
      "[850]\tvalid_0's auc: 0.770813\n",
      "[900]\tvalid_0's auc: 0.77103\n",
      "[950]\tvalid_0's auc: 0.771375\n",
      "[1000]\tvalid_0's auc: 0.771676\n",
      "Did not meet early stopping. Best iteration is:\n",
      "[1000]\tvalid_0's auc: 0.771676\n",
      "Training with fold 5 completed.\n",
      "CPU times: user 24min 19s, sys: 20.9 s, total: 24min 40s\n",
      "Wall time: 8min 50s\n"
     ]
    }
   ],
   "source": [
    "%%time\n",
    "\n",
    "oof = np.zeros(len(merged_train_data))\n",
    "train_preds = np.zeros(len(merged_train_data))\n",
    "\n",
    "new_models = []\n",
    "\n",
    "tree_params = {\n",
    "    'objective': 'binary',\n",
    "    'metric': 'auc',\n",
    "    'learning_rate': 0.05,\n",
    "    'max_depth': 3,\n",
    "    'reg_lambda': 1,\n",
    "    'num_leaves': 64,\n",
    "    'n_jobs': 5,\n",
    "    'n_estimators': 1000\n",
    "}\n",
    "\n",
    "\n",
    "for fold_, (train_idx, val_idx) in enumerate(cv.split(merged_train_data, targets), 1):\n",
    "    print(f'Training with fold {fold_} started.')\n",
    "    lgb_model = lgb.LGBMClassifier(**tree_params)\n",
    "    train, val = merged_train_data.iloc[train_idx], merged_train_data.iloc[val_idx]\n",
    "    \n",
    "    lgb_model.fit(train[top_selected_feats], train.flag.values, eval_set=[(val[top_selected_feats], val.flag.values)],\n",
    "              early_stopping_rounds=50, verbose=50)\n",
    "\n",
    "    \n",
    "    oof[val_idx] = lgb_model.predict_proba(val[top_selected_feats])[:, 1]\n",
    "    train_preds[train_idx] += lgb_model.predict_proba(train[top_selected_feats])[:, 1] / (cv.n_splits-1)\n",
    "    new_models.append(lgb_model)\n",
    "    \n",
    "    file_name_model = f'model{num_model}/model{num_model}_{fold_}.txt'\n",
    "    lgb_model.booster_.save_model(PATH_TO_WORKDIR+file_name_model)\n",
    "    print(f'Training with fold {fold_} completed.')"
   ]
  },
  {
   "cell_type": "code",
   "execution_count": 29,
   "id": "scheduled-charlotte",
   "metadata": {
    "execution": {
     "iopub.execute_input": "2021-04-23T14:52:42.012378Z",
     "iopub.status.busy": "2021-04-23T14:52:42.011324Z",
     "iopub.status.idle": "2021-04-23T14:52:42.395325Z",
     "shell.execute_reply": "2021-04-23T14:52:42.394676Z"
    },
    "papermill": {
     "duration": 0.545138,
     "end_time": "2021-04-23T14:52:42.395486",
     "exception": false,
     "start_time": "2021-04-23T14:52:41.850348",
     "status": "completed"
    },
    "tags": []
   },
   "outputs": [
    {
     "data": {
      "text/plain": [
       "('Train roc-auc model3', 0.7967244162263399)"
      ]
     },
     "execution_count": 29,
     "metadata": {},
     "output_type": "execute_result"
    }
   ],
   "source": [
    "f'Train roc-auc model{num_model}', roc_auc_score(targets, train_preds)"
   ]
  },
  {
   "cell_type": "code",
   "execution_count": 30,
   "id": "minus-water",
   "metadata": {
    "execution": {
     "iopub.execute_input": "2021-04-23T14:52:42.715430Z",
     "iopub.status.busy": "2021-04-23T14:52:42.714385Z",
     "iopub.status.idle": "2021-04-23T14:52:43.099036Z",
     "shell.execute_reply": "2021-04-23T14:52:43.098519Z"
    },
    "papermill": {
     "duration": 0.545864,
     "end_time": "2021-04-23T14:52:43.099178",
     "exception": false,
     "start_time": "2021-04-23T14:52:42.553314",
     "status": "completed"
    },
    "tags": []
   },
   "outputs": [
    {
     "data": {
      "text/plain": [
       "('CV roc-auc model3', 0.7695533379978585)"
      ]
     },
     "execution_count": 30,
     "metadata": {},
     "output_type": "execute_result"
    }
   ],
   "source": [
    "f'CV roc-auc model{num_model}', roc_auc_score(targets, oof)"
   ]
  },
  {
   "cell_type": "code",
   "execution_count": 31,
   "id": "anonymous-aging",
   "metadata": {
    "execution": {
     "iopub.execute_input": "2021-04-23T14:52:43.418381Z",
     "iopub.status.busy": "2021-04-23T14:52:43.417627Z",
     "iopub.status.idle": "2021-04-23T14:53:31.359386Z",
     "shell.execute_reply": "2021-04-23T14:53:31.357083Z"
    },
    "papermill": {
     "duration": 48.103928,
     "end_time": "2021-04-23T14:53:31.360188",
     "exception": false,
     "start_time": "2021-04-23T14:52:43.256260",
     "status": "completed"
    },
    "tags": []
   },
   "outputs": [
    {
     "data": {
      "application/vnd.jupyter.widget-view+json": {
       "model_id": "54697e50ca95435392db6174eebb92cd",
       "version_major": 2,
       "version_minor": 0
      },
      "text/plain": [
       "  0%|          | 0/5 [00:00<?, ?it/s]"
      ]
     },
     "metadata": {},
     "output_type": "display_data"
    }
   ],
   "source": [
    "score = np.zeros(len(merged_test_data))\n",
    "\n",
    "for model in tqdm.tqdm_notebook(new_models):\n",
    "    score += model.predict_proba(merged_test_data[top_selected_feats])[:, 1] / len(models)\n",
    "    \n",
    "submission = pd.DataFrame({\n",
    "    'app_id' : merged_test_data.app_id.values,\n",
    "    'score': score\n",
    "}) \n",
    "\n",
    "submission.to_csv(f'sub_model{num_model}.csv', index=None)  # ~ 0.736 roc-auc на public test"
   ]
  },
  {
   "cell_type": "markdown",
   "id": "robust-intellectual",
   "metadata": {
    "papermill": {
     "duration": 0.301862,
     "end_time": "2021-04-23T14:53:32.265224",
     "exception": false,
     "start_time": "2021-04-23T14:53:31.963362",
     "status": "completed"
    },
    "tags": []
   },
   "source": [
    "# 9. Интерпретация предсказаний модели (shap)\n",
    "---\n",
    "В задаче кредитного скорринга важна интепретируемость модели, для этого можно использовать  библиотеку shap. Мы используем так называемый summary plot, позволяющий получить общую картину о влиянии того или иного признака на предсказание модели визуализуруя всю выборку сразу. Я не смог разобраться как использовать методы shap для модели обученной на 5-ти фолдах. Ниже я заново обучаю модель после сплита 90:10 без деления на фолды, чтобы выделить основные закономерности влияния фич на таргет и попытаться визуализировать их разделяющую способность."
   ]
  },
  {
   "cell_type": "code",
   "execution_count": 32,
   "id": "divided-shell",
   "metadata": {
    "execution": {
     "iopub.execute_input": "2021-04-23T14:53:32.620789Z",
     "iopub.status.busy": "2021-04-23T14:53:32.620085Z",
     "iopub.status.idle": "2021-04-23T14:55:42.731328Z",
     "shell.execute_reply": "2021-04-23T14:55:42.730807Z"
    },
    "papermill": {
     "duration": 130.297049,
     "end_time": "2021-04-23T14:55:42.731487",
     "exception": false,
     "start_time": "2021-04-23T14:53:32.434438",
     "status": "completed"
    },
    "tags": []
   },
   "outputs": [
    {
     "name": "stdout",
     "output_type": "stream",
     "text": [
      "Training until validation scores don't improve for 50 rounds\n",
      "Did not meet early stopping. Best iteration is:\n",
      "[1000]\tvalid_0's auc: 0.765385\n",
      "CPU times: user 6min 5s, sys: 6.27 s, total: 6min 11s\n",
      "Wall time: 2min 9s\n"
     ]
    },
    {
     "data": {
      "text/plain": [
       "LGBMClassifier(learning_rate=0.05, max_depth=3, metric='auc', n_estimators=1000,\n",
       "               n_jobs=5, num_leaves=64, objective='binary', reg_lambda=1,\n",
       "               seed=100)"
      ]
     },
     "execution_count": 32,
     "metadata": {},
     "output_type": "execute_result"
    }
   ],
   "source": [
    "%%time\n",
    "train, val = train_test_split(merged_train_data, random_state=100, test_size=0.1)\n",
    "\n",
    "tree_params = {\n",
    "    'objective': 'binary',\n",
    "    'metric': 'auc',\n",
    "    'learning_rate': 0.05,\n",
    "    'max_depth': 3,\n",
    "    'reg_lambda': 1,\n",
    "    'num_leaves': 64,\n",
    "    'seed': 100,\n",
    "    'n_jobs': 5,\n",
    "    'n_estimators': 1000\n",
    "}\n",
    "\n",
    "lgb_model = lgb.LGBMClassifier(**tree_params)\n",
    "lgb_model.fit(train[features], train.flag.values, eval_set=[(val[features], val.flag.values)],\n",
    "              early_stopping_rounds=50, verbose=-1)"
   ]
  },
  {
   "cell_type": "code",
   "execution_count": 33,
   "id": "registered-bibliography",
   "metadata": {
    "execution": {
     "iopub.execute_input": "2021-04-23T14:55:43.054763Z",
     "iopub.status.busy": "2021-04-23T14:55:43.054037Z",
     "iopub.status.idle": "2021-04-23T14:55:43.433914Z",
     "shell.execute_reply": "2021-04-23T14:55:43.433303Z"
    },
    "papermill": {
     "duration": 0.544943,
     "end_time": "2021-04-23T14:55:43.434059",
     "exception": false,
     "start_time": "2021-04-23T14:55:42.889116",
     "status": "completed"
    },
    "tags": []
   },
   "outputs": [],
   "source": [
    "explainer = shap.TreeExplainer(lgb_model)"
   ]
  },
  {
   "cell_type": "code",
   "execution_count": 34,
   "id": "center-independence",
   "metadata": {
    "execution": {
     "iopub.execute_input": "2021-04-23T14:55:43.811952Z",
     "iopub.status.busy": "2021-04-23T14:55:43.811190Z",
     "iopub.status.idle": "2021-04-23T14:56:17.856579Z",
     "shell.execute_reply": "2021-04-23T14:56:17.857117Z"
    },
    "papermill": {
     "duration": 34.264518,
     "end_time": "2021-04-23T14:56:17.857296",
     "exception": false,
     "start_time": "2021-04-23T14:55:43.592778",
     "status": "completed"
    },
    "tags": []
   },
   "outputs": [],
   "source": [
    "shap_values = explainer.shap_values(val[features])"
   ]
  },
  {
   "cell_type": "code",
   "execution_count": 35,
   "id": "damaged-despite",
   "metadata": {
    "execution": {
     "iopub.execute_input": "2021-04-23T14:56:18.179349Z",
     "iopub.status.busy": "2021-04-23T14:56:18.178720Z",
     "iopub.status.idle": "2021-04-23T14:56:37.736065Z",
     "shell.execute_reply": "2021-04-23T14:56:37.736582Z"
    },
    "papermill": {
     "duration": 19.719825,
     "end_time": "2021-04-23T14:56:37.736757",
     "exception": false,
     "start_time": "2021-04-23T14:56:18.016932",
     "status": "completed"
    },
    "tags": []
   },
   "outputs": [
    {
     "data": {
      "image/png": "[encoded data removed]",
      "text/plain": [
       "<Figure size 576x684 with 2 Axes>"
      ]
     },
     "metadata": {
      "needs_background": "light"
     },
     "output_type": "display_data"
    }
   ],
   "source": [
    "shap.summary_plot(shap_values[1], val[features])"
   ]
  },
  {
   "cell_type": "markdown",
   "id": "coastal-appendix",
   "metadata": {
    "papermill": {
     "duration": 0.161757,
     "end_time": "2021-04-23T14:56:38.062922",
     "exception": false,
     "start_time": "2021-04-23T14:56:37.901165",
     "status": "completed"
    },
    "tags": []
   },
   "source": [
    "График выше показывает влияние и разделяющую способность признаков:\n",
    "- каждая точка графика это клиент\n",
    "- цвет - значение прогноза дефолта, чем краснее - тем прогноз дефолта выше, и наоборот\n",
    "- горизонтальное положение точки показывает, приводит ли значение конкретной фичи этого клиента к росту предсказания дефолта, или наоборот.\n",
    "\n",
    "***Например можно увидеть следующие тренды:***\n",
    "\n",
    "1. уменьшение признака 'hour_diff_median' приводит к росту значения целевой переменной (то есть можно предположить, что клиенту приходится делать транзакции слишком часто - а это свидетельство того, что клиент вероятнее выйдет в дефолт, чем клиент который чувствует себя более уверенно в финансовом плане и может позволить делать крупные оплаты сразу не разбивая их на части)\n",
    "2. увеличение признака 'hour_diff_max' приводит к росту значения целевой переменной (то есть можно предположить, что клиент долго не пользовался картой это могло произойти в следствии овердрафта и необходимости перекредитования в другом банке)\n",
    "3. уменьшение признака 'count_mcc_category_9' приводит к росту значения целевой переменной (к сожалению категории торговых точек как данные о клиентах были обезличены, остается только предположить, что вероятно это категория 'Кафе,бары и рестораны' и клиенты испытывающие сложности в финансах перестают их посещать или делают это существенно реже.)\n",
    "4. увеличение признака 'count_operation_type_5' приводит к росту значения целевой переменной (из-за обезличивания типа операций и дополнительного анализа видно что у большинства клиентов таких операций нет, вероятно речь об операции внесение минимального платежа, вместо гашения очередного платежа. И собственно если это так что увеличение кол-ва таких операций приводит к дефолту потому что нагрузка в этом случае только возрастает)\n",
    "5. среднее и максимальное значение признака 'product' приводит к росту значения целевой переменной (предположу что 0 - кредит безналичными на карту, 1 - это кредит наличными, 2 - кредит на крупные покупки, 3 - кредит на покупку авто, 4 - ипотека. Сделать такое предположение можно и-за того что 80% всех кредитов по кол-ву приходится на продукты 0,1. А самый редкий это продукт 4. Среднее значение дефолтов 2-2,5% процента по продуктам 0,1,3. По продукту 2 - 7%. А по продукту 4 - 3%. Вероятно кредиты на крупные покупки проверяются менее чем ипотека и они не имеют обеспечения как авто для погашения кредита.)\n",
    "6. уменьшение признака 'days_before_max' приводит к росту значения целевой переменной (низкое значение максимума кол-ва дней перед взятием кредита означает короткая история транзакций в банке. Можно предположить, что клиент открыл карту и через короткое время получил кредит. Это либо мошеническая схема, но этот вариант мы не рассматривает ибо он скорее всего не массовый. А вероятно это случай перекредитования в другом банке, когда банк по соновной карте перестал предоставлять или увеличивать кредитную линию. Что является свидетельством неплатежеспособности клиента.)"
   ]
  },
  {
   "cell_type": "markdown",
   "id": "rubber-layer",
   "metadata": {
    "papermill": {
     "duration": 0.163115,
     "end_time": "2021-04-23T14:56:38.388146",
     "exception": false,
     "start_time": "2021-04-23T14:56:38.225031",
     "status": "completed"
    },
    "tags": []
   },
   "source": [
    "# 10. Target Permutation\n",
    "---\n",
    "Отбор признаков методом target permutation основан на сравнении важности признака, которая быал получена при обучении на обычной выборке, с распределением важности этого признака для моделей, которые обучены на выборках с перемешанной целевой переменной."
   ]
  },
  {
   "cell_type": "code",
   "execution_count": 36,
   "id": "greatest-continent",
   "metadata": {
    "execution": {
     "iopub.execute_input": "2021-04-23T14:56:38.747587Z",
     "iopub.status.busy": "2021-04-23T14:56:38.746689Z",
     "iopub.status.idle": "2021-04-23T14:56:38.751099Z",
     "shell.execute_reply": "2021-04-23T14:56:38.750596Z"
    },
    "papermill": {
     "duration": 0.200939,
     "end_time": "2021-04-23T14:56:38.751242",
     "exception": false,
     "start_time": "2021-04-23T14:56:38.550303",
     "status": "completed"
    },
    "tags": []
   },
   "outputs": [],
   "source": [
    "def get_feature_importances(frame, shuffle=False, seed=100, importance_type='gain'):\n",
    "    # запишем целевую target в переменную\n",
    "    y = frame.flag.values.copy()\n",
    "    if shuffle:\n",
    "        # перемешаем целевую переменную\n",
    "        y = frame.flag.copy().sample(frac=1.0).values\n",
    "    \n",
    "    # обучим случайный лес из LightGBM ( реализация гораздо быстрее, чем в sklearn )\n",
    "    # сделаем это для того, чтобы не выделять отдельную выборку под валидацию для градиентного бустинга\n",
    "    tree_params = {\n",
    "    'objective': 'binary',\n",
    "    'boosting_type': 'rf',\n",
    "    'metric': 'auc',\n",
    "    'subsample_freq': np.random.choice([5, 10, 15, 20]),\n",
    "    'subsample': np.random.choice([0.6, 0.8, 0.9]),\n",
    "    'max_depth': np.random.choice([7, 8, 10]),\n",
    "    'num_leaves': 64,\n",
    "    'seed': seed,\n",
    "    'n_jobs': 5,\n",
    "    'n_estimators': 100,\n",
    "    'importance_type': importance_type\n",
    "    }\n",
    "    \n",
    "    lgb_model = lgb.LGBMClassifier(**tree_params)\n",
    "    lgb_model.fit(frame[features], y)\n",
    "    \n",
    "    importance = pd.DataFrame({\n",
    "        'feature': features,\n",
    "        f'importance_{importance_type}': lgb_model.feature_importances_,\n",
    "        'score': roc_auc_score(y, lgb_model.predict_proba(frame[features])[:, 1])\n",
    "    })\n",
    "    \n",
    "    return importance"
   ]
  },
  {
   "cell_type": "markdown",
   "id": "certified-individual",
   "metadata": {
    "papermill": {
     "duration": 0.163097,
     "end_time": "2021-04-23T14:56:39.078920",
     "exception": false,
     "start_time": "2021-04-23T14:56:38.915823",
     "status": "completed"
    },
    "tags": []
   },
   "source": [
    "Посчитаем важность признаков (на основе количества сплитов по признаку в алгоритме random forest) при обучении на исходной выборке"
   ]
  },
  {
   "cell_type": "code",
   "execution_count": 37,
   "id": "cordless-institution",
   "metadata": {
    "execution": {
     "iopub.execute_input": "2021-04-23T14:56:39.408273Z",
     "iopub.status.busy": "2021-04-23T14:56:39.407241Z",
     "iopub.status.idle": "2021-04-23T14:57:17.720313Z",
     "shell.execute_reply": "2021-04-23T14:57:17.720849Z"
    },
    "papermill": {
     "duration": 38.479125,
     "end_time": "2021-04-23T14:57:17.721037",
     "exception": false,
     "start_time": "2021-04-23T14:56:39.241912",
     "status": "completed"
    },
    "tags": []
   },
   "outputs": [
    {
     "data": {
      "text/html": [
       "<div>\n",
       "<style scoped>\n",
       "    .dataframe tbody tr th:only-of-type {\n",
       "        vertical-align: middle;\n",
       "    }\n",
       "\n",
       "    .dataframe tbody tr th {\n",
       "        vertical-align: top;\n",
       "    }\n",
       "\n",
       "    .dataframe thead th {\n",
       "        text-align: right;\n",
       "    }\n",
       "</style>\n",
       "<table border=\"1\" class=\"dataframe\">\n",
       "  <thead>\n",
       "    <tr style=\"text-align: right;\">\n",
       "      <th></th>\n",
       "      <th>feature</th>\n",
       "      <th>importance_split</th>\n",
       "      <th>score</th>\n",
       "    </tr>\n",
       "  </thead>\n",
       "  <tbody>\n",
       "    <tr>\n",
       "      <th>0</th>\n",
       "      <td>count_mcc_category_1</td>\n",
       "      <td>20</td>\n",
       "      <td>0.714558</td>\n",
       "    </tr>\n",
       "    <tr>\n",
       "      <th>1</th>\n",
       "      <td>count_mcc_category_2</td>\n",
       "      <td>20</td>\n",
       "      <td>0.714558</td>\n",
       "    </tr>\n",
       "    <tr>\n",
       "      <th>2</th>\n",
       "      <td>count_mcc_category_3</td>\n",
       "      <td>20</td>\n",
       "      <td>0.714558</td>\n",
       "    </tr>\n",
       "    <tr>\n",
       "      <th>3</th>\n",
       "      <td>count_mcc_category_4</td>\n",
       "      <td>100</td>\n",
       "      <td>0.714558</td>\n",
       "    </tr>\n",
       "    <tr>\n",
       "      <th>4</th>\n",
       "      <td>count_mcc_category_5</td>\n",
       "      <td>20</td>\n",
       "      <td>0.714558</td>\n",
       "    </tr>\n",
       "  </tbody>\n",
       "</table>\n",
       "</div>"
      ],
      "text/plain": [
       "                feature  importance_split     score\n",
       "0  count_mcc_category_1                20  0.714558\n",
       "1  count_mcc_category_2                20  0.714558\n",
       "2  count_mcc_category_3                20  0.714558\n",
       "3  count_mcc_category_4               100  0.714558\n",
       "4  count_mcc_category_5                20  0.714558"
      ]
     },
     "execution_count": 37,
     "metadata": {},
     "output_type": "execute_result"
    }
   ],
   "source": [
    "real_importance = get_feature_importances(train, shuffle=False, seed=100, importance_type='split')\n",
    "real_importance.head()"
   ]
  },
  {
   "cell_type": "markdown",
   "id": "biological-distinction",
   "metadata": {
    "papermill": {
     "duration": 0.163451,
     "end_time": "2021-04-23T14:57:18.047986",
     "exception": false,
     "start_time": "2021-04-23T14:57:17.884535",
     "status": "completed"
    },
    "tags": []
   },
   "source": [
    "Посчитаем важность признаков для выборок, у которых целевая переменная перемешана. То есть фактически, обучаем алгоритм на шуме."
   ]
  },
  {
   "cell_type": "code",
   "execution_count": 38,
   "id": "anticipated-tracker",
   "metadata": {
    "execution": {
     "iopub.execute_input": "2021-04-23T14:57:18.379587Z",
     "iopub.status.busy": "2021-04-23T14:57:18.378560Z",
     "iopub.status.idle": "2021-04-23T14:57:18.385990Z",
     "shell.execute_reply": "2021-04-23T14:57:18.385435Z"
    },
    "papermill": {
     "duration": 0.1752,
     "end_time": "2021-04-23T14:57:18.386133",
     "exception": false,
     "start_time": "2021-04-23T14:57:18.210933",
     "status": "completed"
    },
    "tags": []
   },
   "outputs": [],
   "source": [
    "def calculate_null_importance(frame, num_runs=80, importance_type='gain'):\n",
    "    null_importance = pd.DataFrame()\n",
    "    for i in tqdm.tqdm_notebook(range(num_runs)):\n",
    "        # посчитаем текущую важность признаков при перемешивании целевой переменной\n",
    "        importance = get_feature_importances(frame, shuffle=True, seed=None, importance_type=importance_type)\n",
    "        importance['run'] = i + 1 \n",
    "        null_importance = pd.concat([null_importance, importance], axis=0)\n",
    "    return null_importance"
   ]
  },
  {
   "cell_type": "code",
   "execution_count": 39,
   "id": "lesser-sucking",
   "metadata": {
    "execution": {
     "iopub.execute_input": "2021-04-23T14:57:18.746247Z",
     "iopub.status.busy": "2021-04-23T14:57:18.745228Z",
     "iopub.status.idle": "2021-04-23T15:11:43.283404Z",
     "shell.execute_reply": "2021-04-23T15:11:43.283920Z"
    },
    "papermill": {
     "duration": 864.735017,
     "end_time": "2021-04-23T15:11:43.284107",
     "exception": false,
     "start_time": "2021-04-23T14:57:18.549090",
     "status": "completed"
    },
    "tags": []
   },
   "outputs": [
    {
     "data": {
      "application/vnd.jupyter.widget-view+json": {
       "model_id": "5bc58da9abfc4b0a853890d95e9814b4",
       "version_major": 2,
       "version_minor": 0
      },
      "text/plain": [
       "  0%|          | 0/30 [00:00<?, ?it/s]"
      ]
     },
     "metadata": {},
     "output_type": "display_data"
    },
    {
     "name": "stdout",
     "output_type": "stream",
     "text": [
      "CPU times: user 38min 28s, sys: 1min 17s, total: 39min 45s\n",
      "Wall time: 14min 24s\n"
     ]
    }
   ],
   "source": [
    "%%time\n",
    "null_importance = calculate_null_importance(train, num_runs=30, importance_type='split')"
   ]
  },
  {
   "cell_type": "markdown",
   "id": "bacterial-advocate",
   "metadata": {
    "papermill": {
     "duration": 0.164058,
     "end_time": "2021-04-23T15:11:43.612641",
     "exception": false,
     "start_time": "2021-04-23T15:11:43.448583",
     "status": "completed"
    },
    "tags": []
   },
   "source": [
    "Теперь имеем возможность для каждого признака построить гистограмму важности этого признака при обучении на выборке с перемешанным таргетом и на выборке с реальной целевой переменной. В идеале, гистограмма должна быть как можно дальше от реального значения важности признака"
   ]
  },
  {
   "cell_type": "code",
   "execution_count": 40,
   "id": "understanding-therapist",
   "metadata": {
    "execution": {
     "iopub.execute_input": "2021-04-23T15:11:43.950251Z",
     "iopub.status.busy": "2021-04-23T15:11:43.949571Z",
     "iopub.status.idle": "2021-04-23T15:11:43.952844Z",
     "shell.execute_reply": "2021-04-23T15:11:43.952297Z"
    },
    "papermill": {
     "duration": 0.176533,
     "end_time": "2021-04-23T15:11:43.952993",
     "exception": false,
     "start_time": "2021-04-23T15:11:43.776460",
     "status": "completed"
    },
    "tags": []
   },
   "outputs": [],
   "source": [
    "def plot_distribution(real_importance, null_importance, feature_name, importance_name='gain'):\n",
    "    fig, ax = plt.subplots(figsize=(8, 6))\n",
    "    a = ax.hist(null_importance.loc[null_importance['feature'] == feature_name, f'importance_{importance_name}'].values, \n",
    "                label='Null importances')\n",
    "    \n",
    "    ax.vlines(x=real_importance.loc[real_importance['feature'] == feature_name, f'importance_{importance_name}'].mean(), \n",
    "               ymin=0, ymax=np.max(a[0]), color='r',linewidth=10, label='Real Target')\n",
    "    ax.legend()\n",
    "    ax.set_title(f'Split Importance of {feature_name}', fontweight='bold')\n",
    "    plt.xlabel(f'Null Importance ({importance_name}) Distribution for {feature_name}')"
   ]
  },
  {
   "cell_type": "code",
   "execution_count": 41,
   "id": "colonial-testament",
   "metadata": {
    "execution": {
     "iopub.execute_input": "2021-04-23T15:11:44.339937Z",
     "iopub.status.busy": "2021-04-23T15:11:44.323873Z",
     "iopub.status.idle": "2021-04-23T15:11:44.518723Z",
     "shell.execute_reply": "2021-04-23T15:11:44.518118Z"
    },
    "papermill": {
     "duration": 0.399267,
     "end_time": "2021-04-23T15:11:44.518865",
     "exception": false,
     "start_time": "2021-04-23T15:11:44.119598",
     "status": "completed"
    },
    "tags": []
   },
   "outputs": [
    {
     "data": {
      "image/png": "[encoded data removed]",
      "text/plain": [
       "<Figure size 576x432 with 1 Axes>"
      ]
     },
     "metadata": {
      "needs_background": "light"
     },
     "output_type": "display_data"
    }
   ],
   "source": [
    "plot_distribution(real_importance, null_importance, feature_name='product', importance_name='split')"
   ]
  },
  {
   "cell_type": "code",
   "execution_count": 42,
   "id": "dimensional-edgar",
   "metadata": {
    "execution": {
     "iopub.execute_input": "2021-04-23T15:11:44.895851Z",
     "iopub.status.busy": "2021-04-23T15:11:44.892150Z",
     "iopub.status.idle": "2021-04-23T15:11:45.076324Z",
     "shell.execute_reply": "2021-04-23T15:11:45.075707Z"
    },
    "papermill": {
     "duration": 0.38541,
     "end_time": "2021-04-23T15:11:45.076490",
     "exception": false,
     "start_time": "2021-04-23T15:11:44.691080",
     "status": "completed"
    },
    "tags": []
   },
   "outputs": [
    {
     "data": {
      "image/png": "[encoded data removed]",
      "text/plain": [
       "<Figure size 576x432 with 1 Axes>"
      ]
     },
     "metadata": {
      "needs_background": "light"
     },
     "output_type": "display_data"
    }
   ],
   "source": [
    "plot_distribution(real_importance, null_importance, feature_name='hour_diff_median', importance_name='split')"
   ]
  },
  {
   "cell_type": "code",
   "execution_count": 43,
   "id": "exempt-kitty",
   "metadata": {
    "execution": {
     "iopub.execute_input": "2021-04-23T15:11:45.445844Z",
     "iopub.status.busy": "2021-04-23T15:11:45.443945Z",
     "iopub.status.idle": "2021-04-23T15:11:45.651138Z",
     "shell.execute_reply": "2021-04-23T15:11:45.650584Z"
    },
    "papermill": {
     "duration": 0.406179,
     "end_time": "2021-04-23T15:11:45.651332",
     "exception": false,
     "start_time": "2021-04-23T15:11:45.245153",
     "status": "completed"
    },
    "tags": []
   },
   "outputs": [
    {
     "data": {
      "image/png": "[encoded data removed]",
      "text/plain": [
       "<Figure size 576x432 with 1 Axes>"
      ]
     },
     "metadata": {
      "needs_background": "light"
     },
     "output_type": "display_data"
    }
   ],
   "source": [
    "plot_distribution(real_importance, null_importance, feature_name='amnt_sum', importance_name='split')"
   ]
  },
  {
   "cell_type": "markdown",
   "id": "square-slope",
   "metadata": {
    "papermill": {
     "duration": 0.167224,
     "end_time": "2021-04-23T15:11:45.987755",
     "exception": false,
     "start_time": "2021-04-23T15:11:45.820531",
     "status": "completed"
    },
    "tags": []
   },
   "source": [
    "Попробуем поставить каждому признаку новый скор, важность, с учетом той информации, которую имеем. Один из вариантов - поделить реальноа значение важности признака на среднее значение для перемешанных важностей этого признака. "
   ]
  },
  {
   "cell_type": "code",
   "execution_count": 44,
   "id": "comfortable-elimination",
   "metadata": {
    "execution": {
     "iopub.execute_input": "2021-04-23T15:11:46.343847Z",
     "iopub.status.busy": "2021-04-23T15:11:46.342214Z",
     "iopub.status.idle": "2021-04-23T15:11:46.512137Z",
     "shell.execute_reply": "2021-04-23T15:11:46.512624Z"
    },
    "papermill": {
     "duration": 0.354302,
     "end_time": "2021-04-23T15:11:46.512812",
     "exception": false,
     "start_time": "2021-04-23T15:11:46.158510",
     "status": "completed"
    },
    "tags": []
   },
   "outputs": [],
   "source": [
    "scores = []\n",
    "importance_name = 'split'\n",
    "\n",
    "for feature in features:\n",
    "    hist_null_importance = null_importance.loc[null_importance['feature'] == feature, f'importance_{importance_name}'].values\n",
    "    actual_importance = real_importance.loc[real_importance['feature'] == feature, f'importance_{importance_name}'].mean()\n",
    "    score = (1e-10 + actual_importance) / (1 + np.mean(hist_null_importance))        \n",
    "    scores.append(round(score, 3))"
   ]
  },
  {
   "cell_type": "code",
   "execution_count": 45,
   "id": "armed-drive",
   "metadata": {
    "execution": {
     "iopub.execute_input": "2021-04-23T15:11:46.877807Z",
     "iopub.status.busy": "2021-04-23T15:11:46.877029Z",
     "iopub.status.idle": "2021-04-23T15:11:47.341371Z",
     "shell.execute_reply": "2021-04-23T15:11:47.341895Z"
    },
    "papermill": {
     "duration": 0.65862,
     "end_time": "2021-04-23T15:11:47.342079",
     "exception": false,
     "start_time": "2021-04-23T15:11:46.683459",
     "status": "completed"
    },
    "tags": []
   },
   "outputs": [
    {
     "data": {
      "image/png": "[encoded data removed]",
      "text/plain": [
       "<Figure size 720x576 with 1 Axes>"
      ]
     },
     "metadata": {
      "needs_background": "light"
     },
     "output_type": "display_data"
    }
   ],
   "source": [
    "plot_feature_importance(features, scores, top_feats=20, title='target permutation importance', \n",
    "                        x_label='Importance')"
   ]
  },
  {
   "cell_type": "code",
   "execution_count": 46,
   "id": "lesbian-lingerie",
   "metadata": {
    "execution": {
     "iopub.execute_input": "2021-04-23T15:11:47.690266Z",
     "iopub.status.busy": "2021-04-23T15:11:47.689566Z",
     "iopub.status.idle": "2021-04-23T15:11:47.693497Z",
     "shell.execute_reply": "2021-04-23T15:11:47.692981Z"
    },
    "papermill": {
     "duration": 0.182144,
     "end_time": "2021-04-23T15:11:47.693640",
     "exception": false,
     "start_time": "2021-04-23T15:11:47.511496",
     "status": "completed"
    },
    "tags": []
   },
   "outputs": [
    {
     "name": "stdout",
     "output_type": "stream",
     "text": [
      "Кол-во отобранных признаков после всех методов отбора:= 60\n"
     ]
    }
   ],
   "source": [
    "tuples = [(name, round(score, 3)) for name, score in zip(features, scores)]\n",
    "tuples = sorted(tuples, key=lambda x: x[1])\n",
    "\n",
    "top_selected_feats = [x[0] for x in tuples if x[1] > 0]\n",
    "print(f'Кол-во отобранных признаков после всех методов отбора:= {len(top_selected_feats)}')"
   ]
  },
  {
   "cell_type": "markdown",
   "id": "aerial-substance",
   "metadata": {
    "papermill": {
     "duration": 0.175249,
     "end_time": "2021-04-23T15:11:48.039883",
     "exception": false,
     "start_time": "2021-04-23T15:11:47.864634",
     "status": "completed"
    },
    "tags": []
   },
   "source": [
    "# 11. LightGBM + CV (4)\n",
    "---\n",
    "## 11.1. Четвертая модель (model4)\n",
    "(на признаках после отбора с помощью всех методов Features importance(median), Permutation importance и Target importance)"
   ]
  },
  {
   "cell_type": "code",
   "execution_count": 47,
   "id": "white-contest",
   "metadata": {
    "execution": {
     "iopub.execute_input": "2021-04-23T15:11:48.386842Z",
     "iopub.status.busy": "2021-04-23T15:11:48.386182Z",
     "iopub.status.idle": "2021-04-23T15:11:48.389456Z",
     "shell.execute_reply": "2021-04-23T15:11:48.388956Z"
    },
    "papermill": {
     "duration": 0.177491,
     "end_time": "2021-04-23T15:11:48.389597",
     "exception": false,
     "start_time": "2021-04-23T15:11:48.212106",
     "status": "completed"
    },
    "tags": []
   },
   "outputs": [],
   "source": [
    "num_model = 4"
   ]
  },
  {
   "cell_type": "code",
   "execution_count": 48,
   "id": "heated-subsection",
   "metadata": {
    "execution": {
     "iopub.execute_input": "2021-04-23T15:11:48.756633Z",
     "iopub.status.busy": "2021-04-23T15:11:48.734933Z",
     "iopub.status.idle": "2021-04-23T15:11:49.500114Z",
     "shell.execute_reply": "2021-04-23T15:11:49.499431Z"
    },
    "papermill": {
     "duration": 0.940336,
     "end_time": "2021-04-23T15:11:49.500267",
     "exception": false,
     "start_time": "2021-04-23T15:11:48.559931",
     "status": "completed"
    },
    "tags": []
   },
   "outputs": [],
   "source": [
    "!mkdir model4"
   ]
  },
  {
   "cell_type": "code",
   "execution_count": 49,
   "id": "dental-senator",
   "metadata": {
    "execution": {
     "iopub.execute_input": "2021-04-23T15:11:49.851360Z",
     "iopub.status.busy": "2021-04-23T15:11:49.850672Z",
     "iopub.status.idle": "2021-04-23T15:20:44.376690Z",
     "shell.execute_reply": "2021-04-23T15:20:44.377210Z"
    },
    "papermill": {
     "duration": 534.706172,
     "end_time": "2021-04-23T15:20:44.377397",
     "exception": false,
     "start_time": "2021-04-23T15:11:49.671225",
     "status": "completed"
    },
    "tags": []
   },
   "outputs": [
    {
     "name": "stdout",
     "output_type": "stream",
     "text": [
      "Training with fold 1 started.\n",
      "Training until validation scores don't improve for 50 rounds\n",
      "[50]\tvalid_0's auc: 0.733397\n",
      "[100]\tvalid_0's auc: 0.744547\n",
      "[150]\tvalid_0's auc: 0.749687\n",
      "[200]\tvalid_0's auc: 0.752565\n",
      "[250]\tvalid_0's auc: 0.754696\n",
      "[300]\tvalid_0's auc: 0.756196\n",
      "[350]\tvalid_0's auc: 0.757435\n",
      "[400]\tvalid_0's auc: 0.758347\n",
      "[450]\tvalid_0's auc: 0.759179\n",
      "[500]\tvalid_0's auc: 0.759928\n",
      "[550]\tvalid_0's auc: 0.760512\n",
      "[600]\tvalid_0's auc: 0.761066\n",
      "[650]\tvalid_0's auc: 0.761392\n",
      "[700]\tvalid_0's auc: 0.761762\n",
      "[750]\tvalid_0's auc: 0.762042\n",
      "[800]\tvalid_0's auc: 0.762337\n",
      "[850]\tvalid_0's auc: 0.762629\n",
      "[900]\tvalid_0's auc: 0.762821\n",
      "[950]\tvalid_0's auc: 0.763005\n",
      "[1000]\tvalid_0's auc: 0.763187\n",
      "Did not meet early stopping. Best iteration is:\n",
      "[1000]\tvalid_0's auc: 0.763187\n",
      "Training with fold 1 completed.\n",
      "Training with fold 2 started.\n",
      "Training until validation scores don't improve for 50 rounds\n",
      "[50]\tvalid_0's auc: 0.735228\n",
      "[100]\tvalid_0's auc: 0.747639\n",
      "[150]\tvalid_0's auc: 0.753061\n",
      "[200]\tvalid_0's auc: 0.755816\n",
      "[250]\tvalid_0's auc: 0.757559\n",
      "[300]\tvalid_0's auc: 0.758805\n",
      "[350]\tvalid_0's auc: 0.760028\n",
      "[400]\tvalid_0's auc: 0.760849\n",
      "[450]\tvalid_0's auc: 0.761746\n",
      "[500]\tvalid_0's auc: 0.762328\n",
      "[550]\tvalid_0's auc: 0.763028\n",
      "[600]\tvalid_0's auc: 0.763298\n",
      "[650]\tvalid_0's auc: 0.763594\n",
      "[700]\tvalid_0's auc: 0.764029\n",
      "[750]\tvalid_0's auc: 0.764298\n",
      "[800]\tvalid_0's auc: 0.764524\n",
      "[850]\tvalid_0's auc: 0.764832\n",
      "[900]\tvalid_0's auc: 0.765036\n",
      "[950]\tvalid_0's auc: 0.765257\n",
      "[1000]\tvalid_0's auc: 0.76543\n",
      "Did not meet early stopping. Best iteration is:\n",
      "[1000]\tvalid_0's auc: 0.76543\n",
      "Training with fold 2 completed.\n",
      "Training with fold 3 started.\n",
      "Training until validation scores don't improve for 50 rounds\n",
      "[50]\tvalid_0's auc: 0.737893\n",
      "[100]\tvalid_0's auc: 0.750918\n",
      "[150]\tvalid_0's auc: 0.755935\n",
      "[200]\tvalid_0's auc: 0.759085\n",
      "[250]\tvalid_0's auc: 0.760964\n",
      "[300]\tvalid_0's auc: 0.762541\n",
      "[350]\tvalid_0's auc: 0.763563\n",
      "[400]\tvalid_0's auc: 0.764439\n",
      "[450]\tvalid_0's auc: 0.765281\n",
      "[500]\tvalid_0's auc: 0.765919\n",
      "[550]\tvalid_0's auc: 0.766347\n",
      "[600]\tvalid_0's auc: 0.766793\n",
      "[650]\tvalid_0's auc: 0.767101\n",
      "[700]\tvalid_0's auc: 0.767538\n",
      "[750]\tvalid_0's auc: 0.76787\n",
      "[800]\tvalid_0's auc: 0.768099\n",
      "[850]\tvalid_0's auc: 0.768271\n",
      "[900]\tvalid_0's auc: 0.768612\n",
      "[950]\tvalid_0's auc: 0.768795\n",
      "[1000]\tvalid_0's auc: 0.76897\n",
      "Did not meet early stopping. Best iteration is:\n",
      "[985]\tvalid_0's auc: 0.768971\n",
      "Training with fold 3 completed.\n",
      "Training with fold 4 started.\n",
      "Training until validation scores don't improve for 50 rounds\n",
      "[50]\tvalid_0's auc: 0.730017\n",
      "[100]\tvalid_0's auc: 0.74354\n",
      "[150]\tvalid_0's auc: 0.748802\n",
      "[200]\tvalid_0's auc: 0.751604\n",
      "[250]\tvalid_0's auc: 0.75357\n",
      "[300]\tvalid_0's auc: 0.755295\n",
      "[350]\tvalid_0's auc: 0.756591\n",
      "[400]\tvalid_0's auc: 0.757464\n",
      "[450]\tvalid_0's auc: 0.75813\n",
      "[500]\tvalid_0's auc: 0.758664\n",
      "[550]\tvalid_0's auc: 0.759135\n",
      "[600]\tvalid_0's auc: 0.759484\n",
      "[650]\tvalid_0's auc: 0.759897\n",
      "[700]\tvalid_0's auc: 0.760262\n",
      "[750]\tvalid_0's auc: 0.760532\n",
      "[800]\tvalid_0's auc: 0.760841\n",
      "[850]\tvalid_0's auc: 0.76112\n",
      "[900]\tvalid_0's auc: 0.761348\n",
      "[950]\tvalid_0's auc: 0.7614\n",
      "Early stopping, best iteration is:\n",
      "[917]\tvalid_0's auc: 0.76145\n",
      "Training with fold 4 completed.\n",
      "Training with fold 5 started.\n",
      "Training until validation scores don't improve for 50 rounds\n",
      "[50]\tvalid_0's auc: 0.737242\n",
      "[100]\tvalid_0's auc: 0.748987\n",
      "[150]\tvalid_0's auc: 0.754061\n",
      "[200]\tvalid_0's auc: 0.756875\n",
      "[250]\tvalid_0's auc: 0.758949\n",
      "[300]\tvalid_0's auc: 0.760629\n",
      "[350]\tvalid_0's auc: 0.761598\n",
      "[400]\tvalid_0's auc: 0.762689\n",
      "[450]\tvalid_0's auc: 0.763385\n",
      "[500]\tvalid_0's auc: 0.764034\n",
      "[550]\tvalid_0's auc: 0.764315\n",
      "[600]\tvalid_0's auc: 0.764764\n",
      "[650]\tvalid_0's auc: 0.765087\n",
      "[700]\tvalid_0's auc: 0.765334\n",
      "[750]\tvalid_0's auc: 0.765621\n",
      "[800]\tvalid_0's auc: 0.76588\n",
      "[850]\tvalid_0's auc: 0.766091\n",
      "[900]\tvalid_0's auc: 0.76629\n",
      "[950]\tvalid_0's auc: 0.766414\n",
      "[1000]\tvalid_0's auc: 0.766574\n",
      "Did not meet early stopping. Best iteration is:\n",
      "[998]\tvalid_0's auc: 0.766577\n",
      "Training with fold 5 completed.\n",
      "CPU times: user 24min 39s, sys: 20.1 s, total: 24min 59s\n",
      "Wall time: 8min 54s\n"
     ]
    }
   ],
   "source": [
    "%%time\n",
    "\n",
    "oof = np.zeros(len(merged_train_data))\n",
    "train_preds = np.zeros(len(merged_train_data))\n",
    "\n",
    "new_models = []\n",
    "\n",
    "tree_params = {\n",
    "    'objective': 'binary',\n",
    "    'metric': 'auc',\n",
    "    'learning_rate': 0.05,\n",
    "    'max_depth': 3,\n",
    "    'reg_lambda': 1,\n",
    "    'num_leaves': 64,\n",
    "    'n_jobs': 5,\n",
    "    'n_estimators': 1000\n",
    "}\n",
    "\n",
    "\n",
    "for fold_, (train_idx, val_idx) in enumerate(cv.split(merged_train_data, targets), 1):\n",
    "    print(f'Training with fold {fold_} started.')\n",
    "    lgb_model = lgb.LGBMClassifier(**tree_params)\n",
    "    train, val = merged_train_data.iloc[train_idx], merged_train_data.iloc[val_idx]\n",
    "    \n",
    "    lgb_model.fit(train[top_selected_feats], train.flag.values, eval_set=[(val[top_selected_feats], val.flag.values)],\n",
    "              early_stopping_rounds=50, verbose=50)\n",
    "\n",
    "    \n",
    "    oof[val_idx] = lgb_model.predict_proba(val[top_selected_feats])[:, 1]\n",
    "    train_preds[train_idx] += lgb_model.predict_proba(train[top_selected_feats])[:, 1] / (cv.n_splits-1)\n",
    "    new_models.append(lgb_model)\n",
    "    \n",
    "    file_name_model = f'model{num_model}/model{num_model}_{fold_}.txt'\n",
    "    lgb_model.booster_.save_model(PATH_TO_WORKDIR+file_name_model)\n",
    "    print(f'Training with fold {fold_} completed.')"
   ]
  },
  {
   "cell_type": "code",
   "execution_count": 50,
   "id": "increased-coating",
   "metadata": {
    "execution": {
     "iopub.execute_input": "2021-04-23T15:20:44.792131Z",
     "iopub.status.busy": "2021-04-23T15:20:44.791483Z",
     "iopub.status.idle": "2021-04-23T15:20:45.179144Z",
     "shell.execute_reply": "2021-04-23T15:20:45.179646Z"
    },
    "papermill": {
     "duration": 0.599034,
     "end_time": "2021-04-23T15:20:45.179822",
     "exception": false,
     "start_time": "2021-04-23T15:20:44.580788",
     "status": "completed"
    },
    "tags": []
   },
   "outputs": [
    {
     "data": {
      "text/plain": [
       "('Train roc-auc model4', 0.7920279778970082)"
      ]
     },
     "execution_count": 50,
     "metadata": {},
     "output_type": "execute_result"
    }
   ],
   "source": [
    "f'Train roc-auc model{num_model}', roc_auc_score(targets, train_preds)"
   ]
  },
  {
   "cell_type": "code",
   "execution_count": 51,
   "id": "generic-witch",
   "metadata": {
    "execution": {
     "iopub.execute_input": "2021-04-23T15:20:45.592670Z",
     "iopub.status.busy": "2021-04-23T15:20:45.591996Z",
     "iopub.status.idle": "2021-04-23T15:20:45.972175Z",
     "shell.execute_reply": "2021-04-23T15:20:45.972706Z"
    },
    "papermill": {
     "duration": 0.587976,
     "end_time": "2021-04-23T15:20:45.972891",
     "exception": false,
     "start_time": "2021-04-23T15:20:45.384915",
     "status": "completed"
    },
    "tags": []
   },
   "outputs": [
    {
     "data": {
      "text/plain": [
       "('CV roc-auc model4', 0.7651138899298012)"
      ]
     },
     "execution_count": 51,
     "metadata": {},
     "output_type": "execute_result"
    }
   ],
   "source": [
    "f'CV roc-auc model{num_model}', roc_auc_score(targets, oof)"
   ]
  },
  {
   "cell_type": "code",
   "execution_count": 52,
   "id": "frozen-making",
   "metadata": {
    "execution": {
     "iopub.execute_input": "2021-04-23T15:20:46.393424Z",
     "iopub.status.busy": "2021-04-23T15:20:46.392739Z",
     "iopub.status.idle": "2021-04-23T15:21:35.068587Z",
     "shell.execute_reply": "2021-04-23T15:21:35.067439Z"
    },
    "papermill": {
     "duration": 48.887491,
     "end_time": "2021-04-23T15:21:35.068777",
     "exception": false,
     "start_time": "2021-04-23T15:20:46.181286",
     "status": "completed"
    },
    "tags": []
   },
   "outputs": [
    {
     "data": {
      "application/vnd.jupyter.widget-view+json": {
       "model_id": "170e2c81c7064bd1b2fd5dee1c5a6e34",
       "version_major": 2,
       "version_minor": 0
      },
      "text/plain": [
       "  0%|          | 0/5 [00:00<?, ?it/s]"
      ]
     },
     "metadata": {},
     "output_type": "display_data"
    }
   ],
   "source": [
    "score = np.zeros(len(merged_test_data))\n",
    "\n",
    "for model in tqdm.tqdm_notebook(new_models):\n",
    "    score += model.predict_proba(merged_test_data[top_selected_feats])[:, 1] / len(models)\n",
    "    \n",
    "submission = pd.DataFrame({\n",
    "    'app_id' : merged_test_data.app_id.values,\n",
    "    'score': score\n",
    "})\n",
    "submission.to_csv(f'sub_model{num_model}.csv', index=None)  # ~ 0.733 на public test"
   ]
  },
  {
   "cell_type": "markdown",
   "id": "racial-growth",
   "metadata": {
    "papermill": {
     "duration": 0.205722,
     "end_time": "2021-04-23T15:21:35.482731",
     "exception": false,
     "start_time": "2021-04-23T15:21:35.277009",
     "status": "completed"
    },
    "tags": []
   },
   "source": [
    "Расчет модели Catboost реализован в следующем кернеле, чтобы не использовать квоту так как запускается на GPU\n",
    "\n",
    "**Результаты всех экспериментов моделей (метрика AUC ROC):**  \n",
    "                    Model                            | число призн. |    Train     |     CV      |   Public Test      \n",
    "---  \n",
    "                     lgb+cv(5)                     |        127           |    0.801    |    0.77     |    0.737       \n",
    "       lgb+cv(5)+split_importance      |          64            |    0.795    |    0.767    |    0.735  \n",
    "lgb+cv(5)+permutation_importance |         57            |    0.796    |    0.768    |    0.736   \n",
    "    lgb+cv(5)+target_permutation     |          60            |    0.796    |    0.766    |    0.733 \n"
   ]
  }
 ],
 "metadata": {
  "kernelspec": {
   "display_name": "Python 3",
   "language": "python",
   "name": "python3"
  },
  "language_info": {
   "codemirror_mode": {
    "name": "ipython",
    "version": 3
   },
   "file_extension": ".py",
   "mimetype": "text/x-python",
   "name": "python",
   "nbconvert_exporter": "python",
   "pygments_lexer": "ipython3",
   "version": "3.7.10"
  },
  "papermill": {
   "default_parameters": {},
   "duration": 12311.079144,
   "end_time": "2021-04-23T15:21:38.266210",
   "environment_variables": {},
   "exception": null,
   "input_path": "__notebook__.ipynb",
   "output_path": "__notebook__.ipynb",
   "parameters": {},
   "start_time": "2021-04-23T11:56:27.187066",
   "version": "2.3.3"
  },
  "widgets": {
   "application/vnd.jupyter.widget-state+json": {
    "state": {
     "0e867bb32ea149c8b363d835af93f692": {
      "model_module": "@jupyter-widgets/base",
      "model_module_version": "1.2.0",
      "model_name": "LayoutModel",
      "state": {
       "_model_module": "@jupyter-widgets/base",
       "_model_module_version": "1.2.0",
       "_model_name": "LayoutModel",
       "_view_count": null,
       "_view_module": "@jupyter-widgets/base",
       "_view_module_version": "1.2.0",
       "_view_name": "LayoutView",
       "align_content": null,
       "align_items": null,
       "align_self": null,
       "border": null,
       "bottom": null,
       "display": null,
       "flex": null,
       "flex_flow": null,
       "grid_area": null,
       "grid_auto_columns": null,
       "grid_auto_flow": null,
       "grid_auto_rows": null,
       "grid_column": null,
       "grid_gap": null,
       "grid_row": null,
       "grid_template_areas": null,
       "grid_template_columns": null,
       "grid_template_rows": null,
       "height": null,
       "justify_content": null,
       "justify_items": null,
       "left": null,
       "margin": null,
       "max_height": null,
       "max_width": null,
       "min_height": null,
       "min_width": null,
       "object_fit": null,
       "object_position": null,
       "order": null,
       "overflow": null,
       "overflow_x": null,
       "overflow_y": null,
       "padding": null,
       "right": null,
       "top": null,
       "visibility": null,
       "width": null
      }
     },
     "13fcf08c73944dfb910ef10ed87f6616": {
      "model_module": "@jupyter-widgets/controls",
      "model_module_version": "1.5.0",
      "model_name": "ProgressStyleModel",
      "state": {
       "_model_module": "@jupyter-widgets/controls",
       "_model_module_version": "1.5.0",
       "_model_name": "ProgressStyleModel",
       "_view_count": null,
       "_view_module": "@jupyter-widgets/base",
       "_view_module_version": "1.2.0",
       "_view_name": "StyleView",
       "bar_color": null,
       "description_width": ""
      }
     },
     "170e2c81c7064bd1b2fd5dee1c5a6e34": {
      "model_module": "@jupyter-widgets/controls",
      "model_module_version": "1.5.0",
      "model_name": "HBoxModel",
      "state": {
       "_dom_classes": [],
       "_model_module": "@jupyter-widgets/controls",
       "_model_module_version": "1.5.0",
       "_model_name": "HBoxModel",
       "_view_count": null,
       "_view_module": "@jupyter-widgets/controls",
       "_view_module_version": "1.5.0",
       "_view_name": "HBoxView",
       "box_style": "",
       "children": [
        "IPY_MODEL_22c63bb1f5764497ba14ce00e71832fe",
        "IPY_MODEL_a333d08d0c1c43a383546f83767aefb8",
        "IPY_MODEL_3fd0cbaf131741b1ac3162a25b146419"
       ],
       "layout": "IPY_MODEL_50c4f434ff9e4f839429a3c141bef98f"
      }
     },
     "18c12c38a6774660a4b42fe5f232c019": {
      "model_module": "@jupyter-widgets/base",
      "model_module_version": "1.2.0",
      "model_name": "LayoutModel",
      "state": {
       "_model_module": "@jupyter-widgets/base",
       "_model_module_version": "1.2.0",
       "_model_name": "LayoutModel",
       "_view_count": null,
       "_view_module": "@jupyter-widgets/base",
       "_view_module_version": "1.2.0",
       "_view_name": "LayoutView",
       "align_content": null,
       "align_items": null,
       "align_self": null,
       "border": null,
       "bottom": null,
       "display": null,
       "flex": null,
       "flex_flow": null,
       "grid_area": null,
       "grid_auto_columns": null,
       "grid_auto_flow": null,
       "grid_auto_rows": null,
       "grid_column": null,
       "grid_gap": null,
       "grid_row": null,
       "grid_template_areas": null,
       "grid_template_columns": null,
       "grid_template_rows": null,
       "height": null,
       "justify_content": null,
       "justify_items": null,
       "left": null,
       "margin": null,
       "max_height": null,
       "max_width": null,
       "min_height": null,
       "min_width": null,
       "object_fit": null,
       "object_position": null,
       "order": null,
       "overflow": null,
       "overflow_x": null,
       "overflow_y": null,
       "padding": null,
       "right": null,
       "top": null,
       "visibility": null,
       "width": null
      }
     },
     "1b1cca1cad874aac916d82baa8cdb7de": {
      "model_module": "@jupyter-widgets/controls",
      "model_module_version": "1.5.0",
      "model_name": "HTMLModel",
      "state": {
       "_dom_classes": [],
       "_model_module": "@jupyter-widgets/controls",
       "_model_module_version": "1.5.0",
       "_model_name": "HTMLModel",
       "_view_count": null,
       "_view_module": "@jupyter-widgets/controls",
       "_view_module_version": "1.5.0",
       "_view_name": "HTMLView",
       "description": "",
       "description_tooltip": null,
       "layout": "IPY_MODEL_d38a1fb695574b1dad2d8584ba200fa8",
       "placeholder": "​",
       "style": "IPY_MODEL_1d2cd1846f434085811ecdca13b84a03",
       "value": " 30/30 [14:24&lt;00:00, 29.39s/it]"
      }
     },
     "1d2cd1846f434085811ecdca13b84a03": {
      "model_module": "@jupyter-widgets/controls",
      "model_module_version": "1.5.0",
      "model_name": "DescriptionStyleModel",
      "state": {
       "_model_module": "@jupyter-widgets/controls",
       "_model_module_version": "1.5.0",
       "_model_name": "DescriptionStyleModel",
       "_view_count": null,
       "_view_module": "@jupyter-widgets/base",
       "_view_module_version": "1.2.0",
       "_view_name": "StyleView",
       "description_width": ""
      }
     },
     "22c63bb1f5764497ba14ce00e71832fe": {
      "model_module": "@jupyter-widgets/controls",
      "model_module_version": "1.5.0",
      "model_name": "HTMLModel",
      "state": {
       "_dom_classes": [],
       "_model_module": "@jupyter-widgets/controls",
       "_model_module_version": "1.5.0",
       "_model_name": "HTMLModel",
       "_view_count": null,
       "_view_module": "@jupyter-widgets/controls",
       "_view_module_version": "1.5.0",
       "_view_name": "HTMLView",
       "description": "",
       "description_tooltip": null,
       "layout": "IPY_MODEL_6bd651864c314b7da98886c5960f6dcd",
       "placeholder": "​",
       "style": "IPY_MODEL_b34ef72effe842729660e8fffc437edf",
       "value": "100%"
      }
     },
     "233e4cb5e0dd4f908b74dde8ca3a8029": {
      "model_module": "@jupyter-widgets/base",
      "model_module_version": "1.2.0",
      "model_name": "LayoutModel",
      "state": {
       "_model_module": "@jupyter-widgets/base",
       "_model_module_version": "1.2.0",
       "_model_name": "LayoutModel",
       "_view_count": null,
       "_view_module": "@jupyter-widgets/base",
       "_view_module_version": "1.2.0",
       "_view_name": "LayoutView",
       "align_content": null,
       "align_items": null,
       "align_self": null,
       "border": null,
       "bottom": null,
       "display": null,
       "flex": null,
       "flex_flow": null,
       "grid_area": null,
       "grid_auto_columns": null,
       "grid_auto_flow": null,
       "grid_auto_rows": null,
       "grid_column": null,
       "grid_gap": null,
       "grid_row": null,
       "grid_template_areas": null,
       "grid_template_columns": null,
       "grid_template_rows": null,
       "height": null,
       "justify_content": null,
       "justify_items": null,
       "left": null,
       "margin": null,
       "max_height": null,
       "max_width": null,
       "min_height": null,
       "min_width": null,
       "object_fit": null,
       "object_position": null,
       "order": null,
       "overflow": null,
       "overflow_x": null,
       "overflow_y": null,
       "padding": null,
       "right": null,
       "top": null,
       "visibility": null,
       "width": null
      }
     },
     "3fd0cbaf131741b1ac3162a25b146419": {
      "model_module": "@jupyter-widgets/controls",
      "model_module_version": "1.5.0",
      "model_name": "HTMLModel",
      "state": {
       "_dom_classes": [],
       "_model_module": "@jupyter-widgets/controls",
       "_model_module_version": "1.5.0",
       "_model_name": "HTMLModel",
       "_view_count": null,
       "_view_module": "@jupyter-widgets/controls",
       "_view_module_version": "1.5.0",
       "_view_name": "HTMLView",
       "description": "",
       "description_tooltip": null,
       "layout": "IPY_MODEL_6bfa6a7e3a3845aaa95ec492c6ecf4f3",
       "placeholder": "​",
       "style": "IPY_MODEL_58393c82744746e491ab4b61675010a9",
       "value": " 5/5 [00:46&lt;00:00,  9.04s/it]"
      }
     },
     "48a63b7308684ed2891453631eb18990": {
      "model_module": "@jupyter-widgets/controls",
      "model_module_version": "1.5.0",
      "model_name": "DescriptionStyleModel",
      "state": {
       "_model_module": "@jupyter-widgets/controls",
       "_model_module_version": "1.5.0",
       "_model_name": "DescriptionStyleModel",
       "_view_count": null,
       "_view_module": "@jupyter-widgets/base",
       "_view_module_version": "1.2.0",
       "_view_name": "StyleView",
       "description_width": ""
      }
     },
     "4a1e4cdcdc3f42cc8736b7f77e9bc3c9": {
      "model_module": "@jupyter-widgets/controls",
      "model_module_version": "1.5.0",
      "model_name": "HTMLModel",
      "state": {
       "_dom_classes": [],
       "_model_module": "@jupyter-widgets/controls",
       "_model_module_version": "1.5.0",
       "_model_name": "HTMLModel",
       "_view_count": null,
       "_view_module": "@jupyter-widgets/controls",
       "_view_module_version": "1.5.0",
       "_view_name": "HTMLView",
       "description": "",
       "description_tooltip": null,
       "layout": "IPY_MODEL_93985d1f7ec648dfbf7f42c8695905fe",
       "placeholder": "​",
       "style": "IPY_MODEL_48a63b7308684ed2891453631eb18990",
       "value": " 5/5 [00:49&lt;00:00, 10.08s/it]"
      }
     },
     "50c4f434ff9e4f839429a3c141bef98f": {
      "model_module": "@jupyter-widgets/base",
      "model_module_version": "1.2.0",
      "model_name": "LayoutModel",
      "state": {
       "_model_module": "@jupyter-widgets/base",
       "_model_module_version": "1.2.0",
       "_model_name": "LayoutModel",
       "_view_count": null,
       "_view_module": "@jupyter-widgets/base",
       "_view_module_version": "1.2.0",
       "_view_name": "LayoutView",
       "align_content": null,
       "align_items": null,
       "align_self": null,
       "border": null,
       "bottom": null,
       "display": null,
       "flex": null,
       "flex_flow": null,
       "grid_area": null,
       "grid_auto_columns": null,
       "grid_auto_flow": null,
       "grid_auto_rows": null,
       "grid_column": null,
       "grid_gap": null,
       "grid_row": null,
       "grid_template_areas": null,
       "grid_template_columns": null,
       "grid_template_rows": null,
       "height": null,
       "justify_content": null,
       "justify_items": null,
       "left": null,
       "margin": null,
       "max_height": null,
       "max_width": null,
       "min_height": null,
       "min_width": null,
       "object_fit": null,
       "object_position": null,
       "order": null,
       "overflow": null,
       "overflow_x": null,
       "overflow_y": null,
       "padding": null,
       "right": null,
       "top": null,
       "visibility": null,
       "width": null
      }
     },
     "53a27eec91244a5dad277a734ada235c": {
      "model_module": "@jupyter-widgets/controls",
      "model_module_version": "1.5.0",
      "model_name": "DescriptionStyleModel",
      "state": {
       "_model_module": "@jupyter-widgets/controls",
       "_model_module_version": "1.5.0",
       "_model_name": "DescriptionStyleModel",
       "_view_count": null,
       "_view_module": "@jupyter-widgets/base",
       "_view_module_version": "1.2.0",
       "_view_name": "StyleView",
       "description_width": ""
      }
     },
     "53e70d4223c245d1a27b0f31be8744bc": {
      "model_module": "@jupyter-widgets/controls",
      "model_module_version": "1.5.0",
      "model_name": "FloatProgressModel",
      "state": {
       "_dom_classes": [],
       "_model_module": "@jupyter-widgets/controls",
       "_model_module_version": "1.5.0",
       "_model_name": "FloatProgressModel",
       "_view_count": null,
       "_view_module": "@jupyter-widgets/controls",
       "_view_module_version": "1.5.0",
       "_view_name": "ProgressView",
       "bar_style": "success",
       "description": "",
       "description_tooltip": null,
       "layout": "IPY_MODEL_233e4cb5e0dd4f908b74dde8ca3a8029",
       "max": 5.0,
       "min": 0.0,
       "orientation": "horizontal",
       "style": "IPY_MODEL_d6881b5276ba4251966d39dc70b211dc",
       "value": 5.0
      }
     },
     "54697e50ca95435392db6174eebb92cd": {
      "model_module": "@jupyter-widgets/controls",
      "model_module_version": "1.5.0",
      "model_name": "HBoxModel",
      "state": {
       "_dom_classes": [],
       "_model_module": "@jupyter-widgets/controls",
       "_model_module_version": "1.5.0",
       "_model_name": "HBoxModel",
       "_view_count": null,
       "_view_module": "@jupyter-widgets/controls",
       "_view_module_version": "1.5.0",
       "_view_name": "HBoxView",
       "box_style": "",
       "children": [
        "IPY_MODEL_ea6685ad300d4abca1370c3564050978",
        "IPY_MODEL_b7221e10b5da4c3d95545f99d8bbdf52",
        "IPY_MODEL_af8ace11ebf94a5fb48533d360411683"
       ],
       "layout": "IPY_MODEL_57d6f2ef17314a99a635caa739c7f122"
      }
     },
     "56c2cf3eac544a578b114e9800e381f2": {
      "model_module": "@jupyter-widgets/base",
      "model_module_version": "1.2.0",
      "model_name": "LayoutModel",
      "state": {
       "_model_module": "@jupyter-widgets/base",
       "_model_module_version": "1.2.0",
       "_model_name": "LayoutModel",
       "_view_count": null,
       "_view_module": "@jupyter-widgets/base",
       "_view_module_version": "1.2.0",
       "_view_name": "LayoutView",
       "align_content": null,
       "align_items": null,
       "align_self": null,
       "border": null,
       "bottom": null,
       "display": null,
       "flex": null,
       "flex_flow": null,
       "grid_area": null,
       "grid_auto_columns": null,
       "grid_auto_flow": null,
       "grid_auto_rows": null,
       "grid_column": null,
       "grid_gap": null,
       "grid_row": null,
       "grid_template_areas": null,
       "grid_template_columns": null,
       "grid_template_rows": null,
       "height": null,
       "justify_content": null,
       "justify_items": null,
       "left": null,
       "margin": null,
       "max_height": null,
       "max_width": null,
       "min_height": null,
       "min_width": null,
       "object_fit": null,
       "object_position": null,
       "order": null,
       "overflow": null,
       "overflow_x": null,
       "overflow_y": null,
       "padding": null,
       "right": null,
       "top": null,
       "visibility": null,
       "width": null
      }
     },
     "57d6f2ef17314a99a635caa739c7f122": {
      "model_module": "@jupyter-widgets/base",
      "model_module_version": "1.2.0",
      "model_name": "LayoutModel",
      "state": {
       "_model_module": "@jupyter-widgets/base",
       "_model_module_version": "1.2.0",
       "_model_name": "LayoutModel",
       "_view_count": null,
       "_view_module": "@jupyter-widgets/base",
       "_view_module_version": "1.2.0",
       "_view_name": "LayoutView",
       "align_content": null,
       "align_items": null,
       "align_self": null,
       "border": null,
       "bottom": null,
       "display": null,
       "flex": null,
       "flex_flow": null,
       "grid_area": null,
       "grid_auto_columns": null,
       "grid_auto_flow": null,
       "grid_auto_rows": null,
       "grid_column": null,
       "grid_gap": null,
       "grid_row": null,
       "grid_template_areas": null,
       "grid_template_columns": null,
       "grid_template_rows": null,
       "height": null,
       "justify_content": null,
       "justify_items": null,
       "left": null,
       "margin": null,
       "max_height": null,
       "max_width": null,
       "min_height": null,
       "min_width": null,
       "object_fit": null,
       "object_position": null,
       "order": null,
       "overflow": null,
       "overflow_x": null,
       "overflow_y": null,
       "padding": null,
       "right": null,
       "top": null,
       "visibility": null,
       "width": null
      }
     },
     "58393c82744746e491ab4b61675010a9": {
      "model_module": "@jupyter-widgets/controls",
      "model_module_version": "1.5.0",
      "model_name": "DescriptionStyleModel",
      "state": {
       "_model_module": "@jupyter-widgets/controls",
       "_model_module_version": "1.5.0",
       "_model_name": "DescriptionStyleModel",
       "_view_count": null,
       "_view_module": "@jupyter-widgets/base",
       "_view_module_version": "1.2.0",
       "_view_name": "StyleView",
       "description_width": ""
      }
     },
     "5bc58da9abfc4b0a853890d95e9814b4": {
      "model_module": "@jupyter-widgets/controls",
      "model_module_version": "1.5.0",
      "model_name": "HBoxModel",
      "state": {
       "_dom_classes": [],
       "_model_module": "@jupyter-widgets/controls",
       "_model_module_version": "1.5.0",
       "_model_name": "HBoxModel",
       "_view_count": null,
       "_view_module": "@jupyter-widgets/controls",
       "_view_module_version": "1.5.0",
       "_view_name": "HBoxView",
       "box_style": "",
       "children": [
        "IPY_MODEL_75a7f173003b46b9994c0f43b05776df",
        "IPY_MODEL_f00ed6418d1842c4889243b9e3918bf1",
        "IPY_MODEL_1b1cca1cad874aac916d82baa8cdb7de"
       ],
       "layout": "IPY_MODEL_ec9af60ab13840ce8bac9aaed313813e"
      }
     },
     "5df7031b81794bb0b659cfb3ae9aff73": {
      "model_module": "@jupyter-widgets/controls",
      "model_module_version": "1.5.0",
      "model_name": "DescriptionStyleModel",
      "state": {
       "_model_module": "@jupyter-widgets/controls",
       "_model_module_version": "1.5.0",
       "_model_name": "DescriptionStyleModel",
       "_view_count": null,
       "_view_module": "@jupyter-widgets/base",
       "_view_module_version": "1.2.0",
       "_view_name": "StyleView",
       "description_width": ""
      }
     },
     "647f6c9b803349d1b8eb8c41ac269e1d": {
      "model_module": "@jupyter-widgets/base",
      "model_module_version": "1.2.0",
      "model_name": "LayoutModel",
      "state": {
       "_model_module": "@jupyter-widgets/base",
       "_model_module_version": "1.2.0",
       "_model_name": "LayoutModel",
       "_view_count": null,
       "_view_module": "@jupyter-widgets/base",
       "_view_module_version": "1.2.0",
       "_view_name": "LayoutView",
       "align_content": null,
       "align_items": null,
       "align_self": null,
       "border": null,
       "bottom": null,
       "display": null,
       "flex": null,
       "flex_flow": null,
       "grid_area": null,
       "grid_auto_columns": null,
       "grid_auto_flow": null,
       "grid_auto_rows": null,
       "grid_column": null,
       "grid_gap": null,
       "grid_row": null,
       "grid_template_areas": null,
       "grid_template_columns": null,
       "grid_template_rows": null,
       "height": null,
       "justify_content": null,
       "justify_items": null,
       "left": null,
       "margin": null,
       "max_height": null,
       "max_width": null,
       "min_height": null,
       "min_width": null,
       "object_fit": null,
       "object_position": null,
       "order": null,
       "overflow": null,
       "overflow_x": null,
       "overflow_y": null,
       "padding": null,
       "right": null,
       "top": null,
       "visibility": null,
       "width": null
      }
     },
     "6bd651864c314b7da98886c5960f6dcd": {
      "model_module": "@jupyter-widgets/base",
      "model_module_version": "1.2.0",
      "model_name": "LayoutModel",
      "state": {
       "_model_module": "@jupyter-widgets/base",
       "_model_module_version": "1.2.0",
       "_model_name": "LayoutModel",
       "_view_count": null,
       "_view_module": "@jupyter-widgets/base",
       "_view_module_version": "1.2.0",
       "_view_name": "LayoutView",
       "align_content": null,
       "align_items": null,
       "align_self": null,
       "border": null,
       "bottom": null,
       "display": null,
       "flex": null,
       "flex_flow": null,
       "grid_area": null,
       "grid_auto_columns": null,
       "grid_auto_flow": null,
       "grid_auto_rows": null,
       "grid_column": null,
       "grid_gap": null,
       "grid_row": null,
       "grid_template_areas": null,
       "grid_template_columns": null,
       "grid_template_rows": null,
       "height": null,
       "justify_content": null,
       "justify_items": null,
       "left": null,
       "margin": null,
       "max_height": null,
       "max_width": null,
       "min_height": null,
       "min_width": null,
       "object_fit": null,
       "object_position": null,
       "order": null,
       "overflow": null,
       "overflow_x": null,
       "overflow_y": null,
       "padding": null,
       "right": null,
       "top": null,
       "visibility": null,
       "width": null
      }
     },
     "6bfa6a7e3a3845aaa95ec492c6ecf4f3": {
      "model_module": "@jupyter-widgets/base",
      "model_module_version": "1.2.0",
      "model_name": "LayoutModel",
      "state": {
       "_model_module": "@jupyter-widgets/base",
       "_model_module_version": "1.2.0",
       "_model_name": "LayoutModel",
       "_view_count": null,
       "_view_module": "@jupyter-widgets/base",
       "_view_module_version": "1.2.0",
       "_view_name": "LayoutView",
       "align_content": null,
       "align_items": null,
       "align_self": null,
       "border": null,
       "bottom": null,
       "display": null,
       "flex": null,
       "flex_flow": null,
       "grid_area": null,
       "grid_auto_columns": null,
       "grid_auto_flow": null,
       "grid_auto_rows": null,
       "grid_column": null,
       "grid_gap": null,
       "grid_row": null,
       "grid_template_areas": null,
       "grid_template_columns": null,
       "grid_template_rows": null,
       "height": null,
       "justify_content": null,
       "justify_items": null,
       "left": null,
       "margin": null,
       "max_height": null,
       "max_width": null,
       "min_height": null,
       "min_width": null,
       "object_fit": null,
       "object_position": null,
       "order": null,
       "overflow": null,
       "overflow_x": null,
       "overflow_y": null,
       "padding": null,
       "right": null,
       "top": null,
       "visibility": null,
       "width": null
      }
     },
     "75a7f173003b46b9994c0f43b05776df": {
      "model_module": "@jupyter-widgets/controls",
      "model_module_version": "1.5.0",
      "model_name": "HTMLModel",
      "state": {
       "_dom_classes": [],
       "_model_module": "@jupyter-widgets/controls",
       "_model_module_version": "1.5.0",
       "_model_name": "HTMLModel",
       "_view_count": null,
       "_view_module": "@jupyter-widgets/controls",
       "_view_module_version": "1.5.0",
       "_view_name": "HTMLView",
       "description": "",
       "description_tooltip": null,
       "layout": "IPY_MODEL_9e606b67533b4d78969130d050649783",
       "placeholder": "​",
       "style": "IPY_MODEL_92336c3aa0be4458b9b63caf288420c8",
       "value": "100%"
      }
     },
     "7822fcfb646445ed934a9dcaf178ec36": {
      "model_module": "@jupyter-widgets/controls",
      "model_module_version": "1.5.0",
      "model_name": "ProgressStyleModel",
      "state": {
       "_model_module": "@jupyter-widgets/controls",
       "_model_module_version": "1.5.0",
       "_model_name": "ProgressStyleModel",
       "_view_count": null,
       "_view_module": "@jupyter-widgets/base",
       "_view_module_version": "1.2.0",
       "_view_name": "StyleView",
       "bar_color": null,
       "description_width": ""
      }
     },
     "7c41edb470bf40e4b0e5b63b751620c0": {
      "model_module": "@jupyter-widgets/controls",
      "model_module_version": "1.5.0",
      "model_name": "HTMLModel",
      "state": {
       "_dom_classes": [],
       "_model_module": "@jupyter-widgets/controls",
       "_model_module_version": "1.5.0",
       "_model_name": "HTMLModel",
       "_view_count": null,
       "_view_module": "@jupyter-widgets/controls",
       "_view_module_version": "1.5.0",
       "_view_name": "HTMLView",
       "description": "",
       "description_tooltip": null,
       "layout": "IPY_MODEL_b8d3dc50fe364a0da38d7e59ede581e8",
       "placeholder": "​",
       "style": "IPY_MODEL_e7af78b26ec84b0c8179f07b826495b9",
       "value": " 5/5 [00:46&lt;00:00,  9.39s/it]"
      }
     },
     "7d0b3e334b5746d4b0bf4c8fd63c4706": {
      "model_module": "@jupyter-widgets/controls",
      "model_module_version": "1.5.0",
      "model_name": "HTMLModel",
      "state": {
       "_dom_classes": [],
       "_model_module": "@jupyter-widgets/controls",
       "_model_module_version": "1.5.0",
       "_model_name": "HTMLModel",
       "_view_count": null,
       "_view_module": "@jupyter-widgets/controls",
       "_view_module_version": "1.5.0",
       "_view_name": "HTMLView",
       "description": "",
       "description_tooltip": null,
       "layout": "IPY_MODEL_0e867bb32ea149c8b363d835af93f692",
       "placeholder": "​",
       "style": "IPY_MODEL_ed1805721ce345439d565252138b7a81",
       "value": "100%"
      }
     },
     "82db4ae3cac04b459b05ea9e27c1ac5c": {
      "model_module": "@jupyter-widgets/base",
      "model_module_version": "1.2.0",
      "model_name": "LayoutModel",
      "state": {
       "_model_module": "@jupyter-widgets/base",
       "_model_module_version": "1.2.0",
       "_model_name": "LayoutModel",
       "_view_count": null,
       "_view_module": "@jupyter-widgets/base",
       "_view_module_version": "1.2.0",
       "_view_name": "LayoutView",
       "align_content": null,
       "align_items": null,
       "align_self": null,
       "border": null,
       "bottom": null,
       "display": null,
       "flex": null,
       "flex_flow": null,
       "grid_area": null,
       "grid_auto_columns": null,
       "grid_auto_flow": null,
       "grid_auto_rows": null,
       "grid_column": null,
       "grid_gap": null,
       "grid_row": null,
       "grid_template_areas": null,
       "grid_template_columns": null,
       "grid_template_rows": null,
       "height": null,
       "justify_content": null,
       "justify_items": null,
       "left": null,
       "margin": null,
       "max_height": null,
       "max_width": null,
       "min_height": null,
       "min_width": null,
       "object_fit": null,
       "object_position": null,
       "order": null,
       "overflow": null,
       "overflow_x": null,
       "overflow_y": null,
       "padding": null,
       "right": null,
       "top": null,
       "visibility": null,
       "width": null
      }
     },
     "8880450da9064214aa917b6dcf99e5c1": {
      "model_module": "@jupyter-widgets/controls",
      "model_module_version": "1.5.0",
      "model_name": "HTMLModel",
      "state": {
       "_dom_classes": [],
       "_model_module": "@jupyter-widgets/controls",
       "_model_module_version": "1.5.0",
       "_model_name": "HTMLModel",
       "_view_count": null,
       "_view_module": "@jupyter-widgets/controls",
       "_view_module_version": "1.5.0",
       "_view_name": "HTMLView",
       "description": "",
       "description_tooltip": null,
       "layout": "IPY_MODEL_9883cda5c49f41f9ad807b10729db2a4",
       "placeholder": "​",
       "style": "IPY_MODEL_53a27eec91244a5dad277a734ada235c",
       "value": "100%"
      }
     },
     "92336c3aa0be4458b9b63caf288420c8": {
      "model_module": "@jupyter-widgets/controls",
      "model_module_version": "1.5.0",
      "model_name": "DescriptionStyleModel",
      "state": {
       "_model_module": "@jupyter-widgets/controls",
       "_model_module_version": "1.5.0",
       "_model_name": "DescriptionStyleModel",
       "_view_count": null,
       "_view_module": "@jupyter-widgets/base",
       "_view_module_version": "1.2.0",
       "_view_name": "StyleView",
       "description_width": ""
      }
     },
     "93985d1f7ec648dfbf7f42c8695905fe": {
      "model_module": "@jupyter-widgets/base",
      "model_module_version": "1.2.0",
      "model_name": "LayoutModel",
      "state": {
       "_model_module": "@jupyter-widgets/base",
       "_model_module_version": "1.2.0",
       "_model_name": "LayoutModel",
       "_view_count": null,
       "_view_module": "@jupyter-widgets/base",
       "_view_module_version": "1.2.0",
       "_view_name": "LayoutView",
       "align_content": null,
       "align_items": null,
       "align_self": null,
       "border": null,
       "bottom": null,
       "display": null,
       "flex": null,
       "flex_flow": null,
       "grid_area": null,
       "grid_auto_columns": null,
       "grid_auto_flow": null,
       "grid_auto_rows": null,
       "grid_column": null,
       "grid_gap": null,
       "grid_row": null,
       "grid_template_areas": null,
       "grid_template_columns": null,
       "grid_template_rows": null,
       "height": null,
       "justify_content": null,
       "justify_items": null,
       "left": null,
       "margin": null,
       "max_height": null,
       "max_width": null,
       "min_height": null,
       "min_width": null,
       "object_fit": null,
       "object_position": null,
       "order": null,
       "overflow": null,
       "overflow_x": null,
       "overflow_y": null,
       "padding": null,
       "right": null,
       "top": null,
       "visibility": null,
       "width": null
      }
     },
     "9883cda5c49f41f9ad807b10729db2a4": {
      "model_module": "@jupyter-widgets/base",
      "model_module_version": "1.2.0",
      "model_name": "LayoutModel",
      "state": {
       "_model_module": "@jupyter-widgets/base",
       "_model_module_version": "1.2.0",
       "_model_name": "LayoutModel",
       "_view_count": null,
       "_view_module": "@jupyter-widgets/base",
       "_view_module_version": "1.2.0",
       "_view_name": "LayoutView",
       "align_content": null,
       "align_items": null,
       "align_self": null,
       "border": null,
       "bottom": null,
       "display": null,
       "flex": null,
       "flex_flow": null,
       "grid_area": null,
       "grid_auto_columns": null,
       "grid_auto_flow": null,
       "grid_auto_rows": null,
       "grid_column": null,
       "grid_gap": null,
       "grid_row": null,
       "grid_template_areas": null,
       "grid_template_columns": null,
       "grid_template_rows": null,
       "height": null,
       "justify_content": null,
       "justify_items": null,
       "left": null,
       "margin": null,
       "max_height": null,
       "max_width": null,
       "min_height": null,
       "min_width": null,
       "object_fit": null,
       "object_position": null,
       "order": null,
       "overflow": null,
       "overflow_x": null,
       "overflow_y": null,
       "padding": null,
       "right": null,
       "top": null,
       "visibility": null,
       "width": null
      }
     },
     "9e606b67533b4d78969130d050649783": {
      "model_module": "@jupyter-widgets/base",
      "model_module_version": "1.2.0",
      "model_name": "LayoutModel",
      "state": {
       "_model_module": "@jupyter-widgets/base",
       "_model_module_version": "1.2.0",
       "_model_name": "LayoutModel",
       "_view_count": null,
       "_view_module": "@jupyter-widgets/base",
       "_view_module_version": "1.2.0",
       "_view_name": "LayoutView",
       "align_content": null,
       "align_items": null,
       "align_self": null,
       "border": null,
       "bottom": null,
       "display": null,
       "flex": null,
       "flex_flow": null,
       "grid_area": null,
       "grid_auto_columns": null,
       "grid_auto_flow": null,
       "grid_auto_rows": null,
       "grid_column": null,
       "grid_gap": null,
       "grid_row": null,
       "grid_template_areas": null,
       "grid_template_columns": null,
       "grid_template_rows": null,
       "height": null,
       "justify_content": null,
       "justify_items": null,
       "left": null,
       "margin": null,
       "max_height": null,
       "max_width": null,
       "min_height": null,
       "min_width": null,
       "object_fit": null,
       "object_position": null,
       "order": null,
       "overflow": null,
       "overflow_x": null,
       "overflow_y": null,
       "padding": null,
       "right": null,
       "top": null,
       "visibility": null,
       "width": null
      }
     },
     "a333d08d0c1c43a383546f83767aefb8": {
      "model_module": "@jupyter-widgets/controls",
      "model_module_version": "1.5.0",
      "model_name": "FloatProgressModel",
      "state": {
       "_dom_classes": [],
       "_model_module": "@jupyter-widgets/controls",
       "_model_module_version": "1.5.0",
       "_model_name": "FloatProgressModel",
       "_view_count": null,
       "_view_module": "@jupyter-widgets/controls",
       "_view_module_version": "1.5.0",
       "_view_name": "ProgressView",
       "bar_style": "success",
       "description": "",
       "description_tooltip": null,
       "layout": "IPY_MODEL_647f6c9b803349d1b8eb8c41ac269e1d",
       "max": 5.0,
       "min": 0.0,
       "orientation": "horizontal",
       "style": "IPY_MODEL_e36ec7c7d0454b8e8d0f795cac8f7966",
       "value": 5.0
      }
     },
     "a9c1e83644ae4efca33171e18e9f0420": {
      "model_module": "@jupyter-widgets/controls",
      "model_module_version": "1.5.0",
      "model_name": "ProgressStyleModel",
      "state": {
       "_model_module": "@jupyter-widgets/controls",
       "_model_module_version": "1.5.0",
       "_model_name": "ProgressStyleModel",
       "_view_count": null,
       "_view_module": "@jupyter-widgets/base",
       "_view_module_version": "1.2.0",
       "_view_name": "StyleView",
       "bar_color": null,
       "description_width": ""
      }
     },
     "aa29ed0a93fb4f80ac1035ddaf90f5db": {
      "model_module": "@jupyter-widgets/base",
      "model_module_version": "1.2.0",
      "model_name": "LayoutModel",
      "state": {
       "_model_module": "@jupyter-widgets/base",
       "_model_module_version": "1.2.0",
       "_model_name": "LayoutModel",
       "_view_count": null,
       "_view_module": "@jupyter-widgets/base",
       "_view_module_version": "1.2.0",
       "_view_name": "LayoutView",
       "align_content": null,
       "align_items": null,
       "align_self": null,
       "border": null,
       "bottom": null,
       "display": null,
       "flex": null,
       "flex_flow": null,
       "grid_area": null,
       "grid_auto_columns": null,
       "grid_auto_flow": null,
       "grid_auto_rows": null,
       "grid_column": null,
       "grid_gap": null,
       "grid_row": null,
       "grid_template_areas": null,
       "grid_template_columns": null,
       "grid_template_rows": null,
       "height": null,
       "justify_content": null,
       "justify_items": null,
       "left": null,
       "margin": null,
       "max_height": null,
       "max_width": null,
       "min_height": null,
       "min_width": null,
       "object_fit": null,
       "object_position": null,
       "order": null,
       "overflow": null,
       "overflow_x": null,
       "overflow_y": null,
       "padding": null,
       "right": null,
       "top": null,
       "visibility": null,
       "width": null
      }
     },
     "aac8ea6873a349f290e23f77b543ae60": {
      "model_module": "@jupyter-widgets/controls",
      "model_module_version": "1.5.0",
      "model_name": "FloatProgressModel",
      "state": {
       "_dom_classes": [],
       "_model_module": "@jupyter-widgets/controls",
       "_model_module_version": "1.5.0",
       "_model_name": "FloatProgressModel",
       "_view_count": null,
       "_view_module": "@jupyter-widgets/controls",
       "_view_module_version": "1.5.0",
       "_view_name": "ProgressView",
       "bar_style": "success",
       "description": "",
       "description_tooltip": null,
       "layout": "IPY_MODEL_18c12c38a6774660a4b42fe5f232c019",
       "max": 5.0,
       "min": 0.0,
       "orientation": "horizontal",
       "style": "IPY_MODEL_7822fcfb646445ed934a9dcaf178ec36",
       "value": 5.0
      }
     },
     "af8ace11ebf94a5fb48533d360411683": {
      "model_module": "@jupyter-widgets/controls",
      "model_module_version": "1.5.0",
      "model_name": "HTMLModel",
      "state": {
       "_dom_classes": [],
       "_model_module": "@jupyter-widgets/controls",
       "_model_module_version": "1.5.0",
       "_model_name": "HTMLModel",
       "_view_count": null,
       "_view_module": "@jupyter-widgets/controls",
       "_view_module_version": "1.5.0",
       "_view_name": "HTMLView",
       "description": "",
       "description_tooltip": null,
       "layout": "IPY_MODEL_aa29ed0a93fb4f80ac1035ddaf90f5db",
       "placeholder": "​",
       "style": "IPY_MODEL_edabb480c13b4280ad1a789df9cddbf8",
       "value": " 5/5 [00:44&lt;00:00,  8.84s/it]"
      }
     },
     "b152e25406d64328923c7f54609b670e": {
      "model_module": "@jupyter-widgets/controls",
      "model_module_version": "1.5.0",
      "model_name": "HBoxModel",
      "state": {
       "_dom_classes": [],
       "_model_module": "@jupyter-widgets/controls",
       "_model_module_version": "1.5.0",
       "_model_name": "HBoxModel",
       "_view_count": null,
       "_view_module": "@jupyter-widgets/controls",
       "_view_module_version": "1.5.0",
       "_view_name": "HBoxView",
       "box_style": "",
       "children": [
        "IPY_MODEL_7d0b3e334b5746d4b0bf4c8fd63c4706",
        "IPY_MODEL_53e70d4223c245d1a27b0f31be8744bc",
        "IPY_MODEL_4a1e4cdcdc3f42cc8736b7f77e9bc3c9"
       ],
       "layout": "IPY_MODEL_d5e013ce8911421b8c96b540f2165117"
      }
     },
     "b34ef72effe842729660e8fffc437edf": {
      "model_module": "@jupyter-widgets/controls",
      "model_module_version": "1.5.0",
      "model_name": "DescriptionStyleModel",
      "state": {
       "_model_module": "@jupyter-widgets/controls",
       "_model_module_version": "1.5.0",
       "_model_name": "DescriptionStyleModel",
       "_view_count": null,
       "_view_module": "@jupyter-widgets/base",
       "_view_module_version": "1.2.0",
       "_view_name": "StyleView",
       "description_width": ""
      }
     },
     "b7221e10b5da4c3d95545f99d8bbdf52": {
      "model_module": "@jupyter-widgets/controls",
      "model_module_version": "1.5.0",
      "model_name": "FloatProgressModel",
      "state": {
       "_dom_classes": [],
       "_model_module": "@jupyter-widgets/controls",
       "_model_module_version": "1.5.0",
       "_model_name": "FloatProgressModel",
       "_view_count": null,
       "_view_module": "@jupyter-widgets/controls",
       "_view_module_version": "1.5.0",
       "_view_name": "ProgressView",
       "bar_style": "success",
       "description": "",
       "description_tooltip": null,
       "layout": "IPY_MODEL_82db4ae3cac04b459b05ea9e27c1ac5c",
       "max": 5.0,
       "min": 0.0,
       "orientation": "horizontal",
       "style": "IPY_MODEL_13fcf08c73944dfb910ef10ed87f6616",
       "value": 5.0
      }
     },
     "b8d3dc50fe364a0da38d7e59ede581e8": {
      "model_module": "@jupyter-widgets/base",
      "model_module_version": "1.2.0",
      "model_name": "LayoutModel",
      "state": {
       "_model_module": "@jupyter-widgets/base",
       "_model_module_version": "1.2.0",
       "_model_name": "LayoutModel",
       "_view_count": null,
       "_view_module": "@jupyter-widgets/base",
       "_view_module_version": "1.2.0",
       "_view_name": "LayoutView",
       "align_content": null,
       "align_items": null,
       "align_self": null,
       "border": null,
       "bottom": null,
       "display": null,
       "flex": null,
       "flex_flow": null,
       "grid_area": null,
       "grid_auto_columns": null,
       "grid_auto_flow": null,
       "grid_auto_rows": null,
       "grid_column": null,
       "grid_gap": null,
       "grid_row": null,
       "grid_template_areas": null,
       "grid_template_columns": null,
       "grid_template_rows": null,
       "height": null,
       "justify_content": null,
       "justify_items": null,
       "left": null,
       "margin": null,
       "max_height": null,
       "max_width": null,
       "min_height": null,
       "min_width": null,
       "object_fit": null,
       "object_position": null,
       "order": null,
       "overflow": null,
       "overflow_x": null,
       "overflow_y": null,
       "padding": null,
       "right": null,
       "top": null,
       "visibility": null,
       "width": null
      }
     },
     "b9aa57a49ecd4fb0a4d147d0cdc91db8": {
      "model_module": "@jupyter-widgets/base",
      "model_module_version": "1.2.0",
      "model_name": "LayoutModel",
      "state": {
       "_model_module": "@jupyter-widgets/base",
       "_model_module_version": "1.2.0",
       "_model_name": "LayoutModel",
       "_view_count": null,
       "_view_module": "@jupyter-widgets/base",
       "_view_module_version": "1.2.0",
       "_view_name": "LayoutView",
       "align_content": null,
       "align_items": null,
       "align_self": null,
       "border": null,
       "bottom": null,
       "display": null,
       "flex": null,
       "flex_flow": null,
       "grid_area": null,
       "grid_auto_columns": null,
       "grid_auto_flow": null,
       "grid_auto_rows": null,
       "grid_column": null,
       "grid_gap": null,
       "grid_row": null,
       "grid_template_areas": null,
       "grid_template_columns": null,
       "grid_template_rows": null,
       "height": null,
       "justify_content": null,
       "justify_items": null,
       "left": null,
       "margin": null,
       "max_height": null,
       "max_width": null,
       "min_height": null,
       "min_width": null,
       "object_fit": null,
       "object_position": null,
       "order": null,
       "overflow": null,
       "overflow_x": null,
       "overflow_y": null,
       "padding": null,
       "right": null,
       "top": null,
       "visibility": null,
       "width": null
      }
     },
     "c35c747c12584d7880ff4c94705e47bc": {
      "model_module": "@jupyter-widgets/base",
      "model_module_version": "1.2.0",
      "model_name": "LayoutModel",
      "state": {
       "_model_module": "@jupyter-widgets/base",
       "_model_module_version": "1.2.0",
       "_model_name": "LayoutModel",
       "_view_count": null,
       "_view_module": "@jupyter-widgets/base",
       "_view_module_version": "1.2.0",
       "_view_name": "LayoutView",
       "align_content": null,
       "align_items": null,
       "align_self": null,
       "border": null,
       "bottom": null,
       "display": null,
       "flex": null,
       "flex_flow": null,
       "grid_area": null,
       "grid_auto_columns": null,
       "grid_auto_flow": null,
       "grid_auto_rows": null,
       "grid_column": null,
       "grid_gap": null,
       "grid_row": null,
       "grid_template_areas": null,
       "grid_template_columns": null,
       "grid_template_rows": null,
       "height": null,
       "justify_content": null,
       "justify_items": null,
       "left": null,
       "margin": null,
       "max_height": null,
       "max_width": null,
       "min_height": null,
       "min_width": null,
       "object_fit": null,
       "object_position": null,
       "order": null,
       "overflow": null,
       "overflow_x": null,
       "overflow_y": null,
       "padding": null,
       "right": null,
       "top": null,
       "visibility": null,
       "width": null
      }
     },
     "c60fe6a93958408c9b1cd730da59445d": {
      "model_module": "@jupyter-widgets/controls",
      "model_module_version": "1.5.0",
      "model_name": "HBoxModel",
      "state": {
       "_dom_classes": [],
       "_model_module": "@jupyter-widgets/controls",
       "_model_module_version": "1.5.0",
       "_model_name": "HBoxModel",
       "_view_count": null,
       "_view_module": "@jupyter-widgets/controls",
       "_view_module_version": "1.5.0",
       "_view_name": "HBoxView",
       "box_style": "",
       "children": [
        "IPY_MODEL_8880450da9064214aa917b6dcf99e5c1",
        "IPY_MODEL_aac8ea6873a349f290e23f77b543ae60",
        "IPY_MODEL_7c41edb470bf40e4b0e5b63b751620c0"
       ],
       "layout": "IPY_MODEL_c35c747c12584d7880ff4c94705e47bc"
      }
     },
     "d38a1fb695574b1dad2d8584ba200fa8": {
      "model_module": "@jupyter-widgets/base",
      "model_module_version": "1.2.0",
      "model_name": "LayoutModel",
      "state": {
       "_model_module": "@jupyter-widgets/base",
       "_model_module_version": "1.2.0",
       "_model_name": "LayoutModel",
       "_view_count": null,
       "_view_module": "@jupyter-widgets/base",
       "_view_module_version": "1.2.0",
       "_view_name": "LayoutView",
       "align_content": null,
       "align_items": null,
       "align_self": null,
       "border": null,
       "bottom": null,
       "display": null,
       "flex": null,
       "flex_flow": null,
       "grid_area": null,
       "grid_auto_columns": null,
       "grid_auto_flow": null,
       "grid_auto_rows": null,
       "grid_column": null,
       "grid_gap": null,
       "grid_row": null,
       "grid_template_areas": null,
       "grid_template_columns": null,
       "grid_template_rows": null,
       "height": null,
       "justify_content": null,
       "justify_items": null,
       "left": null,
       "margin": null,
       "max_height": null,
       "max_width": null,
       "min_height": null,
       "min_width": null,
       "object_fit": null,
       "object_position": null,
       "order": null,
       "overflow": null,
       "overflow_x": null,
       "overflow_y": null,
       "padding": null,
       "right": null,
       "top": null,
       "visibility": null,
       "width": null
      }
     },
     "d5e013ce8911421b8c96b540f2165117": {
      "model_module": "@jupyter-widgets/base",
      "model_module_version": "1.2.0",
      "model_name": "LayoutModel",
      "state": {
       "_model_module": "@jupyter-widgets/base",
       "_model_module_version": "1.2.0",
       "_model_name": "LayoutModel",
       "_view_count": null,
       "_view_module": "@jupyter-widgets/base",
       "_view_module_version": "1.2.0",
       "_view_name": "LayoutView",
       "align_content": null,
       "align_items": null,
       "align_self": null,
       "border": null,
       "bottom": null,
       "display": null,
       "flex": null,
       "flex_flow": null,
       "grid_area": null,
       "grid_auto_columns": null,
       "grid_auto_flow": null,
       "grid_auto_rows": null,
       "grid_column": null,
       "grid_gap": null,
       "grid_row": null,
       "grid_template_areas": null,
       "grid_template_columns": null,
       "grid_template_rows": null,
       "height": null,
       "justify_content": null,
       "justify_items": null,
       "left": null,
       "margin": null,
       "max_height": null,
       "max_width": null,
       "min_height": null,
       "min_width": null,
       "object_fit": null,
       "object_position": null,
       "order": null,
       "overflow": null,
       "overflow_x": null,
       "overflow_y": null,
       "padding": null,
       "right": null,
       "top": null,
       "visibility": null,
       "width": null
      }
     },
     "d6881b5276ba4251966d39dc70b211dc": {
      "model_module": "@jupyter-widgets/controls",
      "model_module_version": "1.5.0",
      "model_name": "ProgressStyleModel",
      "state": {
       "_model_module": "@jupyter-widgets/controls",
       "_model_module_version": "1.5.0",
       "_model_name": "ProgressStyleModel",
       "_view_count": null,
       "_view_module": "@jupyter-widgets/base",
       "_view_module_version": "1.2.0",
       "_view_name": "StyleView",
       "bar_color": null,
       "description_width": ""
      }
     },
     "e36ec7c7d0454b8e8d0f795cac8f7966": {
      "model_module": "@jupyter-widgets/controls",
      "model_module_version": "1.5.0",
      "model_name": "ProgressStyleModel",
      "state": {
       "_model_module": "@jupyter-widgets/controls",
       "_model_module_version": "1.5.0",
       "_model_name": "ProgressStyleModel",
       "_view_count": null,
       "_view_module": "@jupyter-widgets/base",
       "_view_module_version": "1.2.0",
       "_view_name": "StyleView",
       "bar_color": null,
       "description_width": ""
      }
     },
     "e7af78b26ec84b0c8179f07b826495b9": {
      "model_module": "@jupyter-widgets/controls",
      "model_module_version": "1.5.0",
      "model_name": "DescriptionStyleModel",
      "state": {
       "_model_module": "@jupyter-widgets/controls",
       "_model_module_version": "1.5.0",
       "_model_name": "DescriptionStyleModel",
       "_view_count": null,
       "_view_module": "@jupyter-widgets/base",
       "_view_module_version": "1.2.0",
       "_view_name": "StyleView",
       "description_width": ""
      }
     },
     "ea6685ad300d4abca1370c3564050978": {
      "model_module": "@jupyter-widgets/controls",
      "model_module_version": "1.5.0",
      "model_name": "HTMLModel",
      "state": {
       "_dom_classes": [],
       "_model_module": "@jupyter-widgets/controls",
       "_model_module_version": "1.5.0",
       "_model_name": "HTMLModel",
       "_view_count": null,
       "_view_module": "@jupyter-widgets/controls",
       "_view_module_version": "1.5.0",
       "_view_name": "HTMLView",
       "description": "",
       "description_tooltip": null,
       "layout": "IPY_MODEL_56c2cf3eac544a578b114e9800e381f2",
       "placeholder": "​",
       "style": "IPY_MODEL_5df7031b81794bb0b659cfb3ae9aff73",
       "value": "100%"
      }
     },
     "ec9af60ab13840ce8bac9aaed313813e": {
      "model_module": "@jupyter-widgets/base",
      "model_module_version": "1.2.0",
      "model_name": "LayoutModel",
      "state": {
       "_model_module": "@jupyter-widgets/base",
       "_model_module_version": "1.2.0",
       "_model_name": "LayoutModel",
       "_view_count": null,
       "_view_module": "@jupyter-widgets/base",
       "_view_module_version": "1.2.0",
       "_view_name": "LayoutView",
       "align_content": null,
       "align_items": null,
       "align_self": null,
       "border": null,
       "bottom": null,
       "display": null,
       "flex": null,
       "flex_flow": null,
       "grid_area": null,
       "grid_auto_columns": null,
       "grid_auto_flow": null,
       "grid_auto_rows": null,
       "grid_column": null,
       "grid_gap": null,
       "grid_row": null,
       "grid_template_areas": null,
       "grid_template_columns": null,
       "grid_template_rows": null,
       "height": null,
       "justify_content": null,
       "justify_items": null,
       "left": null,
       "margin": null,
       "max_height": null,
       "max_width": null,
       "min_height": null,
       "min_width": null,
       "object_fit": null,
       "object_position": null,
       "order": null,
       "overflow": null,
       "overflow_x": null,
       "overflow_y": null,
       "padding": null,
       "right": null,
       "top": null,
       "visibility": null,
       "width": null
      }
     },
     "ed1805721ce345439d565252138b7a81": {
      "model_module": "@jupyter-widgets/controls",
      "model_module_version": "1.5.0",
      "model_name": "DescriptionStyleModel",
      "state": {
       "_model_module": "@jupyter-widgets/controls",
       "_model_module_version": "1.5.0",
       "_model_name": "DescriptionStyleModel",
       "_view_count": null,
       "_view_module": "@jupyter-widgets/base",
       "_view_module_version": "1.2.0",
       "_view_name": "StyleView",
       "description_width": ""
      }
     },
     "edabb480c13b4280ad1a789df9cddbf8": {
      "model_module": "@jupyter-widgets/controls",
      "model_module_version": "1.5.0",
      "model_name": "DescriptionStyleModel",
      "state": {
       "_model_module": "@jupyter-widgets/controls",
       "_model_module_version": "1.5.0",
       "_model_name": "DescriptionStyleModel",
       "_view_count": null,
       "_view_module": "@jupyter-widgets/base",
       "_view_module_version": "1.2.0",
       "_view_name": "StyleView",
       "description_width": ""
      }
     },
     "f00ed6418d1842c4889243b9e3918bf1": {
      "model_module": "@jupyter-widgets/controls",
      "model_module_version": "1.5.0",
      "model_name": "FloatProgressModel",
      "state": {
       "_dom_classes": [],
       "_model_module": "@jupyter-widgets/controls",
       "_model_module_version": "1.5.0",
       "_model_name": "FloatProgressModel",
       "_view_count": null,
       "_view_module": "@jupyter-widgets/controls",
       "_view_module_version": "1.5.0",
       "_view_name": "ProgressView",
       "bar_style": "success",
       "description": "",
       "description_tooltip": null,
       "layout": "IPY_MODEL_b9aa57a49ecd4fb0a4d147d0cdc91db8",
       "max": 30.0,
       "min": 0.0,
       "orientation": "horizontal",
       "style": "IPY_MODEL_a9c1e83644ae4efca33171e18e9f0420",
       "value": 30.0
      }
     }
    },
    "version_major": 2,
    "version_minor": 0
   }
  }
 },
 "nbformat": 4,
 "nbformat_minor": 5
}
