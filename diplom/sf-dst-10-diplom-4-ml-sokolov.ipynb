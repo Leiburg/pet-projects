{
 "cells": [
  {
   "cell_type": "markdown",
   "metadata": {
    "papermill": {
     "duration": 0.013451,
     "end_time": "2021-04-30T07:10:10.828870",
     "exception": false,
     "start_time": "2021-04-30T07:10:10.815419",
     "status": "completed"
    },
    "tags": []
   },
   "source": [
    "### Дипломная работа Александра Соколова\n",
    "\n",
    "#### Градиентный бустинг (CatBoost + GPU)\n",
    "Кернел 4 из 5 в разделе ML (отредактирован 21.04.2021)\n",
    "---\n",
    "\n",
    "# 1. Импорт библиотек, инициализация глобальных констант\n",
    "## 1.1. Импорт библиотек"
   ]
  },
  {
   "cell_type": "code",
   "execution_count": 1,
   "metadata": {
    "execution": {
     "iopub.execute_input": "2021-04-30T07:10:10.860186Z",
     "iopub.status.busy": "2021-04-30T07:10:10.859337Z",
     "iopub.status.idle": "2021-04-30T07:10:12.032283Z",
     "shell.execute_reply": "2021-04-30T07:10:12.030545Z"
    },
    "papermill": {
     "duration": 1.191758,
     "end_time": "2021-04-30T07:10:12.032519",
     "exception": false,
     "start_time": "2021-04-30T07:10:10.840761",
     "status": "completed"
    },
    "tags": []
   },
   "outputs": [],
   "source": [
    "import pandas as pd\n",
    "import numpy as np\n",
    "import os\n",
    "import tqdm\n",
    "import pickle\n",
    "\n",
    "\n",
    "from sklearn.model_selection import train_test_split, KFold\n",
    "from sklearn.metrics import roc_auc_score\n",
    "\n",
    "from catboost import CatBoostClassifier, Pool\n",
    "os.environ[\"CUDA_VISIBLE_DEVICES\"] = '0'\n",
    "\n",
    "np.warnings.filterwarnings('ignore')"
   ]
  },
  {
   "cell_type": "markdown",
   "metadata": {
    "papermill": {
     "duration": 0.017661,
     "end_time": "2021-04-30T07:10:12.076529",
     "exception": false,
     "start_time": "2021-04-30T07:10:12.058868",
     "status": "completed"
    },
    "tags": []
   },
   "source": [
    "## 1.2. Глобальные константы"
   ]
  },
  {
   "cell_type": "code",
   "execution_count": 2,
   "metadata": {
    "execution": {
     "iopub.execute_input": "2021-04-30T07:10:12.108081Z",
     "iopub.status.busy": "2021-04-30T07:10:12.107033Z",
     "iopub.status.idle": "2021-04-30T07:10:12.110838Z",
     "shell.execute_reply": "2021-04-30T07:10:12.110313Z"
    },
    "papermill": {
     "duration": 0.021467,
     "end_time": "2021-04-30T07:10:12.110975",
     "exception": false,
     "start_time": "2021-04-30T07:10:12.089508",
     "status": "completed"
    },
    "tags": []
   },
   "outputs": [],
   "source": [
    "# CURRENT_DIR = './'  # имя текущей директории для локальной машины \n",
    "CURRENT_DIR = '../'  # имя текущей директории для каггл\n",
    "\n",
    "PATH_TO_WORKDIR = CURRENT_DIR + 'working/'"
   ]
  },
  {
   "cell_type": "code",
   "execution_count": 3,
   "metadata": {
    "execution": {
     "iopub.execute_input": "2021-04-30T07:10:12.140791Z",
     "iopub.status.busy": "2021-04-30T07:10:12.139981Z",
     "iopub.status.idle": "2021-04-30T07:10:14.748780Z",
     "shell.execute_reply": "2021-04-30T07:10:14.747381Z"
    },
    "papermill": {
     "duration": 2.625474,
     "end_time": "2021-04-30T07:10:14.748989",
     "exception": false,
     "start_time": "2021-04-30T07:10:12.123515",
     "status": "completed"
    },
    "tags": []
   },
   "outputs": [],
   "source": [
    "!pip freeze > requirements.txt"
   ]
  },
  {
   "cell_type": "markdown",
   "metadata": {
    "papermill": {
     "duration": 0.019034,
     "end_time": "2021-04-30T07:10:14.788451",
     "exception": false,
     "start_time": "2021-04-30T07:10:14.769417",
     "status": "completed"
    },
    "tags": []
   },
   "source": [
    "## 1.3. Проверка подключения и параметров GPU"
   ]
  },
  {
   "cell_type": "code",
   "execution_count": 4,
   "metadata": {
    "execution": {
     "iopub.execute_input": "2021-04-30T07:10:14.836429Z",
     "iopub.status.busy": "2021-04-30T07:10:14.835427Z",
     "iopub.status.idle": "2021-04-30T07:10:16.797517Z",
     "shell.execute_reply": "2021-04-30T07:10:16.795761Z"
    },
    "papermill": {
     "duration": 1.989701,
     "end_time": "2021-04-30T07:10:16.797718",
     "exception": false,
     "start_time": "2021-04-30T07:10:14.808017",
     "status": "completed"
    },
    "tags": []
   },
   "outputs": [
    {
     "name": "stdout",
     "output_type": "stream",
     "text": [
      "Fri Apr 30 07:10:16 2021       \r\n",
      "+-----------------------------------------------------------------------------+\r\n",
      "| NVIDIA-SMI 450.51.06    Driver Version: 450.51.06    CUDA Version: 11.0     |\r\n",
      "|-------------------------------+----------------------+----------------------+\r\n",
      "| GPU  Name        Persistence-M| Bus-Id        Disp.A | Volatile Uncorr. ECC |\r\n",
      "| Fan  Temp  Perf  Pwr:Usage/Cap|         Memory-Usage | GPU-Util  Compute M. |\r\n",
      "|                               |                      |               MIG M. |\r\n",
      "|===============================+======================+======================|\r\n",
      "|   0  Tesla P100-PCIE...  Off  | 00000000:00:04.0 Off |                    0 |\r\n",
      "| N/A   39C    P0    28W / 250W |      0MiB / 16280MiB |      0%      Default |\r\n",
      "|                               |                      |                  N/A |\r\n",
      "+-------------------------------+----------------------+----------------------+\r\n",
      "                                                                               \r\n",
      "+-----------------------------------------------------------------------------+\r\n",
      "| Processes:                                                                  |\r\n",
      "|  GPU   GI   CI        PID   Type   Process name                  GPU Memory |\r\n",
      "|        ID   ID                                                   Usage      |\r\n",
      "|=============================================================================|\r\n",
      "|  No running processes found                                                 |\r\n",
      "+-----------------------------------------------------------------------------+\r\n"
     ]
    }
   ],
   "source": [
    "!nvidia-smi"
   ]
  },
  {
   "cell_type": "markdown",
   "metadata": {
    "papermill": {
     "duration": 0.014306,
     "end_time": "2021-04-30T07:10:16.826307",
     "exception": false,
     "start_time": "2021-04-30T07:10:16.812001",
     "status": "completed"
    },
    "tags": []
   },
   "source": [
    "# 2. Импорт предобработанных данных\n",
    "---\n",
    "предобработка осуществлялась в [первом кернеле](https://www.kaggle.com/sokolovaleks/sf-dst-10-diplom-1-ml-sokolov)"
   ]
  },
  {
   "cell_type": "code",
   "execution_count": 5,
   "metadata": {
    "execution": {
     "iopub.execute_input": "2021-04-30T07:10:16.872414Z",
     "iopub.status.busy": "2021-04-30T07:10:16.871706Z",
     "iopub.status.idle": "2021-04-30T07:10:57.831468Z",
     "shell.execute_reply": "2021-04-30T07:10:57.830789Z"
    },
    "papermill": {
     "duration": 40.991968,
     "end_time": "2021-04-30T07:10:57.831631",
     "exception": false,
     "start_time": "2021-04-30T07:10:16.839663",
     "status": "completed"
    },
    "tags": []
   },
   "outputs": [],
   "source": [
    "merged_train_data = pd.read_csv('../input/alfabattle2-sandbox/preproc_data_for_boosting/preproc_data_for_boosting/merged_data.csv')\n",
    "merged_test_data = pd.read_csv('../input/alfabattle2-sandbox/preproc_data_for_boosting/preproc_data_for_boosting/merged_test_data.csv')"
   ]
  },
  {
   "cell_type": "code",
   "execution_count": 6,
   "metadata": {
    "execution": {
     "iopub.execute_input": "2021-04-30T07:10:57.866297Z",
     "iopub.status.busy": "2021-04-30T07:10:57.865535Z",
     "iopub.status.idle": "2021-04-30T07:10:57.870644Z",
     "shell.execute_reply": "2021-04-30T07:10:57.870090Z"
    },
    "papermill": {
     "duration": 0.024613,
     "end_time": "2021-04-30T07:10:57.870779",
     "exception": false,
     "start_time": "2021-04-30T07:10:57.846166",
     "status": "completed"
    },
    "tags": []
   },
   "outputs": [],
   "source": [
    "features = [x for x in merged_train_data.columns if x not in ['app_id', 'flag']]"
   ]
  },
  {
   "cell_type": "markdown",
   "metadata": {
    "papermill": {
     "duration": 0.013958,
     "end_time": "2021-04-30T07:10:57.898925",
     "exception": false,
     "start_time": "2021-04-30T07:10:57.884967",
     "status": "completed"
    },
    "tags": []
   },
   "source": [
    "# 3. Разбиваем тренировочную выборку\n",
    "---\n",
    "Важно выделять валидационную выборку, чтобы контролировать обучение и не переобучаться. "
   ]
  },
  {
   "cell_type": "code",
   "execution_count": 7,
   "metadata": {
    "execution": {
     "iopub.execute_input": "2021-04-30T07:10:57.939233Z",
     "iopub.status.busy": "2021-04-30T07:10:57.938261Z",
     "iopub.status.idle": "2021-04-30T07:10:57.942242Z",
     "shell.execute_reply": "2021-04-30T07:10:57.941581Z"
    },
    "papermill": {
     "duration": 0.029334,
     "end_time": "2021-04-30T07:10:57.942395",
     "exception": false,
     "start_time": "2021-04-30T07:10:57.913061",
     "status": "completed"
    },
    "tags": []
   },
   "outputs": [],
   "source": [
    "targets = merged_train_data.flag.values\n",
    "\n",
    "cv = KFold(n_splits=5, random_state=100, shuffle=True)"
   ]
  },
  {
   "cell_type": "markdown",
   "metadata": {
    "papermill": {
     "duration": 0.013273,
     "end_time": "2021-04-30T07:10:57.968930",
     "exception": false,
     "start_time": "2021-04-30T07:10:57.955657",
     "status": "completed"
    },
    "tags": []
   },
   "source": [
    "# 4. CatBoost + CV"
   ]
  },
  {
   "cell_type": "code",
   "execution_count": 8,
   "metadata": {
    "execution": {
     "iopub.execute_input": "2021-04-30T07:10:58.001731Z",
     "iopub.status.busy": "2021-04-30T07:10:58.000231Z",
     "iopub.status.idle": "2021-04-30T07:10:58.004223Z",
     "shell.execute_reply": "2021-04-30T07:10:58.003663Z"
    },
    "papermill": {
     "duration": 0.021779,
     "end_time": "2021-04-30T07:10:58.004350",
     "exception": false,
     "start_time": "2021-04-30T07:10:57.982571",
     "status": "completed"
    },
    "tags": []
   },
   "outputs": [],
   "source": [
    "name_model = 'CatBoost'"
   ]
  },
  {
   "cell_type": "code",
   "execution_count": 9,
   "metadata": {
    "execution": {
     "iopub.execute_input": "2021-04-30T07:10:58.060593Z",
     "iopub.status.busy": "2021-04-30T07:10:58.035923Z",
     "iopub.status.idle": "2021-04-30T07:10:59.253927Z",
     "shell.execute_reply": "2021-04-30T07:10:59.252991Z"
    },
    "papermill": {
     "duration": 1.236343,
     "end_time": "2021-04-30T07:10:59.254208",
     "exception": false,
     "start_time": "2021-04-30T07:10:58.017865",
     "status": "completed"
    },
    "tags": []
   },
   "outputs": [],
   "source": [
    "!mkdir model_CatBoost"
   ]
  },
  {
   "cell_type": "code",
   "execution_count": 10,
   "metadata": {
    "execution": {
     "iopub.execute_input": "2021-04-30T07:10:59.307046Z",
     "iopub.status.busy": "2021-04-30T07:10:59.305763Z",
     "iopub.status.idle": "2021-04-30T07:14:45.872838Z",
     "shell.execute_reply": "2021-04-30T07:14:45.872247Z"
    },
    "papermill": {
     "duration": 226.595871,
     "end_time": "2021-04-30T07:14:45.873032",
     "exception": false,
     "start_time": "2021-04-30T07:10:59.277161",
     "status": "completed"
    },
    "tags": []
   },
   "outputs": [
    {
     "name": "stdout",
     "output_type": "stream",
     "text": [
      "Началось обучение на фолде номер:= 1.\n",
      "0:\tlearn: 0.6291874\ttest: 0.6279340\tbest: 0.6279340 (0)\ttotal: 36.4ms\tremaining: 36.4s\n",
      "50:\tlearn: 0.7400744\ttest: 0.7352458\tbest: 0.7352458 (50)\ttotal: 1.18s\tremaining: 22s\n",
      "100:\tlearn: 0.7464372\ttest: 0.7412741\tbest: 0.7412741 (100)\ttotal: 2.33s\tremaining: 20.7s\n",
      "150:\tlearn: 0.7514476\ttest: 0.7451583\tbest: 0.7451642 (148)\ttotal: 3.45s\tremaining: 19.4s\n",
      "200:\tlearn: 0.7556333\ttest: 0.7484902\tbest: 0.7484902 (200)\ttotal: 4.54s\tremaining: 18s\n",
      "250:\tlearn: 0.7584953\ttest: 0.7507088\tbest: 0.7507088 (250)\ttotal: 5.63s\tremaining: 16.8s\n",
      "300:\tlearn: 0.7608958\ttest: 0.7526601\tbest: 0.7526601 (300)\ttotal: 7.16s\tremaining: 16.6s\n",
      "350:\tlearn: 0.7627018\ttest: 0.7540476\tbest: 0.7540476 (350)\ttotal: 8.23s\tremaining: 15.2s\n",
      "400:\tlearn: 0.7642716\ttest: 0.7552214\tbest: 0.7552214 (400)\ttotal: 9.33s\tremaining: 13.9s\n",
      "450:\tlearn: 0.7657118\ttest: 0.7562774\tbest: 0.7562774 (450)\ttotal: 10.4s\tremaining: 12.7s\n",
      "500:\tlearn: 0.7669233\ttest: 0.7570581\tbest: 0.7570581 (500)\ttotal: 11.5s\tremaining: 11.5s\n",
      "550:\tlearn: 0.7679608\ttest: 0.7577176\tbest: 0.7577176 (550)\ttotal: 12.7s\tremaining: 10.3s\n",
      "600:\tlearn: 0.7689540\ttest: 0.7583114\tbest: 0.7583127 (598)\ttotal: 13.8s\tremaining: 9.15s\n",
      "650:\tlearn: 0.7697663\ttest: 0.7588295\tbest: 0.7588295 (650)\ttotal: 14.9s\tremaining: 7.98s\n",
      "700:\tlearn: 0.7707265\ttest: 0.7594251\tbest: 0.7594251 (700)\ttotal: 16s\tremaining: 6.82s\n",
      "750:\tlearn: 0.7717089\ttest: 0.7599265\tbest: 0.7599301 (748)\ttotal: 17.5s\tremaining: 5.79s\n",
      "800:\tlearn: 0.7726012\ttest: 0.7603717\tbest: 0.7603838 (799)\ttotal: 18.6s\tremaining: 4.63s\n",
      "850:\tlearn: 0.7734880\ttest: 0.7609136\tbest: 0.7609136 (850)\ttotal: 20.5s\tremaining: 3.58s\n",
      "900:\tlearn: 0.7742290\ttest: 0.7613625\tbest: 0.7613625 (900)\ttotal: 21.6s\tremaining: 2.37s\n",
      "950:\tlearn: 0.7750822\ttest: 0.7617853\tbest: 0.7617853 (950)\ttotal: 22.7s\tremaining: 1.17s\n",
      "999:\tlearn: 0.7757997\ttest: 0.7621511\tbest: 0.7621511 (999)\ttotal: 23.7s\tremaining: 0us\n",
      "bestTest = 0.7621510923\n",
      "bestIteration = 999\n",
      "Обучение на фолде номер:= 1 завершилось.\n",
      "Началось обучение на фолде номер:= 2.\n",
      "0:\tlearn: 0.6304988\ttest: 0.6254514\tbest: 0.6254514 (0)\ttotal: 24.5ms\tremaining: 24.5s\n",
      "50:\tlearn: 0.7389887\ttest: 0.7354386\tbest: 0.7354386 (50)\ttotal: 1.19s\tremaining: 22.1s\n",
      "100:\tlearn: 0.7461488\ttest: 0.7428517\tbest: 0.7428517 (100)\ttotal: 2.31s\tremaining: 20.6s\n",
      "150:\tlearn: 0.7511891\ttest: 0.7474689\tbest: 0.7474689 (150)\ttotal: 3.4s\tremaining: 19.1s\n",
      "200:\tlearn: 0.7550956\ttest: 0.7506069\tbest: 0.7506069 (200)\ttotal: 4.49s\tremaining: 17.9s\n",
      "250:\tlearn: 0.7581960\ttest: 0.7531731\tbest: 0.7531731 (250)\ttotal: 5.6s\tremaining: 16.7s\n",
      "300:\tlearn: 0.7603782\ttest: 0.7548348\tbest: 0.7548348 (300)\ttotal: 6.7s\tremaining: 15.6s\n",
      "350:\tlearn: 0.7624117\ttest: 0.7562920\tbest: 0.7562920 (350)\ttotal: 7.78s\tremaining: 14.4s\n",
      "400:\tlearn: 0.7639513\ttest: 0.7572122\tbest: 0.7572122 (400)\ttotal: 9.31s\tremaining: 13.9s\n",
      "450:\tlearn: 0.7652950\ttest: 0.7581379\tbest: 0.7581379 (450)\ttotal: 10.4s\tremaining: 12.7s\n",
      "500:\tlearn: 0.7665080\ttest: 0.7588184\tbest: 0.7588184 (500)\ttotal: 11.6s\tremaining: 11.5s\n",
      "550:\tlearn: 0.7677175\ttest: 0.7595678\tbest: 0.7595678 (550)\ttotal: 12.6s\tremaining: 10.3s\n",
      "600:\tlearn: 0.7689202\ttest: 0.7602633\tbest: 0.7602633 (600)\ttotal: 13.7s\tremaining: 9.12s\n",
      "650:\tlearn: 0.7699499\ttest: 0.7609203\tbest: 0.7609203 (650)\ttotal: 14.8s\tremaining: 7.94s\n",
      "700:\tlearn: 0.7709002\ttest: 0.7614719\tbest: 0.7614726 (699)\ttotal: 15.9s\tremaining: 6.79s\n",
      "750:\tlearn: 0.7718628\ttest: 0.7619703\tbest: 0.7619703 (750)\ttotal: 17s\tremaining: 5.63s\n",
      "800:\tlearn: 0.7728058\ttest: 0.7624319\tbest: 0.7624319 (800)\ttotal: 18.1s\tremaining: 4.49s\n",
      "850:\tlearn: 0.7737080\ttest: 0.7628726\tbest: 0.7628726 (850)\ttotal: 19.2s\tremaining: 3.36s\n",
      "900:\tlearn: 0.7743779\ttest: 0.7632083\tbest: 0.7632083 (900)\ttotal: 20.7s\tremaining: 2.28s\n",
      "950:\tlearn: 0.7752055\ttest: 0.7635889\tbest: 0.7635889 (950)\ttotal: 22.6s\tremaining: 1.16s\n",
      "999:\tlearn: 0.7759787\ttest: 0.7639913\tbest: 0.7639913 (999)\ttotal: 23.7s\tremaining: 0us\n",
      "bestTest = 0.7639912963\n",
      "bestIteration = 999\n",
      "Обучение на фолде номер:= 2 завершилось.\n",
      "Началось обучение на фолде номер:= 3.\n",
      "0:\tlearn: 0.6325390\ttest: 0.6366109\tbest: 0.6366109 (0)\ttotal: 23.6ms\tremaining: 23.6s\n",
      "50:\tlearn: 0.7389131\ttest: 0.7399141\tbest: 0.7399141 (50)\ttotal: 1.55s\tremaining: 28.8s\n",
      "100:\tlearn: 0.7455706\ttest: 0.7467065\tbest: 0.7468100 (98)\ttotal: 2.7s\tremaining: 24.1s\n",
      "150:\tlearn: 0.7498878\ttest: 0.7504580\tbest: 0.7504580 (150)\ttotal: 3.83s\tremaining: 21.5s\n",
      "200:\tlearn: 0.7533939\ttest: 0.7534133\tbest: 0.7534133 (200)\ttotal: 4.95s\tremaining: 19.7s\n",
      "250:\tlearn: 0.7567102\ttest: 0.7561635\tbest: 0.7561635 (250)\ttotal: 6.05s\tremaining: 18.1s\n",
      "300:\tlearn: 0.7591616\ttest: 0.7581631\tbest: 0.7581631 (300)\ttotal: 7.15s\tremaining: 16.6s\n",
      "350:\tlearn: 0.7610790\ttest: 0.7596332\tbest: 0.7596332 (350)\ttotal: 8.24s\tremaining: 15.2s\n",
      "400:\tlearn: 0.7627755\ttest: 0.7607529\tbest: 0.7607529 (400)\ttotal: 9.34s\tremaining: 13.9s\n",
      "450:\tlearn: 0.7641007\ttest: 0.7615705\tbest: 0.7615705 (450)\ttotal: 10.4s\tremaining: 12.7s\n",
      "500:\tlearn: 0.7653948\ttest: 0.7625039\tbest: 0.7625039 (500)\ttotal: 11.8s\tremaining: 11.7s\n",
      "550:\tlearn: 0.7666245\ttest: 0.7632628\tbest: 0.7632628 (550)\ttotal: 13s\tremaining: 10.6s\n",
      "600:\tlearn: 0.7676302\ttest: 0.7639766\tbest: 0.7639802 (599)\ttotal: 14.1s\tremaining: 9.38s\n",
      "650:\tlearn: 0.7687053\ttest: 0.7647272\tbest: 0.7647272 (650)\ttotal: 15.2s\tremaining: 8.16s\n",
      "700:\tlearn: 0.7696519\ttest: 0.7653198\tbest: 0.7653198 (700)\ttotal: 16.3s\tremaining: 6.95s\n",
      "750:\tlearn: 0.7704191\ttest: 0.7657685\tbest: 0.7657685 (750)\ttotal: 17.4s\tremaining: 5.76s\n",
      "800:\tlearn: 0.7713290\ttest: 0.7661813\tbest: 0.7661813 (800)\ttotal: 18.5s\tremaining: 4.59s\n",
      "850:\tlearn: 0.7721288\ttest: 0.7665000\tbest: 0.7665125 (847)\ttotal: 19.6s\tremaining: 3.43s\n",
      "900:\tlearn: 0.7729608\ttest: 0.7669106\tbest: 0.7669106 (900)\ttotal: 20.7s\tremaining: 2.27s\n",
      "950:\tlearn: 0.7735746\ttest: 0.7671885\tbest: 0.7671885 (950)\ttotal: 21.8s\tremaining: 1.12s\n",
      "999:\tlearn: 0.7743059\ttest: 0.7674890\tbest: 0.7674890 (999)\ttotal: 23.2s\tremaining: 0us\n",
      "bestTest = 0.7674889565\n",
      "bestIteration = 999\n",
      "Обучение на фолде номер:= 3 завершилось.\n",
      "Началось обучение на фолде номер:= 4.\n",
      "0:\tlearn: 0.6318187\ttest: 0.6273021\tbest: 0.6273021 (0)\ttotal: 23.9ms\tremaining: 23.9s\n",
      "50:\tlearn: 0.7421082\ttest: 0.7340060\tbest: 0.7340060 (50)\ttotal: 1.17s\tremaining: 21.8s\n",
      "100:\tlearn: 0.7471972\ttest: 0.7393953\tbest: 0.7393953 (100)\ttotal: 2.27s\tremaining: 20.2s\n",
      "150:\tlearn: 0.7519732\ttest: 0.7441267\tbest: 0.7441267 (150)\ttotal: 3.93s\tremaining: 22.1s\n",
      "200:\tlearn: 0.7558375\ttest: 0.7477210\tbest: 0.7477210 (200)\ttotal: 5.07s\tremaining: 20.1s\n",
      "250:\tlearn: 0.7585153\ttest: 0.7498446\tbest: 0.7498446 (250)\ttotal: 6.17s\tremaining: 18.4s\n",
      "300:\tlearn: 0.7606258\ttest: 0.7514694\tbest: 0.7514694 (300)\ttotal: 7.25s\tremaining: 16.8s\n",
      "350:\tlearn: 0.7625962\ttest: 0.7528925\tbest: 0.7528925 (350)\ttotal: 8.33s\tremaining: 15.4s\n",
      "400:\tlearn: 0.7639654\ttest: 0.7538404\tbest: 0.7538404 (400)\ttotal: 9.39s\tremaining: 14s\n",
      "450:\tlearn: 0.7655002\ttest: 0.7550030\tbest: 0.7550030 (450)\ttotal: 10.5s\tremaining: 12.7s\n",
      "500:\tlearn: 0.7667476\ttest: 0.7558315\tbest: 0.7558315 (500)\ttotal: 11.6s\tremaining: 11.5s\n",
      "550:\tlearn: 0.7679615\ttest: 0.7567006\tbest: 0.7567006 (550)\ttotal: 12.7s\tremaining: 10.3s\n",
      "600:\tlearn: 0.7689887\ttest: 0.7573631\tbest: 0.7573631 (600)\ttotal: 13.8s\tremaining: 9.17s\n",
      "650:\tlearn: 0.7699338\ttest: 0.7578918\tbest: 0.7578918 (650)\ttotal: 15.3s\tremaining: 8.21s\n",
      "700:\tlearn: 0.7708367\ttest: 0.7585679\tbest: 0.7585679 (700)\ttotal: 16.4s\tremaining: 7.01s\n",
      "750:\tlearn: 0.7717220\ttest: 0.7591392\tbest: 0.7591392 (750)\ttotal: 17.5s\tremaining: 5.81s\n",
      "800:\tlearn: 0.7726033\ttest: 0.7596512\tbest: 0.7596512 (800)\ttotal: 18.6s\tremaining: 4.63s\n",
      "850:\tlearn: 0.7733419\ttest: 0.7600358\tbest: 0.7600358 (850)\ttotal: 19.7s\tremaining: 3.45s\n",
      "900:\tlearn: 0.7741337\ttest: 0.7604768\tbest: 0.7604768 (900)\ttotal: 20.8s\tremaining: 2.29s\n",
      "950:\tlearn: 0.7749052\ttest: 0.7609050\tbest: 0.7609050 (950)\ttotal: 21.9s\tremaining: 1.13s\n",
      "999:\tlearn: 0.7755667\ttest: 0.7611518\tbest: 0.7611518 (999)\ttotal: 23s\tremaining: 0us\n",
      "bestTest = 0.7611518204\n",
      "bestIteration = 999\n",
      "Обучение на фолде номер:= 4 завершилось.\n",
      "Началось обучение на фолде номер:= 5.\n",
      "0:\tlearn: 0.6331406\ttest: 0.6386228\tbest: 0.6386228 (0)\ttotal: 23.2ms\tremaining: 23.2s\n",
      "50:\tlearn: 0.7381007\ttest: 0.7407622\tbest: 0.7407622 (50)\ttotal: 1.09s\tremaining: 20.4s\n",
      "100:\tlearn: 0.7452647\ttest: 0.7465622\tbest: 0.7465622 (100)\ttotal: 2.23s\tremaining: 19.8s\n",
      "150:\tlearn: 0.7508297\ttest: 0.7511726\tbest: 0.7511726 (150)\ttotal: 3.33s\tremaining: 18.7s\n",
      "200:\tlearn: 0.7543898\ttest: 0.7540998\tbest: 0.7540998 (200)\ttotal: 4.47s\tremaining: 17.8s\n",
      "250:\tlearn: 0.7574354\ttest: 0.7566637\tbest: 0.7566637 (250)\ttotal: 5.58s\tremaining: 16.7s\n",
      "300:\tlearn: 0.7597047\ttest: 0.7584061\tbest: 0.7584061 (300)\ttotal: 7.13s\tremaining: 16.6s\n",
      "350:\tlearn: 0.7617922\ttest: 0.7599537\tbest: 0.7599537 (350)\ttotal: 8.24s\tremaining: 15.2s\n",
      "400:\tlearn: 0.7632658\ttest: 0.7610309\tbest: 0.7610309 (400)\ttotal: 9.35s\tremaining: 14s\n",
      "450:\tlearn: 0.7646732\ttest: 0.7618873\tbest: 0.7618873 (450)\ttotal: 10.4s\tremaining: 12.7s\n",
      "500:\tlearn: 0.7660547\ttest: 0.7627597\tbest: 0.7627597 (500)\ttotal: 11.6s\tremaining: 11.5s\n",
      "550:\tlearn: 0.7671365\ttest: 0.7633417\tbest: 0.7633417 (550)\ttotal: 12.6s\tremaining: 10.3s\n",
      "600:\tlearn: 0.7681628\ttest: 0.7638863\tbest: 0.7638863 (600)\ttotal: 13.7s\tremaining: 9.13s\n",
      "650:\tlearn: 0.7691530\ttest: 0.7643449\tbest: 0.7643449 (650)\ttotal: 14.8s\tremaining: 7.96s\n",
      "700:\tlearn: 0.7701046\ttest: 0.7648803\tbest: 0.7648821 (699)\ttotal: 15.9s\tremaining: 6.8s\n",
      "750:\tlearn: 0.7710570\ttest: 0.7653539\tbest: 0.7653539 (750)\ttotal: 17.1s\tremaining: 5.66s\n",
      "800:\tlearn: 0.7719639\ttest: 0.7657493\tbest: 0.7657493 (800)\ttotal: 18.5s\tremaining: 4.6s\n",
      "850:\tlearn: 0.7726836\ttest: 0.7660965\tbest: 0.7660965 (850)\ttotal: 19.6s\tremaining: 3.43s\n",
      "900:\tlearn: 0.7734376\ttest: 0.7663840\tbest: 0.7663840 (900)\ttotal: 20.7s\tremaining: 2.27s\n",
      "950:\tlearn: 0.7741774\ttest: 0.7667529\tbest: 0.7667535 (949)\ttotal: 21.7s\tremaining: 1.12s\n",
      "999:\tlearn: 0.7749317\ttest: 0.7670031\tbest: 0.7670031 (999)\ttotal: 22.8s\tremaining: 0us\n",
      "bestTest = 0.7670030594\n",
      "bestIteration = 999\n",
      "Обучение на фолде номер:= 5 завершилось.\n",
      "CPU times: user 4min 16s, sys: 1min 13s, total: 5min 29s\n",
      "Wall time: 3min 46s\n"
     ]
    }
   ],
   "source": [
    "%%time\n",
    "\n",
    "oof = np.zeros(len(merged_train_data))\n",
    "train_preds = np.zeros(len(merged_train_data))\n",
    "\n",
    "models = []\n",
    "\n",
    "tree_params = {\n",
    "    'max_depth': 5,\n",
    "    'eval_metric': 'AUC',\n",
    "    'loss_function': 'Logloss',\n",
    "    'random_state': 100,\n",
    "    'l2_leaf_reg': 1,\n",
    "    'task_type': 'GPU' # если имеется GPU с CUDA, то можно ее задействовать, чтобы на порядок ускорить обучение\n",
    "}\n",
    "\n",
    "\n",
    "for fold_, (train_idx, val_idx) in enumerate(cv.split(merged_train_data, targets), 1):\n",
    "    print(f'Началось обучение на фолде номер:= {fold_}.')\n",
    "    model = CatBoostClassifier(**tree_params)    \n",
    "    \n",
    "    train, val = merged_train_data.iloc[train_idx], merged_train_data.iloc[val_idx]\n",
    "    \n",
    "    train_pool = Pool(train[features], train.flag.values)\n",
    "    val_pool = Pool(val[features], val.flag.values)\n",
    "    \n",
    "\n",
    "    model.fit(train_pool, eval_set=[val_pool], early_stopping_rounds=100, verbose_eval=50, use_best_model=True, plot=False)\n",
    "    \n",
    "    oof[val_idx] = model.predict_proba(val_pool)[:, 1]\n",
    "    \n",
    "    train_preds[train_idx] += model.predict_proba(train_pool)[:, 1] / (cv.n_splits-1)\n",
    "    models.append(model)\n",
    "    \n",
    "    file_name_model = f'model_CatBoost/model_{name_model}_{fold_}'\n",
    "    model.save_model(PATH_TO_WORKDIR + file_name_model)\n",
    "    print(f'Обучение на фолде номер:= {fold_} завершилось.')"
   ]
  },
  {
   "cell_type": "code",
   "execution_count": 11,
   "metadata": {
    "execution": {
     "iopub.execute_input": "2021-04-30T07:14:45.994542Z",
     "iopub.status.busy": "2021-04-30T07:14:45.993232Z",
     "iopub.status.idle": "2021-04-30T07:14:46.001458Z",
     "shell.execute_reply": "2021-04-30T07:14:46.000670Z"
    },
    "papermill": {
     "duration": 0.075893,
     "end_time": "2021-04-30T07:14:46.001706",
     "exception": false,
     "start_time": "2021-04-30T07:14:45.925813",
     "status": "completed"
    },
    "tags": []
   },
   "outputs": [],
   "source": [
    "file_name_pickle = f'model_CatBoost/feats_model{name_model}.pickle'\n",
    "with open(PATH_TO_WORKDIR + file_name_pickle, 'wb') as f:\n",
    "    pickle.dump(features, f)"
   ]
  },
  {
   "cell_type": "code",
   "execution_count": 12,
   "metadata": {
    "execution": {
     "iopub.execute_input": "2021-04-30T07:14:46.112970Z",
     "iopub.status.busy": "2021-04-30T07:14:46.111603Z",
     "iopub.status.idle": "2021-04-30T07:14:46.433193Z",
     "shell.execute_reply": "2021-04-30T07:14:46.433752Z"
    },
    "papermill": {
     "duration": 0.378118,
     "end_time": "2021-04-30T07:14:46.433964",
     "exception": false,
     "start_time": "2021-04-30T07:14:46.055846",
     "status": "completed"
    },
    "tags": []
   },
   "outputs": [
    {
     "data": {
      "text/plain": [
       "('Train roc-auc model CatBoost', 0.7759388373262527)"
      ]
     },
     "execution_count": 12,
     "metadata": {},
     "output_type": "execute_result"
    }
   ],
   "source": [
    "'Train roc-auc model CatBoost', roc_auc_score(targets, train_preds)"
   ]
  },
  {
   "cell_type": "code",
   "execution_count": 13,
   "metadata": {
    "execution": {
     "iopub.execute_input": "2021-04-30T07:14:46.543059Z",
     "iopub.status.busy": "2021-04-30T07:14:46.541957Z",
     "iopub.status.idle": "2021-04-30T07:14:46.848722Z",
     "shell.execute_reply": "2021-04-30T07:14:46.849367Z"
    },
    "papermill": {
     "duration": 0.364687,
     "end_time": "2021-04-30T07:14:46.849541",
     "exception": false,
     "start_time": "2021-04-30T07:14:46.484854",
     "status": "completed"
    },
    "tags": []
   },
   "outputs": [
    {
     "data": {
      "text/plain": [
       "('CV roc-auc  model CatBoost', 0.7643527553015116)"
      ]
     },
     "execution_count": 13,
     "metadata": {},
     "output_type": "execute_result"
    }
   ],
   "source": [
    "'CV roc-auc  model CatBoost', roc_auc_score(targets, oof)"
   ]
  },
  {
   "cell_type": "code",
   "execution_count": 14,
   "metadata": {
    "execution": {
     "iopub.execute_input": "2021-04-30T07:14:46.968732Z",
     "iopub.status.busy": "2021-04-30T07:14:46.967551Z",
     "iopub.status.idle": "2021-04-30T07:14:54.248298Z",
     "shell.execute_reply": "2021-04-30T07:14:54.247704Z"
    },
    "papermill": {
     "duration": 7.347559,
     "end_time": "2021-04-30T07:14:54.248468",
     "exception": false,
     "start_time": "2021-04-30T07:14:46.900909",
     "status": "completed"
    },
    "tags": []
   },
   "outputs": [
    {
     "data": {
      "application/vnd.jupyter.widget-view+json": {
       "model_id": "931be9d8826d4d5d844745e472d94a1f",
       "version_major": 2,
       "version_minor": 0
      },
      "text/plain": [
       "  0%|          | 0/5 [00:00<?, ?it/s]"
      ]
     },
     "metadata": {},
     "output_type": "display_data"
    }
   ],
   "source": [
    "score = np.zeros(len(merged_test_data))\n",
    "\n",
    "test_pool = Pool(merged_test_data[features])\n",
    "\n",
    "for model in tqdm.tqdm_notebook(models):\n",
    "    score += model.predict_proba(test_pool)[:, 1] / len(models)\n",
    "    \n",
    "submission = pd.DataFrame({\n",
    "    'app_id' : merged_test_data.app_id.values,\n",
    "    'score': score\n",
    "}) \n",
    "submission.to_csv(PATH_TO_WORKDIR + f'sub_model{name_model}.csv', index=None) # ~ 0.732 на public test"
   ]
  }
 ],
 "metadata": {
  "kernelspec": {
   "display_name": "Python 3",
   "language": "python",
   "name": "python3"
  },
  "language_info": {
   "codemirror_mode": {
    "name": "ipython",
    "version": 3
   },
   "file_extension": ".py",
   "mimetype": "text/x-python",
   "name": "python",
   "nbconvert_exporter": "python",
   "pygments_lexer": "ipython3",
   "version": "3.7.9"
  },
  "papermill": {
   "default_parameters": {},
   "duration": 290.99392,
   "end_time": "2021-04-30T07:14:55.950803",
   "environment_variables": {},
   "exception": null,
   "input_path": "__notebook__.ipynb",
   "output_path": "__notebook__.ipynb",
   "parameters": {},
   "start_time": "2021-04-30T07:10:04.956883",
   "version": "2.2.2"
  },
  "widgets": {
   "application/vnd.jupyter.widget-state+json": {
    "state": {
     "05c80ea6d19f4e3d8f19bbe0663f0a9e": {
      "model_module": "@jupyter-widgets/controls",
      "model_module_version": "1.5.0",
      "model_name": "HTMLModel",
      "state": {
       "_dom_classes": [],
       "_model_module": "@jupyter-widgets/controls",
       "_model_module_version": "1.5.0",
       "_model_name": "HTMLModel",
       "_view_count": null,
       "_view_module": "@jupyter-widgets/controls",
       "_view_module_version": "1.5.0",
       "_view_name": "HTMLView",
       "description": "",
       "description_tooltip": null,
       "layout": "IPY_MODEL_a5e5ed775b494ab3a0e30d73bf3b52ab",
       "placeholder": "​",
       "style": "IPY_MODEL_5bf6f2aa5af74a2abfc48aaa55dc4a83",
       "value": "100%"
      }
     },
     "12650c6d53e04469bc622669b0b67876": {
      "model_module": "@jupyter-widgets/base",
      "model_module_version": "1.2.0",
      "model_name": "LayoutModel",
      "state": {
       "_model_module": "@jupyter-widgets/base",
       "_model_module_version": "1.2.0",
       "_model_name": "LayoutModel",
       "_view_count": null,
       "_view_module": "@jupyter-widgets/base",
       "_view_module_version": "1.2.0",
       "_view_name": "LayoutView",
       "align_content": null,
       "align_items": null,
       "align_self": null,
       "border": null,
       "bottom": null,
       "display": null,
       "flex": null,
       "flex_flow": null,
       "grid_area": null,
       "grid_auto_columns": null,
       "grid_auto_flow": null,
       "grid_auto_rows": null,
       "grid_column": null,
       "grid_gap": null,
       "grid_row": null,
       "grid_template_areas": null,
       "grid_template_columns": null,
       "grid_template_rows": null,
       "height": null,
       "justify_content": null,
       "justify_items": null,
       "left": null,
       "margin": null,
       "max_height": null,
       "max_width": null,
       "min_height": null,
       "min_width": null,
       "object_fit": null,
       "object_position": null,
       "order": null,
       "overflow": null,
       "overflow_x": null,
       "overflow_y": null,
       "padding": null,
       "right": null,
       "top": null,
       "visibility": null,
       "width": null
      }
     },
     "488aa25d984b429c861593a4970acbb2": {
      "model_module": "@jupyter-widgets/controls",
      "model_module_version": "1.5.0",
      "model_name": "HTMLModel",
      "state": {
       "_dom_classes": [],
       "_model_module": "@jupyter-widgets/controls",
       "_model_module_version": "1.5.0",
       "_model_name": "HTMLModel",
       "_view_count": null,
       "_view_module": "@jupyter-widgets/controls",
       "_view_module_version": "1.5.0",
       "_view_name": "HTMLView",
       "description": "",
       "description_tooltip": null,
       "layout": "IPY_MODEL_eaf16c0c2ca64f8a8ce00c4717b757d0",
       "placeholder": "​",
       "style": "IPY_MODEL_de52901aace54e5c82ea2a9b94ab6fe2",
       "value": " 5/5 [00:04&lt;00:00,  1.03it/s]"
      }
     },
     "5bf6f2aa5af74a2abfc48aaa55dc4a83": {
      "model_module": "@jupyter-widgets/controls",
      "model_module_version": "1.5.0",
      "model_name": "DescriptionStyleModel",
      "state": {
       "_model_module": "@jupyter-widgets/controls",
       "_model_module_version": "1.5.0",
       "_model_name": "DescriptionStyleModel",
       "_view_count": null,
       "_view_module": "@jupyter-widgets/base",
       "_view_module_version": "1.2.0",
       "_view_name": "StyleView",
       "description_width": ""
      }
     },
     "5dbd8b7d9e6743059c280536f13a30b5": {
      "model_module": "@jupyter-widgets/base",
      "model_module_version": "1.2.0",
      "model_name": "LayoutModel",
      "state": {
       "_model_module": "@jupyter-widgets/base",
       "_model_module_version": "1.2.0",
       "_model_name": "LayoutModel",
       "_view_count": null,
       "_view_module": "@jupyter-widgets/base",
       "_view_module_version": "1.2.0",
       "_view_name": "LayoutView",
       "align_content": null,
       "align_items": null,
       "align_self": null,
       "border": null,
       "bottom": null,
       "display": null,
       "flex": null,
       "flex_flow": null,
       "grid_area": null,
       "grid_auto_columns": null,
       "grid_auto_flow": null,
       "grid_auto_rows": null,
       "grid_column": null,
       "grid_gap": null,
       "grid_row": null,
       "grid_template_areas": null,
       "grid_template_columns": null,
       "grid_template_rows": null,
       "height": null,
       "justify_content": null,
       "justify_items": null,
       "left": null,
       "margin": null,
       "max_height": null,
       "max_width": null,
       "min_height": null,
       "min_width": null,
       "object_fit": null,
       "object_position": null,
       "order": null,
       "overflow": null,
       "overflow_x": null,
       "overflow_y": null,
       "padding": null,
       "right": null,
       "top": null,
       "visibility": null,
       "width": null
      }
     },
     "6d61711d1d4e4a53b170f21e27292cb0": {
      "model_module": "@jupyter-widgets/controls",
      "model_module_version": "1.5.0",
      "model_name": "ProgressStyleModel",
      "state": {
       "_model_module": "@jupyter-widgets/controls",
       "_model_module_version": "1.5.0",
       "_model_name": "ProgressStyleModel",
       "_view_count": null,
       "_view_module": "@jupyter-widgets/base",
       "_view_module_version": "1.2.0",
       "_view_name": "StyleView",
       "bar_color": null,
       "description_width": ""
      }
     },
     "931be9d8826d4d5d844745e472d94a1f": {
      "model_module": "@jupyter-widgets/controls",
      "model_module_version": "1.5.0",
      "model_name": "HBoxModel",
      "state": {
       "_dom_classes": [],
       "_model_module": "@jupyter-widgets/controls",
       "_model_module_version": "1.5.0",
       "_model_name": "HBoxModel",
       "_view_count": null,
       "_view_module": "@jupyter-widgets/controls",
       "_view_module_version": "1.5.0",
       "_view_name": "HBoxView",
       "box_style": "",
       "children": [
        "IPY_MODEL_05c80ea6d19f4e3d8f19bbe0663f0a9e",
        "IPY_MODEL_d8988cbc0c8f40268930c0156105cb30",
        "IPY_MODEL_488aa25d984b429c861593a4970acbb2"
       ],
       "layout": "IPY_MODEL_12650c6d53e04469bc622669b0b67876"
      }
     },
     "a5e5ed775b494ab3a0e30d73bf3b52ab": {
      "model_module": "@jupyter-widgets/base",
      "model_module_version": "1.2.0",
      "model_name": "LayoutModel",
      "state": {
       "_model_module": "@jupyter-widgets/base",
       "_model_module_version": "1.2.0",
       "_model_name": "LayoutModel",
       "_view_count": null,
       "_view_module": "@jupyter-widgets/base",
       "_view_module_version": "1.2.0",
       "_view_name": "LayoutView",
       "align_content": null,
       "align_items": null,
       "align_self": null,
       "border": null,
       "bottom": null,
       "display": null,
       "flex": null,
       "flex_flow": null,
       "grid_area": null,
       "grid_auto_columns": null,
       "grid_auto_flow": null,
       "grid_auto_rows": null,
       "grid_column": null,
       "grid_gap": null,
       "grid_row": null,
       "grid_template_areas": null,
       "grid_template_columns": null,
       "grid_template_rows": null,
       "height": null,
       "justify_content": null,
       "justify_items": null,
       "left": null,
       "margin": null,
       "max_height": null,
       "max_width": null,
       "min_height": null,
       "min_width": null,
       "object_fit": null,
       "object_position": null,
       "order": null,
       "overflow": null,
       "overflow_x": null,
       "overflow_y": null,
       "padding": null,
       "right": null,
       "top": null,
       "visibility": null,
       "width": null
      }
     },
     "d8988cbc0c8f40268930c0156105cb30": {
      "model_module": "@jupyter-widgets/controls",
      "model_module_version": "1.5.0",
      "model_name": "FloatProgressModel",
      "state": {
       "_dom_classes": [],
       "_model_module": "@jupyter-widgets/controls",
       "_model_module_version": "1.5.0",
       "_model_name": "FloatProgressModel",
       "_view_count": null,
       "_view_module": "@jupyter-widgets/controls",
       "_view_module_version": "1.5.0",
       "_view_name": "ProgressView",
       "bar_style": "success",
       "description": "",
       "description_tooltip": null,
       "layout": "IPY_MODEL_5dbd8b7d9e6743059c280536f13a30b5",
       "max": 5.0,
       "min": 0.0,
       "orientation": "horizontal",
       "style": "IPY_MODEL_6d61711d1d4e4a53b170f21e27292cb0",
       "value": 5.0
      }
     },
     "de52901aace54e5c82ea2a9b94ab6fe2": {
      "model_module": "@jupyter-widgets/controls",
      "model_module_version": "1.5.0",
      "model_name": "DescriptionStyleModel",
      "state": {
       "_model_module": "@jupyter-widgets/controls",
       "_model_module_version": "1.5.0",
       "_model_name": "DescriptionStyleModel",
       "_view_count": null,
       "_view_module": "@jupyter-widgets/base",
       "_view_module_version": "1.2.0",
       "_view_name": "StyleView",
       "description_width": ""
      }
     },
     "eaf16c0c2ca64f8a8ce00c4717b757d0": {
      "model_module": "@jupyter-widgets/base",
      "model_module_version": "1.2.0",
      "model_name": "LayoutModel",
      "state": {
       "_model_module": "@jupyter-widgets/base",
       "_model_module_version": "1.2.0",
       "_model_name": "LayoutModel",
       "_view_count": null,
       "_view_module": "@jupyter-widgets/base",
       "_view_module_version": "1.2.0",
       "_view_name": "LayoutView",
       "align_content": null,
       "align_items": null,
       "align_self": null,
       "border": null,
       "bottom": null,
       "display": null,
       "flex": null,
       "flex_flow": null,
       "grid_area": null,
       "grid_auto_columns": null,
       "grid_auto_flow": null,
       "grid_auto_rows": null,
       "grid_column": null,
       "grid_gap": null,
       "grid_row": null,
       "grid_template_areas": null,
       "grid_template_columns": null,
       "grid_template_rows": null,
       "height": null,
       "justify_content": null,
       "justify_items": null,
       "left": null,
       "margin": null,
       "max_height": null,
       "max_width": null,
       "min_height": null,
       "min_width": null,
       "object_fit": null,
       "object_position": null,
       "order": null,
       "overflow": null,
       "overflow_x": null,
       "overflow_y": null,
       "padding": null,
       "right": null,
       "top": null,
       "visibility": null,
       "width": null
      }
     }
    },
    "version_major": 2,
    "version_minor": 0
   }
  }
 },
 "nbformat": 4,
 "nbformat_minor": 4
}
