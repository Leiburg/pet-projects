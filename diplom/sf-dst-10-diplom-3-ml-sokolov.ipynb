{
 "cells": [
  {
   "cell_type": "markdown",
   "metadata": {
    "papermill": {
     "duration": 0.010653,
     "end_time": "2021-04-25T09:33:01.064588",
     "exception": false,
     "start_time": "2021-04-25T09:33:01.053935",
     "status": "completed"
    },
    "tags": []
   },
   "source": [
    "### Дипломная работа Александра Соколова\n",
    "\n",
    "#### Градиентный бустинг (CatBoost + GPU)\n",
    "Кернел 3 из 3 в разделе ML (отредактирован 21.04.2021)\n",
    "---\n",
    "\n",
    "# 1. Импорт библиотек, инициализация глобальных констант\n",
    "## 1.1. Импорт библиотек"
   ]
  },
  {
   "cell_type": "code",
   "execution_count": 1,
   "metadata": {
    "execution": {
     "iopub.execute_input": "2021-04-25T09:33:01.089196Z",
     "iopub.status.busy": "2021-04-25T09:33:01.088520Z",
     "iopub.status.idle": "2021-04-25T09:33:02.110406Z",
     "shell.execute_reply": "2021-04-25T09:33:02.109292Z"
    },
    "papermill": {
     "duration": 1.036533,
     "end_time": "2021-04-25T09:33:02.110612",
     "exception": false,
     "start_time": "2021-04-25T09:33:01.074079",
     "status": "completed"
    },
    "tags": []
   },
   "outputs": [],
   "source": [
    "import pandas as pd\n",
    "import numpy as np\n",
    "import os\n",
    "import tqdm\n",
    "import pickle\n",
    "\n",
    "\n",
    "from sklearn.model_selection import train_test_split, KFold\n",
    "from sklearn.metrics import roc_auc_score\n",
    "\n",
    "from catboost import CatBoostClassifier, Pool\n",
    "os.environ[\"CUDA_VISIBLE_DEVICES\"] = '0'\n",
    "\n",
    "np.warnings.filterwarnings('ignore')"
   ]
  },
  {
   "cell_type": "markdown",
   "metadata": {
    "papermill": {
     "duration": 0.009208,
     "end_time": "2021-04-25T09:33:02.129721",
     "exception": false,
     "start_time": "2021-04-25T09:33:02.120513",
     "status": "completed"
    },
    "tags": []
   },
   "source": [
    "## 1.2. Глобальные константы"
   ]
  },
  {
   "cell_type": "code",
   "execution_count": 2,
   "metadata": {
    "execution": {
     "iopub.execute_input": "2021-04-25T09:33:02.152532Z",
     "iopub.status.busy": "2021-04-25T09:33:02.151806Z",
     "iopub.status.idle": "2021-04-25T09:33:02.154855Z",
     "shell.execute_reply": "2021-04-25T09:33:02.154436Z"
    },
    "papermill": {
     "duration": 0.015893,
     "end_time": "2021-04-25T09:33:02.154957",
     "exception": false,
     "start_time": "2021-04-25T09:33:02.139064",
     "status": "completed"
    },
    "tags": []
   },
   "outputs": [],
   "source": [
    "# CURRENT_DIR = './'  # имя текущей директории для локальной машины \n",
    "CURRENT_DIR = '../'  # имя текущей директории для каггл\n",
    "\n",
    "PATH_TO_WORKDIR = CURRENT_DIR + 'working/'"
   ]
  },
  {
   "cell_type": "code",
   "execution_count": 3,
   "metadata": {
    "execution": {
     "iopub.execute_input": "2021-04-25T09:33:02.186617Z",
     "iopub.status.busy": "2021-04-25T09:33:02.177264Z",
     "iopub.status.idle": "2021-04-25T09:33:04.030684Z",
     "shell.execute_reply": "2021-04-25T09:33:04.030191Z"
    },
    "papermill": {
     "duration": 1.866387,
     "end_time": "2021-04-25T09:33:04.030816",
     "exception": false,
     "start_time": "2021-04-25T09:33:02.164429",
     "status": "completed"
    },
    "tags": []
   },
   "outputs": [],
   "source": [
    "!pip freeze > requirements.txt"
   ]
  },
  {
   "cell_type": "markdown",
   "metadata": {
    "papermill": {
     "duration": 0.009829,
     "end_time": "2021-04-25T09:33:04.051059",
     "exception": false,
     "start_time": "2021-04-25T09:33:04.041230",
     "status": "completed"
    },
    "tags": []
   },
   "source": [
    "## 1.3. Проверка подключения и параметров GPU"
   ]
  },
  {
   "cell_type": "code",
   "execution_count": 4,
   "metadata": {
    "execution": {
     "iopub.execute_input": "2021-04-25T09:33:04.076353Z",
     "iopub.status.busy": "2021-04-25T09:33:04.075597Z",
     "iopub.status.idle": "2021-04-25T09:33:05.331625Z",
     "shell.execute_reply": "2021-04-25T09:33:05.331081Z"
    },
    "papermill": {
     "duration": 1.270511,
     "end_time": "2021-04-25T09:33:05.331765",
     "exception": false,
     "start_time": "2021-04-25T09:33:04.061254",
     "status": "completed"
    },
    "tags": []
   },
   "outputs": [
    {
     "name": "stdout",
     "output_type": "stream",
     "text": [
      "Sun Apr 25 09:33:04 2021       \r\n",
      "+-----------------------------------------------------------------------------+\r\n",
      "| NVIDIA-SMI 450.51.06    Driver Version: 450.51.06    CUDA Version: 11.0     |\r\n",
      "|-------------------------------+----------------------+----------------------+\r\n",
      "| GPU  Name        Persistence-M| Bus-Id        Disp.A | Volatile Uncorr. ECC |\r\n",
      "| Fan  Temp  Perf  Pwr:Usage/Cap|         Memory-Usage | GPU-Util  Compute M. |\r\n",
      "|                               |                      |               MIG M. |\r\n",
      "|===============================+======================+======================|\r\n",
      "|   0  Tesla P100-PCIE...  Off  | 00000000:00:04.0 Off |                    0 |\r\n",
      "| N/A   42C    P0    29W / 250W |      0MiB / 16280MiB |      4%      Default |\r\n",
      "|                               |                      |                  N/A |\r\n",
      "+-------------------------------+----------------------+----------------------+\r\n",
      "                                                                               \r\n",
      "+-----------------------------------------------------------------------------+\r\n",
      "| Processes:                                                                  |\r\n",
      "|  GPU   GI   CI        PID   Type   Process name                  GPU Memory |\r\n",
      "|        ID   ID                                                   Usage      |\r\n",
      "|=============================================================================|\r\n",
      "|  No running processes found                                                 |\r\n",
      "+-----------------------------------------------------------------------------+\r\n"
     ]
    }
   ],
   "source": [
    "!nvidia-smi"
   ]
  },
  {
   "cell_type": "markdown",
   "metadata": {
    "papermill": {
     "duration": 0.010211,
     "end_time": "2021-04-25T09:33:05.352722",
     "exception": false,
     "start_time": "2021-04-25T09:33:05.342511",
     "status": "completed"
    },
    "tags": []
   },
   "source": [
    "# 2. Импорт предобработанных данных\n",
    "---\n",
    "предобработка осуществлялась в [первом кернеле](https://www.kaggle.com/sokolovaleks/sf-dst-10-diplom-1-ml-sokolov)"
   ]
  },
  {
   "cell_type": "code",
   "execution_count": 5,
   "metadata": {
    "execution": {
     "iopub.execute_input": "2021-04-25T09:33:05.388998Z",
     "iopub.status.busy": "2021-04-25T09:33:05.388492Z",
     "iopub.status.idle": "2021-04-25T09:33:44.662291Z",
     "shell.execute_reply": "2021-04-25T09:33:44.661227Z"
    },
    "papermill": {
     "duration": 39.299667,
     "end_time": "2021-04-25T09:33:44.662446",
     "exception": false,
     "start_time": "2021-04-25T09:33:05.362779",
     "status": "completed"
    },
    "tags": []
   },
   "outputs": [],
   "source": [
    "merged_train_data = pd.read_csv('../input/alfabattle2-sandbox/preproc_data_for_boosting/preproc_data_for_boosting/merged_data.csv')\n",
    "merged_test_data = pd.read_csv('../input/alfabattle2-sandbox/preproc_data_for_boosting/preproc_data_for_boosting/merged_test_data.csv')"
   ]
  },
  {
   "cell_type": "code",
   "execution_count": 6,
   "metadata": {
    "execution": {
     "iopub.execute_input": "2021-04-25T09:33:44.689039Z",
     "iopub.status.busy": "2021-04-25T09:33:44.687379Z",
     "iopub.status.idle": "2021-04-25T09:33:44.689656Z",
     "shell.execute_reply": "2021-04-25T09:33:44.690043Z"
    },
    "papermill": {
     "duration": 0.01713,
     "end_time": "2021-04-25T09:33:44.690182",
     "exception": false,
     "start_time": "2021-04-25T09:33:44.673052",
     "status": "completed"
    },
    "tags": []
   },
   "outputs": [],
   "source": [
    "features = [x for x in merged_train_data.columns if x not in ['app_id', 'flag']]"
   ]
  },
  {
   "cell_type": "markdown",
   "metadata": {
    "papermill": {
     "duration": 0.010259,
     "end_time": "2021-04-25T09:33:44.711954",
     "exception": false,
     "start_time": "2021-04-25T09:33:44.701695",
     "status": "completed"
    },
    "tags": []
   },
   "source": [
    "# 3. Разбиваем тренировочную выборку\n",
    "---\n",
    "Важно выделять валидационную выборку, чтобы контролировать обучение и не переобучаться. "
   ]
  },
  {
   "cell_type": "code",
   "execution_count": 7,
   "metadata": {
    "execution": {
     "iopub.execute_input": "2021-04-25T09:33:44.742314Z",
     "iopub.status.busy": "2021-04-25T09:33:44.741191Z",
     "iopub.status.idle": "2021-04-25T09:33:44.743978Z",
     "shell.execute_reply": "2021-04-25T09:33:44.743586Z"
    },
    "papermill": {
     "duration": 0.021833,
     "end_time": "2021-04-25T09:33:44.744083",
     "exception": false,
     "start_time": "2021-04-25T09:33:44.722250",
     "status": "completed"
    },
    "tags": []
   },
   "outputs": [],
   "source": [
    "targets = merged_train_data.flag.values\n",
    "\n",
    "cv = KFold(n_splits=5, random_state=100, shuffle=True)"
   ]
  },
  {
   "cell_type": "markdown",
   "metadata": {
    "papermill": {
     "duration": 0.010081,
     "end_time": "2021-04-25T09:33:44.764369",
     "exception": false,
     "start_time": "2021-04-25T09:33:44.754288",
     "status": "completed"
    },
    "tags": []
   },
   "source": [
    "# 4. CatBoost + CV"
   ]
  },
  {
   "cell_type": "code",
   "execution_count": 8,
   "metadata": {
    "execution": {
     "iopub.execute_input": "2021-04-25T09:33:44.789874Z",
     "iopub.status.busy": "2021-04-25T09:33:44.788304Z",
     "iopub.status.idle": "2021-04-25T09:33:44.790553Z",
     "shell.execute_reply": "2021-04-25T09:33:44.790948Z"
    },
    "papermill": {
     "duration": 0.016341,
     "end_time": "2021-04-25T09:33:44.791060",
     "exception": false,
     "start_time": "2021-04-25T09:33:44.774719",
     "status": "completed"
    },
    "tags": []
   },
   "outputs": [],
   "source": [
    "name_model = 'CatBoost'"
   ]
  },
  {
   "cell_type": "code",
   "execution_count": 9,
   "metadata": {
    "execution": {
     "iopub.execute_input": "2021-04-25T09:33:44.827942Z",
     "iopub.status.busy": "2021-04-25T09:33:44.814987Z",
     "iopub.status.idle": "2021-04-25T09:33:45.461639Z",
     "shell.execute_reply": "2021-04-25T09:33:45.461098Z"
    },
    "papermill": {
     "duration": 0.660339,
     "end_time": "2021-04-25T09:33:45.461765",
     "exception": false,
     "start_time": "2021-04-25T09:33:44.801426",
     "status": "completed"
    },
    "tags": []
   },
   "outputs": [],
   "source": [
    "!mkdir model_CatBoost"
   ]
  },
  {
   "cell_type": "code",
   "execution_count": 10,
   "metadata": {
    "execution": {
     "iopub.execute_input": "2021-04-25T09:33:45.492399Z",
     "iopub.status.busy": "2021-04-25T09:33:45.491548Z",
     "iopub.status.idle": "2021-04-25T09:36:57.903821Z",
     "shell.execute_reply": "2021-04-25T09:36:57.903362Z"
    },
    "papermill": {
     "duration": 192.430768,
     "end_time": "2021-04-25T09:36:57.903963",
     "exception": false,
     "start_time": "2021-04-25T09:33:45.473195",
     "status": "completed"
    },
    "tags": []
   },
   "outputs": [
    {
     "name": "stdout",
     "output_type": "stream",
     "text": [
      "Началось обучение на фолде номер:= 1.\n",
      "0:\tlearn: 0.6291874\ttest: 0.6279340\tbest: 0.6279340 (0)\ttotal: 29.9ms\tremaining: 29.9s\n",
      "50:\tlearn: 0.7392560\ttest: 0.7347879\tbest: 0.7347879 (50)\ttotal: 1.05s\tremaining: 19.5s\n",
      "100:\tlearn: 0.7459516\ttest: 0.7409839\tbest: 0.7409839 (100)\ttotal: 2.02s\tremaining: 18s\n",
      "150:\tlearn: 0.7513665\ttest: 0.7451563\tbest: 0.7451673 (148)\ttotal: 3.25s\tremaining: 18.3s\n",
      "200:\tlearn: 0.7551630\ttest: 0.7483242\tbest: 0.7483242 (200)\ttotal: 4.27s\tremaining: 17s\n",
      "250:\tlearn: 0.7582741\ttest: 0.7507608\tbest: 0.7507608 (250)\ttotal: 5.21s\tremaining: 15.5s\n",
      "300:\tlearn: 0.7607835\ttest: 0.7527472\tbest: 0.7527472 (300)\ttotal: 6.15s\tremaining: 14.3s\n",
      "350:\tlearn: 0.7623904\ttest: 0.7539084\tbest: 0.7539084 (350)\ttotal: 7.09s\tremaining: 13.1s\n",
      "400:\tlearn: 0.7640339\ttest: 0.7551016\tbest: 0.7551016 (400)\ttotal: 8.03s\tremaining: 12s\n",
      "450:\tlearn: 0.7655552\ttest: 0.7561393\tbest: 0.7561393 (450)\ttotal: 8.95s\tremaining: 10.9s\n",
      "500:\tlearn: 0.7668004\ttest: 0.7568985\tbest: 0.7568985 (500)\ttotal: 9.88s\tremaining: 9.85s\n",
      "550:\tlearn: 0.7679367\ttest: 0.7575563\tbest: 0.7575563 (550)\ttotal: 10.8s\tremaining: 8.83s\n",
      "600:\tlearn: 0.7689474\ttest: 0.7581735\tbest: 0.7581748 (598)\ttotal: 11.8s\tremaining: 7.81s\n",
      "650:\tlearn: 0.7698215\ttest: 0.7587081\tbest: 0.7587142 (649)\ttotal: 12.7s\tremaining: 6.79s\n",
      "700:\tlearn: 0.7707932\ttest: 0.7592625\tbest: 0.7592625 (700)\ttotal: 13.6s\tremaining: 5.82s\n",
      "750:\tlearn: 0.7716998\ttest: 0.7597675\tbest: 0.7597701 (748)\ttotal: 14.8s\tremaining: 4.92s\n",
      "800:\tlearn: 0.7726361\ttest: 0.7602417\tbest: 0.7602532 (799)\ttotal: 15.8s\tremaining: 3.91s\n",
      "850:\tlearn: 0.7734925\ttest: 0.7607660\tbest: 0.7607660 (850)\ttotal: 16.7s\tremaining: 2.92s\n",
      "900:\tlearn: 0.7742188\ttest: 0.7611567\tbest: 0.7611567 (900)\ttotal: 18s\tremaining: 1.98s\n",
      "950:\tlearn: 0.7749588\ttest: 0.7614881\tbest: 0.7614881 (950)\ttotal: 19.1s\tremaining: 984ms\n",
      "999:\tlearn: 0.7757085\ttest: 0.7618424\tbest: 0.7618424 (999)\ttotal: 20s\tremaining: 0us\n",
      "bestTest = 0.76184237\n",
      "bestIteration = 999\n",
      "Обучение на фолде номер:= 1 завершилось.\n",
      "Началось обучение на фолде номер:= 2.\n",
      "0:\tlearn: 0.6304988\ttest: 0.6254514\tbest: 0.6254514 (0)\ttotal: 20.1ms\tremaining: 20.1s\n",
      "50:\tlearn: 0.7394852\ttest: 0.7361531\tbest: 0.7361531 (50)\ttotal: 998ms\tremaining: 18.6s\n",
      "100:\tlearn: 0.7461765\ttest: 0.7434107\tbest: 0.7434107 (100)\ttotal: 1.96s\tremaining: 17.5s\n",
      "150:\tlearn: 0.7510647\ttest: 0.7475453\tbest: 0.7475453 (150)\ttotal: 2.92s\tremaining: 16.4s\n",
      "200:\tlearn: 0.7549235\ttest: 0.7507187\tbest: 0.7507187 (200)\ttotal: 3.86s\tremaining: 15.4s\n",
      "250:\tlearn: 0.7580439\ttest: 0.7533197\tbest: 0.7533197 (250)\ttotal: 4.85s\tremaining: 14.5s\n",
      "300:\tlearn: 0.7604748\ttest: 0.7549827\tbest: 0.7549827 (300)\ttotal: 5.83s\tremaining: 13.5s\n",
      "350:\tlearn: 0.7623553\ttest: 0.7563904\tbest: 0.7563904 (350)\ttotal: 6.78s\tremaining: 12.5s\n",
      "400:\tlearn: 0.7639740\ttest: 0.7573622\tbest: 0.7573622 (400)\ttotal: 7.76s\tremaining: 11.6s\n",
      "450:\tlearn: 0.7653333\ttest: 0.7582952\tbest: 0.7582952 (450)\ttotal: 8.71s\tremaining: 10.6s\n",
      "500:\tlearn: 0.7665558\ttest: 0.7590143\tbest: 0.7590143 (500)\ttotal: 9.65s\tremaining: 9.61s\n",
      "550:\tlearn: 0.7677649\ttest: 0.7597200\tbest: 0.7597200 (550)\ttotal: 10.9s\tremaining: 8.88s\n",
      "600:\tlearn: 0.7688562\ttest: 0.7603337\tbest: 0.7603337 (600)\ttotal: 11.8s\tremaining: 7.84s\n",
      "650:\tlearn: 0.7698432\ttest: 0.7608583\tbest: 0.7608583 (650)\ttotal: 12.7s\tremaining: 6.83s\n",
      "700:\tlearn: 0.7707604\ttest: 0.7613922\tbest: 0.7613922 (700)\ttotal: 13.7s\tremaining: 5.83s\n",
      "750:\tlearn: 0.7716966\ttest: 0.7618974\tbest: 0.7618974 (750)\ttotal: 14.6s\tremaining: 4.84s\n",
      "800:\tlearn: 0.7726348\ttest: 0.7623584\tbest: 0.7623584 (800)\ttotal: 15.6s\tremaining: 3.86s\n",
      "850:\tlearn: 0.7735698\ttest: 0.7628261\tbest: 0.7628261 (850)\ttotal: 16.5s\tremaining: 2.89s\n",
      "900:\tlearn: 0.7742834\ttest: 0.7631726\tbest: 0.7631726 (900)\ttotal: 17.4s\tremaining: 1.91s\n",
      "950:\tlearn: 0.7750800\ttest: 0.7635535\tbest: 0.7635535 (950)\ttotal: 18.4s\tremaining: 946ms\n",
      "999:\tlearn: 0.7759059\ttest: 0.7639617\tbest: 0.7639617 (999)\ttotal: 19.3s\tremaining: 0us\n",
      "bestTest = 0.7639616728\n",
      "bestIteration = 999\n",
      "Обучение на фолде номер:= 2 завершилось.\n",
      "Началось обучение на фолде номер:= 3.\n",
      "0:\tlearn: 0.6325390\ttest: 0.6366109\tbest: 0.6366109 (0)\ttotal: 19.9ms\tremaining: 19.9s\n",
      "50:\tlearn: 0.7389141\ttest: 0.7399152\tbest: 0.7399152 (50)\ttotal: 981ms\tremaining: 18.2s\n",
      "100:\tlearn: 0.7455708\ttest: 0.7467065\tbest: 0.7468098 (98)\ttotal: 1.96s\tremaining: 17.4s\n",
      "150:\tlearn: 0.7498865\ttest: 0.7504577\tbest: 0.7504577 (150)\ttotal: 2.92s\tremaining: 16.4s\n",
      "200:\tlearn: 0.7533937\ttest: 0.7534139\tbest: 0.7534139 (200)\ttotal: 3.88s\tremaining: 15.4s\n",
      "250:\tlearn: 0.7567104\ttest: 0.7561644\tbest: 0.7561644 (250)\ttotal: 4.84s\tremaining: 14.5s\n",
      "300:\tlearn: 0.7591620\ttest: 0.7581638\tbest: 0.7581638 (300)\ttotal: 5.78s\tremaining: 13.4s\n",
      "350:\tlearn: 0.7610796\ttest: 0.7596343\tbest: 0.7596343 (350)\ttotal: 7.02s\tremaining: 13s\n",
      "400:\tlearn: 0.7627760\ttest: 0.7607538\tbest: 0.7607538 (400)\ttotal: 7.96s\tremaining: 11.9s\n",
      "450:\tlearn: 0.7641455\ttest: 0.7615914\tbest: 0.7615914 (450)\ttotal: 8.9s\tremaining: 10.8s\n",
      "500:\tlearn: 0.7654385\ttest: 0.7624534\tbest: 0.7624534 (500)\ttotal: 9.89s\tremaining: 9.85s\n",
      "550:\tlearn: 0.7665885\ttest: 0.7632108\tbest: 0.7632108 (550)\ttotal: 10.8s\tremaining: 8.83s\n",
      "600:\tlearn: 0.7675714\ttest: 0.7638806\tbest: 0.7638806 (600)\ttotal: 11.8s\tremaining: 7.82s\n",
      "650:\tlearn: 0.7686234\ttest: 0.7646708\tbest: 0.7646708 (650)\ttotal: 12.7s\tremaining: 6.82s\n",
      "700:\tlearn: 0.7695794\ttest: 0.7652198\tbest: 0.7652198 (700)\ttotal: 13.7s\tremaining: 5.82s\n",
      "750:\tlearn: 0.7704028\ttest: 0.7657159\tbest: 0.7657159 (750)\ttotal: 14.6s\tremaining: 4.83s\n",
      "800:\tlearn: 0.7712925\ttest: 0.7661161\tbest: 0.7661161 (800)\ttotal: 15.5s\tremaining: 3.85s\n",
      "850:\tlearn: 0.7720550\ttest: 0.7664338\tbest: 0.7664479 (847)\ttotal: 16.4s\tremaining: 2.88s\n",
      "900:\tlearn: 0.7728776\ttest: 0.7668737\tbest: 0.7668737 (899)\ttotal: 17.7s\tremaining: 1.94s\n",
      "950:\tlearn: 0.7735405\ttest: 0.7671932\tbest: 0.7671932 (950)\ttotal: 18.6s\tremaining: 959ms\n",
      "999:\tlearn: 0.7742852\ttest: 0.7675409\tbest: 0.7675409 (999)\ttotal: 19.5s\tremaining: 0us\n",
      "bestTest = 0.7675408721\n",
      "bestIteration = 999\n",
      "Обучение на фолде номер:= 3 завершилось.\n",
      "Началось обучение на фолде номер:= 4.\n",
      "0:\tlearn: 0.6318187\ttest: 0.6273021\tbest: 0.6273021 (0)\ttotal: 20.2ms\tremaining: 20.2s\n",
      "50:\tlearn: 0.7421083\ttest: 0.7340054\tbest: 0.7340054 (50)\ttotal: 1s\tremaining: 18.6s\n",
      "100:\tlearn: 0.7471961\ttest: 0.7393938\tbest: 0.7393938 (100)\ttotal: 1.98s\tremaining: 17.6s\n",
      "150:\tlearn: 0.7519721\ttest: 0.7441258\tbest: 0.7441258 (150)\ttotal: 3.06s\tremaining: 17.2s\n",
      "200:\tlearn: 0.7558366\ttest: 0.7477200\tbest: 0.7477200 (200)\ttotal: 4.23s\tremaining: 16.8s\n",
      "250:\tlearn: 0.7585145\ttest: 0.7498433\tbest: 0.7498433 (250)\ttotal: 5.19s\tremaining: 15.5s\n",
      "300:\tlearn: 0.7606248\ttest: 0.7514682\tbest: 0.7514682 (300)\ttotal: 6.21s\tremaining: 14.4s\n",
      "350:\tlearn: 0.7625953\ttest: 0.7528915\tbest: 0.7528915 (350)\ttotal: 7.61s\tremaining: 14.1s\n",
      "400:\tlearn: 0.7639644\ttest: 0.7538396\tbest: 0.7538396 (400)\ttotal: 8.55s\tremaining: 12.8s\n",
      "450:\tlearn: 0.7654993\ttest: 0.7550021\tbest: 0.7550021 (450)\ttotal: 9.49s\tremaining: 11.6s\n",
      "500:\tlearn: 0.7667466\ttest: 0.7558307\tbest: 0.7558307 (500)\ttotal: 10.4s\tremaining: 10.4s\n",
      "550:\tlearn: 0.7679557\ttest: 0.7566850\tbest: 0.7566850 (550)\ttotal: 11.4s\tremaining: 9.26s\n",
      "600:\tlearn: 0.7689993\ttest: 0.7574055\tbest: 0.7574056 (597)\ttotal: 12.3s\tremaining: 8.16s\n",
      "650:\tlearn: 0.7699591\ttest: 0.7579340\tbest: 0.7579340 (650)\ttotal: 13.2s\tremaining: 7.09s\n",
      "700:\tlearn: 0.7708688\ttest: 0.7586142\tbest: 0.7586142 (700)\ttotal: 14.5s\tremaining: 6.17s\n",
      "750:\tlearn: 0.7717645\ttest: 0.7591786\tbest: 0.7591786 (750)\ttotal: 15.5s\tremaining: 5.12s\n",
      "800:\tlearn: 0.7726693\ttest: 0.7597454\tbest: 0.7597454 (800)\ttotal: 16.4s\tremaining: 4.08s\n",
      "850:\tlearn: 0.7733986\ttest: 0.7601264\tbest: 0.7601264 (850)\ttotal: 17.3s\tremaining: 3.04s\n",
      "900:\tlearn: 0.7741782\ttest: 0.7605658\tbest: 0.7605658 (900)\ttotal: 18.3s\tremaining: 2.01s\n",
      "950:\tlearn: 0.7749462\ttest: 0.7609651\tbest: 0.7609651 (950)\ttotal: 19.2s\tremaining: 989ms\n",
      "999:\tlearn: 0.7755730\ttest: 0.7612213\tbest: 0.7612213 (999)\ttotal: 20.1s\tremaining: 0us\n",
      "bestTest = 0.7612212896\n",
      "bestIteration = 999\n",
      "Обучение на фолде номер:= 4 завершилось.\n",
      "Началось обучение на фолде номер:= 5.\n",
      "0:\tlearn: 0.6331406\ttest: 0.6386228\tbest: 0.6386228 (0)\ttotal: 20.2ms\tremaining: 20.2s\n",
      "50:\tlearn: 0.7381011\ttest: 0.7407627\tbest: 0.7407627 (50)\ttotal: 980ms\tremaining: 18.2s\n",
      "100:\tlearn: 0.7452806\ttest: 0.7465706\tbest: 0.7465706 (100)\ttotal: 1.97s\tremaining: 17.5s\n",
      "150:\tlearn: 0.7508391\ttest: 0.7511888\tbest: 0.7511888 (150)\ttotal: 2.92s\tremaining: 16.4s\n",
      "200:\tlearn: 0.7541845\ttest: 0.7539433\tbest: 0.7539433 (200)\ttotal: 3.88s\tremaining: 15.4s\n",
      "250:\tlearn: 0.7572967\ttest: 0.7564959\tbest: 0.7564959 (250)\ttotal: 4.83s\tremaining: 14.4s\n",
      "300:\tlearn: 0.7595662\ttest: 0.7582556\tbest: 0.7582556 (300)\ttotal: 5.78s\tremaining: 13.4s\n",
      "350:\tlearn: 0.7616849\ttest: 0.7598787\tbest: 0.7598787 (350)\ttotal: 6.72s\tremaining: 12.4s\n",
      "400:\tlearn: 0.7632190\ttest: 0.7609237\tbest: 0.7609237 (400)\ttotal: 7.67s\tremaining: 11.4s\n",
      "450:\tlearn: 0.7646543\ttest: 0.7618041\tbest: 0.7618041 (450)\ttotal: 8.61s\tremaining: 10.5s\n",
      "500:\tlearn: 0.7659496\ttest: 0.7625895\tbest: 0.7625895 (500)\ttotal: 9.54s\tremaining: 9.51s\n",
      "550:\tlearn: 0.7669195\ttest: 0.7630646\tbest: 0.7630646 (550)\ttotal: 10.8s\tremaining: 8.81s\n",
      "600:\tlearn: 0.7680214\ttest: 0.7636177\tbest: 0.7636177 (600)\ttotal: 11.7s\tremaining: 7.79s\n",
      "650:\tlearn: 0.7689719\ttest: 0.7641073\tbest: 0.7641073 (650)\ttotal: 12.7s\tremaining: 6.83s\n",
      "700:\tlearn: 0.7700008\ttest: 0.7646644\tbest: 0.7646663 (699)\ttotal: 14.3s\tremaining: 6.08s\n",
      "750:\tlearn: 0.7710150\ttest: 0.7651873\tbest: 0.7651873 (750)\ttotal: 15.2s\tremaining: 5.03s\n",
      "800:\tlearn: 0.7719904\ttest: 0.7656244\tbest: 0.7656244 (800)\ttotal: 16.1s\tremaining: 4.01s\n",
      "850:\tlearn: 0.7727706\ttest: 0.7660212\tbest: 0.7660212 (850)\ttotal: 17.1s\tremaining: 2.99s\n",
      "900:\tlearn: 0.7735192\ttest: 0.7662947\tbest: 0.7662947 (900)\ttotal: 18s\tremaining: 1.98s\n",
      "950:\tlearn: 0.7742658\ttest: 0.7666609\tbest: 0.7666626 (949)\ttotal: 19s\tremaining: 978ms\n",
      "999:\tlearn: 0.7749749\ttest: 0.7669016\tbest: 0.7669016 (999)\ttotal: 19.9s\tremaining: 0us\n",
      "bestTest = 0.7669016123\n",
      "bestIteration = 999\n",
      "Обучение на фолде номер:= 5 завершилось.\n",
      "CPU times: user 3min 45s, sys: 57.2 s, total: 4min 43s\n",
      "Wall time: 3min 12s\n"
     ]
    }
   ],
   "source": [
    "%%time\n",
    "\n",
    "oof = np.zeros(len(merged_train_data))\n",
    "train_preds = np.zeros(len(merged_train_data))\n",
    "\n",
    "models = []\n",
    "\n",
    "tree_params = {\n",
    "    'max_depth': 5,\n",
    "    'eval_metric': 'AUC',\n",
    "    'loss_function': 'Logloss',\n",
    "    'random_state': 100,\n",
    "    'l2_leaf_reg': 1,\n",
    "    'task_type': 'GPU' # если имеется GPU с CUDA, то можно ее задействовать, чтобы на порядок ускорить обучение\n",
    "}\n",
    "\n",
    "\n",
    "for fold_, (train_idx, val_idx) in enumerate(cv.split(merged_train_data, targets), 1):\n",
    "    print(f'Началось обучение на фолде номер:= {fold_}.')\n",
    "    model = CatBoostClassifier(**tree_params)    \n",
    "    \n",
    "    train, val = merged_train_data.iloc[train_idx], merged_train_data.iloc[val_idx]\n",
    "    \n",
    "    train_pool = Pool(train[features], train.flag.values)\n",
    "    val_pool = Pool(val[features], val.flag.values)\n",
    "    \n",
    "\n",
    "    model.fit(train_pool, eval_set=[val_pool], early_stopping_rounds=100, verbose_eval=50, use_best_model=True, plot=False)\n",
    "    \n",
    "    oof[val_idx] = model.predict_proba(val_pool)[:, 1]\n",
    "    \n",
    "    train_preds[train_idx] += model.predict_proba(train_pool)[:, 1] / (cv.n_splits-1)\n",
    "    models.append(model)\n",
    "    \n",
    "    file_name_model = f'model_CatBoost/model_{name_model}_{fold_}'\n",
    "    model.save_model(PATH_TO_WORKDIR + file_name_model)\n",
    "    print(f'Обучение на фолде номер:= {fold_} завершилось.')"
   ]
  },
  {
   "cell_type": "code",
   "execution_count": 11,
   "metadata": {
    "execution": {
     "iopub.execute_input": "2021-04-25T09:36:57.988305Z",
     "iopub.status.busy": "2021-04-25T09:36:57.986745Z",
     "iopub.status.idle": "2021-04-25T09:36:57.989312Z",
     "shell.execute_reply": "2021-04-25T09:36:57.989714Z"
    },
    "papermill": {
     "duration": 0.046221,
     "end_time": "2021-04-25T09:36:57.989847",
     "exception": false,
     "start_time": "2021-04-25T09:36:57.943626",
     "status": "completed"
    },
    "tags": []
   },
   "outputs": [],
   "source": [
    "file_name_pickle = f'model_CatBoost/feats_model{name_model}.pickle'\n",
    "with open(PATH_TO_WORKDIR + file_name_pickle, 'wb') as f:\n",
    "    pickle.dump(features, f)"
   ]
  },
  {
   "cell_type": "code",
   "execution_count": 12,
   "metadata": {
    "execution": {
     "iopub.execute_input": "2021-04-25T09:36:58.072862Z",
     "iopub.status.busy": "2021-04-25T09:36:58.072010Z",
     "iopub.status.idle": "2021-04-25T09:36:58.366379Z",
     "shell.execute_reply": "2021-04-25T09:36:58.366801Z"
    },
    "papermill": {
     "duration": 0.338411,
     "end_time": "2021-04-25T09:36:58.366948",
     "exception": false,
     "start_time": "2021-04-25T09:36:58.028537",
     "status": "completed"
    },
    "tags": []
   },
   "outputs": [
    {
     "data": {
      "text/plain": [
       "('Train roc-auc model CatBoost', 0.7759147199316137)"
      ]
     },
     "execution_count": 12,
     "metadata": {},
     "output_type": "execute_result"
    }
   ],
   "source": [
    "'Train roc-auc model CatBoost', roc_auc_score(targets, train_preds)"
   ]
  },
  {
   "cell_type": "code",
   "execution_count": 13,
   "metadata": {
    "execution": {
     "iopub.execute_input": "2021-04-25T09:36:58.450478Z",
     "iopub.status.busy": "2021-04-25T09:36:58.449622Z",
     "iopub.status.idle": "2021-04-25T09:36:58.730272Z",
     "shell.execute_reply": "2021-04-25T09:36:58.730689Z"
    },
    "papermill": {
     "duration": 0.32493,
     "end_time": "2021-04-25T09:36:58.730834",
     "exception": false,
     "start_time": "2021-04-25T09:36:58.405904",
     "status": "completed"
    },
    "tags": []
   },
   "outputs": [
    {
     "data": {
      "text/plain": [
       "('CV roc-auc  model CatBoost', 0.7642926031902667)"
      ]
     },
     "execution_count": 13,
     "metadata": {},
     "output_type": "execute_result"
    }
   ],
   "source": [
    "'CV roc-auc  model CatBoost', roc_auc_score(targets, oof)"
   ]
  },
  {
   "cell_type": "code",
   "execution_count": 14,
   "metadata": {
    "execution": {
     "iopub.execute_input": "2021-04-25T09:36:58.816651Z",
     "iopub.status.busy": "2021-04-25T09:36:58.815736Z",
     "iopub.status.idle": "2021-04-25T09:37:04.383945Z",
     "shell.execute_reply": "2021-04-25T09:37:04.383421Z"
    },
    "papermill": {
     "duration": 5.6132,
     "end_time": "2021-04-25T09:37:04.384069",
     "exception": false,
     "start_time": "2021-04-25T09:36:58.770869",
     "status": "completed"
    },
    "tags": []
   },
   "outputs": [
    {
     "data": {
      "application/vnd.jupyter.widget-view+json": {
       "model_id": "c2c29c3282ab4d9ba6cd67e534e71097",
       "version_major": 2,
       "version_minor": 0
      },
      "text/plain": [
       "  0%|          | 0/5 [00:00<?, ?it/s]"
      ]
     },
     "metadata": {},
     "output_type": "display_data"
    }
   ],
   "source": [
    "score = np.zeros(len(merged_test_data))\n",
    "\n",
    "test_pool = Pool(merged_test_data[features])\n",
    "\n",
    "for model in tqdm.tqdm_notebook(models):\n",
    "    score += model.predict_proba(test_pool)[:, 1] / len(models)\n",
    "    \n",
    "submission = pd.DataFrame({\n",
    "    'app_id' : merged_test_data.app_id.values,\n",
    "    'score': score\n",
    "}) \n",
    "submission.to_csv(PATH_TO_WORKDIR + f'sub_model{name_model}.csv', index=None) # ~ 0.732 на public test"
   ]
  }
 ],
 "metadata": {
  "kernelspec": {
   "display_name": "Python 3",
   "language": "python",
   "name": "python3"
  },
  "language_info": {
   "codemirror_mode": {
    "name": "ipython",
    "version": 3
   },
   "file_extension": ".py",
   "mimetype": "text/x-python",
   "name": "python",
   "nbconvert_exporter": "python",
   "pygments_lexer": "ipython3",
   "version": "3.7.9"
  },
  "papermill": {
   "default_parameters": {},
   "duration": 249.326504,
   "end_time": "2021-04-25T09:37:05.332917",
   "environment_variables": {},
   "exception": null,
   "input_path": "__notebook__.ipynb",
   "output_path": "__notebook__.ipynb",
   "parameters": {},
   "start_time": "2021-04-25T09:32:56.006413",
   "version": "2.2.2"
  },
  "widgets": {
   "application/vnd.jupyter.widget-state+json": {
    "state": {
     "30d45a6c2a014e6bba7437d11abfa74e": {
      "model_module": "@jupyter-widgets/controls",
      "model_module_version": "1.5.0",
      "model_name": "FloatProgressModel",
      "state": {
       "_dom_classes": [],
       "_model_module": "@jupyter-widgets/controls",
       "_model_module_version": "1.5.0",
       "_model_name": "FloatProgressModel",
       "_view_count": null,
       "_view_module": "@jupyter-widgets/controls",
       "_view_module_version": "1.5.0",
       "_view_name": "ProgressView",
       "bar_style": "success",
       "description": "",
       "description_tooltip": null,
       "layout": "IPY_MODEL_d9af52aa5ddf4d4ea9a22e058b462632",
       "max": 5.0,
       "min": 0.0,
       "orientation": "horizontal",
       "style": "IPY_MODEL_b9bb6c228ab446368791b2f19ac565b3",
       "value": 5.0
      }
     },
     "5d3e2d22fd43482b96a4013b67d70a45": {
      "model_module": "@jupyter-widgets/controls",
      "model_module_version": "1.5.0",
      "model_name": "HTMLModel",
      "state": {
       "_dom_classes": [],
       "_model_module": "@jupyter-widgets/controls",
       "_model_module_version": "1.5.0",
       "_model_name": "HTMLModel",
       "_view_count": null,
       "_view_module": "@jupyter-widgets/controls",
       "_view_module_version": "1.5.0",
       "_view_name": "HTMLView",
       "description": "",
       "description_tooltip": null,
       "layout": "IPY_MODEL_cd2b0931230343fb8a9482e32aed0268",
       "placeholder": "​",
       "style": "IPY_MODEL_c9d741c04af840f7acb75e94d4105221",
       "value": "100%"
      }
     },
     "6872fbfa0ee0442abf103d483950b40f": {
      "model_module": "@jupyter-widgets/controls",
      "model_module_version": "1.5.0",
      "model_name": "HTMLModel",
      "state": {
       "_dom_classes": [],
       "_model_module": "@jupyter-widgets/controls",
       "_model_module_version": "1.5.0",
       "_model_name": "HTMLModel",
       "_view_count": null,
       "_view_module": "@jupyter-widgets/controls",
       "_view_module_version": "1.5.0",
       "_view_name": "HTMLView",
       "description": "",
       "description_tooltip": null,
       "layout": "IPY_MODEL_bace89572951478d9973d86fe10c1c59",
       "placeholder": "​",
       "style": "IPY_MODEL_a3247aeebd6f42eda3d55b88b22c7861",
       "value": " 5/5 [00:03&lt;00:00,  1.46it/s]"
      }
     },
     "903fc794df264704812a6eab7359a950": {
      "model_module": "@jupyter-widgets/base",
      "model_module_version": "1.2.0",
      "model_name": "LayoutModel",
      "state": {
       "_model_module": "@jupyter-widgets/base",
       "_model_module_version": "1.2.0",
       "_model_name": "LayoutModel",
       "_view_count": null,
       "_view_module": "@jupyter-widgets/base",
       "_view_module_version": "1.2.0",
       "_view_name": "LayoutView",
       "align_content": null,
       "align_items": null,
       "align_self": null,
       "border": null,
       "bottom": null,
       "display": null,
       "flex": null,
       "flex_flow": null,
       "grid_area": null,
       "grid_auto_columns": null,
       "grid_auto_flow": null,
       "grid_auto_rows": null,
       "grid_column": null,
       "grid_gap": null,
       "grid_row": null,
       "grid_template_areas": null,
       "grid_template_columns": null,
       "grid_template_rows": null,
       "height": null,
       "justify_content": null,
       "justify_items": null,
       "left": null,
       "margin": null,
       "max_height": null,
       "max_width": null,
       "min_height": null,
       "min_width": null,
       "object_fit": null,
       "object_position": null,
       "order": null,
       "overflow": null,
       "overflow_x": null,
       "overflow_y": null,
       "padding": null,
       "right": null,
       "top": null,
       "visibility": null,
       "width": null
      }
     },
     "a3247aeebd6f42eda3d55b88b22c7861": {
      "model_module": "@jupyter-widgets/controls",
      "model_module_version": "1.5.0",
      "model_name": "DescriptionStyleModel",
      "state": {
       "_model_module": "@jupyter-widgets/controls",
       "_model_module_version": "1.5.0",
       "_model_name": "DescriptionStyleModel",
       "_view_count": null,
       "_view_module": "@jupyter-widgets/base",
       "_view_module_version": "1.2.0",
       "_view_name": "StyleView",
       "description_width": ""
      }
     },
     "b9bb6c228ab446368791b2f19ac565b3": {
      "model_module": "@jupyter-widgets/controls",
      "model_module_version": "1.5.0",
      "model_name": "ProgressStyleModel",
      "state": {
       "_model_module": "@jupyter-widgets/controls",
       "_model_module_version": "1.5.0",
       "_model_name": "ProgressStyleModel",
       "_view_count": null,
       "_view_module": "@jupyter-widgets/base",
       "_view_module_version": "1.2.0",
       "_view_name": "StyleView",
       "bar_color": null,
       "description_width": ""
      }
     },
     "bace89572951478d9973d86fe10c1c59": {
      "model_module": "@jupyter-widgets/base",
      "model_module_version": "1.2.0",
      "model_name": "LayoutModel",
      "state": {
       "_model_module": "@jupyter-widgets/base",
       "_model_module_version": "1.2.0",
       "_model_name": "LayoutModel",
       "_view_count": null,
       "_view_module": "@jupyter-widgets/base",
       "_view_module_version": "1.2.0",
       "_view_name": "LayoutView",
       "align_content": null,
       "align_items": null,
       "align_self": null,
       "border": null,
       "bottom": null,
       "display": null,
       "flex": null,
       "flex_flow": null,
       "grid_area": null,
       "grid_auto_columns": null,
       "grid_auto_flow": null,
       "grid_auto_rows": null,
       "grid_column": null,
       "grid_gap": null,
       "grid_row": null,
       "grid_template_areas": null,
       "grid_template_columns": null,
       "grid_template_rows": null,
       "height": null,
       "justify_content": null,
       "justify_items": null,
       "left": null,
       "margin": null,
       "max_height": null,
       "max_width": null,
       "min_height": null,
       "min_width": null,
       "object_fit": null,
       "object_position": null,
       "order": null,
       "overflow": null,
       "overflow_x": null,
       "overflow_y": null,
       "padding": null,
       "right": null,
       "top": null,
       "visibility": null,
       "width": null
      }
     },
     "c2c29c3282ab4d9ba6cd67e534e71097": {
      "model_module": "@jupyter-widgets/controls",
      "model_module_version": "1.5.0",
      "model_name": "HBoxModel",
      "state": {
       "_dom_classes": [],
       "_model_module": "@jupyter-widgets/controls",
       "_model_module_version": "1.5.0",
       "_model_name": "HBoxModel",
       "_view_count": null,
       "_view_module": "@jupyter-widgets/controls",
       "_view_module_version": "1.5.0",
       "_view_name": "HBoxView",
       "box_style": "",
       "children": [
        "IPY_MODEL_5d3e2d22fd43482b96a4013b67d70a45",
        "IPY_MODEL_30d45a6c2a014e6bba7437d11abfa74e",
        "IPY_MODEL_6872fbfa0ee0442abf103d483950b40f"
       ],
       "layout": "IPY_MODEL_903fc794df264704812a6eab7359a950"
      }
     },
     "c9d741c04af840f7acb75e94d4105221": {
      "model_module": "@jupyter-widgets/controls",
      "model_module_version": "1.5.0",
      "model_name": "DescriptionStyleModel",
      "state": {
       "_model_module": "@jupyter-widgets/controls",
       "_model_module_version": "1.5.0",
       "_model_name": "DescriptionStyleModel",
       "_view_count": null,
       "_view_module": "@jupyter-widgets/base",
       "_view_module_version": "1.2.0",
       "_view_name": "StyleView",
       "description_width": ""
      }
     },
     "cd2b0931230343fb8a9482e32aed0268": {
      "model_module": "@jupyter-widgets/base",
      "model_module_version": "1.2.0",
      "model_name": "LayoutModel",
      "state": {
       "_model_module": "@jupyter-widgets/base",
       "_model_module_version": "1.2.0",
       "_model_name": "LayoutModel",
       "_view_count": null,
       "_view_module": "@jupyter-widgets/base",
       "_view_module_version": "1.2.0",
       "_view_name": "LayoutView",
       "align_content": null,
       "align_items": null,
       "align_self": null,
       "border": null,
       "bottom": null,
       "display": null,
       "flex": null,
       "flex_flow": null,
       "grid_area": null,
       "grid_auto_columns": null,
       "grid_auto_flow": null,
       "grid_auto_rows": null,
       "grid_column": null,
       "grid_gap": null,
       "grid_row": null,
       "grid_template_areas": null,
       "grid_template_columns": null,
       "grid_template_rows": null,
       "height": null,
       "justify_content": null,
       "justify_items": null,
       "left": null,
       "margin": null,
       "max_height": null,
       "max_width": null,
       "min_height": null,
       "min_width": null,
       "object_fit": null,
       "object_position": null,
       "order": null,
       "overflow": null,
       "overflow_x": null,
       "overflow_y": null,
       "padding": null,
       "right": null,
       "top": null,
       "visibility": null,
       "width": null
      }
     },
     "d9af52aa5ddf4d4ea9a22e058b462632": {
      "model_module": "@jupyter-widgets/base",
      "model_module_version": "1.2.0",
      "model_name": "LayoutModel",
      "state": {
       "_model_module": "@jupyter-widgets/base",
       "_model_module_version": "1.2.0",
       "_model_name": "LayoutModel",
       "_view_count": null,
       "_view_module": "@jupyter-widgets/base",
       "_view_module_version": "1.2.0",
       "_view_name": "LayoutView",
       "align_content": null,
       "align_items": null,
       "align_self": null,
       "border": null,
       "bottom": null,
       "display": null,
       "flex": null,
       "flex_flow": null,
       "grid_area": null,
       "grid_auto_columns": null,
       "grid_auto_flow": null,
       "grid_auto_rows": null,
       "grid_column": null,
       "grid_gap": null,
       "grid_row": null,
       "grid_template_areas": null,
       "grid_template_columns": null,
       "grid_template_rows": null,
       "height": null,
       "justify_content": null,
       "justify_items": null,
       "left": null,
       "margin": null,
       "max_height": null,
       "max_width": null,
       "min_height": null,
       "min_width": null,
       "object_fit": null,
       "object_position": null,
       "order": null,
       "overflow": null,
       "overflow_x": null,
       "overflow_y": null,
       "padding": null,
       "right": null,
       "top": null,
       "visibility": null,
       "width": null
      }
     }
    },
    "version_major": 2,
    "version_minor": 0
   }
  }
 },
 "nbformat": 4,
 "nbformat_minor": 4
}
