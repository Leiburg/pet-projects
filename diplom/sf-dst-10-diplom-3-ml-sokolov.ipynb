{
 "cells": [
  {
   "cell_type": "markdown",
   "id": "intimate-lesson",
   "metadata": {
    "papermill": {
     "duration": 0.047504,
     "end_time": "2021-04-30T07:14:20.649142",
     "exception": false,
     "start_time": "2021-04-30T07:14:20.601638",
     "status": "completed"
    },
    "tags": []
   },
   "source": [
    "### Дипломная работа Александра Соколова\n",
    "\n",
    "#### Градиентный бустинг\n",
    "Кернел 3 из 5 в разделе ML (отредактирован 21.04.2021)\n",
    "---\n",
    "\n",
    "# 1. Импорт библиотек, инициализация глобальных констант\n",
    "## 1.1. Импорт библиотек"
   ]
  },
  {
   "cell_type": "code",
   "execution_count": 1,
   "id": "enormous-announcement",
   "metadata": {
    "execution": {
     "iopub.execute_input": "2021-04-30T07:14:20.756396Z",
     "iopub.status.busy": "2021-04-30T07:14:20.755224Z",
     "iopub.status.idle": "2021-04-30T07:14:32.495538Z",
     "shell.execute_reply": "2021-04-30T07:14:32.496033Z"
    },
    "papermill": {
     "duration": 11.801332,
     "end_time": "2021-04-30T07:14:32.496384",
     "exception": false,
     "start_time": "2021-04-30T07:14:20.695052",
     "status": "completed"
    },
    "tags": []
   },
   "outputs": [
    {
     "data": {
      "text/html": [
       "<style type='text/css'>\n",
       ".datatable table.frame { margin-bottom: 0; }\n",
       ".datatable table.frame thead { border-bottom: none; }\n",
       ".datatable table.frame tr.coltypes td {  color: #FFFFFF;  line-height: 6px;  padding: 0 0.5em;}\n",
       ".datatable .bool    { background: #DDDD99; }\n",
       ".datatable .object  { background: #565656; }\n",
       ".datatable .int     { background: #5D9E5D; }\n",
       ".datatable .float   { background: #4040CC; }\n",
       ".datatable .str     { background: #CC4040; }\n",
       ".datatable .row_index {  background: var(--jp-border-color3);  border-right: 1px solid var(--jp-border-color0);  color: var(--jp-ui-font-color3);  font-size: 9px;}\n",
       ".datatable .frame tr.coltypes .row_index {  background: var(--jp-border-color0);}\n",
       ".datatable th:nth-child(2) { padding-left: 12px; }\n",
       ".datatable .hellipsis {  color: var(--jp-cell-editor-border-color);}\n",
       ".datatable .vellipsis {  background: var(--jp-layout-color0);  color: var(--jp-cell-editor-border-color);}\n",
       ".datatable .na {  color: var(--jp-cell-editor-border-color);  font-size: 80%;}\n",
       ".datatable .footer { font-size: 9px; }\n",
       ".datatable .frame_dimensions {  background: var(--jp-border-color3);  border-top: 1px solid var(--jp-border-color0);  color: var(--jp-ui-font-color3);  display: inline-block;  opacity: 0.6;  padding: 1px 10px 1px 5px;}\n",
       "</style>\n"
      ],
      "text/plain": [
       "<IPython.core.display.HTML object>"
      ]
     },
     "metadata": {},
     "output_type": "display_data"
    }
   ],
   "source": [
    "import pandas as pd\n",
    "import numpy as np\n",
    "import tqdm\n",
    "import pickle\n",
    "\n",
    "from sklearn.model_selection import train_test_split, StratifiedKFold, KFold\n",
    "from sklearn.metrics import roc_auc_score\n",
    "from sklearn.inspection import permutation_importance\n",
    "\n",
    "import lightgbm as lgb\n",
    "import catboost as cb\n",
    "\n",
    "import matplotlib\n",
    "import matplotlib.pyplot as plt\n",
    "%matplotlib inline\n",
    "import seaborn as sns\n",
    "\n",
    "import shap\n",
    "\n",
    "np.warnings.filterwarnings('ignore')"
   ]
  },
  {
   "cell_type": "markdown",
   "id": "dependent-freeware",
   "metadata": {
    "papermill": {
     "duration": 0.046186,
     "end_time": "2021-04-30T07:14:32.590211",
     "exception": false,
     "start_time": "2021-04-30T07:14:32.544025",
     "status": "completed"
    },
    "tags": []
   },
   "source": [
    "## 1.2. Глобальные константы"
   ]
  },
  {
   "cell_type": "code",
   "execution_count": 2,
   "id": "present-population",
   "metadata": {
    "execution": {
     "iopub.execute_input": "2021-04-30T07:14:32.687401Z",
     "iopub.status.busy": "2021-04-30T07:14:32.686733Z",
     "iopub.status.idle": "2021-04-30T07:14:32.691082Z",
     "shell.execute_reply": "2021-04-30T07:14:32.691559Z"
    },
    "papermill": {
     "duration": 0.054928,
     "end_time": "2021-04-30T07:14:32.691733",
     "exception": false,
     "start_time": "2021-04-30T07:14:32.636805",
     "status": "completed"
    },
    "tags": []
   },
   "outputs": [],
   "source": [
    "# CURRENT_DIR = './'  # имя текущей директории для локальной машины \n",
    "CURRENT_DIR = '../'  # имя текущей директории для каггл\n",
    "\n",
    "PATH_TO_WORKDIR = CURRENT_DIR + 'working/'"
   ]
  },
  {
   "cell_type": "code",
   "execution_count": 3,
   "id": "central-quarterly",
   "metadata": {
    "execution": {
     "iopub.execute_input": "2021-04-30T07:14:32.792647Z",
     "iopub.status.busy": "2021-04-30T07:14:32.791958Z",
     "iopub.status.idle": "2021-04-30T07:14:35.063492Z",
     "shell.execute_reply": "2021-04-30T07:14:35.062658Z"
    },
    "papermill": {
     "duration": 2.324444,
     "end_time": "2021-04-30T07:14:35.063637",
     "exception": false,
     "start_time": "2021-04-30T07:14:32.739193",
     "status": "completed"
    },
    "tags": []
   },
   "outputs": [],
   "source": [
    "!pip freeze > requirements.txt"
   ]
  },
  {
   "cell_type": "markdown",
   "id": "settled-clock",
   "metadata": {
    "papermill": {
     "duration": 0.046736,
     "end_time": "2021-04-30T07:14:35.158423",
     "exception": false,
     "start_time": "2021-04-30T07:14:35.111687",
     "status": "completed"
    },
    "tags": []
   },
   "source": [
    "# 2. Импорт предобработанных данных\n",
    "---\n",
    "предобработка осуществлялась в [первом кернеле](https://www.kaggle.com/sokolovaleks/sf-dst-10-diplom-1-ml-sokolov)"
   ]
  },
  {
   "cell_type": "code",
   "execution_count": 4,
   "id": "limited-wings",
   "metadata": {
    "execution": {
     "iopub.execute_input": "2021-04-30T07:14:35.256116Z",
     "iopub.status.busy": "2021-04-30T07:14:35.255378Z",
     "iopub.status.idle": "2021-04-30T07:15:19.865770Z",
     "shell.execute_reply": "2021-04-30T07:15:19.864572Z"
    },
    "papermill": {
     "duration": 44.660328,
     "end_time": "2021-04-30T07:15:19.865945",
     "exception": false,
     "start_time": "2021-04-30T07:14:35.205617",
     "status": "completed"
    },
    "tags": []
   },
   "outputs": [],
   "source": [
    "merged_train_data = pd.read_csv('../input/alfabattle2-sandbox/preproc_data_for_boosting/preproc_data_for_boosting/merged_data.csv')\n",
    "merged_test_data = pd.read_csv('../input/alfabattle2-sandbox/preproc_data_for_boosting/preproc_data_for_boosting/merged_test_data.csv')"
   ]
  },
  {
   "cell_type": "markdown",
   "id": "authentic-input",
   "metadata": {
    "papermill": {
     "duration": 0.04842,
     "end_time": "2021-04-30T07:15:19.970607",
     "exception": false,
     "start_time": "2021-04-30T07:15:19.922187",
     "status": "completed"
    },
    "tags": []
   },
   "source": [
    "# 3. Разбиваем тренировочную выборку\n",
    "---\n",
    "Важно выделять валидационную выборку, чтобы контролировать обучение и не переобучаться. "
   ]
  },
  {
   "cell_type": "code",
   "execution_count": 5,
   "id": "negative-baseball",
   "metadata": {
    "execution": {
     "iopub.execute_input": "2021-04-30T07:15:20.075944Z",
     "iopub.status.busy": "2021-04-30T07:15:20.075107Z",
     "iopub.status.idle": "2021-04-30T07:15:20.080583Z",
     "shell.execute_reply": "2021-04-30T07:15:20.081046Z"
    },
    "papermill": {
     "duration": 0.063465,
     "end_time": "2021-04-30T07:15:20.081228",
     "exception": false,
     "start_time": "2021-04-30T07:15:20.017763",
     "status": "completed"
    },
    "tags": []
   },
   "outputs": [],
   "source": [
    "targets = merged_train_data.flag.values\n",
    "\n",
    "cv = KFold(n_splits=5, random_state=100, shuffle=True)"
   ]
  },
  {
   "cell_type": "markdown",
   "id": "racial-bandwidth",
   "metadata": {
    "papermill": {
     "duration": 0.04707,
     "end_time": "2021-04-30T07:15:20.176475",
     "exception": false,
     "start_time": "2021-04-30T07:15:20.129405",
     "status": "completed"
    },
    "tags": []
   },
   "source": [
    "# 4. LightGBM + CV (1)\n",
    "---\n",
    "## 4.1. Первая модель (model1)"
   ]
  },
  {
   "cell_type": "code",
   "execution_count": 6,
   "id": "published-uncle",
   "metadata": {
    "execution": {
     "iopub.execute_input": "2021-04-30T07:15:20.276234Z",
     "iopub.status.busy": "2021-04-30T07:15:20.275256Z",
     "iopub.status.idle": "2021-04-30T07:15:20.278662Z",
     "shell.execute_reply": "2021-04-30T07:15:20.278019Z"
    },
    "papermill": {
     "duration": 0.054998,
     "end_time": "2021-04-30T07:15:20.278801",
     "exception": false,
     "start_time": "2021-04-30T07:15:20.223803",
     "status": "completed"
    },
    "tags": []
   },
   "outputs": [],
   "source": [
    "num_model = 1"
   ]
  },
  {
   "cell_type": "code",
   "execution_count": 7,
   "id": "phantom-banks",
   "metadata": {
    "execution": {
     "iopub.execute_input": "2021-04-30T07:15:20.394333Z",
     "iopub.status.busy": "2021-04-30T07:15:20.393661Z",
     "iopub.status.idle": "2021-04-30T07:15:21.143221Z",
     "shell.execute_reply": "2021-04-30T07:15:21.142658Z"
    },
    "papermill": {
     "duration": 0.817026,
     "end_time": "2021-04-30T07:15:21.143399",
     "exception": false,
     "start_time": "2021-04-30T07:15:20.326373",
     "status": "completed"
    },
    "tags": []
   },
   "outputs": [],
   "source": [
    "!mkdir model1"
   ]
  },
  {
   "cell_type": "code",
   "execution_count": 8,
   "id": "tamil-authority",
   "metadata": {
    "execution": {
     "iopub.execute_input": "2021-04-30T07:15:21.245939Z",
     "iopub.status.busy": "2021-04-30T07:15:21.245264Z",
     "iopub.status.idle": "2021-04-30T07:15:21.249147Z",
     "shell.execute_reply": "2021-04-30T07:15:21.248517Z"
    },
    "papermill": {
     "duration": 0.0567,
     "end_time": "2021-04-30T07:15:21.249284",
     "exception": false,
     "start_time": "2021-04-30T07:15:21.192584",
     "status": "completed"
    },
    "tags": []
   },
   "outputs": [],
   "source": [
    "features = [x for x in merged_train_data.columns if x not in ['app_id', 'flag']]"
   ]
  },
  {
   "cell_type": "code",
   "execution_count": 9,
   "id": "accomplished-foundation",
   "metadata": {
    "execution": {
     "iopub.execute_input": "2021-04-30T07:15:21.355723Z",
     "iopub.status.busy": "2021-04-30T07:15:21.354618Z",
     "iopub.status.idle": "2021-04-30T07:27:31.684167Z",
     "shell.execute_reply": "2021-04-30T07:27:31.684752Z"
    },
    "papermill": {
     "duration": 730.387246,
     "end_time": "2021-04-30T07:27:31.685143",
     "exception": false,
     "start_time": "2021-04-30T07:15:21.297897",
     "status": "completed"
    },
    "tags": []
   },
   "outputs": [
    {
     "name": "stdout",
     "output_type": "stream",
     "text": [
      "Началось обучение на фолде номер:= 1.\n",
      "Training until validation scores don't improve for 50 rounds\n",
      "[50]\tvalid_0's auc: 0.733357\n",
      "[100]\tvalid_0's auc: 0.745918\n",
      "[150]\tvalid_0's auc: 0.75136\n",
      "[200]\tvalid_0's auc: 0.755095\n",
      "[250]\tvalid_0's auc: 0.757468\n",
      "[300]\tvalid_0's auc: 0.759392\n",
      "[350]\tvalid_0's auc: 0.760921\n",
      "[400]\tvalid_0's auc: 0.762052\n",
      "[450]\tvalid_0's auc: 0.762843\n",
      "[500]\tvalid_0's auc: 0.763794\n",
      "[550]\tvalid_0's auc: 0.764306\n",
      "[600]\tvalid_0's auc: 0.765034\n",
      "[650]\tvalid_0's auc: 0.765584\n",
      "[700]\tvalid_0's auc: 0.766028\n",
      "[750]\tvalid_0's auc: 0.766414\n",
      "[800]\tvalid_0's auc: 0.766915\n",
      "[850]\tvalid_0's auc: 0.767222\n",
      "[900]\tvalid_0's auc: 0.767656\n",
      "[950]\tvalid_0's auc: 0.767907\n",
      "[1000]\tvalid_0's auc: 0.768113\n",
      "Did not meet early stopping. Best iteration is:\n",
      "[997]\tvalid_0's auc: 0.768116\n",
      "Обучение на фолде номер:= 1 завершилось.\n",
      "Началось обучение на фолде номер:= 2.\n",
      "Training until validation scores don't improve for 50 rounds\n",
      "[50]\tvalid_0's auc: 0.735806\n",
      "[100]\tvalid_0's auc: 0.748626\n",
      "[150]\tvalid_0's auc: 0.754227\n",
      "[200]\tvalid_0's auc: 0.757699\n",
      "[250]\tvalid_0's auc: 0.759753\n",
      "[300]\tvalid_0's auc: 0.761608\n",
      "[350]\tvalid_0's auc: 0.762945\n",
      "[400]\tvalid_0's auc: 0.764101\n",
      "[450]\tvalid_0's auc: 0.764985\n",
      "[500]\tvalid_0's auc: 0.765674\n",
      "[550]\tvalid_0's auc: 0.766495\n",
      "[600]\tvalid_0's auc: 0.767052\n",
      "[650]\tvalid_0's auc: 0.767617\n",
      "[700]\tvalid_0's auc: 0.768184\n",
      "[750]\tvalid_0's auc: 0.768671\n",
      "[800]\tvalid_0's auc: 0.769111\n",
      "[850]\tvalid_0's auc: 0.769419\n",
      "[900]\tvalid_0's auc: 0.769807\n",
      "[950]\tvalid_0's auc: 0.770057\n",
      "[1000]\tvalid_0's auc: 0.770122\n",
      "Did not meet early stopping. Best iteration is:\n",
      "[996]\tvalid_0's auc: 0.770146\n",
      "Обучение на фолде номер:= 2 завершилось.\n",
      "Началось обучение на фолде номер:= 3.\n",
      "Training until validation scores don't improve for 50 rounds\n",
      "[50]\tvalid_0's auc: 0.738214\n",
      "[100]\tvalid_0's auc: 0.751749\n",
      "[150]\tvalid_0's auc: 0.757027\n",
      "[200]\tvalid_0's auc: 0.760915\n",
      "[250]\tvalid_0's auc: 0.763341\n",
      "[300]\tvalid_0's auc: 0.765457\n",
      "[350]\tvalid_0's auc: 0.766939\n",
      "[400]\tvalid_0's auc: 0.768148\n",
      "[450]\tvalid_0's auc: 0.769016\n",
      "[500]\tvalid_0's auc: 0.769998\n",
      "[550]\tvalid_0's auc: 0.770574\n",
      "[600]\tvalid_0's auc: 0.771237\n",
      "[650]\tvalid_0's auc: 0.771681\n",
      "[700]\tvalid_0's auc: 0.772182\n",
      "[750]\tvalid_0's auc: 0.772585\n",
      "[800]\tvalid_0's auc: 0.773001\n",
      "[850]\tvalid_0's auc: 0.773308\n",
      "[900]\tvalid_0's auc: 0.773579\n",
      "[950]\tvalid_0's auc: 0.773901\n",
      "[1000]\tvalid_0's auc: 0.774124\n",
      "Did not meet early stopping. Best iteration is:\n",
      "[1000]\tvalid_0's auc: 0.774124\n",
      "Обучение на фолде номер:= 3 завершилось.\n",
      "Началось обучение на фолде номер:= 4.\n",
      "Training until validation scores don't improve for 50 rounds\n",
      "[50]\tvalid_0's auc: 0.730437\n",
      "[100]\tvalid_0's auc: 0.744672\n",
      "[150]\tvalid_0's auc: 0.750356\n",
      "[200]\tvalid_0's auc: 0.754403\n",
      "[250]\tvalid_0's auc: 0.757048\n",
      "[300]\tvalid_0's auc: 0.758995\n",
      "[350]\tvalid_0's auc: 0.760551\n",
      "[400]\tvalid_0's auc: 0.761989\n",
      "[450]\tvalid_0's auc: 0.763184\n",
      "[500]\tvalid_0's auc: 0.763967\n",
      "[550]\tvalid_0's auc: 0.764658\n",
      "[600]\tvalid_0's auc: 0.765397\n",
      "[650]\tvalid_0's auc: 0.765923\n",
      "[700]\tvalid_0's auc: 0.766535\n",
      "[750]\tvalid_0's auc: 0.766817\n",
      "[800]\tvalid_0's auc: 0.76708\n",
      "[850]\tvalid_0's auc: 0.767474\n",
      "[900]\tvalid_0's auc: 0.767838\n",
      "[950]\tvalid_0's auc: 0.768109\n",
      "[1000]\tvalid_0's auc: 0.768523\n",
      "Did not meet early stopping. Best iteration is:\n",
      "[998]\tvalid_0's auc: 0.768533\n",
      "Обучение на фолде номер:= 4 завершилось.\n",
      "Началось обучение на фолде номер:= 5.\n",
      "Training until validation scores don't improve for 50 rounds\n",
      "[50]\tvalid_0's auc: 0.737019\n",
      "[100]\tvalid_0's auc: 0.750826\n",
      "[150]\tvalid_0's auc: 0.756432\n",
      "[200]\tvalid_0's auc: 0.75983\n",
      "[250]\tvalid_0's auc: 0.762319\n",
      "[300]\tvalid_0's auc: 0.764217\n",
      "[350]\tvalid_0's auc: 0.765655\n",
      "[400]\tvalid_0's auc: 0.76703\n",
      "[450]\tvalid_0's auc: 0.768175\n",
      "[500]\tvalid_0's auc: 0.768942\n",
      "[550]\tvalid_0's auc: 0.769522\n",
      "[600]\tvalid_0's auc: 0.770134\n",
      "[650]\tvalid_0's auc: 0.770705\n",
      "[700]\tvalid_0's auc: 0.771135\n",
      "[750]\tvalid_0's auc: 0.771625\n",
      "[800]\tvalid_0's auc: 0.771871\n",
      "[850]\tvalid_0's auc: 0.772225\n",
      "[900]\tvalid_0's auc: 0.772469\n",
      "[950]\tvalid_0's auc: 0.772781\n",
      "[1000]\tvalid_0's auc: 0.773164\n",
      "Did not meet early stopping. Best iteration is:\n",
      "[1000]\tvalid_0's auc: 0.773164\n",
      "Обучение на фолде номер:= 5 завершилось.\n",
      "CPU times: user 35min 9s, sys: 28.2 s, total: 35min 37s\n",
      "Wall time: 12min 10s\n"
     ]
    }
   ],
   "source": [
    "%%time\n",
    "\n",
    "oof = np.zeros(len(merged_train_data))\n",
    "train_preds = np.zeros(len(merged_train_data))\n",
    "\n",
    "models = []\n",
    "\n",
    "tree_params = {\n",
    "    'objective': 'binary',\n",
    "    'metric': 'auc',\n",
    "    'learning_rate': 0.05,\n",
    "    'max_depth': 3,\n",
    "    'reg_lambda': 1,\n",
    "    'num_leaves': 64,\n",
    "    'n_jobs': 5,\n",
    "    'n_estimators': 1000\n",
    "}\n",
    "\n",
    "for fold_, (train_idx, val_idx) in enumerate(cv.split(merged_train_data, targets), 1):\n",
    "    print(f'Началось обучение на фолде номер:= {fold_}.')\n",
    "    lgb_model = lgb.LGBMClassifier(**tree_params)\n",
    "    train, val = merged_train_data.iloc[train_idx], merged_train_data.iloc[val_idx]\n",
    "    \n",
    "    lgb_model.fit(train[features], train.flag.values, eval_set=[(val[features], val.flag.values)],\n",
    "              early_stopping_rounds=50, verbose=50)\n",
    "\n",
    "    oof[val_idx] = lgb_model.predict_proba(val[features])[:, 1]\n",
    "    train_preds[train_idx] += lgb_model.predict_proba(train[features])[:, 1] / (cv.n_splits-1)\n",
    "    models.append(lgb_model)\n",
    "    \n",
    "    file_name_model = f'model{num_model}/model{num_model}_{fold_}.txt'\n",
    "    lgb_model.booster_.save_model(PATH_TO_WORKDIR+file_name_model)\n",
    "    print(f'Обучение на фолде номер:= {fold_} завершилось.')"
   ]
  },
  {
   "cell_type": "code",
   "execution_count": 10,
   "id": "optimum-attachment",
   "metadata": {
    "execution": {
     "iopub.execute_input": "2021-04-30T07:27:31.851646Z",
     "iopub.status.busy": "2021-04-30T07:27:31.850864Z",
     "iopub.status.idle": "2021-04-30T07:27:31.856430Z",
     "shell.execute_reply": "2021-04-30T07:27:31.856961Z"
    },
    "papermill": {
     "duration": 0.091288,
     "end_time": "2021-04-30T07:27:31.857144",
     "exception": false,
     "start_time": "2021-04-30T07:27:31.765856",
     "status": "completed"
    },
    "tags": []
   },
   "outputs": [],
   "source": [
    "file_name_pickle = PATH_TO_WORKDIR + f'model{num_model}/feats_model{num_model}.pickle'\n",
    "with open(file_name_pickle, 'wb') as f:\n",
    "    pickle.dump(features, f)"
   ]
  },
  {
   "cell_type": "code",
   "execution_count": 11,
   "id": "effective-committee",
   "metadata": {
    "execution": {
     "iopub.execute_input": "2021-04-30T07:27:32.028583Z",
     "iopub.status.busy": "2021-04-30T07:27:32.027854Z",
     "iopub.status.idle": "2021-04-30T07:27:32.443750Z",
     "shell.execute_reply": "2021-04-30T07:27:32.443011Z"
    },
    "papermill": {
     "duration": 0.503297,
     "end_time": "2021-04-30T07:27:32.443901",
     "exception": false,
     "start_time": "2021-04-30T07:27:31.940604",
     "status": "completed"
    },
    "tags": []
   },
   "outputs": [
    {
     "data": {
      "text/plain": [
       "('Train roc-auc model1', 0.8010877635459154)"
      ]
     },
     "execution_count": 11,
     "metadata": {},
     "output_type": "execute_result"
    }
   ],
   "source": [
    "f'Train roc-auc model{num_model}', roc_auc_score(targets, train_preds)"
   ]
  },
  {
   "cell_type": "code",
   "execution_count": 12,
   "id": "funny-andorra",
   "metadata": {
    "execution": {
     "iopub.execute_input": "2021-04-30T07:27:32.613241Z",
     "iopub.status.busy": "2021-04-30T07:27:32.612571Z",
     "iopub.status.idle": "2021-04-30T07:27:33.010509Z",
     "shell.execute_reply": "2021-04-30T07:27:33.011050Z"
    },
    "papermill": {
     "duration": 0.48489,
     "end_time": "2021-04-30T07:27:33.011228",
     "exception": false,
     "start_time": "2021-04-30T07:27:32.526338",
     "status": "completed"
    },
    "tags": []
   },
   "outputs": [
    {
     "data": {
      "text/plain": [
       "('CV roc-auc model1', 0.7708109640761436)"
      ]
     },
     "execution_count": 12,
     "metadata": {},
     "output_type": "execute_result"
    }
   ],
   "source": [
    "f'CV roc-auc model{num_model}', roc_auc_score(targets, oof)"
   ]
  },
  {
   "cell_type": "markdown",
   "id": "individual-stability",
   "metadata": {
    "papermill": {
     "duration": 0.082525,
     "end_time": "2021-04-30T07:27:33.177777",
     "exception": false,
     "start_time": "2021-04-30T07:27:33.095252",
     "status": "completed"
    },
    "tags": []
   },
   "source": [
    "## 4.2. Submission (model1) "
   ]
  },
  {
   "cell_type": "code",
   "execution_count": 13,
   "id": "thousand-reflection",
   "metadata": {
    "execution": {
     "iopub.execute_input": "2021-04-30T07:27:33.350219Z",
     "iopub.status.busy": "2021-04-30T07:27:33.349540Z",
     "iopub.status.idle": "2021-04-30T07:28:23.939223Z",
     "shell.execute_reply": "2021-04-30T07:28:23.937975Z"
    },
    "papermill": {
     "duration": 50.678553,
     "end_time": "2021-04-30T07:28:23.939426",
     "exception": false,
     "start_time": "2021-04-30T07:27:33.260873",
     "status": "completed"
    },
    "tags": []
   },
   "outputs": [
    {
     "data": {
      "application/vnd.jupyter.widget-view+json": {
       "model_id": "b958014fc80a4c678b169a15206ef775",
       "version_major": 2,
       "version_minor": 0
      },
      "text/plain": [
       "  0%|          | 0/5 [00:00<?, ?it/s]"
      ]
     },
     "metadata": {},
     "output_type": "display_data"
    }
   ],
   "source": [
    "score = np.zeros(len(merged_test_data))\n",
    "\n",
    "for model in tqdm.tqdm_notebook(models):\n",
    "    score += model.predict_proba(merged_test_data[features])[:, 1] / len(models)\n",
    "    \n",
    "submission = pd.DataFrame({\n",
    "    'app_id' : merged_test_data.app_id.values,\n",
    "    'score': score\n",
    "}) \n",
    "\n",
    "submission.to_csv(f'sub_model{num_model}.csv', index=None)  # ~ 0.737 roc-auc на public test"
   ]
  },
  {
   "cell_type": "markdown",
   "id": "temporal-graham",
   "metadata": {
    "papermill": {
     "duration": 0.085126,
     "end_time": "2021-04-30T07:28:24.110357",
     "exception": false,
     "start_time": "2021-04-30T07:28:24.025231",
     "status": "completed"
    },
    "tags": []
   },
   "source": [
    "# 5. Feature Importance\n",
    "---\n",
    "Оценка важности признаков - важный шаг в построении моделей. LightGBM имеет внутренние способы оценки важности признаков - на основе того, как часто делается сплит в вершине по признаку (split) и на основе того, какой суммарный прирост в информации дает разбиение по признаку (gain). Используем первый способ оценки важности признаков. Затем отберем топ признаков по важности и построим на них новые модели."
   ]
  },
  {
   "cell_type": "code",
   "execution_count": 14,
   "id": "quick-surfing",
   "metadata": {
    "execution": {
     "iopub.execute_input": "2021-04-30T07:28:24.283732Z",
     "iopub.status.busy": "2021-04-30T07:28:24.283042Z",
     "iopub.status.idle": "2021-04-30T07:28:24.286537Z",
     "shell.execute_reply": "2021-04-30T07:28:24.287079Z"
    },
    "papermill": {
     "duration": 0.092575,
     "end_time": "2021-04-30T07:28:24.287263",
     "exception": false,
     "start_time": "2021-04-30T07:28:24.194688",
     "status": "completed"
    },
    "tags": []
   },
   "outputs": [],
   "source": [
    "importances = np.zeros(len(features))\n",
    "for model in models:\n",
    "    importances += model.feature_importances_ / len(models)"
   ]
  },
  {
   "cell_type": "code",
   "execution_count": 15,
   "id": "ready-journalism",
   "metadata": {
    "execution": {
     "iopub.execute_input": "2021-04-30T07:28:24.464084Z",
     "iopub.status.busy": "2021-04-30T07:28:24.455928Z",
     "iopub.status.idle": "2021-04-30T07:28:24.467812Z",
     "shell.execute_reply": "2021-04-30T07:28:24.467052Z"
    },
    "papermill": {
     "duration": 0.097514,
     "end_time": "2021-04-30T07:28:24.467988",
     "exception": false,
     "start_time": "2021-04-30T07:28:24.370474",
     "status": "completed"
    },
    "tags": []
   },
   "outputs": [],
   "source": [
    "def plot_feature_importance(feature_names, feature_scores, top_feats=20, title='Importance', x_label='Importance', \n",
    "                            y_label='Features'):\n",
    "    tuples = [(name, round(score, 3)) for name, score in zip(feature_names, feature_scores)]\n",
    "    tuples = sorted(tuples, key=lambda x: x[1])[-top_feats:]\n",
    "    \n",
    "    labels, values = zip(*tuples)\n",
    "    _, ax = plt.subplots(1, 1, figsize=(10, 8))\n",
    "    ylocs = np.arange(len(values))\n",
    "    \n",
    "    ax.barh(ylocs, values, align='center', height=0.4)\n",
    "    for x, y in zip(values, ylocs):\n",
    "        ax.text(x + 1, y, x, va='center')\n",
    "        \n",
    "    ax.set_yticks(ylocs)\n",
    "    ax.set_yticklabels(labels)\n",
    "    xlim = (0, max(values) * 1.1)\n",
    "    ax.set_xlim(xlim)\n",
    "    ylim = (-1, len(values))\n",
    "    ax.set_ylim(ylim)\n",
    "    \n",
    "    ax.set_title(title)\n",
    "    ax.set_xlabel(x_label)\n",
    "    ax.set_ylabel(y_label)\n",
    "    ax.grid(True)"
   ]
  },
  {
   "cell_type": "code",
   "execution_count": 16,
   "id": "indie-switch",
   "metadata": {
    "execution": {
     "iopub.execute_input": "2021-04-30T07:28:24.676855Z",
     "iopub.status.busy": "2021-04-30T07:28:24.675011Z",
     "iopub.status.idle": "2021-04-30T07:28:25.070163Z",
     "shell.execute_reply": "2021-04-30T07:28:25.069526Z"
    },
    "papermill": {
     "duration": 0.517857,
     "end_time": "2021-04-30T07:28:25.070340",
     "exception": false,
     "start_time": "2021-04-30T07:28:24.552483",
     "status": "completed"
    },
    "tags": []
   },
   "outputs": [
    {
     "data": {
      "image/png": "[encoded data removed]",
      "text/plain": [
       "<Figure size 720x576 with 1 Axes>"
      ]
     },
     "metadata": {
      "needs_background": "light"
     },
     "output_type": "display_data"
    }
   ],
   "source": [
    "plot_feature_importance(features, importances, top_feats=20, title='LightGBM feature importance', \n",
    "                        x_label='Importance')"
   ]
  },
  {
   "cell_type": "code",
   "execution_count": 17,
   "id": "moderate-homework",
   "metadata": {
    "execution": {
     "iopub.execute_input": "2021-04-30T07:28:25.250576Z",
     "iopub.status.busy": "2021-04-30T07:28:25.249823Z",
     "iopub.status.idle": "2021-04-30T07:28:25.263157Z",
     "shell.execute_reply": "2021-04-30T07:28:25.262514Z"
    },
    "papermill": {
     "duration": 0.106189,
     "end_time": "2021-04-30T07:28:25.263318",
     "exception": false,
     "start_time": "2021-04-30T07:28:25.157129",
     "status": "completed"
    },
    "tags": []
   },
   "outputs": [
    {
     "name": "stdout",
     "output_type": "stream",
     "text": [
      "Кол-во отобранных признаков на этапе Feature importance (median):= 64\n"
     ]
    }
   ],
   "source": [
    "tuples = [(name, round(score, 3)) for name, score in zip(features, importances)]\n",
    "tuples = sorted(tuples, key=lambda x: x[1])\n",
    "\n",
    "top_selected_feats = [x[0] for x in tuples if x[1] >= np.median(importances)]\n",
    "print(f'Кол-во отобранных признаков на этапе Feature importance (median):= {len(top_selected_feats)}')"
   ]
  },
  {
   "cell_type": "markdown",
   "id": "dynamic-highlight",
   "metadata": {
    "papermill": {
     "duration": 0.086064,
     "end_time": "2021-04-30T07:28:25.437683",
     "exception": false,
     "start_time": "2021-04-30T07:28:25.351619",
     "status": "completed"
    },
    "tags": []
   },
   "source": [
    "# 6. LightGBM + CV (2)\n",
    "---\n",
    "## 6.1. Вторая модель (model2)\n",
    "(на признаках расчетная важность которых не меньше медианы)"
   ]
  },
  {
   "cell_type": "code",
   "execution_count": 18,
   "id": "stock-performance",
   "metadata": {
    "execution": {
     "iopub.execute_input": "2021-04-30T07:28:25.617535Z",
     "iopub.status.busy": "2021-04-30T07:28:25.616714Z",
     "iopub.status.idle": "2021-04-30T07:28:25.618921Z",
     "shell.execute_reply": "2021-04-30T07:28:25.619538Z"
    },
    "papermill": {
     "duration": 0.094491,
     "end_time": "2021-04-30T07:28:25.619724",
     "exception": false,
     "start_time": "2021-04-30T07:28:25.525233",
     "status": "completed"
    },
    "tags": []
   },
   "outputs": [],
   "source": [
    "num_model = 2"
   ]
  },
  {
   "cell_type": "code",
   "execution_count": 19,
   "id": "appreciated-application",
   "metadata": {
    "execution": {
     "iopub.execute_input": "2021-04-30T07:28:25.799100Z",
     "iopub.status.busy": "2021-04-30T07:28:25.798452Z",
     "iopub.status.idle": "2021-04-30T07:28:26.589572Z",
     "shell.execute_reply": "2021-04-30T07:28:26.588836Z"
    },
    "papermill": {
     "duration": 0.88257,
     "end_time": "2021-04-30T07:28:26.589725",
     "exception": false,
     "start_time": "2021-04-30T07:28:25.707155",
     "status": "completed"
    },
    "tags": []
   },
   "outputs": [],
   "source": [
    "!mkdir model2"
   ]
  },
  {
   "cell_type": "code",
   "execution_count": 20,
   "id": "polish-brazil",
   "metadata": {
    "execution": {
     "iopub.execute_input": "2021-04-30T07:28:27.199173Z",
     "iopub.status.busy": "2021-04-30T07:28:27.198254Z",
     "iopub.status.idle": "2021-04-30T07:38:05.518644Z",
     "shell.execute_reply": "2021-04-30T07:38:05.519260Z"
    },
    "papermill": {
     "duration": 578.843424,
     "end_time": "2021-04-30T07:38:05.519503",
     "exception": false,
     "start_time": "2021-04-30T07:28:26.676079",
     "status": "completed"
    },
    "tags": []
   },
   "outputs": [
    {
     "name": "stdout",
     "output_type": "stream",
     "text": [
      "Началось обучение на фолде номер:= 1.\n",
      "Training until validation scores don't improve for 50 rounds\n",
      "[50]\tvalid_0's auc: 0.732074\n",
      "[100]\tvalid_0's auc: 0.743551\n",
      "[150]\tvalid_0's auc: 0.749233\n",
      "[200]\tvalid_0's auc: 0.752616\n",
      "[250]\tvalid_0's auc: 0.754898\n",
      "[300]\tvalid_0's auc: 0.756749\n",
      "[350]\tvalid_0's auc: 0.758199\n",
      "[400]\tvalid_0's auc: 0.758997\n",
      "[450]\tvalid_0's auc: 0.759861\n",
      "[500]\tvalid_0's auc: 0.760592\n",
      "[550]\tvalid_0's auc: 0.761319\n",
      "[600]\tvalid_0's auc: 0.761826\n",
      "[650]\tvalid_0's auc: 0.762646\n",
      "[700]\tvalid_0's auc: 0.76319\n",
      "[750]\tvalid_0's auc: 0.763767\n",
      "[800]\tvalid_0's auc: 0.764103\n",
      "[850]\tvalid_0's auc: 0.764452\n",
      "[900]\tvalid_0's auc: 0.764745\n",
      "[950]\tvalid_0's auc: 0.764983\n",
      "[1000]\tvalid_0's auc: 0.765198\n",
      "Did not meet early stopping. Best iteration is:\n",
      "[1000]\tvalid_0's auc: 0.765198\n",
      "Обучение на фолде номер:= 1 завершилось.\n",
      "Началось обучение на фолде номер:= 2.\n",
      "Training until validation scores don't improve for 50 rounds\n",
      "[50]\tvalid_0's auc: 0.734279\n",
      "[100]\tvalid_0's auc: 0.747565\n",
      "[150]\tvalid_0's auc: 0.752897\n",
      "[200]\tvalid_0's auc: 0.755895\n",
      "[250]\tvalid_0's auc: 0.757968\n",
      "[300]\tvalid_0's auc: 0.759571\n",
      "[350]\tvalid_0's auc: 0.760886\n",
      "[400]\tvalid_0's auc: 0.761834\n",
      "[450]\tvalid_0's auc: 0.76275\n",
      "[500]\tvalid_0's auc: 0.76353\n",
      "[550]\tvalid_0's auc: 0.764278\n",
      "[600]\tvalid_0's auc: 0.764771\n",
      "[650]\tvalid_0's auc: 0.765359\n",
      "[700]\tvalid_0's auc: 0.765899\n",
      "[750]\tvalid_0's auc: 0.766385\n",
      "[800]\tvalid_0's auc: 0.766652\n",
      "[850]\tvalid_0's auc: 0.767133\n",
      "[900]\tvalid_0's auc: 0.767509\n",
      "[950]\tvalid_0's auc: 0.767769\n",
      "[1000]\tvalid_0's auc: 0.768244\n",
      "Did not meet early stopping. Best iteration is:\n",
      "[999]\tvalid_0's auc: 0.768245\n",
      "Обучение на фолде номер:= 2 завершилось.\n",
      "Началось обучение на фолде номер:= 3.\n",
      "Training until validation scores don't improve for 50 rounds\n",
      "[50]\tvalid_0's auc: 0.738592\n",
      "[100]\tvalid_0's auc: 0.751627\n",
      "[150]\tvalid_0's auc: 0.757205\n",
      "[200]\tvalid_0's auc: 0.760553\n",
      "[250]\tvalid_0's auc: 0.762651\n",
      "[300]\tvalid_0's auc: 0.764373\n",
      "[350]\tvalid_0's auc: 0.765704\n",
      "[400]\tvalid_0's auc: 0.766692\n",
      "[450]\tvalid_0's auc: 0.767632\n",
      "[500]\tvalid_0's auc: 0.768447\n",
      "[550]\tvalid_0's auc: 0.769125\n",
      "[600]\tvalid_0's auc: 0.769517\n",
      "[650]\tvalid_0's auc: 0.769962\n",
      "[700]\tvalid_0's auc: 0.770311\n",
      "[750]\tvalid_0's auc: 0.770717\n",
      "[800]\tvalid_0's auc: 0.771057\n",
      "[850]\tvalid_0's auc: 0.771438\n",
      "[900]\tvalid_0's auc: 0.771725\n",
      "[950]\tvalid_0's auc: 0.772076\n",
      "[1000]\tvalid_0's auc: 0.772264\n",
      "Did not meet early stopping. Best iteration is:\n",
      "[990]\tvalid_0's auc: 0.772288\n",
      "Обучение на фолде номер:= 3 завершилось.\n",
      "Началось обучение на фолде номер:= 4.\n",
      "Training until validation scores don't improve for 50 rounds\n",
      "[50]\tvalid_0's auc: 0.729854\n",
      "[100]\tvalid_0's auc: 0.743522\n",
      "[150]\tvalid_0's auc: 0.749751\n",
      "[200]\tvalid_0's auc: 0.753095\n",
      "[250]\tvalid_0's auc: 0.755437\n",
      "[300]\tvalid_0's auc: 0.757178\n",
      "[350]\tvalid_0's auc: 0.758785\n",
      "[400]\tvalid_0's auc: 0.759965\n",
      "[450]\tvalid_0's auc: 0.761182\n",
      "[500]\tvalid_0's auc: 0.761966\n",
      "[550]\tvalid_0's auc: 0.762787\n",
      "[600]\tvalid_0's auc: 0.763612\n",
      "[650]\tvalid_0's auc: 0.764202\n",
      "[700]\tvalid_0's auc: 0.764615\n",
      "[750]\tvalid_0's auc: 0.765189\n",
      "[800]\tvalid_0's auc: 0.765423\n",
      "[850]\tvalid_0's auc: 0.765742\n",
      "[900]\tvalid_0's auc: 0.766109\n",
      "[950]\tvalid_0's auc: 0.766379\n",
      "[1000]\tvalid_0's auc: 0.766615\n",
      "Did not meet early stopping. Best iteration is:\n",
      "[996]\tvalid_0's auc: 0.766632\n",
      "Обучение на фолде номер:= 4 завершилось.\n",
      "Началось обучение на фолде номер:= 5.\n",
      "Training until validation scores don't improve for 50 rounds\n",
      "[50]\tvalid_0's auc: 0.7373\n",
      "[100]\tvalid_0's auc: 0.750421\n",
      "[150]\tvalid_0's auc: 0.7557\n",
      "[200]\tvalid_0's auc: 0.758507\n",
      "[250]\tvalid_0's auc: 0.760552\n",
      "[300]\tvalid_0's auc: 0.762311\n",
      "[350]\tvalid_0's auc: 0.763629\n",
      "[400]\tvalid_0's auc: 0.764722\n",
      "[450]\tvalid_0's auc: 0.765623\n",
      "[500]\tvalid_0's auc: 0.766419\n",
      "[550]\tvalid_0's auc: 0.766967\n",
      "[600]\tvalid_0's auc: 0.767525\n",
      "[650]\tvalid_0's auc: 0.768081\n",
      "[700]\tvalid_0's auc: 0.768617\n",
      "[750]\tvalid_0's auc: 0.768939\n",
      "[800]\tvalid_0's auc: 0.769242\n",
      "[850]\tvalid_0's auc: 0.769482\n",
      "[900]\tvalid_0's auc: 0.769675\n",
      "[950]\tvalid_0's auc: 0.769924\n",
      "[1000]\tvalid_0's auc: 0.770096\n",
      "Did not meet early stopping. Best iteration is:\n",
      "[999]\tvalid_0's auc: 0.7701\n",
      "Обучение на фолде номер:= 5 завершилось.\n",
      "CPU times: user 26min 37s, sys: 22.5 s, total: 26min 59s\n",
      "Wall time: 9min 38s\n"
     ]
    }
   ],
   "source": [
    "%%time\n",
    "\n",
    "oof = np.zeros(len(merged_train_data))\n",
    "train_preds = np.zeros(len(merged_train_data))\n",
    "\n",
    "new_models = []\n",
    "\n",
    "tree_params = {\n",
    "    'objective': 'binary',\n",
    "    'metric': 'auc',\n",
    "    'learning_rate': 0.05,\n",
    "    'max_depth': 3,\n",
    "    'reg_lambda': 1,\n",
    "    'num_leaves': 64,\n",
    "    'n_jobs': 5,\n",
    "    'n_estimators': 1000\n",
    "}\n",
    "\n",
    "\n",
    "for fold_, (train_idx, val_idx) in enumerate(cv.split(merged_train_data, targets), 1):\n",
    "    print(f'Началось обучение на фолде номер:= {fold_}.')\n",
    "    lgb_model = lgb.LGBMClassifier(**tree_params)\n",
    "    train, val = merged_train_data.iloc[train_idx], merged_train_data.iloc[val_idx]\n",
    "    \n",
    "    lgb_model.fit(train[top_selected_feats], train.flag.values, eval_set=[(val[top_selected_feats], val.flag.values)],\n",
    "              early_stopping_rounds=50, verbose=50)\n",
    "\n",
    "    oof[val_idx] = lgb_model.predict_proba(val[top_selected_feats])[:, 1]\n",
    "    train_preds[train_idx] += lgb_model.predict_proba(train[top_selected_feats])[:, 1] / (cv.n_splits-1)\n",
    "    new_models.append(lgb_model)\n",
    "    \n",
    "    file_name_model = f'model{num_model}/model{num_model}_{fold_}.txt'\n",
    "    lgb_model.booster_.save_model(PATH_TO_WORKDIR+file_name_model)\n",
    "    print(f'Обучение на фолде номер:= {fold_} завершилось.')"
   ]
  },
  {
   "cell_type": "code",
   "execution_count": 21,
   "id": "hidden-cable",
   "metadata": {
    "execution": {
     "iopub.execute_input": "2021-04-30T07:38:05.761385Z",
     "iopub.status.busy": "2021-04-30T07:38:05.760725Z",
     "iopub.status.idle": "2021-04-30T07:38:05.765718Z",
     "shell.execute_reply": "2021-04-30T07:38:05.766342Z"
    },
    "papermill": {
     "duration": 0.12798,
     "end_time": "2021-04-30T07:38:05.766533",
     "exception": false,
     "start_time": "2021-04-30T07:38:05.638553",
     "status": "completed"
    },
    "tags": []
   },
   "outputs": [],
   "source": [
    "file_name_pickle = PATH_TO_WORKDIR + f'model{num_model}/feats_model{num_model}.pickle'\n",
    "with open(file_name_pickle, 'wb') as f:\n",
    "    pickle.dump(top_selected_feats, f)"
   ]
  },
  {
   "cell_type": "code",
   "execution_count": 22,
   "id": "forty-cologne",
   "metadata": {
    "execution": {
     "iopub.execute_input": "2021-04-30T07:38:06.014246Z",
     "iopub.status.busy": "2021-04-30T07:38:06.013586Z",
     "iopub.status.idle": "2021-04-30T07:38:06.410431Z",
     "shell.execute_reply": "2021-04-30T07:38:06.410929Z"
    },
    "papermill": {
     "duration": 0.52429,
     "end_time": "2021-04-30T07:38:06.411130",
     "exception": false,
     "start_time": "2021-04-30T07:38:05.886840",
     "status": "completed"
    },
    "tags": []
   },
   "outputs": [
    {
     "data": {
      "text/plain": [
       "('Train roc-auc model2', 0.7966375744839358)"
      ]
     },
     "execution_count": 22,
     "metadata": {},
     "output_type": "execute_result"
    }
   ],
   "source": [
    "f'Train roc-auc model{num_model}', roc_auc_score(targets, train_preds)"
   ]
  },
  {
   "cell_type": "code",
   "execution_count": 23,
   "id": "indirect-broadcasting",
   "metadata": {
    "execution": {
     "iopub.execute_input": "2021-04-30T07:38:06.656678Z",
     "iopub.status.busy": "2021-04-30T07:38:06.656042Z",
     "iopub.status.idle": "2021-04-30T07:38:07.049023Z",
     "shell.execute_reply": "2021-04-30T07:38:07.048438Z"
    },
    "papermill": {
     "duration": 0.515421,
     "end_time": "2021-04-30T07:38:07.049161",
     "exception": false,
     "start_time": "2021-04-30T07:38:06.533740",
     "status": "completed"
    },
    "tags": []
   },
   "outputs": [
    {
     "data": {
      "text/plain": [
       "('CV roc-auc model2', 0.7684856517031308)"
      ]
     },
     "execution_count": 23,
     "metadata": {},
     "output_type": "execute_result"
    }
   ],
   "source": [
    "f'CV roc-auc model{num_model}', roc_auc_score(targets, oof)"
   ]
  },
  {
   "cell_type": "code",
   "execution_count": 24,
   "id": "cloudy-bankruptcy",
   "metadata": {
    "execution": {
     "iopub.execute_input": "2021-04-30T07:38:07.297335Z",
     "iopub.status.busy": "2021-04-30T07:38:07.296622Z",
     "iopub.status.idle": "2021-04-30T07:38:53.740188Z",
     "shell.execute_reply": "2021-04-30T07:38:53.740714Z"
    },
    "papermill": {
     "duration": 46.570337,
     "end_time": "2021-04-30T07:38:53.740919",
     "exception": false,
     "start_time": "2021-04-30T07:38:07.170582",
     "status": "completed"
    },
    "tags": []
   },
   "outputs": [
    {
     "data": {
      "application/vnd.jupyter.widget-view+json": {
       "model_id": "d9f891b17bf14ab2baed56797aae8e77",
       "version_major": 2,
       "version_minor": 0
      },
      "text/plain": [
       "  0%|          | 0/5 [00:00<?, ?it/s]"
      ]
     },
     "metadata": {},
     "output_type": "display_data"
    }
   ],
   "source": [
    "score = np.zeros(len(merged_test_data))\n",
    "\n",
    "for model in tqdm.tqdm_notebook(new_models):\n",
    "    score += model.predict_proba(merged_test_data[top_selected_feats])[:, 1] / len(models)\n",
    "    \n",
    "submission = pd.DataFrame({\n",
    "    'app_id' : merged_test_data.app_id.values,\n",
    "    'score': score\n",
    "}) \n",
    "\n",
    "submission.to_csv(f'sub_model{num_model}.csv', index=None)  # ~ 0.7346 на public test"
   ]
  },
  {
   "cell_type": "markdown",
   "id": "advanced-acrylic",
   "metadata": {
    "papermill": {
     "duration": 0.122075,
     "end_time": "2021-04-30T07:38:53.986534",
     "exception": false,
     "start_time": "2021-04-30T07:38:53.864459",
     "status": "completed"
    },
    "tags": []
   },
   "source": [
    "# 7. Permutation importance\n",
    "---\n",
    "Это способ оценки важности признаков, который можно применить к любой обученной модели на табличных данных. Данный тип важности определеяется для каждого признака, как изменение в скоре (в нашем случае - roc_auc) при случайном перемешиваниии столбца с значениями этого признака несколько раз."
   ]
  },
  {
   "cell_type": "code",
   "execution_count": 25,
   "id": "musical-japan",
   "metadata": {
    "execution": {
     "iopub.execute_input": "2021-04-30T07:38:54.235334Z",
     "iopub.status.busy": "2021-04-30T07:38:54.234634Z",
     "iopub.status.idle": "2021-04-30T10:03:26.777672Z",
     "shell.execute_reply": "2021-04-30T10:03:26.778191Z"
    },
    "papermill": {
     "duration": 8672.67061,
     "end_time": "2021-04-30T10:03:26.778414",
     "exception": false,
     "start_time": "2021-04-30T07:38:54.107804",
     "status": "completed"
    },
    "tags": []
   },
   "outputs": [
    {
     "name": "stdout",
     "output_type": "stream",
     "text": [
      "Началась обработка фолда:= 1\n",
      "Обработка фолда:= 1 закончена.\n",
      "Началась обработка фолда:= 2\n",
      "Обработка фолда:= 2 закончена.\n",
      "Началась обработка фолда:= 3\n",
      "Обработка фолда:= 3 закончена.\n",
      "Началась обработка фолда:= 4\n",
      "Обработка фолда:= 4 закончена.\n",
      "Началась обработка фолда:= 5\n",
      "Обработка фолда:= 5 закончена.\n",
      "CPU times: user 2min 26s, sys: 3.44 s, total: 2min 29s\n",
      "Wall time: 2h 24min 32s\n"
     ]
    }
   ],
   "source": [
    "%%time\n",
    "permut_importance = np.zeros(len(features))\n",
    "\n",
    "for fold_, (_, val_idx) in enumerate(cv.split(merged_train_data, targets), 1):\n",
    "    print(f'Началась обработка фолда:= {fold_}')\n",
    "    val = merged_train_data.iloc[val_idx]\n",
    "    importances_report = permutation_importance(models[fold_-1], val[features], val.flag.values, n_repeats=3, \n",
    "                                     n_jobs=3, scoring='roc_auc')\n",
    "    permut_importance += importances_report.importances_mean / cv.n_splits\n",
    "    print(f'Обработка фолда:= {fold_} закончена.')"
   ]
  },
  {
   "cell_type": "code",
   "execution_count": 26,
   "id": "palestinian-heavy",
   "metadata": {
    "execution": {
     "iopub.execute_input": "2021-04-30T10:03:27.054593Z",
     "iopub.status.busy": "2021-04-30T10:03:27.053509Z",
     "iopub.status.idle": "2021-04-30T10:03:27.395079Z",
     "shell.execute_reply": "2021-04-30T10:03:27.394458Z"
    },
    "papermill": {
     "duration": 0.491792,
     "end_time": "2021-04-30T10:03:27.395222",
     "exception": false,
     "start_time": "2021-04-30T10:03:26.903430",
     "status": "completed"
    },
    "tags": []
   },
   "outputs": [
    {
     "data": {
      "image/png": "[encoded data removed]",
      "text/plain": [
       "<Figure size 720x576 with 1 Axes>"
      ]
     },
     "metadata": {
      "needs_background": "light"
     },
     "output_type": "display_data"
    }
   ],
   "source": [
    "plot_feature_importance(features, permut_importance*10000, top_feats=20, title='Permutation importance', \n",
    "                        x_label='Importance')"
   ]
  },
  {
   "cell_type": "markdown",
   "id": "adjusted-sigma",
   "metadata": {
    "papermill": {
     "duration": 0.124211,
     "end_time": "2021-04-30T10:03:27.645743",
     "exception": false,
     "start_time": "2021-04-30T10:03:27.521532",
     "status": "completed"
    },
    "tags": []
   },
   "source": [
    "Используя техники оценки важности признаков можно интерпретировать модель, пытаться генерировать новые признаки или упрощать модель, удаляя самые неинформативные. Попробуем оставить топ информативных признаков (с точки зрения) `permutation importance`. Удаление из модели признаков, как правило, уменьшает ее склонность к переобучению. А самое главное - может существенно ускорить процесс обучения и последующий процесс использования ее в продуктовых целях, что для меня достаточно важно потому что есть цель развернуть деплой модели на heroku, а его мощности скромные. "
   ]
  },
  {
   "cell_type": "code",
   "execution_count": 27,
   "id": "published-cartridge",
   "metadata": {
    "execution": {
     "iopub.execute_input": "2021-04-30T10:03:27.905854Z",
     "iopub.status.busy": "2021-04-30T10:03:27.905035Z",
     "iopub.status.idle": "2021-04-30T10:03:27.909226Z",
     "shell.execute_reply": "2021-04-30T10:03:27.908598Z"
    },
    "papermill": {
     "duration": 0.138856,
     "end_time": "2021-04-30T10:03:27.909395",
     "exception": false,
     "start_time": "2021-04-30T10:03:27.770539",
     "status": "completed"
    },
    "tags": []
   },
   "outputs": [
    {
     "name": "stdout",
     "output_type": "stream",
     "text": [
      "Кол-во отобранных признаков после метода Permutation importance:= 58\n"
     ]
    }
   ],
   "source": [
    "tuples = [(name, round(score, 3)) for name, score in zip(features, permut_importance)]\n",
    "tuples = sorted(tuples, key=lambda x: x[1])\n",
    "\n",
    "top_selected_feats = [x[0] for x in tuples if x[1] > 0]\n",
    "print(f'Кол-во отобранных признаков после метода Permutation importance:= {len(top_selected_feats)}')"
   ]
  },
  {
   "cell_type": "markdown",
   "id": "fundamental-schedule",
   "metadata": {
    "papermill": {
     "duration": 0.127285,
     "end_time": "2021-04-30T10:03:28.164417",
     "exception": false,
     "start_time": "2021-04-30T10:03:28.037132",
     "status": "completed"
    },
    "tags": []
   },
   "source": [
    "# 8. LightGBM + CV (3)\n",
    "---\n",
    "## 8.1. Третья модель (model3)\n",
    "(на признаках после отбора с помощью методов Features importance(median) и Permutation importance)"
   ]
  },
  {
   "cell_type": "code",
   "execution_count": 28,
   "id": "impressed-residence",
   "metadata": {
    "execution": {
     "iopub.execute_input": "2021-04-30T10:03:28.423093Z",
     "iopub.status.busy": "2021-04-30T10:03:28.422452Z",
     "iopub.status.idle": "2021-04-30T10:03:28.426542Z",
     "shell.execute_reply": "2021-04-30T10:03:28.425846Z"
    },
    "papermill": {
     "duration": 0.135828,
     "end_time": "2021-04-30T10:03:28.426697",
     "exception": false,
     "start_time": "2021-04-30T10:03:28.290869",
     "status": "completed"
    },
    "tags": []
   },
   "outputs": [],
   "source": [
    "num_model = 3"
   ]
  },
  {
   "cell_type": "code",
   "execution_count": 29,
   "id": "applied-introduction",
   "metadata": {
    "execution": {
     "iopub.execute_input": "2021-04-30T10:03:28.707709Z",
     "iopub.status.busy": "2021-04-30T10:03:28.706655Z",
     "iopub.status.idle": "2021-04-30T10:03:29.443861Z",
     "shell.execute_reply": "2021-04-30T10:03:29.443303Z"
    },
    "papermill": {
     "duration": 0.888238,
     "end_time": "2021-04-30T10:03:29.443999",
     "exception": false,
     "start_time": "2021-04-30T10:03:28.555761",
     "status": "completed"
    },
    "tags": []
   },
   "outputs": [],
   "source": [
    "!mkdir model3"
   ]
  },
  {
   "cell_type": "code",
   "execution_count": 30,
   "id": "piano-cooperation",
   "metadata": {
    "execution": {
     "iopub.execute_input": "2021-04-30T10:03:29.705305Z",
     "iopub.status.busy": "2021-04-30T10:03:29.704641Z",
     "iopub.status.idle": "2021-04-30T10:12:22.441646Z",
     "shell.execute_reply": "2021-04-30T10:12:22.442159Z"
    },
    "papermill": {
     "duration": 532.872696,
     "end_time": "2021-04-30T10:12:22.442376",
     "exception": false,
     "start_time": "2021-04-30T10:03:29.569680",
     "status": "completed"
    },
    "tags": []
   },
   "outputs": [
    {
     "name": "stdout",
     "output_type": "stream",
     "text": [
      "Training with fold 1 started.\n",
      "Training until validation scores don't improve for 50 rounds\n",
      "[50]\tvalid_0's auc: 0.732309\n",
      "[100]\tvalid_0's auc: 0.74511\n",
      "[150]\tvalid_0's auc: 0.750744\n",
      "[200]\tvalid_0's auc: 0.754158\n",
      "[250]\tvalid_0's auc: 0.756806\n",
      "[300]\tvalid_0's auc: 0.758711\n",
      "[350]\tvalid_0's auc: 0.760277\n",
      "[400]\tvalid_0's auc: 0.76151\n",
      "[450]\tvalid_0's auc: 0.762515\n",
      "[500]\tvalid_0's auc: 0.763431\n",
      "[550]\tvalid_0's auc: 0.76405\n",
      "[600]\tvalid_0's auc: 0.76465\n",
      "[650]\tvalid_0's auc: 0.765179\n",
      "[700]\tvalid_0's auc: 0.765693\n",
      "[750]\tvalid_0's auc: 0.765992\n",
      "[800]\tvalid_0's auc: 0.766192\n",
      "[850]\tvalid_0's auc: 0.76654\n",
      "[900]\tvalid_0's auc: 0.76681\n",
      "[950]\tvalid_0's auc: 0.766991\n",
      "[1000]\tvalid_0's auc: 0.7672\n",
      "Did not meet early stopping. Best iteration is:\n",
      "[999]\tvalid_0's auc: 0.767214\n",
      "Training with fold 1 completed.\n",
      "Training with fold 2 started.\n",
      "Training until validation scores don't improve for 50 rounds\n",
      "[50]\tvalid_0's auc: 0.735967\n",
      "[100]\tvalid_0's auc: 0.748318\n",
      "[150]\tvalid_0's auc: 0.75349\n",
      "[200]\tvalid_0's auc: 0.756919\n",
      "[250]\tvalid_0's auc: 0.759222\n",
      "[300]\tvalid_0's auc: 0.760863\n",
      "[350]\tvalid_0's auc: 0.762241\n",
      "[400]\tvalid_0's auc: 0.763317\n",
      "[450]\tvalid_0's auc: 0.764111\n",
      "[500]\tvalid_0's auc: 0.764968\n",
      "[550]\tvalid_0's auc: 0.765675\n",
      "[600]\tvalid_0's auc: 0.766009\n",
      "[650]\tvalid_0's auc: 0.766618\n",
      "[700]\tvalid_0's auc: 0.767164\n",
      "[750]\tvalid_0's auc: 0.767591\n",
      "[800]\tvalid_0's auc: 0.767965\n",
      "[850]\tvalid_0's auc: 0.768294\n",
      "[900]\tvalid_0's auc: 0.768531\n",
      "[950]\tvalid_0's auc: 0.768667\n",
      "[1000]\tvalid_0's auc: 0.768849\n",
      "Did not meet early stopping. Best iteration is:\n",
      "[988]\tvalid_0's auc: 0.768868\n",
      "Training with fold 2 completed.\n",
      "Training with fold 3 started.\n",
      "Training until validation scores don't improve for 50 rounds\n",
      "[50]\tvalid_0's auc: 0.739421\n",
      "[100]\tvalid_0's auc: 0.751815\n",
      "[150]\tvalid_0's auc: 0.757412\n",
      "[200]\tvalid_0's auc: 0.761156\n",
      "[250]\tvalid_0's auc: 0.76378\n",
      "[300]\tvalid_0's auc: 0.765616\n",
      "[350]\tvalid_0's auc: 0.767024\n",
      "[400]\tvalid_0's auc: 0.768122\n",
      "[450]\tvalid_0's auc: 0.769107\n",
      "[500]\tvalid_0's auc: 0.769893\n",
      "[550]\tvalid_0's auc: 0.77049\n",
      "[600]\tvalid_0's auc: 0.771074\n",
      "[650]\tvalid_0's auc: 0.771464\n",
      "[700]\tvalid_0's auc: 0.771894\n",
      "[750]\tvalid_0's auc: 0.772264\n",
      "[800]\tvalid_0's auc: 0.772696\n",
      "[850]\tvalid_0's auc: 0.773013\n",
      "[900]\tvalid_0's auc: 0.773175\n",
      "[950]\tvalid_0's auc: 0.773327\n",
      "[1000]\tvalid_0's auc: 0.773514\n",
      "Did not meet early stopping. Best iteration is:\n",
      "[993]\tvalid_0's auc: 0.773521\n",
      "Training with fold 3 completed.\n",
      "Training with fold 4 started.\n",
      "Training until validation scores don't improve for 50 rounds\n",
      "[50]\tvalid_0's auc: 0.730608\n",
      "[100]\tvalid_0's auc: 0.74403\n",
      "[150]\tvalid_0's auc: 0.749875\n",
      "[200]\tvalid_0's auc: 0.75357\n",
      "[250]\tvalid_0's auc: 0.756395\n",
      "[300]\tvalid_0's auc: 0.758264\n",
      "[350]\tvalid_0's auc: 0.759657\n",
      "[400]\tvalid_0's auc: 0.761088\n",
      "[450]\tvalid_0's auc: 0.762207\n",
      "[500]\tvalid_0's auc: 0.763162\n",
      "[550]\tvalid_0's auc: 0.764126\n",
      "[600]\tvalid_0's auc: 0.764839\n",
      "[650]\tvalid_0's auc: 0.765537\n",
      "[700]\tvalid_0's auc: 0.765985\n",
      "[750]\tvalid_0's auc: 0.766412\n",
      "[800]\tvalid_0's auc: 0.766722\n",
      "[850]\tvalid_0's auc: 0.766988\n",
      "[900]\tvalid_0's auc: 0.767225\n",
      "[950]\tvalid_0's auc: 0.767537\n",
      "[1000]\tvalid_0's auc: 0.767737\n",
      "Did not meet early stopping. Best iteration is:\n",
      "[998]\tvalid_0's auc: 0.767762\n",
      "Training with fold 4 completed.\n",
      "Training with fold 5 started.\n",
      "Training until validation scores don't improve for 50 rounds\n",
      "[50]\tvalid_0's auc: 0.737851\n",
      "[100]\tvalid_0's auc: 0.750908\n",
      "[150]\tvalid_0's auc: 0.756471\n",
      "[200]\tvalid_0's auc: 0.759924\n",
      "[250]\tvalid_0's auc: 0.762314\n",
      "[300]\tvalid_0's auc: 0.764086\n",
      "[350]\tvalid_0's auc: 0.765656\n",
      "[400]\tvalid_0's auc: 0.766597\n",
      "[450]\tvalid_0's auc: 0.76754\n",
      "[500]\tvalid_0's auc: 0.768261\n",
      "[550]\tvalid_0's auc: 0.76901\n",
      "[600]\tvalid_0's auc: 0.769405\n",
      "[650]\tvalid_0's auc: 0.769866\n",
      "[700]\tvalid_0's auc: 0.770318\n",
      "[750]\tvalid_0's auc: 0.770658\n",
      "[800]\tvalid_0's auc: 0.771072\n",
      "[850]\tvalid_0's auc: 0.771463\n",
      "[900]\tvalid_0's auc: 0.771646\n",
      "[950]\tvalid_0's auc: 0.771849\n",
      "[1000]\tvalid_0's auc: 0.772148\n",
      "Did not meet early stopping. Best iteration is:\n",
      "[1000]\tvalid_0's auc: 0.772148\n",
      "Training with fold 5 completed.\n",
      "CPU times: user 24min 8s, sys: 21.3 s, total: 24min 30s\n",
      "Wall time: 8min 52s\n"
     ]
    }
   ],
   "source": [
    "%%time\n",
    "\n",
    "oof = np.zeros(len(merged_train_data))\n",
    "train_preds = np.zeros(len(merged_train_data))\n",
    "\n",
    "new_models = []\n",
    "\n",
    "tree_params = {\n",
    "    'objective': 'binary',\n",
    "    'metric': 'auc',\n",
    "    'learning_rate': 0.05,\n",
    "    'max_depth': 3,\n",
    "    'reg_lambda': 1,\n",
    "    'num_leaves': 64,\n",
    "    'n_jobs': 5,\n",
    "    'n_estimators': 1000\n",
    "}\n",
    "\n",
    "\n",
    "for fold_, (train_idx, val_idx) in enumerate(cv.split(merged_train_data, targets), 1):\n",
    "    print(f'Training with fold {fold_} started.')\n",
    "    lgb_model = lgb.LGBMClassifier(**tree_params)\n",
    "    train, val = merged_train_data.iloc[train_idx], merged_train_data.iloc[val_idx]\n",
    "    \n",
    "    lgb_model.fit(train[top_selected_feats], train.flag.values, eval_set=[(val[top_selected_feats], val.flag.values)],\n",
    "              early_stopping_rounds=50, verbose=50)\n",
    "\n",
    "    \n",
    "    oof[val_idx] = lgb_model.predict_proba(val[top_selected_feats])[:, 1]\n",
    "    train_preds[train_idx] += lgb_model.predict_proba(train[top_selected_feats])[:, 1] / (cv.n_splits-1)\n",
    "    new_models.append(lgb_model)\n",
    "    \n",
    "    file_name_model = f'model{num_model}/model{num_model}_{fold_}.txt'\n",
    "    lgb_model.booster_.save_model(PATH_TO_WORKDIR+file_name_model)\n",
    "    print(f'Training with fold {fold_} completed.')"
   ]
  },
  {
   "cell_type": "code",
   "execution_count": 31,
   "id": "sustained-cradle",
   "metadata": {
    "execution": {
     "iopub.execute_input": "2021-04-30T10:12:22.770929Z",
     "iopub.status.busy": "2021-04-30T10:12:22.770021Z",
     "iopub.status.idle": "2021-04-30T10:12:22.772828Z",
     "shell.execute_reply": "2021-04-30T10:12:22.773505Z"
    },
    "papermill": {
     "duration": 0.168272,
     "end_time": "2021-04-30T10:12:22.773689",
     "exception": false,
     "start_time": "2021-04-30T10:12:22.605417",
     "status": "completed"
    },
    "tags": []
   },
   "outputs": [],
   "source": [
    "file_name_pickle = PATH_TO_WORKDIR + f'model{num_model}/feats_model{num_model}.pickle'\n",
    "with open(file_name_pickle, 'wb') as f:\n",
    "    pickle.dump(top_selected_feats, f)"
   ]
  },
  {
   "cell_type": "code",
   "execution_count": 32,
   "id": "breeding-princess",
   "metadata": {
    "execution": {
     "iopub.execute_input": "2021-04-30T10:12:23.131991Z",
     "iopub.status.busy": "2021-04-30T10:12:23.131021Z",
     "iopub.status.idle": "2021-04-30T10:12:23.533623Z",
     "shell.execute_reply": "2021-04-30T10:12:23.533054Z"
    },
    "papermill": {
     "duration": 0.578355,
     "end_time": "2021-04-30T10:12:23.533768",
     "exception": false,
     "start_time": "2021-04-30T10:12:22.955413",
     "status": "completed"
    },
    "tags": []
   },
   "outputs": [
    {
     "data": {
      "text/plain": [
       "('Train roc-auc model3', 0.796965147920597)"
      ]
     },
     "execution_count": 32,
     "metadata": {},
     "output_type": "execute_result"
    }
   ],
   "source": [
    "f'Train roc-auc model{num_model}', roc_auc_score(targets, train_preds)"
   ]
  },
  {
   "cell_type": "code",
   "execution_count": 33,
   "id": "tight-proxy",
   "metadata": {
    "execution": {
     "iopub.execute_input": "2021-04-30T10:12:23.860562Z",
     "iopub.status.busy": "2021-04-30T10:12:23.859782Z",
     "iopub.status.idle": "2021-04-30T10:12:24.261606Z",
     "shell.execute_reply": "2021-04-30T10:12:24.260994Z"
    },
    "papermill": {
     "duration": 0.566636,
     "end_time": "2021-04-30T10:12:24.261767",
     "exception": false,
     "start_time": "2021-04-30T10:12:23.695131",
     "status": "completed"
    },
    "tags": []
   },
   "outputs": [
    {
     "data": {
      "text/plain": [
       "('CV roc-auc model3', 0.7698947833414949)"
      ]
     },
     "execution_count": 33,
     "metadata": {},
     "output_type": "execute_result"
    }
   ],
   "source": [
    "f'CV roc-auc model{num_model}', roc_auc_score(targets, oof)"
   ]
  },
  {
   "cell_type": "code",
   "execution_count": 34,
   "id": "posted-nitrogen",
   "metadata": {
    "execution": {
     "iopub.execute_input": "2021-04-30T10:12:24.596434Z",
     "iopub.status.busy": "2021-04-30T10:12:24.595675Z",
     "iopub.status.idle": "2021-04-30T10:13:12.045813Z",
     "shell.execute_reply": "2021-04-30T10:13:12.045159Z"
    },
    "papermill": {
     "duration": 47.618095,
     "end_time": "2021-04-30T10:13:12.045969",
     "exception": false,
     "start_time": "2021-04-30T10:12:24.427874",
     "status": "completed"
    },
    "tags": []
   },
   "outputs": [
    {
     "data": {
      "application/vnd.jupyter.widget-view+json": {
       "model_id": "de8a33e7ded041979ed2aa702fb2856d",
       "version_major": 2,
       "version_minor": 0
      },
      "text/plain": [
       "  0%|          | 0/5 [00:00<?, ?it/s]"
      ]
     },
     "metadata": {},
     "output_type": "display_data"
    }
   ],
   "source": [
    "score = np.zeros(len(merged_test_data))\n",
    "\n",
    "for model in tqdm.tqdm_notebook(new_models):\n",
    "    score += model.predict_proba(merged_test_data[top_selected_feats])[:, 1] / len(models)\n",
    "    \n",
    "submission = pd.DataFrame({\n",
    "    'app_id' : merged_test_data.app_id.values,\n",
    "    'score': score\n",
    "}) \n",
    "\n",
    "submission.to_csv(f'sub_model{num_model}.csv', index=None)  # ~ 0.736 roc-auc на public test"
   ]
  },
  {
   "cell_type": "markdown",
   "id": "increasing-phenomenon",
   "metadata": {
    "papermill": {
     "duration": 0.162787,
     "end_time": "2021-04-30T10:13:12.371514",
     "exception": false,
     "start_time": "2021-04-30T10:13:12.208727",
     "status": "completed"
    },
    "tags": []
   },
   "source": [
    "# 9. Интерпретация предсказаний модели (shap)\n",
    "---\n",
    "В задаче кредитного скорринга важна интепретируемость модели, для этого можно использовать  библиотеку shap. Мы используем так называемый summary plot, позволяющий получить общую картину о влиянии того или иного признака на предсказание модели визуализуруя всю выборку сразу. Я не смог разобраться как использовать методы shap для модели обученной на 5-ти фолдах. Ниже я заново обучаю модель после сплита 90:10 без деления на фолды, чтобы выделить основные закономерности влияния фич на таргет и попытаться визуализировать их разделяющую способность."
   ]
  },
  {
   "cell_type": "code",
   "execution_count": 35,
   "id": "accompanied-america",
   "metadata": {
    "execution": {
     "iopub.execute_input": "2021-04-30T10:13:12.701854Z",
     "iopub.status.busy": "2021-04-30T10:13:12.700899Z",
     "iopub.status.idle": "2021-04-30T10:15:25.786787Z",
     "shell.execute_reply": "2021-04-30T10:15:25.786238Z"
    },
    "papermill": {
     "duration": 133.253217,
     "end_time": "2021-04-30T10:15:25.786944",
     "exception": false,
     "start_time": "2021-04-30T10:13:12.533727",
     "status": "completed"
    },
    "tags": []
   },
   "outputs": [
    {
     "name": "stdout",
     "output_type": "stream",
     "text": [
      "Training until validation scores don't improve for 50 rounds\n",
      "Did not meet early stopping. Best iteration is:\n",
      "[1000]\tvalid_0's auc: 0.765385\n",
      "CPU times: user 6min 5s, sys: 8.57 s, total: 6min 13s\n",
      "Wall time: 2min 12s\n"
     ]
    },
    {
     "data": {
      "text/plain": [
       "LGBMClassifier(learning_rate=0.05, max_depth=3, metric='auc', n_estimators=1000,\n",
       "               n_jobs=5, num_leaves=64, objective='binary', reg_lambda=1,\n",
       "               seed=100)"
      ]
     },
     "execution_count": 35,
     "metadata": {},
     "output_type": "execute_result"
    }
   ],
   "source": [
    "%%time\n",
    "train, val = train_test_split(merged_train_data, random_state=100, test_size=0.1)\n",
    "\n",
    "tree_params = {\n",
    "    'objective': 'binary',\n",
    "    'metric': 'auc',\n",
    "    'learning_rate': 0.05,\n",
    "    'max_depth': 3,\n",
    "    'reg_lambda': 1,\n",
    "    'num_leaves': 64,\n",
    "    'seed': 100,\n",
    "    'n_jobs': 5,\n",
    "    'n_estimators': 1000\n",
    "}\n",
    "\n",
    "lgb_model = lgb.LGBMClassifier(**tree_params)\n",
    "lgb_model.fit(train[features], train.flag.values, eval_set=[(val[features], val.flag.values)],\n",
    "              early_stopping_rounds=50, verbose=-1)"
   ]
  },
  {
   "cell_type": "code",
   "execution_count": 36,
   "id": "relative-newspaper",
   "metadata": {
    "execution": {
     "iopub.execute_input": "2021-04-30T10:15:26.121148Z",
     "iopub.status.busy": "2021-04-30T10:15:26.120505Z",
     "iopub.status.idle": "2021-04-30T10:15:26.502482Z",
     "shell.execute_reply": "2021-04-30T10:15:26.501660Z"
    },
    "papermill": {
     "duration": 0.551722,
     "end_time": "2021-04-30T10:15:26.502652",
     "exception": false,
     "start_time": "2021-04-30T10:15:25.950930",
     "status": "completed"
    },
    "tags": []
   },
   "outputs": [],
   "source": [
    "explainer = shap.TreeExplainer(lgb_model)"
   ]
  },
  {
   "cell_type": "code",
   "execution_count": 37,
   "id": "amino-newman",
   "metadata": {
    "execution": {
     "iopub.execute_input": "2021-04-30T10:15:26.867116Z",
     "iopub.status.busy": "2021-04-30T10:15:26.866471Z",
     "iopub.status.idle": "2021-04-30T10:16:00.909436Z",
     "shell.execute_reply": "2021-04-30T10:16:00.908605Z"
    },
    "papermill": {
     "duration": 34.241482,
     "end_time": "2021-04-30T10:16:00.909623",
     "exception": false,
     "start_time": "2021-04-30T10:15:26.668141",
     "status": "completed"
    },
    "tags": []
   },
   "outputs": [],
   "source": [
    "shap_values = explainer.shap_values(val[features])"
   ]
  },
  {
   "cell_type": "code",
   "execution_count": 38,
   "id": "suburban-portal",
   "metadata": {
    "execution": {
     "iopub.execute_input": "2021-04-30T10:16:01.273388Z",
     "iopub.status.busy": "2021-04-30T10:16:01.272699Z",
     "iopub.status.idle": "2021-04-30T10:16:20.202354Z",
     "shell.execute_reply": "2021-04-30T10:16:20.201648Z"
    },
    "papermill": {
     "duration": 19.127079,
     "end_time": "2021-04-30T10:16:20.202500",
     "exception": false,
     "start_time": "2021-04-30T10:16:01.075421",
     "status": "completed"
    },
    "tags": []
   },
   "outputs": [
    {
     "data": {
      "image/png": "[encoded data removed]",
      "text/plain": [
       "<Figure size 576x684 with 2 Axes>"
      ]
     },
     "metadata": {
      "needs_background": "light"
     },
     "output_type": "display_data"
    }
   ],
   "source": [
    "shap.summary_plot(shap_values[1], val[features])"
   ]
  },
  {
   "cell_type": "markdown",
   "id": "heavy-lambda",
   "metadata": {
    "papermill": {
     "duration": 0.166211,
     "end_time": "2021-04-30T10:16:20.535574",
     "exception": false,
     "start_time": "2021-04-30T10:16:20.369363",
     "status": "completed"
    },
    "tags": []
   },
   "source": [
    "График выше показывает влияние и разделяющую способность признаков:\n",
    "- каждая точка графика это клиент\n",
    "- цвет - значение прогноза дефолта, чем краснее - тем прогноз дефолта выше, и наоборот\n",
    "- горизонтальное положение точки показывает, приводит ли значение конкретной фичи этого клиента к росту предсказания дефолта, или наоборот.\n",
    "\n",
    "***Например можно увидеть следующие тренды:***\n",
    "\n",
    "1. уменьшение признака 'hour_diff_median' приводит к росту значения целевой переменной (то есть можно предположить, что клиенту приходится делать транзакции слишком часто - а это свидетельство того, что клиент вероятнее выйдет в дефолт, чем клиент который чувствует себя более уверенно в финансовом плане и может позволить делать крупные оплаты сразу не разбивая их на части)\n",
    "2. увеличение признака 'hour_diff_max' приводит к росту значения целевой переменной (то есть можно предположить, что клиент долго не пользовался картой это могло произойти в следствии овердрафта и необходимости перекредитования в другом банке)\n",
    "3. уменьшение признака 'count_mcc_category_9' приводит к росту значения целевой переменной (к сожалению категории торговых точек как данные о клиентах были обезличены, остается только предположить, что вероятно это категория 'Кафе,бары и рестораны' и клиенты испытывающие сложности в финансах перестают их посещать или делают это существенно реже.)\n",
    "4. увеличение признака 'count_operation_type_5' приводит к росту значения целевой переменной (из-за обезличивания типа операций и дополнительного анализа видно что у большинства клиентов таких операций нет, вероятно речь об операции внесение минимального платежа, вместо гашения очередного платежа. И собственно если это так что увеличение кол-ва таких операций приводит к дефолту потому что нагрузка в этом случае только возрастает)\n",
    "5. среднее и максимальное значение признака 'product' приводит к росту значения целевой переменной (предположу что 0 - кредит безналичными на карту, 1 - это кредит наличными, 2 - кредит на крупные покупки, 3 - кредит на покупку авто, 4 - ипотека. Сделать такое предположение можно и-за того что 80% всех кредитов по кол-ву приходится на продукты 0,1. А самый редкий это продукт 4. Среднее значение дефолтов 2-2,5% процента по продуктам 0,1,3. По продукту 2 - 7%. А по продукту 4 - 3%. Вероятно кредиты на крупные покупки проверяются менее чем ипотека и они не имеют обеспечения как авто для погашения кредита.)\n",
    "6. уменьшение признака 'days_before_max' приводит к росту значения целевой переменной (низкое значение максимума кол-ва дней перед взятием кредита означает короткая история транзакций в банке. Можно предположить, что клиент открыл карту и через короткое время получил кредит. Это либо мошеническая схема, но этот вариант мы не рассматривает ибо он скорее всего не массовый. А вероятно это случай перекредитования в другом банке, когда банк по соновной карте перестал предоставлять или увеличивать кредитную линию. Что является свидетельством неплатежеспособности клиента.)"
   ]
  },
  {
   "cell_type": "markdown",
   "id": "olive-parker",
   "metadata": {
    "papermill": {
     "duration": 0.16611,
     "end_time": "2021-04-30T10:16:20.868492",
     "exception": false,
     "start_time": "2021-04-30T10:16:20.702382",
     "status": "completed"
    },
    "tags": []
   },
   "source": [
    "# 10. Target Permutation\n",
    "---\n",
    "Отбор признаков методом target permutation основан на сравнении важности признака, которая быал получена при обучении на обычной выборке, с распределением важности этого признака для моделей, которые обучены на выборках с перемешанной целевой переменной."
   ]
  },
  {
   "cell_type": "code",
   "execution_count": 39,
   "id": "medium-manhattan",
   "metadata": {
    "execution": {
     "iopub.execute_input": "2021-04-30T10:16:21.213643Z",
     "iopub.status.busy": "2021-04-30T10:16:21.212931Z",
     "iopub.status.idle": "2021-04-30T10:16:21.215075Z",
     "shell.execute_reply": "2021-04-30T10:16:21.215626Z"
    },
    "papermill": {
     "duration": 0.18063,
     "end_time": "2021-04-30T10:16:21.215810",
     "exception": false,
     "start_time": "2021-04-30T10:16:21.035180",
     "status": "completed"
    },
    "tags": []
   },
   "outputs": [],
   "source": [
    "def get_feature_importances(frame, shuffle=False, seed=100, importance_type='gain'):\n",
    "    # запишем целевую target в переменную\n",
    "    y = frame.flag.values.copy()\n",
    "    if shuffle:\n",
    "        # перемешаем целевую переменную\n",
    "        y = frame.flag.copy().sample(frac=1.0).values\n",
    "    \n",
    "    # обучим случайный лес из LightGBM ( реализация гораздо быстрее, чем в sklearn )\n",
    "    # сделаем это для того, чтобы не выделять отдельную выборку под валидацию для градиентного бустинга\n",
    "    tree_params = {\n",
    "    'objective': 'binary',\n",
    "    'boosting_type': 'rf',\n",
    "    'metric': 'auc',\n",
    "    'subsample_freq': np.random.choice([5, 10, 15, 20]),\n",
    "    'subsample': np.random.choice([0.6, 0.8, 0.9]),\n",
    "    'max_depth': np.random.choice([7, 8, 10]),\n",
    "    'num_leaves': 64,\n",
    "    'seed': seed,\n",
    "    'n_jobs': 5,\n",
    "    'n_estimators': 100,\n",
    "    'importance_type': importance_type\n",
    "    }\n",
    "    \n",
    "    lgb_model = lgb.LGBMClassifier(**tree_params)\n",
    "    lgb_model.fit(frame[features], y)\n",
    "    \n",
    "    importance = pd.DataFrame({\n",
    "        'feature': features,\n",
    "        f'importance_{importance_type}': lgb_model.feature_importances_,\n",
    "        'score': roc_auc_score(y, lgb_model.predict_proba(frame[features])[:, 1])\n",
    "    })\n",
    "    \n",
    "    return importance"
   ]
  },
  {
   "cell_type": "markdown",
   "id": "pursuant-tension",
   "metadata": {
    "papermill": {
     "duration": 0.165322,
     "end_time": "2021-04-30T10:16:21.547133",
     "exception": false,
     "start_time": "2021-04-30T10:16:21.381811",
     "status": "completed"
    },
    "tags": []
   },
   "source": [
    "Посчитаем важность признаков (на основе количества сплитов по признаку в алгоритме random forest) при обучении на исходной выборке"
   ]
  },
  {
   "cell_type": "code",
   "execution_count": 40,
   "id": "sharp-morning",
   "metadata": {
    "execution": {
     "iopub.execute_input": "2021-04-30T10:16:21.886836Z",
     "iopub.status.busy": "2021-04-30T10:16:21.884173Z",
     "iopub.status.idle": "2021-04-30T10:17:04.397913Z",
     "shell.execute_reply": "2021-04-30T10:17:04.398431Z"
    },
    "papermill": {
     "duration": 42.684537,
     "end_time": "2021-04-30T10:17:04.398613",
     "exception": false,
     "start_time": "2021-04-30T10:16:21.714076",
     "status": "completed"
    },
    "tags": []
   },
   "outputs": [
    {
     "data": {
      "text/html": [
       "<div>\n",
       "<style scoped>\n",
       "    .dataframe tbody tr th:only-of-type {\n",
       "        vertical-align: middle;\n",
       "    }\n",
       "\n",
       "    .dataframe tbody tr th {\n",
       "        vertical-align: top;\n",
       "    }\n",
       "\n",
       "    .dataframe thead th {\n",
       "        text-align: right;\n",
       "    }\n",
       "</style>\n",
       "<table border=\"1\" class=\"dataframe\">\n",
       "  <thead>\n",
       "    <tr style=\"text-align: right;\">\n",
       "      <th></th>\n",
       "      <th>feature</th>\n",
       "      <th>importance_split</th>\n",
       "      <th>score</th>\n",
       "    </tr>\n",
       "  </thead>\n",
       "  <tbody>\n",
       "    <tr>\n",
       "      <th>0</th>\n",
       "      <td>count_mcc_category_1</td>\n",
       "      <td>30</td>\n",
       "      <td>0.710164</td>\n",
       "    </tr>\n",
       "    <tr>\n",
       "      <th>1</th>\n",
       "      <td>count_mcc_category_2</td>\n",
       "      <td>10</td>\n",
       "      <td>0.710164</td>\n",
       "    </tr>\n",
       "    <tr>\n",
       "      <th>2</th>\n",
       "      <td>count_mcc_category_3</td>\n",
       "      <td>0</td>\n",
       "      <td>0.710164</td>\n",
       "    </tr>\n",
       "    <tr>\n",
       "      <th>3</th>\n",
       "      <td>count_mcc_category_4</td>\n",
       "      <td>45</td>\n",
       "      <td>0.710164</td>\n",
       "    </tr>\n",
       "    <tr>\n",
       "      <th>4</th>\n",
       "      <td>count_mcc_category_5</td>\n",
       "      <td>0</td>\n",
       "      <td>0.710164</td>\n",
       "    </tr>\n",
       "  </tbody>\n",
       "</table>\n",
       "</div>"
      ],
      "text/plain": [
       "                feature  importance_split     score\n",
       "0  count_mcc_category_1                30  0.710164\n",
       "1  count_mcc_category_2                10  0.710164\n",
       "2  count_mcc_category_3                 0  0.710164\n",
       "3  count_mcc_category_4                45  0.710164\n",
       "4  count_mcc_category_5                 0  0.710164"
      ]
     },
     "execution_count": 40,
     "metadata": {},
     "output_type": "execute_result"
    }
   ],
   "source": [
    "real_importance = get_feature_importances(train, shuffle=False, seed=100, importance_type='split')\n",
    "real_importance.head()"
   ]
  },
  {
   "cell_type": "markdown",
   "id": "instant-landing",
   "metadata": {
    "papermill": {
     "duration": 0.167649,
     "end_time": "2021-04-30T10:17:04.732884",
     "exception": false,
     "start_time": "2021-04-30T10:17:04.565235",
     "status": "completed"
    },
    "tags": []
   },
   "source": [
    "Посчитаем важность признаков для выборок, у которых целевая переменная перемешана. То есть фактически, обучаем алгоритм на шуме."
   ]
  },
  {
   "cell_type": "code",
   "execution_count": 41,
   "id": "starting-singer",
   "metadata": {
    "execution": {
     "iopub.execute_input": "2021-04-30T10:17:05.071119Z",
     "iopub.status.busy": "2021-04-30T10:17:05.070463Z",
     "iopub.status.idle": "2021-04-30T10:17:05.076073Z",
     "shell.execute_reply": "2021-04-30T10:17:05.076705Z"
    },
    "papermill": {
     "duration": 0.177443,
     "end_time": "2021-04-30T10:17:05.076886",
     "exception": false,
     "start_time": "2021-04-30T10:17:04.899443",
     "status": "completed"
    },
    "tags": []
   },
   "outputs": [],
   "source": [
    "def calculate_null_importance(frame, num_runs=80, importance_type='gain'):\n",
    "    null_importance = pd.DataFrame()\n",
    "    for i in tqdm.tqdm_notebook(range(num_runs)):\n",
    "        # посчитаем текущую важность признаков при перемешивании целевой переменной\n",
    "        importance = get_feature_importances(frame, shuffle=True, seed=None, importance_type=importance_type)\n",
    "        importance['run'] = i + 1 \n",
    "        null_importance = pd.concat([null_importance, importance], axis=0)\n",
    "    return null_importance"
   ]
  },
  {
   "cell_type": "code",
   "execution_count": 42,
   "id": "supreme-bumper",
   "metadata": {
    "execution": {
     "iopub.execute_input": "2021-04-30T10:17:05.413776Z",
     "iopub.status.busy": "2021-04-30T10:17:05.413077Z",
     "iopub.status.idle": "2021-04-30T10:32:11.618434Z",
     "shell.execute_reply": "2021-04-30T10:32:11.617909Z"
    },
    "papermill": {
     "duration": 906.374427,
     "end_time": "2021-04-30T10:32:11.618596",
     "exception": false,
     "start_time": "2021-04-30T10:17:05.244169",
     "status": "completed"
    },
    "tags": []
   },
   "outputs": [
    {
     "data": {
      "application/vnd.jupyter.widget-view+json": {
       "model_id": "6bd03a4275b840e08e9c025a33a1a5e6",
       "version_major": 2,
       "version_minor": 0
      },
      "text/plain": [
       "  0%|          | 0/30 [00:00<?, ?it/s]"
      ]
     },
     "metadata": {},
     "output_type": "display_data"
    },
    {
     "name": "stdout",
     "output_type": "stream",
     "text": [
      "CPU times: user 40min, sys: 1min 22s, total: 41min 22s\n",
      "Wall time: 15min 6s\n"
     ]
    }
   ],
   "source": [
    "%%time\n",
    "null_importance = calculate_null_importance(train, num_runs=30, importance_type='split')"
   ]
  },
  {
   "cell_type": "markdown",
   "id": "american-belle",
   "metadata": {
    "papermill": {
     "duration": 0.168193,
     "end_time": "2021-04-30T10:32:11.954953",
     "exception": false,
     "start_time": "2021-04-30T10:32:11.786760",
     "status": "completed"
    },
    "tags": []
   },
   "source": [
    "Теперь имеем возможность для каждого признака построить гистограмму важности этого признака при обучении на выборке с перемешанным таргетом и на выборке с реальной целевой переменной. В идеале, гистограмма должна быть как можно дальше от реального значения важности признака"
   ]
  },
  {
   "cell_type": "code",
   "execution_count": 43,
   "id": "looking-senate",
   "metadata": {
    "execution": {
     "iopub.execute_input": "2021-04-30T10:32:12.301713Z",
     "iopub.status.busy": "2021-04-30T10:32:12.300683Z",
     "iopub.status.idle": "2021-04-30T10:32:12.303016Z",
     "shell.execute_reply": "2021-04-30T10:32:12.303512Z"
    },
    "papermill": {
     "duration": 0.178586,
     "end_time": "2021-04-30T10:32:12.303679",
     "exception": false,
     "start_time": "2021-04-30T10:32:12.125093",
     "status": "completed"
    },
    "tags": []
   },
   "outputs": [],
   "source": [
    "def plot_distribution(real_importance, null_importance, feature_name, importance_name='gain'):\n",
    "    fig, ax = plt.subplots(figsize=(8, 6))\n",
    "    a = ax.hist(null_importance.loc[null_importance['feature'] == feature_name, f'importance_{importance_name}'].values, \n",
    "                label='Null importances')\n",
    "    \n",
    "    ax.vlines(x=real_importance.loc[real_importance['feature'] == feature_name, f'importance_{importance_name}'].mean(), \n",
    "               ymin=0, ymax=np.max(a[0]), color='r',linewidth=10, label='Real Target')\n",
    "    ax.legend()\n",
    "    ax.set_title(f'Split Importance of {feature_name}', fontweight='bold')\n",
    "    plt.xlabel(f'Null Importance ({importance_name}) Distribution for {feature_name}')"
   ]
  },
  {
   "cell_type": "code",
   "execution_count": 44,
   "id": "conditional-result",
   "metadata": {
    "execution": {
     "iopub.execute_input": "2021-04-30T10:32:12.684418Z",
     "iopub.status.busy": "2021-04-30T10:32:12.683343Z",
     "iopub.status.idle": "2021-04-30T10:32:12.870270Z",
     "shell.execute_reply": "2021-04-30T10:32:12.869735Z"
    },
    "papermill": {
     "duration": 0.399033,
     "end_time": "2021-04-30T10:32:12.870440",
     "exception": false,
     "start_time": "2021-04-30T10:32:12.471407",
     "status": "completed"
    },
    "tags": []
   },
   "outputs": [
    {
     "data": {
      "image/png": "[encoded data removed]",
      "text/plain": [
       "<Figure size 576x432 with 1 Axes>"
      ]
     },
     "metadata": {
      "needs_background": "light"
     },
     "output_type": "display_data"
    }
   ],
   "source": [
    "plot_distribution(real_importance, null_importance, feature_name='product', importance_name='split')"
   ]
  },
  {
   "cell_type": "code",
   "execution_count": 45,
   "id": "acknowledged-infrared",
   "metadata": {
    "execution": {
     "iopub.execute_input": "2021-04-30T10:32:13.257397Z",
     "iopub.status.busy": "2021-04-30T10:32:13.248917Z",
     "iopub.status.idle": "2021-04-30T10:32:13.425619Z",
     "shell.execute_reply": "2021-04-30T10:32:13.424245Z"
    },
    "papermill": {
     "duration": 0.386292,
     "end_time": "2021-04-30T10:32:13.425809",
     "exception": false,
     "start_time": "2021-04-30T10:32:13.039517",
     "status": "completed"
    },
    "tags": []
   },
   "outputs": [
    {
     "data": {
      "image/png": "[encoded data removed]",
      "text/plain": [
       "<Figure size 576x432 with 1 Axes>"
      ]
     },
     "metadata": {
      "needs_background": "light"
     },
     "output_type": "display_data"
    }
   ],
   "source": [
    "plot_distribution(real_importance, null_importance, feature_name='hour_diff_median', importance_name='split')"
   ]
  },
  {
   "cell_type": "code",
   "execution_count": 46,
   "id": "designing-poultry",
   "metadata": {
    "execution": {
     "iopub.execute_input": "2021-04-30T10:32:13.771390Z",
     "iopub.status.busy": "2021-04-30T10:32:13.770396Z",
     "iopub.status.idle": "2021-04-30T10:32:13.972541Z",
     "shell.execute_reply": "2021-04-30T10:32:13.973093Z"
    },
    "papermill": {
     "duration": 0.377887,
     "end_time": "2021-04-30T10:32:13.973267",
     "exception": false,
     "start_time": "2021-04-30T10:32:13.595380",
     "status": "completed"
    },
    "tags": []
   },
   "outputs": [
    {
     "data": {
      "image/png": "[encoded data removed]",
      "text/plain": [
       "<Figure size 576x432 with 1 Axes>"
      ]
     },
     "metadata": {
      "needs_background": "light"
     },
     "output_type": "display_data"
    }
   ],
   "source": [
    "plot_distribution(real_importance, null_importance, feature_name='amnt_sum', importance_name='split')"
   ]
  },
  {
   "cell_type": "markdown",
   "id": "complex-short",
   "metadata": {
    "papermill": {
     "duration": 0.171527,
     "end_time": "2021-04-30T10:32:14.317746",
     "exception": false,
     "start_time": "2021-04-30T10:32:14.146219",
     "status": "completed"
    },
    "tags": []
   },
   "source": [
    "Попробуем поставить каждому признаку новый скор, важность, с учетом той информации, которую имеем. Один из вариантов - поделить реальноа значение важности признака на среднее значение для перемешанных важностей этого признака. "
   ]
  },
  {
   "cell_type": "code",
   "execution_count": 47,
   "id": "exposed-gauge",
   "metadata": {
    "execution": {
     "iopub.execute_input": "2021-04-30T10:32:14.700167Z",
     "iopub.status.busy": "2021-04-30T10:32:14.680764Z",
     "iopub.status.idle": "2021-04-30T10:32:14.844045Z",
     "shell.execute_reply": "2021-04-30T10:32:14.844570Z"
    },
    "papermill": {
     "duration": 0.356096,
     "end_time": "2021-04-30T10:32:14.844747",
     "exception": false,
     "start_time": "2021-04-30T10:32:14.488651",
     "status": "completed"
    },
    "tags": []
   },
   "outputs": [],
   "source": [
    "scores = []\n",
    "importance_name = 'split'\n",
    "\n",
    "for feature in features:\n",
    "    hist_null_importance = null_importance.loc[null_importance['feature'] == feature, f'importance_{importance_name}'].values\n",
    "    actual_importance = real_importance.loc[real_importance['feature'] == feature, f'importance_{importance_name}'].mean()\n",
    "    score = (1e-10 + actual_importance) / (1 + np.mean(hist_null_importance))        \n",
    "    scores.append(round(score, 3))"
   ]
  },
  {
   "cell_type": "code",
   "execution_count": 48,
   "id": "expressed-projector",
   "metadata": {
    "execution": {
     "iopub.execute_input": "2021-04-30T10:32:15.225521Z",
     "iopub.status.busy": "2021-04-30T10:32:15.199383Z",
     "iopub.status.idle": "2021-04-30T10:32:15.612611Z",
     "shell.execute_reply": "2021-04-30T10:32:15.611631Z"
    },
    "papermill": {
     "duration": 0.596435,
     "end_time": "2021-04-30T10:32:15.612825",
     "exception": false,
     "start_time": "2021-04-30T10:32:15.016390",
     "status": "completed"
    },
    "tags": []
   },
   "outputs": [
    {
     "data": {
      "image/png": "[encoded data removed]",
      "text/plain": [
       "<Figure size 720x576 with 1 Axes>"
      ]
     },
     "metadata": {
      "needs_background": "light"
     },
     "output_type": "display_data"
    }
   ],
   "source": [
    "plot_feature_importance(features, scores, top_feats=20, title='target permutation importance', \n",
    "                        x_label='Importance')"
   ]
  },
  {
   "cell_type": "code",
   "execution_count": 49,
   "id": "aerial-evaluation",
   "metadata": {
    "execution": {
     "iopub.execute_input": "2021-04-30T10:32:16.012691Z",
     "iopub.status.busy": "2021-04-30T10:32:16.011842Z",
     "iopub.status.idle": "2021-04-30T10:32:16.015704Z",
     "shell.execute_reply": "2021-04-30T10:32:16.015046Z"
    },
    "papermill": {
     "duration": 0.201409,
     "end_time": "2021-04-30T10:32:16.015857",
     "exception": false,
     "start_time": "2021-04-30T10:32:15.814448",
     "status": "completed"
    },
    "tags": []
   },
   "outputs": [
    {
     "name": "stdout",
     "output_type": "stream",
     "text": [
      "Кол-во отобранных признаков после всех методов отбора:= 56\n"
     ]
    }
   ],
   "source": [
    "tuples = [(name, round(score, 3)) for name, score in zip(features, scores)]\n",
    "tuples = sorted(tuples, key=lambda x: x[1])\n",
    "\n",
    "top_selected_feats = [x[0] for x in tuples if x[1] > 0]\n",
    "print(f'Кол-во отобранных признаков после всех методов отбора:= {len(top_selected_feats)}')"
   ]
  },
  {
   "cell_type": "markdown",
   "id": "burning-spokesman",
   "metadata": {
    "papermill": {
     "duration": 0.176565,
     "end_time": "2021-04-30T10:32:16.370969",
     "exception": false,
     "start_time": "2021-04-30T10:32:16.194404",
     "status": "completed"
    },
    "tags": []
   },
   "source": [
    "# 11. LightGBM + CV (4)\n",
    "---\n",
    "## 11.1. Четвертая модель (model4)\n",
    "(на признаках после отбора с помощью всех методов Features importance(median), Permutation importance и Target importance)"
   ]
  },
  {
   "cell_type": "code",
   "execution_count": 50,
   "id": "annual-token",
   "metadata": {
    "execution": {
     "iopub.execute_input": "2021-04-30T10:32:16.723265Z",
     "iopub.status.busy": "2021-04-30T10:32:16.722662Z",
     "iopub.status.idle": "2021-04-30T10:32:16.725092Z",
     "shell.execute_reply": "2021-04-30T10:32:16.725654Z"
    },
    "papermill": {
     "duration": 0.18119,
     "end_time": "2021-04-30T10:32:16.725823",
     "exception": false,
     "start_time": "2021-04-30T10:32:16.544633",
     "status": "completed"
    },
    "tags": []
   },
   "outputs": [],
   "source": [
    "num_model = 4"
   ]
  },
  {
   "cell_type": "code",
   "execution_count": 51,
   "id": "reserved-junior",
   "metadata": {
    "execution": {
     "iopub.execute_input": "2021-04-30T10:32:17.104986Z",
     "iopub.status.busy": "2021-04-30T10:32:17.104282Z",
     "iopub.status.idle": "2021-04-30T10:32:17.842114Z",
     "shell.execute_reply": "2021-04-30T10:32:17.841557Z"
    },
    "papermill": {
     "duration": 0.94102,
     "end_time": "2021-04-30T10:32:17.842270",
     "exception": false,
     "start_time": "2021-04-30T10:32:16.901250",
     "status": "completed"
    },
    "tags": []
   },
   "outputs": [],
   "source": [
    "!mkdir model4"
   ]
  },
  {
   "cell_type": "code",
   "execution_count": 52,
   "id": "vulnerable-gospel",
   "metadata": {
    "execution": {
     "iopub.execute_input": "2021-04-30T10:32:18.202565Z",
     "iopub.status.busy": "2021-04-30T10:32:18.201867Z",
     "iopub.status.idle": "2021-04-30T10:41:18.183241Z",
     "shell.execute_reply": "2021-04-30T10:41:18.183776Z"
    },
    "papermill": {
     "duration": 540.167013,
     "end_time": "2021-04-30T10:41:18.183962",
     "exception": false,
     "start_time": "2021-04-30T10:32:18.016949",
     "status": "completed"
    },
    "tags": []
   },
   "outputs": [
    {
     "name": "stdout",
     "output_type": "stream",
     "text": [
      "Training with fold 1 started.\n",
      "Training until validation scores don't improve for 50 rounds\n",
      "[50]\tvalid_0's auc: 0.731838\n",
      "[100]\tvalid_0's auc: 0.743532\n",
      "[150]\tvalid_0's auc: 0.748491\n",
      "[200]\tvalid_0's auc: 0.751695\n",
      "[250]\tvalid_0's auc: 0.753704\n",
      "[300]\tvalid_0's auc: 0.755182\n",
      "[350]\tvalid_0's auc: 0.756317\n",
      "[400]\tvalid_0's auc: 0.757143\n",
      "[450]\tvalid_0's auc: 0.757866\n",
      "[500]\tvalid_0's auc: 0.758521\n",
      "[550]\tvalid_0's auc: 0.758993\n",
      "[600]\tvalid_0's auc: 0.759374\n",
      "[650]\tvalid_0's auc: 0.759774\n",
      "[700]\tvalid_0's auc: 0.760238\n",
      "[750]\tvalid_0's auc: 0.760564\n",
      "[800]\tvalid_0's auc: 0.760951\n",
      "[850]\tvalid_0's auc: 0.761247\n",
      "[900]\tvalid_0's auc: 0.761578\n",
      "[950]\tvalid_0's auc: 0.761778\n",
      "[1000]\tvalid_0's auc: 0.761965\n",
      "Did not meet early stopping. Best iteration is:\n",
      "[998]\tvalid_0's auc: 0.761973\n",
      "Training with fold 1 completed.\n",
      "Training with fold 2 started.\n",
      "Training until validation scores don't improve for 50 rounds\n",
      "[50]\tvalid_0's auc: 0.734717\n",
      "[100]\tvalid_0's auc: 0.74685\n",
      "[150]\tvalid_0's auc: 0.752213\n",
      "[200]\tvalid_0's auc: 0.755398\n",
      "[250]\tvalid_0's auc: 0.757272\n",
      "[300]\tvalid_0's auc: 0.758748\n",
      "[350]\tvalid_0's auc: 0.759845\n",
      "[400]\tvalid_0's auc: 0.760979\n",
      "[450]\tvalid_0's auc: 0.76188\n",
      "[500]\tvalid_0's auc: 0.76259\n",
      "[550]\tvalid_0's auc: 0.763168\n",
      "[600]\tvalid_0's auc: 0.763526\n",
      "[650]\tvalid_0's auc: 0.763773\n",
      "[700]\tvalid_0's auc: 0.764132\n",
      "[750]\tvalid_0's auc: 0.764439\n",
      "[800]\tvalid_0's auc: 0.764739\n",
      "[850]\tvalid_0's auc: 0.765008\n",
      "[900]\tvalid_0's auc: 0.765184\n",
      "[950]\tvalid_0's auc: 0.765467\n",
      "[1000]\tvalid_0's auc: 0.76564\n",
      "Did not meet early stopping. Best iteration is:\n",
      "[1000]\tvalid_0's auc: 0.76564\n",
      "Training with fold 2 completed.\n",
      "Training with fold 3 started.\n",
      "Training until validation scores don't improve for 50 rounds\n",
      "[50]\tvalid_0's auc: 0.738531\n",
      "[100]\tvalid_0's auc: 0.750799\n",
      "[150]\tvalid_0's auc: 0.75612\n",
      "[200]\tvalid_0's auc: 0.759111\n",
      "[250]\tvalid_0's auc: 0.761056\n",
      "[300]\tvalid_0's auc: 0.762523\n",
      "[350]\tvalid_0's auc: 0.763789\n",
      "[400]\tvalid_0's auc: 0.764493\n",
      "[450]\tvalid_0's auc: 0.765061\n",
      "[500]\tvalid_0's auc: 0.765628\n",
      "[550]\tvalid_0's auc: 0.766355\n",
      "[600]\tvalid_0's auc: 0.766832\n",
      "[650]\tvalid_0's auc: 0.767295\n",
      "[700]\tvalid_0's auc: 0.767732\n",
      "[750]\tvalid_0's auc: 0.767967\n",
      "[800]\tvalid_0's auc: 0.768303\n",
      "[850]\tvalid_0's auc: 0.768497\n",
      "[900]\tvalid_0's auc: 0.768772\n",
      "[950]\tvalid_0's auc: 0.769004\n",
      "[1000]\tvalid_0's auc: 0.769055\n",
      "Did not meet early stopping. Best iteration is:\n",
      "[991]\tvalid_0's auc: 0.769072\n",
      "Training with fold 3 completed.\n",
      "Training with fold 4 started.\n",
      "Training until validation scores don't improve for 50 rounds\n",
      "[50]\tvalid_0's auc: 0.729827\n",
      "[100]\tvalid_0's auc: 0.742819\n",
      "[150]\tvalid_0's auc: 0.748245\n",
      "[200]\tvalid_0's auc: 0.751592\n",
      "[250]\tvalid_0's auc: 0.753708\n",
      "[300]\tvalid_0's auc: 0.755386\n",
      "[350]\tvalid_0's auc: 0.756605\n",
      "[400]\tvalid_0's auc: 0.757523\n",
      "[450]\tvalid_0's auc: 0.75839\n",
      "[500]\tvalid_0's auc: 0.759142\n",
      "[550]\tvalid_0's auc: 0.75978\n",
      "[600]\tvalid_0's auc: 0.760395\n",
      "[650]\tvalid_0's auc: 0.760737\n",
      "[700]\tvalid_0's auc: 0.761069\n",
      "[750]\tvalid_0's auc: 0.761301\n",
      "[800]\tvalid_0's auc: 0.761711\n",
      "[850]\tvalid_0's auc: 0.761906\n",
      "[900]\tvalid_0's auc: 0.762143\n",
      "[950]\tvalid_0's auc: 0.76226\n",
      "[1000]\tvalid_0's auc: 0.762365\n",
      "Did not meet early stopping. Best iteration is:\n",
      "[998]\tvalid_0's auc: 0.762371\n",
      "Training with fold 4 completed.\n",
      "Training with fold 5 started.\n",
      "Training until validation scores don't improve for 50 rounds\n",
      "[50]\tvalid_0's auc: 0.737643\n",
      "[100]\tvalid_0's auc: 0.749309\n",
      "[150]\tvalid_0's auc: 0.754105\n",
      "[200]\tvalid_0's auc: 0.756992\n",
      "[250]\tvalid_0's auc: 0.759062\n",
      "[300]\tvalid_0's auc: 0.760352\n",
      "[350]\tvalid_0's auc: 0.761481\n",
      "[400]\tvalid_0's auc: 0.762298\n",
      "[450]\tvalid_0's auc: 0.762808\n",
      "[500]\tvalid_0's auc: 0.763277\n",
      "[550]\tvalid_0's auc: 0.763624\n",
      "[600]\tvalid_0's auc: 0.763922\n",
      "[650]\tvalid_0's auc: 0.764209\n",
      "[700]\tvalid_0's auc: 0.764502\n",
      "[750]\tvalid_0's auc: 0.764666\n",
      "[800]\tvalid_0's auc: 0.764868\n",
      "[850]\tvalid_0's auc: 0.76502\n",
      "[900]\tvalid_0's auc: 0.765136\n",
      "[950]\tvalid_0's auc: 0.765245\n",
      "[1000]\tvalid_0's auc: 0.765414\n",
      "Did not meet early stopping. Best iteration is:\n",
      "[1000]\tvalid_0's auc: 0.765414\n",
      "Training with fold 5 completed.\n",
      "CPU times: user 24min 39s, sys: 20.8 s, total: 24min 59s\n",
      "Wall time: 8min 59s\n"
     ]
    }
   ],
   "source": [
    "%%time\n",
    "\n",
    "oof = np.zeros(len(merged_train_data))\n",
    "train_preds = np.zeros(len(merged_train_data))\n",
    "\n",
    "new_models = []\n",
    "\n",
    "tree_params = {\n",
    "    'objective': 'binary',\n",
    "    'metric': 'auc',\n",
    "    'learning_rate': 0.05,\n",
    "    'max_depth': 3,\n",
    "    'reg_lambda': 1,\n",
    "    'num_leaves': 64,\n",
    "    'n_jobs': 5,\n",
    "    'n_estimators': 1000\n",
    "}\n",
    "\n",
    "\n",
    "for fold_, (train_idx, val_idx) in enumerate(cv.split(merged_train_data, targets), 1):\n",
    "    print(f'Training with fold {fold_} started.')\n",
    "    lgb_model = lgb.LGBMClassifier(**tree_params)\n",
    "    train, val = merged_train_data.iloc[train_idx], merged_train_data.iloc[val_idx]\n",
    "    \n",
    "    lgb_model.fit(train[top_selected_feats], train.flag.values, eval_set=[(val[top_selected_feats], val.flag.values)],\n",
    "              early_stopping_rounds=50, verbose=50)\n",
    "\n",
    "    \n",
    "    oof[val_idx] = lgb_model.predict_proba(val[top_selected_feats])[:, 1]\n",
    "    train_preds[train_idx] += lgb_model.predict_proba(train[top_selected_feats])[:, 1] / (cv.n_splits-1)\n",
    "    new_models.append(lgb_model)\n",
    "    \n",
    "    file_name_model = f'model{num_model}/model{num_model}_{fold_}.txt'\n",
    "    lgb_model.booster_.save_model(PATH_TO_WORKDIR+file_name_model)\n",
    "    print(f'Training with fold {fold_} completed.')"
   ]
  },
  {
   "cell_type": "code",
   "execution_count": 53,
   "id": "fleet-cuisine",
   "metadata": {
    "execution": {
     "iopub.execute_input": "2021-04-30T10:41:18.604330Z",
     "iopub.status.busy": "2021-04-30T10:41:18.603643Z",
     "iopub.status.idle": "2021-04-30T10:41:18.606542Z",
     "shell.execute_reply": "2021-04-30T10:41:18.607092Z"
    },
    "papermill": {
     "duration": 0.215344,
     "end_time": "2021-04-30T10:41:18.607263",
     "exception": false,
     "start_time": "2021-04-30T10:41:18.391919",
     "status": "completed"
    },
    "tags": []
   },
   "outputs": [],
   "source": [
    "file_name_pickle = PATH_TO_WORKDIR + f'model{num_model}/feats_model{num_model}.pickle'\n",
    "with open(file_name_pickle, 'wb') as f:\n",
    "    pickle.dump(top_selected_feats, f)"
   ]
  },
  {
   "cell_type": "code",
   "execution_count": 54,
   "id": "curious-gothic",
   "metadata": {
    "execution": {
     "iopub.execute_input": "2021-04-30T10:41:19.025000Z",
     "iopub.status.busy": "2021-04-30T10:41:19.024256Z",
     "iopub.status.idle": "2021-04-30T10:41:19.418408Z",
     "shell.execute_reply": "2021-04-30T10:41:19.417737Z"
    },
    "papermill": {
     "duration": 0.60452,
     "end_time": "2021-04-30T10:41:19.418565",
     "exception": false,
     "start_time": "2021-04-30T10:41:18.814045",
     "status": "completed"
    },
    "tags": []
   },
   "outputs": [
    {
     "data": {
      "text/plain": [
       "('Train roc-auc model4', 0.7924864383132644)"
      ]
     },
     "execution_count": 54,
     "metadata": {},
     "output_type": "execute_result"
    }
   ],
   "source": [
    "f'Train roc-auc model{num_model}', roc_auc_score(targets, train_preds)"
   ]
  },
  {
   "cell_type": "code",
   "execution_count": 55,
   "id": "effective-security",
   "metadata": {
    "execution": {
     "iopub.execute_input": "2021-04-30T10:41:19.838949Z",
     "iopub.status.busy": "2021-04-30T10:41:19.838252Z",
     "iopub.status.idle": "2021-04-30T10:41:20.234829Z",
     "shell.execute_reply": "2021-04-30T10:41:20.234231Z"
    },
    "papermill": {
     "duration": 0.60899,
     "end_time": "2021-04-30T10:41:20.234975",
     "exception": false,
     "start_time": "2021-04-30T10:41:19.625985",
     "status": "completed"
    },
    "tags": []
   },
   "outputs": [
    {
     "data": {
      "text/plain": [
       "('CV roc-auc model4', 0.764884241958811)"
      ]
     },
     "execution_count": 55,
     "metadata": {},
     "output_type": "execute_result"
    }
   ],
   "source": [
    "f'CV roc-auc model{num_model}', roc_auc_score(targets, oof)"
   ]
  },
  {
   "cell_type": "code",
   "execution_count": 56,
   "id": "human-greene",
   "metadata": {
    "execution": {
     "iopub.execute_input": "2021-04-30T10:41:20.661205Z",
     "iopub.status.busy": "2021-04-30T10:41:20.660534Z",
     "iopub.status.idle": "2021-04-30T10:42:09.828246Z",
     "shell.execute_reply": "2021-04-30T10:42:09.827561Z"
    },
    "papermill": {
     "duration": 49.383408,
     "end_time": "2021-04-30T10:42:09.828445",
     "exception": false,
     "start_time": "2021-04-30T10:41:20.445037",
     "status": "completed"
    },
    "tags": []
   },
   "outputs": [
    {
     "data": {
      "application/vnd.jupyter.widget-view+json": {
       "model_id": "df95e390aeb249f0908586a715807e91",
       "version_major": 2,
       "version_minor": 0
      },
      "text/plain": [
       "  0%|          | 0/5 [00:00<?, ?it/s]"
      ]
     },
     "metadata": {},
     "output_type": "display_data"
    }
   ],
   "source": [
    "score = np.zeros(len(merged_test_data))\n",
    "\n",
    "for model in tqdm.tqdm_notebook(new_models):\n",
    "    score += model.predict_proba(merged_test_data[top_selected_feats])[:, 1] / len(models)\n",
    "    \n",
    "submission = pd.DataFrame({\n",
    "    'app_id' : merged_test_data.app_id.values,\n",
    "    'score': score\n",
    "})\n",
    "submission.to_csv(f'sub_model{num_model}.csv', index=None)  # ~ 0.733 на public test"
   ]
  },
  {
   "cell_type": "markdown",
   "id": "impressive-school",
   "metadata": {
    "papermill": {
     "duration": 0.208558,
     "end_time": "2021-04-30T10:42:10.252284",
     "exception": false,
     "start_time": "2021-04-30T10:42:10.043726",
     "status": "completed"
    },
    "tags": []
   },
   "source": [
    "Расчет модели Catboost реализован в следующем кернеле, чтобы не использовать квоту так как запускается на GPU\n",
    "\n",
    "**Результаты всех экспериментов моделей (метрика AUC ROC):**  \n",
    "                    Model                            | число призн. |    Train     |     CV      |   Public Test      \n",
    "---  \n",
    "                     lgb+cv(5)                     |        127           |    0.801    |    0.77     |    0.737       \n",
    "       lgb+cv(5)+split_importance      |          64            |    0.795    |    0.767    |    0.735  \n",
    "lgb+cv(5)+permutation_importance |         57            |    0.796    |    0.768    |    0.736   \n",
    "    lgb+cv(5)+target_permutation     |          60            |    0.796    |    0.766    |    0.733 \n"
   ]
  }
 ],
 "metadata": {
  "kernelspec": {
   "display_name": "Python 3",
   "language": "python",
   "name": "python3"
  },
  "language_info": {
   "codemirror_mode": {
    "name": "ipython",
    "version": 3
   },
   "file_extension": ".py",
   "mimetype": "text/x-python",
   "name": "python",
   "nbconvert_exporter": "python",
   "pygments_lexer": "ipython3",
   "version": "3.7.10"
  },
  "papermill": {
   "default_parameters": {},
   "duration": 12480.185396,
   "end_time": "2021-04-30T10:42:12.306639",
   "environment_variables": {},
   "exception": null,
   "input_path": "__notebook__.ipynb",
   "output_path": "__notebook__.ipynb",
   "parameters": {},
   "start_time": "2021-04-30T07:14:12.121243",
   "version": "2.3.3"
  },
  "widgets": {
   "application/vnd.jupyter.widget-state+json": {
    "state": {
     "00c99ee9ce874d2ebc8b0bee323bd025": {
      "model_module": "@jupyter-widgets/base",
      "model_module_version": "1.2.0",
      "model_name": "LayoutModel",
      "state": {
       "_model_module": "@jupyter-widgets/base",
       "_model_module_version": "1.2.0",
       "_model_name": "LayoutModel",
       "_view_count": null,
       "_view_module": "@jupyter-widgets/base",
       "_view_module_version": "1.2.0",
       "_view_name": "LayoutView",
       "align_content": null,
       "align_items": null,
       "align_self": null,
       "border": null,
       "bottom": null,
       "display": null,
       "flex": null,
       "flex_flow": null,
       "grid_area": null,
       "grid_auto_columns": null,
       "grid_auto_flow": null,
       "grid_auto_rows": null,
       "grid_column": null,
       "grid_gap": null,
       "grid_row": null,
       "grid_template_areas": null,
       "grid_template_columns": null,
       "grid_template_rows": null,
       "height": null,
       "justify_content": null,
       "justify_items": null,
       "left": null,
       "margin": null,
       "max_height": null,
       "max_width": null,
       "min_height": null,
       "min_width": null,
       "object_fit": null,
       "object_position": null,
       "order": null,
       "overflow": null,
       "overflow_x": null,
       "overflow_y": null,
       "padding": null,
       "right": null,
       "top": null,
       "visibility": null,
       "width": null
      }
     },
     "024c9e3034c94f268e7a3897ce8aa1c6": {
      "model_module": "@jupyter-widgets/base",
      "model_module_version": "1.2.0",
      "model_name": "LayoutModel",
      "state": {
       "_model_module": "@jupyter-widgets/base",
       "_model_module_version": "1.2.0",
       "_model_name": "LayoutModel",
       "_view_count": null,
       "_view_module": "@jupyter-widgets/base",
       "_view_module_version": "1.2.0",
       "_view_name": "LayoutView",
       "align_content": null,
       "align_items": null,
       "align_self": null,
       "border": null,
       "bottom": null,
       "display": null,
       "flex": null,
       "flex_flow": null,
       "grid_area": null,
       "grid_auto_columns": null,
       "grid_auto_flow": null,
       "grid_auto_rows": null,
       "grid_column": null,
       "grid_gap": null,
       "grid_row": null,
       "grid_template_areas": null,
       "grid_template_columns": null,
       "grid_template_rows": null,
       "height": null,
       "justify_content": null,
       "justify_items": null,
       "left": null,
       "margin": null,
       "max_height": null,
       "max_width": null,
       "min_height": null,
       "min_width": null,
       "object_fit": null,
       "object_position": null,
       "order": null,
       "overflow": null,
       "overflow_x": null,
       "overflow_y": null,
       "padding": null,
       "right": null,
       "top": null,
       "visibility": null,
       "width": null
      }
     },
     "055b88402e564f138b6a93e9f4576adf": {
      "model_module": "@jupyter-widgets/base",
      "model_module_version": "1.2.0",
      "model_name": "LayoutModel",
      "state": {
       "_model_module": "@jupyter-widgets/base",
       "_model_module_version": "1.2.0",
       "_model_name": "LayoutModel",
       "_view_count": null,
       "_view_module": "@jupyter-widgets/base",
       "_view_module_version": "1.2.0",
       "_view_name": "LayoutView",
       "align_content": null,
       "align_items": null,
       "align_self": null,
       "border": null,
       "bottom": null,
       "display": null,
       "flex": null,
       "flex_flow": null,
       "grid_area": null,
       "grid_auto_columns": null,
       "grid_auto_flow": null,
       "grid_auto_rows": null,
       "grid_column": null,
       "grid_gap": null,
       "grid_row": null,
       "grid_template_areas": null,
       "grid_template_columns": null,
       "grid_template_rows": null,
       "height": null,
       "justify_content": null,
       "justify_items": null,
       "left": null,
       "margin": null,
       "max_height": null,
       "max_width": null,
       "min_height": null,
       "min_width": null,
       "object_fit": null,
       "object_position": null,
       "order": null,
       "overflow": null,
       "overflow_x": null,
       "overflow_y": null,
       "padding": null,
       "right": null,
       "top": null,
       "visibility": null,
       "width": null
      }
     },
     "0965965a87494934a155d1b2535dfd41": {
      "model_module": "@jupyter-widgets/controls",
      "model_module_version": "1.5.0",
      "model_name": "HTMLModel",
      "state": {
       "_dom_classes": [],
       "_model_module": "@jupyter-widgets/controls",
       "_model_module_version": "1.5.0",
       "_model_name": "HTMLModel",
       "_view_count": null,
       "_view_module": "@jupyter-widgets/controls",
       "_view_module_version": "1.5.0",
       "_view_name": "HTMLView",
       "description": "",
       "description_tooltip": null,
       "layout": "IPY_MODEL_cd7892b4e8324998b5c0172b6a441239",
       "placeholder": "​",
       "style": "IPY_MODEL_2b0051fbd56f4d21a323d625c6636219",
       "value": "100%"
      }
     },
     "0ef9643d7df64770a97bdd65cda51149": {
      "model_module": "@jupyter-widgets/controls",
      "model_module_version": "1.5.0",
      "model_name": "HTMLModel",
      "state": {
       "_dom_classes": [],
       "_model_module": "@jupyter-widgets/controls",
       "_model_module_version": "1.5.0",
       "_model_name": "HTMLModel",
       "_view_count": null,
       "_view_module": "@jupyter-widgets/controls",
       "_view_module_version": "1.5.0",
       "_view_name": "HTMLView",
       "description": "",
       "description_tooltip": null,
       "layout": "IPY_MODEL_169660a06a1847459e940859def6ea52",
       "placeholder": "​",
       "style": "IPY_MODEL_54b25a7f54fc416ea21093150dc4131f",
       "value": "100%"
      }
     },
     "11264b18958d4977987d887ac6ebfdf4": {
      "model_module": "@jupyter-widgets/base",
      "model_module_version": "1.2.0",
      "model_name": "LayoutModel",
      "state": {
       "_model_module": "@jupyter-widgets/base",
       "_model_module_version": "1.2.0",
       "_model_name": "LayoutModel",
       "_view_count": null,
       "_view_module": "@jupyter-widgets/base",
       "_view_module_version": "1.2.0",
       "_view_name": "LayoutView",
       "align_content": null,
       "align_items": null,
       "align_self": null,
       "border": null,
       "bottom": null,
       "display": null,
       "flex": null,
       "flex_flow": null,
       "grid_area": null,
       "grid_auto_columns": null,
       "grid_auto_flow": null,
       "grid_auto_rows": null,
       "grid_column": null,
       "grid_gap": null,
       "grid_row": null,
       "grid_template_areas": null,
       "grid_template_columns": null,
       "grid_template_rows": null,
       "height": null,
       "justify_content": null,
       "justify_items": null,
       "left": null,
       "margin": null,
       "max_height": null,
       "max_width": null,
       "min_height": null,
       "min_width": null,
       "object_fit": null,
       "object_position": null,
       "order": null,
       "overflow": null,
       "overflow_x": null,
       "overflow_y": null,
       "padding": null,
       "right": null,
       "top": null,
       "visibility": null,
       "width": null
      }
     },
     "169660a06a1847459e940859def6ea52": {
      "model_module": "@jupyter-widgets/base",
      "model_module_version": "1.2.0",
      "model_name": "LayoutModel",
      "state": {
       "_model_module": "@jupyter-widgets/base",
       "_model_module_version": "1.2.0",
       "_model_name": "LayoutModel",
       "_view_count": null,
       "_view_module": "@jupyter-widgets/base",
       "_view_module_version": "1.2.0",
       "_view_name": "LayoutView",
       "align_content": null,
       "align_items": null,
       "align_self": null,
       "border": null,
       "bottom": null,
       "display": null,
       "flex": null,
       "flex_flow": null,
       "grid_area": null,
       "grid_auto_columns": null,
       "grid_auto_flow": null,
       "grid_auto_rows": null,
       "grid_column": null,
       "grid_gap": null,
       "grid_row": null,
       "grid_template_areas": null,
       "grid_template_columns": null,
       "grid_template_rows": null,
       "height": null,
       "justify_content": null,
       "justify_items": null,
       "left": null,
       "margin": null,
       "max_height": null,
       "max_width": null,
       "min_height": null,
       "min_width": null,
       "object_fit": null,
       "object_position": null,
       "order": null,
       "overflow": null,
       "overflow_x": null,
       "overflow_y": null,
       "padding": null,
       "right": null,
       "top": null,
       "visibility": null,
       "width": null
      }
     },
     "1ab9805b95c941c4a1785dc021da7fb9": {
      "model_module": "@jupyter-widgets/controls",
      "model_module_version": "1.5.0",
      "model_name": "HTMLModel",
      "state": {
       "_dom_classes": [],
       "_model_module": "@jupyter-widgets/controls",
       "_model_module_version": "1.5.0",
       "_model_name": "HTMLModel",
       "_view_count": null,
       "_view_module": "@jupyter-widgets/controls",
       "_view_module_version": "1.5.0",
       "_view_name": "HTMLView",
       "description": "",
       "description_tooltip": null,
       "layout": "IPY_MODEL_70762a188b1f47528e274b2dd921ec81",
       "placeholder": "​",
       "style": "IPY_MODEL_d89da61d2abd4f058f788196d0c59828",
       "value": " 5/5 [00:47&lt;00:00,  9.62s/it]"
      }
     },
     "1eec80fa38424a429562012fb6017079": {
      "model_module": "@jupyter-widgets/controls",
      "model_module_version": "1.5.0",
      "model_name": "DescriptionStyleModel",
      "state": {
       "_model_module": "@jupyter-widgets/controls",
       "_model_module_version": "1.5.0",
       "_model_name": "DescriptionStyleModel",
       "_view_count": null,
       "_view_module": "@jupyter-widgets/base",
       "_view_module_version": "1.2.0",
       "_view_name": "StyleView",
       "description_width": ""
      }
     },
     "1fd7b8a7154c4463b37215199fa7b4cb": {
      "model_module": "@jupyter-widgets/controls",
      "model_module_version": "1.5.0",
      "model_name": "FloatProgressModel",
      "state": {
       "_dom_classes": [],
       "_model_module": "@jupyter-widgets/controls",
       "_model_module_version": "1.5.0",
       "_model_name": "FloatProgressModel",
       "_view_count": null,
       "_view_module": "@jupyter-widgets/controls",
       "_view_module_version": "1.5.0",
       "_view_name": "ProgressView",
       "bar_style": "success",
       "description": "",
       "description_tooltip": null,
       "layout": "IPY_MODEL_055b88402e564f138b6a93e9f4576adf",
       "max": 5.0,
       "min": 0.0,
       "orientation": "horizontal",
       "style": "IPY_MODEL_cd6cf3db653c45ffa5390bb718bddd11",
       "value": 5.0
      }
     },
     "2b0051fbd56f4d21a323d625c6636219": {
      "model_module": "@jupyter-widgets/controls",
      "model_module_version": "1.5.0",
      "model_name": "DescriptionStyleModel",
      "state": {
       "_model_module": "@jupyter-widgets/controls",
       "_model_module_version": "1.5.0",
       "_model_name": "DescriptionStyleModel",
       "_view_count": null,
       "_view_module": "@jupyter-widgets/base",
       "_view_module_version": "1.2.0",
       "_view_name": "StyleView",
       "description_width": ""
      }
     },
     "3845f8ba4ad44ff8a2450f70bd191000": {
      "model_module": "@jupyter-widgets/base",
      "model_module_version": "1.2.0",
      "model_name": "LayoutModel",
      "state": {
       "_model_module": "@jupyter-widgets/base",
       "_model_module_version": "1.2.0",
       "_model_name": "LayoutModel",
       "_view_count": null,
       "_view_module": "@jupyter-widgets/base",
       "_view_module_version": "1.2.0",
       "_view_name": "LayoutView",
       "align_content": null,
       "align_items": null,
       "align_self": null,
       "border": null,
       "bottom": null,
       "display": null,
       "flex": null,
       "flex_flow": null,
       "grid_area": null,
       "grid_auto_columns": null,
       "grid_auto_flow": null,
       "grid_auto_rows": null,
       "grid_column": null,
       "grid_gap": null,
       "grid_row": null,
       "grid_template_areas": null,
       "grid_template_columns": null,
       "grid_template_rows": null,
       "height": null,
       "justify_content": null,
       "justify_items": null,
       "left": null,
       "margin": null,
       "max_height": null,
       "max_width": null,
       "min_height": null,
       "min_width": null,
       "object_fit": null,
       "object_position": null,
       "order": null,
       "overflow": null,
       "overflow_x": null,
       "overflow_y": null,
       "padding": null,
       "right": null,
       "top": null,
       "visibility": null,
       "width": null
      }
     },
     "3b8aaee89e7b490b8c5fc75f5c2afe76": {
      "model_module": "@jupyter-widgets/controls",
      "model_module_version": "1.5.0",
      "model_name": "DescriptionStyleModel",
      "state": {
       "_model_module": "@jupyter-widgets/controls",
       "_model_module_version": "1.5.0",
       "_model_name": "DescriptionStyleModel",
       "_view_count": null,
       "_view_module": "@jupyter-widgets/base",
       "_view_module_version": "1.2.0",
       "_view_name": "StyleView",
       "description_width": ""
      }
     },
     "48af6a623750456c8f2ee2c922bc06c8": {
      "model_module": "@jupyter-widgets/base",
      "model_module_version": "1.2.0",
      "model_name": "LayoutModel",
      "state": {
       "_model_module": "@jupyter-widgets/base",
       "_model_module_version": "1.2.0",
       "_model_name": "LayoutModel",
       "_view_count": null,
       "_view_module": "@jupyter-widgets/base",
       "_view_module_version": "1.2.0",
       "_view_name": "LayoutView",
       "align_content": null,
       "align_items": null,
       "align_self": null,
       "border": null,
       "bottom": null,
       "display": null,
       "flex": null,
       "flex_flow": null,
       "grid_area": null,
       "grid_auto_columns": null,
       "grid_auto_flow": null,
       "grid_auto_rows": null,
       "grid_column": null,
       "grid_gap": null,
       "grid_row": null,
       "grid_template_areas": null,
       "grid_template_columns": null,
       "grid_template_rows": null,
       "height": null,
       "justify_content": null,
       "justify_items": null,
       "left": null,
       "margin": null,
       "max_height": null,
       "max_width": null,
       "min_height": null,
       "min_width": null,
       "object_fit": null,
       "object_position": null,
       "order": null,
       "overflow": null,
       "overflow_x": null,
       "overflow_y": null,
       "padding": null,
       "right": null,
       "top": null,
       "visibility": null,
       "width": null
      }
     },
     "4a9ada4aeca74feca437bbc0f1f669ee": {
      "model_module": "@jupyter-widgets/base",
      "model_module_version": "1.2.0",
      "model_name": "LayoutModel",
      "state": {
       "_model_module": "@jupyter-widgets/base",
       "_model_module_version": "1.2.0",
       "_model_name": "LayoutModel",
       "_view_count": null,
       "_view_module": "@jupyter-widgets/base",
       "_view_module_version": "1.2.0",
       "_view_name": "LayoutView",
       "align_content": null,
       "align_items": null,
       "align_self": null,
       "border": null,
       "bottom": null,
       "display": null,
       "flex": null,
       "flex_flow": null,
       "grid_area": null,
       "grid_auto_columns": null,
       "grid_auto_flow": null,
       "grid_auto_rows": null,
       "grid_column": null,
       "grid_gap": null,
       "grid_row": null,
       "grid_template_areas": null,
       "grid_template_columns": null,
       "grid_template_rows": null,
       "height": null,
       "justify_content": null,
       "justify_items": null,
       "left": null,
       "margin": null,
       "max_height": null,
       "max_width": null,
       "min_height": null,
       "min_width": null,
       "object_fit": null,
       "object_position": null,
       "order": null,
       "overflow": null,
       "overflow_x": null,
       "overflow_y": null,
       "padding": null,
       "right": null,
       "top": null,
       "visibility": null,
       "width": null
      }
     },
     "54b25a7f54fc416ea21093150dc4131f": {
      "model_module": "@jupyter-widgets/controls",
      "model_module_version": "1.5.0",
      "model_name": "DescriptionStyleModel",
      "state": {
       "_model_module": "@jupyter-widgets/controls",
       "_model_module_version": "1.5.0",
       "_model_name": "DescriptionStyleModel",
       "_view_count": null,
       "_view_module": "@jupyter-widgets/base",
       "_view_module_version": "1.2.0",
       "_view_name": "StyleView",
       "description_width": ""
      }
     },
     "558a2366195a47c888b4533f37212061": {
      "model_module": "@jupyter-widgets/base",
      "model_module_version": "1.2.0",
      "model_name": "LayoutModel",
      "state": {
       "_model_module": "@jupyter-widgets/base",
       "_model_module_version": "1.2.0",
       "_model_name": "LayoutModel",
       "_view_count": null,
       "_view_module": "@jupyter-widgets/base",
       "_view_module_version": "1.2.0",
       "_view_name": "LayoutView",
       "align_content": null,
       "align_items": null,
       "align_self": null,
       "border": null,
       "bottom": null,
       "display": null,
       "flex": null,
       "flex_flow": null,
       "grid_area": null,
       "grid_auto_columns": null,
       "grid_auto_flow": null,
       "grid_auto_rows": null,
       "grid_column": null,
       "grid_gap": null,
       "grid_row": null,
       "grid_template_areas": null,
       "grid_template_columns": null,
       "grid_template_rows": null,
       "height": null,
       "justify_content": null,
       "justify_items": null,
       "left": null,
       "margin": null,
       "max_height": null,
       "max_width": null,
       "min_height": null,
       "min_width": null,
       "object_fit": null,
       "object_position": null,
       "order": null,
       "overflow": null,
       "overflow_x": null,
       "overflow_y": null,
       "padding": null,
       "right": null,
       "top": null,
       "visibility": null,
       "width": null
      }
     },
     "5be9efa66d82454a93e6f5486edaa108": {
      "model_module": "@jupyter-widgets/base",
      "model_module_version": "1.2.0",
      "model_name": "LayoutModel",
      "state": {
       "_model_module": "@jupyter-widgets/base",
       "_model_module_version": "1.2.0",
       "_model_name": "LayoutModel",
       "_view_count": null,
       "_view_module": "@jupyter-widgets/base",
       "_view_module_version": "1.2.0",
       "_view_name": "LayoutView",
       "align_content": null,
       "align_items": null,
       "align_self": null,
       "border": null,
       "bottom": null,
       "display": null,
       "flex": null,
       "flex_flow": null,
       "grid_area": null,
       "grid_auto_columns": null,
       "grid_auto_flow": null,
       "grid_auto_rows": null,
       "grid_column": null,
       "grid_gap": null,
       "grid_row": null,
       "grid_template_areas": null,
       "grid_template_columns": null,
       "grid_template_rows": null,
       "height": null,
       "justify_content": null,
       "justify_items": null,
       "left": null,
       "margin": null,
       "max_height": null,
       "max_width": null,
       "min_height": null,
       "min_width": null,
       "object_fit": null,
       "object_position": null,
       "order": null,
       "overflow": null,
       "overflow_x": null,
       "overflow_y": null,
       "padding": null,
       "right": null,
       "top": null,
       "visibility": null,
       "width": null
      }
     },
     "67a30948473d42468dc59e85fbcc7fa7": {
      "model_module": "@jupyter-widgets/controls",
      "model_module_version": "1.5.0",
      "model_name": "HTMLModel",
      "state": {
       "_dom_classes": [],
       "_model_module": "@jupyter-widgets/controls",
       "_model_module_version": "1.5.0",
       "_model_name": "HTMLModel",
       "_view_count": null,
       "_view_module": "@jupyter-widgets/controls",
       "_view_module_version": "1.5.0",
       "_view_name": "HTMLView",
       "description": "",
       "description_tooltip": null,
       "layout": "IPY_MODEL_11264b18958d4977987d887ac6ebfdf4",
       "placeholder": "​",
       "style": "IPY_MODEL_3b8aaee89e7b490b8c5fc75f5c2afe76",
       "value": " 5/5 [00:44&lt;00:00,  8.91s/it]"
      }
     },
     "6bd03a4275b840e08e9c025a33a1a5e6": {
      "model_module": "@jupyter-widgets/controls",
      "model_module_version": "1.5.0",
      "model_name": "HBoxModel",
      "state": {
       "_dom_classes": [],
       "_model_module": "@jupyter-widgets/controls",
       "_model_module_version": "1.5.0",
       "_model_name": "HBoxModel",
       "_view_count": null,
       "_view_module": "@jupyter-widgets/controls",
       "_view_module_version": "1.5.0",
       "_view_name": "HBoxView",
       "box_style": "",
       "children": [
        "IPY_MODEL_0965965a87494934a155d1b2535dfd41",
        "IPY_MODEL_d11f18cd3b7747ad9d1915569ce85bdf",
        "IPY_MODEL_a1a794851413430795ce8b8ef6ef3db4"
       ],
       "layout": "IPY_MODEL_4a9ada4aeca74feca437bbc0f1f669ee"
      }
     },
     "6bda061dc931432db938c2dc608b5ee4": {
      "model_module": "@jupyter-widgets/controls",
      "model_module_version": "1.5.0",
      "model_name": "DescriptionStyleModel",
      "state": {
       "_model_module": "@jupyter-widgets/controls",
       "_model_module_version": "1.5.0",
       "_model_name": "DescriptionStyleModel",
       "_view_count": null,
       "_view_module": "@jupyter-widgets/base",
       "_view_module_version": "1.2.0",
       "_view_name": "StyleView",
       "description_width": ""
      }
     },
     "6ee42021b57340f288649f91466ee5ac": {
      "model_module": "@jupyter-widgets/controls",
      "model_module_version": "1.5.0",
      "model_name": "HTMLModel",
      "state": {
       "_dom_classes": [],
       "_model_module": "@jupyter-widgets/controls",
       "_model_module_version": "1.5.0",
       "_model_name": "HTMLModel",
       "_view_count": null,
       "_view_module": "@jupyter-widgets/controls",
       "_view_module_version": "1.5.0",
       "_view_name": "HTMLView",
       "description": "",
       "description_tooltip": null,
       "layout": "IPY_MODEL_00c99ee9ce874d2ebc8b0bee323bd025",
       "placeholder": "​",
       "style": "IPY_MODEL_6bda061dc931432db938c2dc608b5ee4",
       "value": "100%"
      }
     },
     "70762a188b1f47528e274b2dd921ec81": {
      "model_module": "@jupyter-widgets/base",
      "model_module_version": "1.2.0",
      "model_name": "LayoutModel",
      "state": {
       "_model_module": "@jupyter-widgets/base",
       "_model_module_version": "1.2.0",
       "_model_name": "LayoutModel",
       "_view_count": null,
       "_view_module": "@jupyter-widgets/base",
       "_view_module_version": "1.2.0",
       "_view_name": "LayoutView",
       "align_content": null,
       "align_items": null,
       "align_self": null,
       "border": null,
       "bottom": null,
       "display": null,
       "flex": null,
       "flex_flow": null,
       "grid_area": null,
       "grid_auto_columns": null,
       "grid_auto_flow": null,
       "grid_auto_rows": null,
       "grid_column": null,
       "grid_gap": null,
       "grid_row": null,
       "grid_template_areas": null,
       "grid_template_columns": null,
       "grid_template_rows": null,
       "height": null,
       "justify_content": null,
       "justify_items": null,
       "left": null,
       "margin": null,
       "max_height": null,
       "max_width": null,
       "min_height": null,
       "min_width": null,
       "object_fit": null,
       "object_position": null,
       "order": null,
       "overflow": null,
       "overflow_x": null,
       "overflow_y": null,
       "padding": null,
       "right": null,
       "top": null,
       "visibility": null,
       "width": null
      }
     },
     "7a69787ce1824b0bbf807c00cabe9f38": {
      "model_module": "@jupyter-widgets/controls",
      "model_module_version": "1.5.0",
      "model_name": "HTMLModel",
      "state": {
       "_dom_classes": [],
       "_model_module": "@jupyter-widgets/controls",
       "_model_module_version": "1.5.0",
       "_model_name": "HTMLModel",
       "_view_count": null,
       "_view_module": "@jupyter-widgets/controls",
       "_view_module_version": "1.5.0",
       "_view_name": "HTMLView",
       "description": "",
       "description_tooltip": null,
       "layout": "IPY_MODEL_7ec3970f6e4b4d71889181cad3ce06a8",
       "placeholder": "​",
       "style": "IPY_MODEL_ff14047e5b92480bbb6c1c16a4cc459f",
       "value": " 5/5 [00:44&lt;00:00,  9.23s/it]"
      }
     },
     "7cca7a1f33954c8f8b20b1dc01592408": {
      "model_module": "@jupyter-widgets/base",
      "model_module_version": "1.2.0",
      "model_name": "LayoutModel",
      "state": {
       "_model_module": "@jupyter-widgets/base",
       "_model_module_version": "1.2.0",
       "_model_name": "LayoutModel",
       "_view_count": null,
       "_view_module": "@jupyter-widgets/base",
       "_view_module_version": "1.2.0",
       "_view_name": "LayoutView",
       "align_content": null,
       "align_items": null,
       "align_self": null,
       "border": null,
       "bottom": null,
       "display": null,
       "flex": null,
       "flex_flow": null,
       "grid_area": null,
       "grid_auto_columns": null,
       "grid_auto_flow": null,
       "grid_auto_rows": null,
       "grid_column": null,
       "grid_gap": null,
       "grid_row": null,
       "grid_template_areas": null,
       "grid_template_columns": null,
       "grid_template_rows": null,
       "height": null,
       "justify_content": null,
       "justify_items": null,
       "left": null,
       "margin": null,
       "max_height": null,
       "max_width": null,
       "min_height": null,
       "min_width": null,
       "object_fit": null,
       "object_position": null,
       "order": null,
       "overflow": null,
       "overflow_x": null,
       "overflow_y": null,
       "padding": null,
       "right": null,
       "top": null,
       "visibility": null,
       "width": null
      }
     },
     "7ec3970f6e4b4d71889181cad3ce06a8": {
      "model_module": "@jupyter-widgets/base",
      "model_module_version": "1.2.0",
      "model_name": "LayoutModel",
      "state": {
       "_model_module": "@jupyter-widgets/base",
       "_model_module_version": "1.2.0",
       "_model_name": "LayoutModel",
       "_view_count": null,
       "_view_module": "@jupyter-widgets/base",
       "_view_module_version": "1.2.0",
       "_view_name": "LayoutView",
       "align_content": null,
       "align_items": null,
       "align_self": null,
       "border": null,
       "bottom": null,
       "display": null,
       "flex": null,
       "flex_flow": null,
       "grid_area": null,
       "grid_auto_columns": null,
       "grid_auto_flow": null,
       "grid_auto_rows": null,
       "grid_column": null,
       "grid_gap": null,
       "grid_row": null,
       "grid_template_areas": null,
       "grid_template_columns": null,
       "grid_template_rows": null,
       "height": null,
       "justify_content": null,
       "justify_items": null,
       "left": null,
       "margin": null,
       "max_height": null,
       "max_width": null,
       "min_height": null,
       "min_width": null,
       "object_fit": null,
       "object_position": null,
       "order": null,
       "overflow": null,
       "overflow_x": null,
       "overflow_y": null,
       "padding": null,
       "right": null,
       "top": null,
       "visibility": null,
       "width": null
      }
     },
     "844f7fb02d054ad58dc7cfaa6d4c1036": {
      "model_module": "@jupyter-widgets/base",
      "model_module_version": "1.2.0",
      "model_name": "LayoutModel",
      "state": {
       "_model_module": "@jupyter-widgets/base",
       "_model_module_version": "1.2.0",
       "_model_name": "LayoutModel",
       "_view_count": null,
       "_view_module": "@jupyter-widgets/base",
       "_view_module_version": "1.2.0",
       "_view_name": "LayoutView",
       "align_content": null,
       "align_items": null,
       "align_self": null,
       "border": null,
       "bottom": null,
       "display": null,
       "flex": null,
       "flex_flow": null,
       "grid_area": null,
       "grid_auto_columns": null,
       "grid_auto_flow": null,
       "grid_auto_rows": null,
       "grid_column": null,
       "grid_gap": null,
       "grid_row": null,
       "grid_template_areas": null,
       "grid_template_columns": null,
       "grid_template_rows": null,
       "height": null,
       "justify_content": null,
       "justify_items": null,
       "left": null,
       "margin": null,
       "max_height": null,
       "max_width": null,
       "min_height": null,
       "min_width": null,
       "object_fit": null,
       "object_position": null,
       "order": null,
       "overflow": null,
       "overflow_x": null,
       "overflow_y": null,
       "padding": null,
       "right": null,
       "top": null,
       "visibility": null,
       "width": null
      }
     },
     "9684caf488fd4dccafb5237954d4d7c3": {
      "model_module": "@jupyter-widgets/controls",
      "model_module_version": "1.5.0",
      "model_name": "ProgressStyleModel",
      "state": {
       "_model_module": "@jupyter-widgets/controls",
       "_model_module_version": "1.5.0",
       "_model_name": "ProgressStyleModel",
       "_view_count": null,
       "_view_module": "@jupyter-widgets/base",
       "_view_module_version": "1.2.0",
       "_view_name": "StyleView",
       "bar_color": null,
       "description_width": ""
      }
     },
     "9d10459df3884a2ea8f6c3ae7d7b5309": {
      "model_module": "@jupyter-widgets/controls",
      "model_module_version": "1.5.0",
      "model_name": "DescriptionStyleModel",
      "state": {
       "_model_module": "@jupyter-widgets/controls",
       "_model_module_version": "1.5.0",
       "_model_name": "DescriptionStyleModel",
       "_view_count": null,
       "_view_module": "@jupyter-widgets/base",
       "_view_module_version": "1.2.0",
       "_view_name": "StyleView",
       "description_width": ""
      }
     },
     "a1a794851413430795ce8b8ef6ef3db4": {
      "model_module": "@jupyter-widgets/controls",
      "model_module_version": "1.5.0",
      "model_name": "HTMLModel",
      "state": {
       "_dom_classes": [],
       "_model_module": "@jupyter-widgets/controls",
       "_model_module_version": "1.5.0",
       "_model_name": "HTMLModel",
       "_view_count": null,
       "_view_module": "@jupyter-widgets/controls",
       "_view_module_version": "1.5.0",
       "_view_name": "HTMLView",
       "description": "",
       "description_tooltip": null,
       "layout": "IPY_MODEL_d1e2edc0e25a4940ac59dd198aa6678f",
       "placeholder": "​",
       "style": "IPY_MODEL_c0e6a5a4fc8345f0b2273a68d5277929",
       "value": " 30/30 [15:06&lt;00:00, 28.54s/it]"
      }
     },
     "b499393cb7a44453b45ed3b1a3b1a365": {
      "model_module": "@jupyter-widgets/base",
      "model_module_version": "1.2.0",
      "model_name": "LayoutModel",
      "state": {
       "_model_module": "@jupyter-widgets/base",
       "_model_module_version": "1.2.0",
       "_model_name": "LayoutModel",
       "_view_count": null,
       "_view_module": "@jupyter-widgets/base",
       "_view_module_version": "1.2.0",
       "_view_name": "LayoutView",
       "align_content": null,
       "align_items": null,
       "align_self": null,
       "border": null,
       "bottom": null,
       "display": null,
       "flex": null,
       "flex_flow": null,
       "grid_area": null,
       "grid_auto_columns": null,
       "grid_auto_flow": null,
       "grid_auto_rows": null,
       "grid_column": null,
       "grid_gap": null,
       "grid_row": null,
       "grid_template_areas": null,
       "grid_template_columns": null,
       "grid_template_rows": null,
       "height": null,
       "justify_content": null,
       "justify_items": null,
       "left": null,
       "margin": null,
       "max_height": null,
       "max_width": null,
       "min_height": null,
       "min_width": null,
       "object_fit": null,
       "object_position": null,
       "order": null,
       "overflow": null,
       "overflow_x": null,
       "overflow_y": null,
       "padding": null,
       "right": null,
       "top": null,
       "visibility": null,
       "width": null
      }
     },
     "b958014fc80a4c678b169a15206ef775": {
      "model_module": "@jupyter-widgets/controls",
      "model_module_version": "1.5.0",
      "model_name": "HBoxModel",
      "state": {
       "_dom_classes": [],
       "_model_module": "@jupyter-widgets/controls",
       "_model_module_version": "1.5.0",
       "_model_name": "HBoxModel",
       "_view_count": null,
       "_view_module": "@jupyter-widgets/controls",
       "_view_module_version": "1.5.0",
       "_view_name": "HBoxView",
       "box_style": "",
       "children": [
        "IPY_MODEL_6ee42021b57340f288649f91466ee5ac",
        "IPY_MODEL_e942dbe723e0447a9c12cc76091cc9fe",
        "IPY_MODEL_cd8a44e9b305413896f582528c33b0d0"
       ],
       "layout": "IPY_MODEL_ba70ed18ef844ca29391290c250c0b1d"
      }
     },
     "ba5e35d4df4a4b64a50d2b384933d06e": {
      "model_module": "@jupyter-widgets/controls",
      "model_module_version": "1.5.0",
      "model_name": "HTMLModel",
      "state": {
       "_dom_classes": [],
       "_model_module": "@jupyter-widgets/controls",
       "_model_module_version": "1.5.0",
       "_model_name": "HTMLModel",
       "_view_count": null,
       "_view_module": "@jupyter-widgets/controls",
       "_view_module_version": "1.5.0",
       "_view_name": "HTMLView",
       "description": "",
       "description_tooltip": null,
       "layout": "IPY_MODEL_5be9efa66d82454a93e6f5486edaa108",
       "placeholder": "​",
       "style": "IPY_MODEL_9d10459df3884a2ea8f6c3ae7d7b5309",
       "value": "100%"
      }
     },
     "ba70ed18ef844ca29391290c250c0b1d": {
      "model_module": "@jupyter-widgets/base",
      "model_module_version": "1.2.0",
      "model_name": "LayoutModel",
      "state": {
       "_model_module": "@jupyter-widgets/base",
       "_model_module_version": "1.2.0",
       "_model_name": "LayoutModel",
       "_view_count": null,
       "_view_module": "@jupyter-widgets/base",
       "_view_module_version": "1.2.0",
       "_view_name": "LayoutView",
       "align_content": null,
       "align_items": null,
       "align_self": null,
       "border": null,
       "bottom": null,
       "display": null,
       "flex": null,
       "flex_flow": null,
       "grid_area": null,
       "grid_auto_columns": null,
       "grid_auto_flow": null,
       "grid_auto_rows": null,
       "grid_column": null,
       "grid_gap": null,
       "grid_row": null,
       "grid_template_areas": null,
       "grid_template_columns": null,
       "grid_template_rows": null,
       "height": null,
       "justify_content": null,
       "justify_items": null,
       "left": null,
       "margin": null,
       "max_height": null,
       "max_width": null,
       "min_height": null,
       "min_width": null,
       "object_fit": null,
       "object_position": null,
       "order": null,
       "overflow": null,
       "overflow_x": null,
       "overflow_y": null,
       "padding": null,
       "right": null,
       "top": null,
       "visibility": null,
       "width": null
      }
     },
     "bcba25c429f04de5a3bd0b594fe6db8a": {
      "model_module": "@jupyter-widgets/base",
      "model_module_version": "1.2.0",
      "model_name": "LayoutModel",
      "state": {
       "_model_module": "@jupyter-widgets/base",
       "_model_module_version": "1.2.0",
       "_model_name": "LayoutModel",
       "_view_count": null,
       "_view_module": "@jupyter-widgets/base",
       "_view_module_version": "1.2.0",
       "_view_name": "LayoutView",
       "align_content": null,
       "align_items": null,
       "align_self": null,
       "border": null,
       "bottom": null,
       "display": null,
       "flex": null,
       "flex_flow": null,
       "grid_area": null,
       "grid_auto_columns": null,
       "grid_auto_flow": null,
       "grid_auto_rows": null,
       "grid_column": null,
       "grid_gap": null,
       "grid_row": null,
       "grid_template_areas": null,
       "grid_template_columns": null,
       "grid_template_rows": null,
       "height": null,
       "justify_content": null,
       "justify_items": null,
       "left": null,
       "margin": null,
       "max_height": null,
       "max_width": null,
       "min_height": null,
       "min_width": null,
       "object_fit": null,
       "object_position": null,
       "order": null,
       "overflow": null,
       "overflow_x": null,
       "overflow_y": null,
       "padding": null,
       "right": null,
       "top": null,
       "visibility": null,
       "width": null
      }
     },
     "c0e6a5a4fc8345f0b2273a68d5277929": {
      "model_module": "@jupyter-widgets/controls",
      "model_module_version": "1.5.0",
      "model_name": "DescriptionStyleModel",
      "state": {
       "_model_module": "@jupyter-widgets/controls",
       "_model_module_version": "1.5.0",
       "_model_name": "DescriptionStyleModel",
       "_view_count": null,
       "_view_module": "@jupyter-widgets/base",
       "_view_module_version": "1.2.0",
       "_view_name": "StyleView",
       "description_width": ""
      }
     },
     "ccf6dd5c17754b0da3ac03cf642b2529": {
      "model_module": "@jupyter-widgets/controls",
      "model_module_version": "1.5.0",
      "model_name": "FloatProgressModel",
      "state": {
       "_dom_classes": [],
       "_model_module": "@jupyter-widgets/controls",
       "_model_module_version": "1.5.0",
       "_model_name": "FloatProgressModel",
       "_view_count": null,
       "_view_module": "@jupyter-widgets/controls",
       "_view_module_version": "1.5.0",
       "_view_name": "ProgressView",
       "bar_style": "success",
       "description": "",
       "description_tooltip": null,
       "layout": "IPY_MODEL_7cca7a1f33954c8f8b20b1dc01592408",
       "max": 5.0,
       "min": 0.0,
       "orientation": "horizontal",
       "style": "IPY_MODEL_f2bba6ce0882450484ca5f8f6922feb9",
       "value": 5.0
      }
     },
     "cd6cf3db653c45ffa5390bb718bddd11": {
      "model_module": "@jupyter-widgets/controls",
      "model_module_version": "1.5.0",
      "model_name": "ProgressStyleModel",
      "state": {
       "_model_module": "@jupyter-widgets/controls",
       "_model_module_version": "1.5.0",
       "_model_name": "ProgressStyleModel",
       "_view_count": null,
       "_view_module": "@jupyter-widgets/base",
       "_view_module_version": "1.2.0",
       "_view_name": "StyleView",
       "bar_color": null,
       "description_width": ""
      }
     },
     "cd7892b4e8324998b5c0172b6a441239": {
      "model_module": "@jupyter-widgets/base",
      "model_module_version": "1.2.0",
      "model_name": "LayoutModel",
      "state": {
       "_model_module": "@jupyter-widgets/base",
       "_model_module_version": "1.2.0",
       "_model_name": "LayoutModel",
       "_view_count": null,
       "_view_module": "@jupyter-widgets/base",
       "_view_module_version": "1.2.0",
       "_view_name": "LayoutView",
       "align_content": null,
       "align_items": null,
       "align_self": null,
       "border": null,
       "bottom": null,
       "display": null,
       "flex": null,
       "flex_flow": null,
       "grid_area": null,
       "grid_auto_columns": null,
       "grid_auto_flow": null,
       "grid_auto_rows": null,
       "grid_column": null,
       "grid_gap": null,
       "grid_row": null,
       "grid_template_areas": null,
       "grid_template_columns": null,
       "grid_template_rows": null,
       "height": null,
       "justify_content": null,
       "justify_items": null,
       "left": null,
       "margin": null,
       "max_height": null,
       "max_width": null,
       "min_height": null,
       "min_width": null,
       "object_fit": null,
       "object_position": null,
       "order": null,
       "overflow": null,
       "overflow_x": null,
       "overflow_y": null,
       "padding": null,
       "right": null,
       "top": null,
       "visibility": null,
       "width": null
      }
     },
     "cd8a44e9b305413896f582528c33b0d0": {
      "model_module": "@jupyter-widgets/controls",
      "model_module_version": "1.5.0",
      "model_name": "HTMLModel",
      "state": {
       "_dom_classes": [],
       "_model_module": "@jupyter-widgets/controls",
       "_model_module_version": "1.5.0",
       "_model_name": "HTMLModel",
       "_view_count": null,
       "_view_module": "@jupyter-widgets/controls",
       "_view_module_version": "1.5.0",
       "_view_name": "HTMLView",
       "description": "",
       "description_tooltip": null,
       "layout": "IPY_MODEL_024c9e3034c94f268e7a3897ce8aa1c6",
       "placeholder": "​",
       "style": "IPY_MODEL_1eec80fa38424a429562012fb6017079",
       "value": " 5/5 [00:48&lt;00:00,  9.84s/it]"
      }
     },
     "d11f18cd3b7747ad9d1915569ce85bdf": {
      "model_module": "@jupyter-widgets/controls",
      "model_module_version": "1.5.0",
      "model_name": "FloatProgressModel",
      "state": {
       "_dom_classes": [],
       "_model_module": "@jupyter-widgets/controls",
       "_model_module_version": "1.5.0",
       "_model_name": "FloatProgressModel",
       "_view_count": null,
       "_view_module": "@jupyter-widgets/controls",
       "_view_module_version": "1.5.0",
       "_view_name": "ProgressView",
       "bar_style": "success",
       "description": "",
       "description_tooltip": null,
       "layout": "IPY_MODEL_48af6a623750456c8f2ee2c922bc06c8",
       "max": 30.0,
       "min": 0.0,
       "orientation": "horizontal",
       "style": "IPY_MODEL_9684caf488fd4dccafb5237954d4d7c3",
       "value": 30.0
      }
     },
     "d1e2edc0e25a4940ac59dd198aa6678f": {
      "model_module": "@jupyter-widgets/base",
      "model_module_version": "1.2.0",
      "model_name": "LayoutModel",
      "state": {
       "_model_module": "@jupyter-widgets/base",
       "_model_module_version": "1.2.0",
       "_model_name": "LayoutModel",
       "_view_count": null,
       "_view_module": "@jupyter-widgets/base",
       "_view_module_version": "1.2.0",
       "_view_name": "LayoutView",
       "align_content": null,
       "align_items": null,
       "align_self": null,
       "border": null,
       "bottom": null,
       "display": null,
       "flex": null,
       "flex_flow": null,
       "grid_area": null,
       "grid_auto_columns": null,
       "grid_auto_flow": null,
       "grid_auto_rows": null,
       "grid_column": null,
       "grid_gap": null,
       "grid_row": null,
       "grid_template_areas": null,
       "grid_template_columns": null,
       "grid_template_rows": null,
       "height": null,
       "justify_content": null,
       "justify_items": null,
       "left": null,
       "margin": null,
       "max_height": null,
       "max_width": null,
       "min_height": null,
       "min_width": null,
       "object_fit": null,
       "object_position": null,
       "order": null,
       "overflow": null,
       "overflow_x": null,
       "overflow_y": null,
       "padding": null,
       "right": null,
       "top": null,
       "visibility": null,
       "width": null
      }
     },
     "d6b8603a4c8b46988ca7b91a6c5957e7": {
      "model_module": "@jupyter-widgets/base",
      "model_module_version": "1.2.0",
      "model_name": "LayoutModel",
      "state": {
       "_model_module": "@jupyter-widgets/base",
       "_model_module_version": "1.2.0",
       "_model_name": "LayoutModel",
       "_view_count": null,
       "_view_module": "@jupyter-widgets/base",
       "_view_module_version": "1.2.0",
       "_view_name": "LayoutView",
       "align_content": null,
       "align_items": null,
       "align_self": null,
       "border": null,
       "bottom": null,
       "display": null,
       "flex": null,
       "flex_flow": null,
       "grid_area": null,
       "grid_auto_columns": null,
       "grid_auto_flow": null,
       "grid_auto_rows": null,
       "grid_column": null,
       "grid_gap": null,
       "grid_row": null,
       "grid_template_areas": null,
       "grid_template_columns": null,
       "grid_template_rows": null,
       "height": null,
       "justify_content": null,
       "justify_items": null,
       "left": null,
       "margin": null,
       "max_height": null,
       "max_width": null,
       "min_height": null,
       "min_width": null,
       "object_fit": null,
       "object_position": null,
       "order": null,
       "overflow": null,
       "overflow_x": null,
       "overflow_y": null,
       "padding": null,
       "right": null,
       "top": null,
       "visibility": null,
       "width": null
      }
     },
     "d89da61d2abd4f058f788196d0c59828": {
      "model_module": "@jupyter-widgets/controls",
      "model_module_version": "1.5.0",
      "model_name": "DescriptionStyleModel",
      "state": {
       "_model_module": "@jupyter-widgets/controls",
       "_model_module_version": "1.5.0",
       "_model_name": "DescriptionStyleModel",
       "_view_count": null,
       "_view_module": "@jupyter-widgets/base",
       "_view_module_version": "1.2.0",
       "_view_name": "StyleView",
       "description_width": ""
      }
     },
     "d9f891b17bf14ab2baed56797aae8e77": {
      "model_module": "@jupyter-widgets/controls",
      "model_module_version": "1.5.0",
      "model_name": "HBoxModel",
      "state": {
       "_dom_classes": [],
       "_model_module": "@jupyter-widgets/controls",
       "_model_module_version": "1.5.0",
       "_model_name": "HBoxModel",
       "_view_count": null,
       "_view_module": "@jupyter-widgets/controls",
       "_view_module_version": "1.5.0",
       "_view_name": "HBoxView",
       "box_style": "",
       "children": [
        "IPY_MODEL_ba5e35d4df4a4b64a50d2b384933d06e",
        "IPY_MODEL_ccf6dd5c17754b0da3ac03cf642b2529",
        "IPY_MODEL_67a30948473d42468dc59e85fbcc7fa7"
       ],
       "layout": "IPY_MODEL_b499393cb7a44453b45ed3b1a3b1a365"
      }
     },
     "de8a33e7ded041979ed2aa702fb2856d": {
      "model_module": "@jupyter-widgets/controls",
      "model_module_version": "1.5.0",
      "model_name": "HBoxModel",
      "state": {
       "_dom_classes": [],
       "_model_module": "@jupyter-widgets/controls",
       "_model_module_version": "1.5.0",
       "_model_name": "HBoxModel",
       "_view_count": null,
       "_view_module": "@jupyter-widgets/controls",
       "_view_module_version": "1.5.0",
       "_view_name": "HBoxView",
       "box_style": "",
       "children": [
        "IPY_MODEL_f832dce1f13a4baca770523373eda6ac",
        "IPY_MODEL_1fd7b8a7154c4463b37215199fa7b4cb",
        "IPY_MODEL_7a69787ce1824b0bbf807c00cabe9f38"
       ],
       "layout": "IPY_MODEL_558a2366195a47c888b4533f37212061"
      }
     },
     "df95e390aeb249f0908586a715807e91": {
      "model_module": "@jupyter-widgets/controls",
      "model_module_version": "1.5.0",
      "model_name": "HBoxModel",
      "state": {
       "_dom_classes": [],
       "_model_module": "@jupyter-widgets/controls",
       "_model_module_version": "1.5.0",
       "_model_name": "HBoxModel",
       "_view_count": null,
       "_view_module": "@jupyter-widgets/controls",
       "_view_module_version": "1.5.0",
       "_view_name": "HBoxView",
       "box_style": "",
       "children": [
        "IPY_MODEL_0ef9643d7df64770a97bdd65cda51149",
        "IPY_MODEL_e4e5130274fb44dda5a1bf208c01423a",
        "IPY_MODEL_1ab9805b95c941c4a1785dc021da7fb9"
       ],
       "layout": "IPY_MODEL_bcba25c429f04de5a3bd0b594fe6db8a"
      }
     },
     "e4e5130274fb44dda5a1bf208c01423a": {
      "model_module": "@jupyter-widgets/controls",
      "model_module_version": "1.5.0",
      "model_name": "FloatProgressModel",
      "state": {
       "_dom_classes": [],
       "_model_module": "@jupyter-widgets/controls",
       "_model_module_version": "1.5.0",
       "_model_name": "FloatProgressModel",
       "_view_count": null,
       "_view_module": "@jupyter-widgets/controls",
       "_view_module_version": "1.5.0",
       "_view_name": "ProgressView",
       "bar_style": "success",
       "description": "",
       "description_tooltip": null,
       "layout": "IPY_MODEL_3845f8ba4ad44ff8a2450f70bd191000",
       "max": 5.0,
       "min": 0.0,
       "orientation": "horizontal",
       "style": "IPY_MODEL_f7eebc5f18204ae69eef8e6c2cdd0c77",
       "value": 5.0
      }
     },
     "e65e6989d6244f54a8bf30978395911d": {
      "model_module": "@jupyter-widgets/controls",
      "model_module_version": "1.5.0",
      "model_name": "DescriptionStyleModel",
      "state": {
       "_model_module": "@jupyter-widgets/controls",
       "_model_module_version": "1.5.0",
       "_model_name": "DescriptionStyleModel",
       "_view_count": null,
       "_view_module": "@jupyter-widgets/base",
       "_view_module_version": "1.2.0",
       "_view_name": "StyleView",
       "description_width": ""
      }
     },
     "e8c3da5c001c4c3c938d36045436eab8": {
      "model_module": "@jupyter-widgets/controls",
      "model_module_version": "1.5.0",
      "model_name": "ProgressStyleModel",
      "state": {
       "_model_module": "@jupyter-widgets/controls",
       "_model_module_version": "1.5.0",
       "_model_name": "ProgressStyleModel",
       "_view_count": null,
       "_view_module": "@jupyter-widgets/base",
       "_view_module_version": "1.2.0",
       "_view_name": "StyleView",
       "bar_color": null,
       "description_width": ""
      }
     },
     "e942dbe723e0447a9c12cc76091cc9fe": {
      "model_module": "@jupyter-widgets/controls",
      "model_module_version": "1.5.0",
      "model_name": "FloatProgressModel",
      "state": {
       "_dom_classes": [],
       "_model_module": "@jupyter-widgets/controls",
       "_model_module_version": "1.5.0",
       "_model_name": "FloatProgressModel",
       "_view_count": null,
       "_view_module": "@jupyter-widgets/controls",
       "_view_module_version": "1.5.0",
       "_view_name": "ProgressView",
       "bar_style": "success",
       "description": "",
       "description_tooltip": null,
       "layout": "IPY_MODEL_d6b8603a4c8b46988ca7b91a6c5957e7",
       "max": 5.0,
       "min": 0.0,
       "orientation": "horizontal",
       "style": "IPY_MODEL_e8c3da5c001c4c3c938d36045436eab8",
       "value": 5.0
      }
     },
     "f2bba6ce0882450484ca5f8f6922feb9": {
      "model_module": "@jupyter-widgets/controls",
      "model_module_version": "1.5.0",
      "model_name": "ProgressStyleModel",
      "state": {
       "_model_module": "@jupyter-widgets/controls",
       "_model_module_version": "1.5.0",
       "_model_name": "ProgressStyleModel",
       "_view_count": null,
       "_view_module": "@jupyter-widgets/base",
       "_view_module_version": "1.2.0",
       "_view_name": "StyleView",
       "bar_color": null,
       "description_width": ""
      }
     },
     "f7eebc5f18204ae69eef8e6c2cdd0c77": {
      "model_module": "@jupyter-widgets/controls",
      "model_module_version": "1.5.0",
      "model_name": "ProgressStyleModel",
      "state": {
       "_model_module": "@jupyter-widgets/controls",
       "_model_module_version": "1.5.0",
       "_model_name": "ProgressStyleModel",
       "_view_count": null,
       "_view_module": "@jupyter-widgets/base",
       "_view_module_version": "1.2.0",
       "_view_name": "StyleView",
       "bar_color": null,
       "description_width": ""
      }
     },
     "f832dce1f13a4baca770523373eda6ac": {
      "model_module": "@jupyter-widgets/controls",
      "model_module_version": "1.5.0",
      "model_name": "HTMLModel",
      "state": {
       "_dom_classes": [],
       "_model_module": "@jupyter-widgets/controls",
       "_model_module_version": "1.5.0",
       "_model_name": "HTMLModel",
       "_view_count": null,
       "_view_module": "@jupyter-widgets/controls",
       "_view_module_version": "1.5.0",
       "_view_name": "HTMLView",
       "description": "",
       "description_tooltip": null,
       "layout": "IPY_MODEL_844f7fb02d054ad58dc7cfaa6d4c1036",
       "placeholder": "​",
       "style": "IPY_MODEL_e65e6989d6244f54a8bf30978395911d",
       "value": "100%"
      }
     },
     "ff14047e5b92480bbb6c1c16a4cc459f": {
      "model_module": "@jupyter-widgets/controls",
      "model_module_version": "1.5.0",
      "model_name": "DescriptionStyleModel",
      "state": {
       "_model_module": "@jupyter-widgets/controls",
       "_model_module_version": "1.5.0",
       "_model_name": "DescriptionStyleModel",
       "_view_count": null,
       "_view_module": "@jupyter-widgets/base",
       "_view_module_version": "1.2.0",
       "_view_name": "StyleView",
       "description_width": ""
      }
     }
    },
    "version_major": 2,
    "version_minor": 0
   }
  }
 },
 "nbformat": 4,
 "nbformat_minor": 5
}
